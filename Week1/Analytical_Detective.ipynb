{
 "cells": [
  {
   "cell_type": "markdown",
   "metadata": {},
   "source": [
    "#### AN ANALYTICAL DETECTIVE\n",
    "\n",
    "Crime is an international concern, but it is documented and handled in very different ways in different countries. \n",
    "The city of Chicago, Illinois releases crime data from 2001 onward online.\n",
    "There are two main types of crimes: violent crimes, and property crimes. In this problem, we'll focus on one specific type of property crime, called \"motor vehicle theft\" (sometimes referred to as grand theft auto). This is the act of stealing, or attempting to steal, a car. In this problemset, we'll use some basic data analysis to understand the motor vehicle thefts in Chicago. \n",
    "We use the file mvtWeek1.csv for this problem set. \n",
    "Here is a list of descriptions of the variables:\n",
    "\n",
    "* ID: a unique identifier for each observation\n",
    "* Date: the date the crime occurred\n",
    "* LocationDescription: the location where the crime occurred\n",
    "* Arrest: whether or not an arrest was made for the crime (TRUE if an arrest was made, and FALSE if an arrest was not made)\n",
    "* Domestic: whether or not the crime was a domestic crime, meaning that it was committed against a family member (TRUE if it was domestic, and FALSE if it was not domestic)\n",
    "* Beat: the area, or \"beat\" in which the crime occurred. This is the smallest regional division defined by the Chicago police department.\n",
    "* District: the police district in which the crime occured. Each district is composed of many beats, and are defined by the Chicago Police Department.\n",
    "* CommunityArea: the community area in which the crime occurred. Since the 1920s, Chicago has been divided into what are called \"community areas\", of which there are now 77. The community areas were devised in an attempt to create socially homogeneous regions.\n",
    "* Year: the year in which the crime occurred.\n",
    "* Latitude: the latitude of the location at which the crime occurred.\n",
    "* Longitude: the longitude of the location at which the crime occurred."
   ]
  },
  {
   "cell_type": "code",
   "execution_count": 1,
   "metadata": {
    "collapsed": false
   },
   "outputs": [],
   "source": [
    "import pandas as pd\n",
    "import numpy as np\n",
    "import matplotlib as plt\n",
    "%matplotlib inline\n",
    "import dateutil"
   ]
  },
  {
   "cell_type": "code",
   "execution_count": 2,
   "metadata": {
    "collapsed": false
   },
   "outputs": [
    {
     "data": {
      "text/plain": [
       "(191641, 11)"
      ]
     },
     "execution_count": 2,
     "metadata": {},
     "output_type": "execute_result"
    }
   ],
   "source": [
    "data=pd.read_csv('mvtWeek1.csv',low_memory=False) ##Note set low_memory=False gets rid of the warning messages due to mixed dtypes\n",
    "data.shape"
   ]
  },
  {
   "cell_type": "code",
   "execution_count": 3,
   "metadata": {
    "collapsed": false
   },
   "outputs": [
    {
     "data": {
      "text/plain": [
       "['ID',\n",
       " 'Date',\n",
       " 'LocationDescription',\n",
       " 'Arrest',\n",
       " 'Domestic',\n",
       " 'Beat',\n",
       " 'District',\n",
       " 'CommunityArea',\n",
       " 'Year',\n",
       " 'Latitude',\n",
       " 'Longitude']"
      ]
     },
     "execution_count": 3,
     "metadata": {},
     "output_type": "execute_result"
    }
   ],
   "source": [
    "Cols=[x for x in data.columns]\n",
    "Cols"
   ]
  },
  {
   "cell_type": "markdown",
   "metadata": {},
   "source": [
    "#### Q1: How many rows of data (observations) are in this dataset?\n",
    "Q2: How many variables are in this dataset?"
   ]
  },
  {
   "cell_type": "code",
   "execution_count": 4,
   "metadata": {
    "collapsed": false
   },
   "outputs": [
    {
     "data": {
      "text/plain": [
       "(191641, 11)"
      ]
     },
     "execution_count": 4,
     "metadata": {},
     "output_type": "execute_result"
    }
   ],
   "source": [
    "data.shape"
   ]
  },
  {
   "cell_type": "markdown",
   "metadata": {},
   "source": [
    "#### what is the maximum value of the variable \"ID\"?"
   ]
  },
  {
   "cell_type": "code",
   "execution_count": 5,
   "metadata": {
    "collapsed": false
   },
   "outputs": [
    {
     "data": {
      "text/plain": [
       "9181151"
      ]
     },
     "execution_count": 5,
     "metadata": {},
     "output_type": "execute_result"
    }
   ],
   "source": [
    "max(data.ID)"
   ]
  },
  {
   "cell_type": "markdown",
   "metadata": {},
   "source": [
    "#### What is the minimum value of the variable \"Beat\"?"
   ]
  },
  {
   "cell_type": "code",
   "execution_count": 6,
   "metadata": {
    "collapsed": false
   },
   "outputs": [
    {
     "data": {
      "text/plain": [
       "111"
      ]
     },
     "execution_count": 6,
     "metadata": {},
     "output_type": "execute_result"
    }
   ],
   "source": [
    "min(data.Beat)"
   ]
  },
  {
   "cell_type": "markdown",
   "metadata": {},
   "source": [
    "#### How many observations have value TRUE in the Arrest variable (this is the number of crimes "
   ]
  },
  {
   "cell_type": "code",
   "execution_count": 7,
   "metadata": {
    "collapsed": false
   },
   "outputs": [
    {
     "data": {
      "text/plain": [
       "False    176105\n",
       "True      15536\n",
       "Name: Arrest, dtype: int64"
      ]
     },
     "execution_count": 7,
     "metadata": {},
     "output_type": "execute_result"
    }
   ],
   "source": [
    "data['Arrest'].value_counts()"
   ]
  },
  {
   "cell_type": "markdown",
   "metadata": {},
   "source": [
    "#### How many observations have a LocationDescription value of ALLEY?"
   ]
  },
  {
   "cell_type": "code",
   "execution_count": 8,
   "metadata": {
    "collapsed": false
   },
   "outputs": [
    {
     "data": {
      "text/plain": [
       "2308"
      ]
     },
     "execution_count": 8,
     "metadata": {},
     "output_type": "execute_result"
    }
   ],
   "source": [
    "(data.LocationDescription=='ALLEY').sum()"
   ]
  },
  {
   "cell_type": "code",
   "execution_count": 9,
   "metadata": {
    "collapsed": false
   },
   "outputs": [
    {
     "data": {
      "text/plain": [
       "STREET                                             156564\n",
       "PARKING LOT/GARAGE(NON.RESID.)                      14852\n",
       "OTHER                                                4573\n",
       "ALLEY                                                2308\n",
       "GAS STATION                                          2111\n",
       "DRIVEWAY - RESIDENTIAL                               1675\n",
       "RESIDENTIAL YARD (FRONT/BACK)                        1536\n",
       "RESIDENCE                                            1302\n",
       "RESIDENCE-GARAGE                                     1176\n",
       "VACANT LOT/LAND                                       985\n",
       "VEHICLE NON-COMMERCIAL                                817\n",
       "SIDEWALK                                              462\n",
       "CHA PARKING LOT/GROUNDS                               405\n",
       "AIRPORT/AIRCRAFT                                      363\n",
       "POLICE FACILITY/VEH PARKING LOT                       266\n",
       "PARK PROPERTY                                         255\n",
       "SCHOOL, PUBLIC, GROUNDS                               206\n",
       "APARTMENT                                             184\n",
       "SPORTS ARENA/STADIUM                                  166\n",
       "CTA GARAGE / OTHER PROPERTY                           148\n",
       "COMMERCIAL / BUSINESS OFFICE                          126\n",
       "HOTEL/MOTEL                                           124\n",
       "SCHOOL, PUBLIC, BUILDING                              114\n",
       "HOSPITAL BUILDING/GROUNDS                             101\n",
       "GROCERY FOOD STORE                                     80\n",
       "CHURCH/SYNAGOGUE/PLACE OF WORSHIP                      56\n",
       "RESTAURANT                                             49\n",
       "GOVERNMENT BUILDING/PROPERTY                           48\n",
       "COLLEGE/UNIVERSITY GROUNDS                             47\n",
       "CAR WASH                                               44\n",
       "                                                    ...  \n",
       "AIRPORT VENDING ESTABLISHMENT                          10\n",
       "ATHLETIC CLUB                                           9\n",
       "OTHER COMMERCIAL TRANSPORTATION                         8\n",
       "DRUG STORE                                              8\n",
       "BANK                                                    7\n",
       "CONVENIENCE STORE                                       7\n",
       "FOREST PRESERVE                                         6\n",
       "FIRE STATION                                            5\n",
       "AIRPORT TERMINAL UPPER LEVEL - NON-SECURE AREA          5\n",
       "DAY CARE CENTER                                         5\n",
       "CHA APARTMENT                                           5\n",
       "AIRPORT BUILDING NON-TERMINAL - NON-SECURE AREA         4\n",
       "ABANDONED BUILDING                                      4\n",
       "LAKEFRONT/WATERFRONT/RIVERBANK                          4\n",
       "LIBRARY                                                 4\n",
       "SAVINGS AND LOAN                                        4\n",
       "BARBERSHOP                                              4\n",
       "CLEANING STORE                                          3\n",
       "MEDICAL/DENTAL OFFICE                                   3\n",
       "BOWLING ALLEY                                           3\n",
       "COLLEGE/UNIVERSITY RESIDENCE HALL                       2\n",
       "BRIDGE                                                  2\n",
       "CURRENCY EXCHANGE                                       2\n",
       "APPLIANCE STORE                                         1\n",
       "CTA TRAIN                                               1\n",
       "JAIL / LOCK-UP FACILITY                                 1\n",
       "AIRPORT EXTERIOR - SECURE AREA                          1\n",
       "AIRPORT BUILDING NON-TERMINAL - SECURE AREA             1\n",
       "ANIMAL HOSPITAL                                         1\n",
       "NEWSSTAND                                               1\n",
       "Name: LocationDescription, dtype: int64"
      ]
     },
     "execution_count": 9,
     "metadata": {},
     "output_type": "execute_result"
    }
   ],
   "source": [
    "data.LocationDescription.value_counts()"
   ]
  },
  {
   "cell_type": "markdown",
   "metadata": {},
   "source": [
    "#### In what format are the entries in the variable Date?"
   ]
  },
  {
   "cell_type": "code",
   "execution_count": 10,
   "metadata": {
    "collapsed": false
   },
   "outputs": [
    {
     "data": {
      "text/plain": [
       "0    12/31/12 23:15\n",
       "1    12/31/12 22:00\n",
       "2    12/31/12 22:00\n",
       "3    12/31/12 22:00\n",
       "Name: Date, dtype: object"
      ]
     },
     "execution_count": 10,
     "metadata": {},
     "output_type": "execute_result"
    }
   ],
   "source": [
    "data.Date[0:4]"
   ]
  },
  {
   "cell_type": "markdown",
   "metadata": {},
   "source": [
    "#### format:  Month/Day/Year Hour:Minute"
   ]
  },
  {
   "cell_type": "markdown",
   "metadata": {},
   "source": [
    "#### Convert the variable \"Date\" into a Date object . What is the month and year of the median date in our dataset?"
   ]
  },
  {
   "cell_type": "code",
   "execution_count": 11,
   "metadata": {
    "collapsed": false
   },
   "outputs": [],
   "source": [
    "data.Date=pd.to_datetime(data['Date'], format='%m/%d/%y %H:%M')\n",
    "#or\n",
    "###data['Date'] = data['Date'].apply(dateutil.parser.parse, dayfirst=True)"
   ]
  },
  {
   "cell_type": "code",
   "execution_count": 42,
   "metadata": {
    "collapsed": false
   },
   "outputs": [
    {
     "data": {
      "text/plain": [
       "191640   2001-01-01 00:01:00\n",
       "191637   2001-01-01 00:01:00\n",
       "191639   2001-01-01 00:01:00\n",
       "191638   2001-01-01 00:01:00\n",
       "191634   2001-01-01 00:05:00\n",
       "191636   2001-01-01 00:05:00\n",
       "191635   2001-01-01 00:05:00\n",
       "191633   2001-01-01 00:30:00\n",
       "191632   2001-01-01 00:30:00\n",
       "191631   2001-01-01 01:17:00\n",
       "191630   2001-01-01 01:50:00\n",
       "191629   2001-01-01 02:00:00\n",
       "191627   2001-01-01 03:00:00\n",
       "191628   2001-01-01 03:00:00\n",
       "191626   2001-01-01 03:57:00\n",
       "191625   2001-01-01 04:00:00\n",
       "191624   2001-01-01 04:30:00\n",
       "191623   2001-01-01 05:00:00\n",
       "191622   2001-01-01 05:00:00\n",
       "191621   2001-01-01 08:00:00\n",
       "191620   2001-01-01 09:00:00\n",
       "191617   2001-01-01 10:00:00\n",
       "191619   2001-01-01 10:00:00\n",
       "191618   2001-01-01 10:00:00\n",
       "191616   2001-01-01 10:12:00\n",
       "191615   2001-01-01 11:00:00\n",
       "191614   2001-01-01 12:00:00\n",
       "191613   2001-01-01 12:00:00\n",
       "191612   2001-01-01 13:00:00\n",
       "191611   2001-01-01 13:00:00\n",
       "                 ...        \n",
       "29       2012-12-31 06:50:00\n",
       "28       2012-12-31 07:00:00\n",
       "27       2012-12-31 07:00:00\n",
       "26       2012-12-31 07:05:00\n",
       "25       2012-12-31 08:05:00\n",
       "24       2012-12-31 08:20:00\n",
       "23       2012-12-31 09:00:00\n",
       "22       2012-12-31 09:30:00\n",
       "21       2012-12-31 10:00:00\n",
       "20       2012-12-31 13:15:00\n",
       "19       2012-12-31 13:45:00\n",
       "18       2012-12-31 14:36:00\n",
       "17       2012-12-31 16:00:00\n",
       "16       2012-12-31 16:00:00\n",
       "15       2012-12-31 16:00:00\n",
       "14       2012-12-31 16:15:00\n",
       "13       2012-12-31 16:20:00\n",
       "12       2012-12-31 16:30:00\n",
       "11       2012-12-31 17:00:00\n",
       "10       2012-12-31 18:00:00\n",
       "9        2012-12-31 18:00:00\n",
       "8        2012-12-31 19:00:00\n",
       "7        2012-12-31 20:00:00\n",
       "6        2012-12-31 20:10:00\n",
       "5        2012-12-31 20:30:00\n",
       "4        2012-12-31 21:30:00\n",
       "3        2012-12-31 22:00:00\n",
       "2        2012-12-31 22:00:00\n",
       "1        2012-12-31 22:00:00\n",
       "0        2012-12-31 23:15:00\n",
       "Name: Date, dtype: datetime64[ns]"
      ]
     },
     "execution_count": 42,
     "metadata": {},
     "output_type": "execute_result"
    }
   ],
   "source": [
    "# To get the median- I may be able to sort the date field and then get it??\n",
    "data['Date'].sort_values()"
   ]
  },
  {
   "cell_type": "code",
   "execution_count": 13,
   "metadata": {
    "collapsed": false
   },
   "outputs": [
    {
     "data": {
      "text/plain": [
       "191636   2001-01-01 00:05:00\n",
       "191637   2001-01-01 00:01:00\n",
       "191638   2001-01-01 00:01:00\n",
       "191639   2001-01-01 00:01:00\n",
       "191640   2001-01-01 00:01:00\n",
       "Name: Date, dtype: datetime64[ns]"
      ]
     },
     "execution_count": 13,
     "metadata": {},
     "output_type": "execute_result"
    }
   ],
   "source": [
    "data['Date'].tail()"
   ]
  },
  {
   "cell_type": "code",
   "execution_count": 14,
   "metadata": {
    "collapsed": false
   },
   "outputs": [
    {
     "data": {
      "text/plain": [
       "Timestamp('2006-05-21 12:30:00')"
      ]
     },
     "execution_count": 14,
     "metadata": {},
     "output_type": "execute_result"
    }
   ],
   "source": [
    "##midpoint should be median??\n",
    "data['Date'][191640/2]"
   ]
  },
  {
   "cell_type": "markdown",
   "metadata": {},
   "source": [
    "#### So median date is 2006-05-21 12:30:00'"
   ]
  },
  {
   "cell_type": "code",
   "execution_count": 15,
   "metadata": {
    "collapsed": false
   },
   "outputs": [
    {
     "data": {
      "text/plain": [
       "count                  191641\n",
       "unique                 131680\n",
       "top       2008-05-16 00:00:00\n",
       "freq                       11\n",
       "first     2001-01-01 00:01:00\n",
       "last      2012-12-31 23:15:00\n",
       "Name: Date, dtype: object"
      ]
     },
     "execution_count": 15,
     "metadata": {},
     "output_type": "execute_result"
    }
   ],
   "source": [
    "data['Date'].describe()"
   ]
  },
  {
   "cell_type": "markdown",
   "metadata": {
    "collapsed": false
   },
   "source": [
    "#### Now, let's extract the month and the day of the week, and add these variables to our data frame.  In which month did the fewest motor vehicle thefts occur?"
   ]
  },
  {
   "cell_type": "code",
   "execution_count": 16,
   "metadata": {
    "collapsed": false
   },
   "outputs": [
    {
     "data": {
      "text/plain": [
       "<matplotlib.axes._subplots.AxesSubplot at 0x112dc3790>"
      ]
     },
     "execution_count": 16,
     "metadata": {},
     "output_type": "execute_result"
    },
    {
     "data": {
      "image/png": "[encoded data removed]",
      "text/plain": [
       "<matplotlib.figure.Figure at 0x1048b6710>"
      ]
     },
     "metadata": {},
     "output_type": "display_data"
    }
   ],
   "source": [
    "data['Month']=data['Date'].apply(lambda x: x.month)\n",
    "data['Weekday']=data['Date'].apply(lambda x: x.weekday()) \n",
    "(data['Month'].value_counts()).plot(kind='bar')"
   ]
  },
  {
   "cell_type": "markdown",
   "metadata": {
    "collapsed": true
   },
   "source": [
    "Fewest  February motor thefts occured in Feb.\n",
    "\n",
    "#### Q: On which weekday did the most motor vehicle thefts occur?"
   ]
  },
  {
   "cell_type": "code",
   "execution_count": 17,
   "metadata": {
    "collapsed": false
   },
   "outputs": [
    {
     "data": {
      "text/plain": [
       "<matplotlib.axes._subplots.AxesSubplot at 0x112f691d0>"
      ]
     },
     "execution_count": 17,
     "metadata": {},
     "output_type": "execute_result"
    },
    {
     "data": {
      "image/png": "[encoded data removed]",
      "text/plain": [
       "<matplotlib.figure.Figure at 0x115e5be50>"
      ]
     },
     "metadata": {},
     "output_type": "display_data"
    }
   ],
   "source": [
    "(data['Weekday'].value_counts()).plot(kind='bar')"
   ]
  },
  {
   "cell_type": "markdown",
   "metadata": {
    "collapsed": true
   },
   "source": [
    "#### Weekday  Monday is 0 and Sunday is 6\n",
    "Max motor vehicle thefts occured on Friday"
   ]
  },
  {
   "cell_type": "markdown",
   "metadata": {
    "collapsed": true
   },
   "source": [
    "#### Each observation in the dataset represents a motor vehicle theft, and the Arrest variable indicates whether an arrest was later made for this theft. Which month has the largest number of motor vehicle thefts for which an arrest was made?"
   ]
  },
  {
   "cell_type": "code",
   "execution_count": 18,
   "metadata": {
    "collapsed": false
   },
   "outputs": [
    {
     "data": {
      "text/html": [
       "<div>\n",
       "<table border=\"1\" class=\"dataframe\">\n",
       "  <thead>\n",
       "    <tr style=\"text-align: right;\">\n",
       "      <th></th>\n",
       "      <th>ID</th>\n",
       "      <th>Date</th>\n",
       "      <th>LocationDescription</th>\n",
       "      <th>Arrest</th>\n",
       "      <th>Domestic</th>\n",
       "      <th>Beat</th>\n",
       "      <th>District</th>\n",
       "      <th>CommunityArea</th>\n",
       "      <th>Year</th>\n",
       "      <th>Latitude</th>\n",
       "      <th>Longitude</th>\n",
       "      <th>Month</th>\n",
       "      <th>Weekday</th>\n",
       "    </tr>\n",
       "  </thead>\n",
       "  <tbody>\n",
       "    <tr>\n",
       "      <th>0</th>\n",
       "      <td>8951354</td>\n",
       "      <td>2012-12-31 23:15:00</td>\n",
       "      <td>STREET</td>\n",
       "      <td>False</td>\n",
       "      <td>False</td>\n",
       "      <td>623</td>\n",
       "      <td>6</td>\n",
       "      <td>69</td>\n",
       "      <td>2012</td>\n",
       "      <td>41.756284</td>\n",
       "      <td>-87.621645</td>\n",
       "      <td>12</td>\n",
       "      <td>0</td>\n",
       "    </tr>\n",
       "    <tr>\n",
       "      <th>1</th>\n",
       "      <td>8951141</td>\n",
       "      <td>2012-12-31 22:00:00</td>\n",
       "      <td>STREET</td>\n",
       "      <td>False</td>\n",
       "      <td>False</td>\n",
       "      <td>1213</td>\n",
       "      <td>12</td>\n",
       "      <td>24</td>\n",
       "      <td>2012</td>\n",
       "      <td>41.898788</td>\n",
       "      <td>-87.661303</td>\n",
       "      <td>12</td>\n",
       "      <td>0</td>\n",
       "    </tr>\n",
       "    <tr>\n",
       "      <th>2</th>\n",
       "      <td>8952745</td>\n",
       "      <td>2012-12-31 22:00:00</td>\n",
       "      <td>RESIDENTIAL YARD (FRONT/BACK)</td>\n",
       "      <td>False</td>\n",
       "      <td>False</td>\n",
       "      <td>1622</td>\n",
       "      <td>16</td>\n",
       "      <td>11</td>\n",
       "      <td>2012</td>\n",
       "      <td>41.969186</td>\n",
       "      <td>-87.767670</td>\n",
       "      <td>12</td>\n",
       "      <td>0</td>\n",
       "    </tr>\n",
       "    <tr>\n",
       "      <th>3</th>\n",
       "      <td>8952223</td>\n",
       "      <td>2012-12-31 22:00:00</td>\n",
       "      <td>STREET</td>\n",
       "      <td>False</td>\n",
       "      <td>False</td>\n",
       "      <td>724</td>\n",
       "      <td>7</td>\n",
       "      <td>67</td>\n",
       "      <td>2012</td>\n",
       "      <td>41.769329</td>\n",
       "      <td>-87.657726</td>\n",
       "      <td>12</td>\n",
       "      <td>0</td>\n",
       "    </tr>\n",
       "    <tr>\n",
       "      <th>4</th>\n",
       "      <td>8951608</td>\n",
       "      <td>2012-12-31 21:30:00</td>\n",
       "      <td>STREET</td>\n",
       "      <td>False</td>\n",
       "      <td>False</td>\n",
       "      <td>211</td>\n",
       "      <td>2</td>\n",
       "      <td>35</td>\n",
       "      <td>2012</td>\n",
       "      <td>41.837568</td>\n",
       "      <td>-87.621761</td>\n",
       "      <td>12</td>\n",
       "      <td>0</td>\n",
       "    </tr>\n",
       "  </tbody>\n",
       "</table>\n",
       "</div>"
      ],
      "text/plain": [
       "        ID                Date            LocationDescription Arrest Domestic  \\\n",
       "0  8951354 2012-12-31 23:15:00                         STREET  False    False   \n",
       "1  8951141 2012-12-31 22:00:00                         STREET  False    False   \n",
       "2  8952745 2012-12-31 22:00:00  RESIDENTIAL YARD (FRONT/BACK)  False    False   \n",
       "3  8952223 2012-12-31 22:00:00                         STREET  False    False   \n",
       "4  8951608 2012-12-31 21:30:00                         STREET  False    False   \n",
       "\n",
       "   Beat District CommunityArea  Year   Latitude  Longitude  Month  Weekday  \n",
       "0   623        6            69  2012  41.756284 -87.621645     12        0  \n",
       "1  1213       12            24  2012  41.898788 -87.661303     12        0  \n",
       "2  1622       16            11  2012  41.969186 -87.767670     12        0  \n",
       "3   724        7            67  2012  41.769329 -87.657726     12        0  \n",
       "4   211        2            35  2012  41.837568 -87.621761     12        0  "
      ]
     },
     "execution_count": 18,
     "metadata": {},
     "output_type": "execute_result"
    }
   ],
   "source": [
    "data.head()"
   ]
  },
  {
   "cell_type": "code",
   "execution_count": 19,
   "metadata": {
    "collapsed": false
   },
   "outputs": [
    {
     "data": {
      "text/plain": [
       "<matplotlib.axes._subplots.AxesSubplot at 0x115d11e50>"
      ]
     },
     "execution_count": 19,
     "metadata": {},
     "output_type": "execute_result"
    },
    {
     "data": {
      "image/png": "[encoded data removed]",
      "text/plain": [
       "<matplotlib.figure.Figure at 0x115d7bbd0>"
      ]
     },
     "metadata": {},
     "output_type": "display_data"
    }
   ],
   "source": [
    "(data.groupby('Month')['Arrest'].value_counts()).plot(kind='bar')"
   ]
  },
  {
   "cell_type": "code",
   "execution_count": 20,
   "metadata": {
    "collapsed": false
   },
   "outputs": [
    {
     "data": {
      "text/plain": [
       "<matplotlib.axes._subplots.AxesSubplot at 0x103ba8cd0>"
      ]
     },
     "execution_count": 20,
     "metadata": {},
     "output_type": "execute_result"
    },
    {
     "data": {
      "image/png": "[encoded data removed]",
      "text/plain": [
       "<matplotlib.figure.Figure at 0x115e53b90>"
      ]
     },
     "metadata": {},
     "output_type": "display_data"
    }
   ],
   "source": [
    "((data[data.Arrest == True]).groupby('Month')['Arrest'].value_counts()).plot(kind='bar')"
   ]
  },
  {
   "cell_type": "code",
   "execution_count": 21,
   "metadata": {
    "collapsed": false
   },
   "outputs": [
    {
     "data": {
      "text/plain": [
       "Month  Arrest\n",
       "1      False     14612\n",
       "       True       1435\n",
       "2      False     12273\n",
       "       True       1238\n",
       "3      False     14460\n",
       "       True       1298\n",
       "4      False     14028\n",
       "       True       1252\n",
       "5      False     14848\n",
       "       True       1187\n",
       "6      False     14772\n",
       "       True       1230\n",
       "7      False     15477\n",
       "       True       1324\n",
       "8      False     15243\n",
       "       True       1329\n",
       "9      False     14812\n",
       "       True       1248\n",
       "10     False     15744\n",
       "       True       1342\n",
       "11     False     14807\n",
       "       True       1256\n",
       "12     False     15029\n",
       "       True       1397\n",
       "Name: Arrest, dtype: int64"
      ]
     },
     "execution_count": 21,
     "metadata": {},
     "output_type": "execute_result"
    }
   ],
   "source": [
    "data.groupby('Month')['Arrest'].value_counts()"
   ]
  },
  {
   "cell_type": "markdown",
   "metadata": {},
   "source": [
    "#### Max thefts when Arrest=True ie January"
   ]
  },
  {
   "cell_type": "markdown",
   "metadata": {},
   "source": [
    "#### Visualizing Crime Trends\n",
    "Let's make a histogram of the variable Date. "
   ]
  },
  {
   "cell_type": "code",
   "execution_count": 22,
   "metadata": {
    "collapsed": false
   },
   "outputs": [
    {
     "data": {
      "text/plain": [
       "dtype('<M8[ns]')"
      ]
     },
     "execution_count": 22,
     "metadata": {},
     "output_type": "execute_result"
    }
   ],
   "source": [
    "data['Date'].dtype"
   ]
  },
  {
   "cell_type": "code",
   "execution_count": 23,
   "metadata": {
    "collapsed": false
   },
   "outputs": [
    {
     "data": {
      "text/html": [
       "<div>\n",
       "<table border=\"1\" class=\"dataframe\">\n",
       "  <thead>\n",
       "    <tr style=\"text-align: right;\">\n",
       "      <th></th>\n",
       "      <th>ID</th>\n",
       "      <th>Date</th>\n",
       "      <th>LocationDescription</th>\n",
       "      <th>Arrest</th>\n",
       "      <th>Domestic</th>\n",
       "      <th>Beat</th>\n",
       "      <th>District</th>\n",
       "      <th>CommunityArea</th>\n",
       "      <th>Year</th>\n",
       "      <th>Latitude</th>\n",
       "      <th>Longitude</th>\n",
       "      <th>Month</th>\n",
       "      <th>Weekday</th>\n",
       "    </tr>\n",
       "    <tr>\n",
       "      <th>Date</th>\n",
       "      <th></th>\n",
       "      <th></th>\n",
       "      <th></th>\n",
       "      <th></th>\n",
       "      <th></th>\n",
       "      <th></th>\n",
       "      <th></th>\n",
       "      <th></th>\n",
       "      <th></th>\n",
       "      <th></th>\n",
       "      <th></th>\n",
       "      <th></th>\n",
       "      <th></th>\n",
       "    </tr>\n",
       "  </thead>\n",
       "  <tbody>\n",
       "    <tr>\n",
       "      <th>2001</th>\n",
       "      <td>20669</td>\n",
       "      <td>20669</td>\n",
       "      <td>20669</td>\n",
       "      <td>20669</td>\n",
       "      <td>20669</td>\n",
       "      <td>20669</td>\n",
       "      <td>122</td>\n",
       "      <td>586</td>\n",
       "      <td>20669</td>\n",
       "      <td>20479</td>\n",
       "      <td>20479</td>\n",
       "      <td>20669</td>\n",
       "      <td>20669</td>\n",
       "    </tr>\n",
       "    <tr>\n",
       "      <th>2002</th>\n",
       "      <td>18753</td>\n",
       "      <td>18753</td>\n",
       "      <td>18753</td>\n",
       "      <td>18753</td>\n",
       "      <td>18753</td>\n",
       "      <td>18753</td>\n",
       "      <td>494</td>\n",
       "      <td>14236</td>\n",
       "      <td>18753</td>\n",
       "      <td>17274</td>\n",
       "      <td>17274</td>\n",
       "      <td>18753</td>\n",
       "      <td>18753</td>\n",
       "    </tr>\n",
       "    <tr>\n",
       "      <th>2003</th>\n",
       "      <td>16657</td>\n",
       "      <td>16657</td>\n",
       "      <td>16657</td>\n",
       "      <td>16657</td>\n",
       "      <td>16657</td>\n",
       "      <td>16657</td>\n",
       "      <td>12977</td>\n",
       "      <td>16657</td>\n",
       "      <td>16657</td>\n",
       "      <td>16615</td>\n",
       "      <td>16615</td>\n",
       "      <td>16657</td>\n",
       "      <td>16657</td>\n",
       "    </tr>\n",
       "    <tr>\n",
       "      <th>2004</th>\n",
       "      <td>16862</td>\n",
       "      <td>16862</td>\n",
       "      <td>16862</td>\n",
       "      <td>16862</td>\n",
       "      <td>16862</td>\n",
       "      <td>16862</td>\n",
       "      <td>16824</td>\n",
       "      <td>16861</td>\n",
       "      <td>16862</td>\n",
       "      <td>16826</td>\n",
       "      <td>16826</td>\n",
       "      <td>16862</td>\n",
       "      <td>16862</td>\n",
       "    </tr>\n",
       "    <tr>\n",
       "      <th>2005</th>\n",
       "      <td>16484</td>\n",
       "      <td>16484</td>\n",
       "      <td>16484</td>\n",
       "      <td>16484</td>\n",
       "      <td>16484</td>\n",
       "      <td>16484</td>\n",
       "      <td>16403</td>\n",
       "      <td>16484</td>\n",
       "      <td>16484</td>\n",
       "      <td>16403</td>\n",
       "      <td>16403</td>\n",
       "      <td>16484</td>\n",
       "      <td>16484</td>\n",
       "    </tr>\n",
       "    <tr>\n",
       "      <th>2006</th>\n",
       "      <td>16098</td>\n",
       "      <td>16098</td>\n",
       "      <td>16098</td>\n",
       "      <td>16098</td>\n",
       "      <td>16098</td>\n",
       "      <td>16098</td>\n",
       "      <td>16069</td>\n",
       "      <td>16097</td>\n",
       "      <td>16098</td>\n",
       "      <td>16069</td>\n",
       "      <td>16069</td>\n",
       "      <td>16098</td>\n",
       "      <td>16098</td>\n",
       "    </tr>\n",
       "    <tr>\n",
       "      <th>2007</th>\n",
       "      <td>14280</td>\n",
       "      <td>14280</td>\n",
       "      <td>14280</td>\n",
       "      <td>14280</td>\n",
       "      <td>14280</td>\n",
       "      <td>14280</td>\n",
       "      <td>14271</td>\n",
       "      <td>14280</td>\n",
       "      <td>14280</td>\n",
       "      <td>14271</td>\n",
       "      <td>14271</td>\n",
       "      <td>14280</td>\n",
       "      <td>14280</td>\n",
       "    </tr>\n",
       "    <tr>\n",
       "      <th>2008</th>\n",
       "      <td>14445</td>\n",
       "      <td>14445</td>\n",
       "      <td>14445</td>\n",
       "      <td>14445</td>\n",
       "      <td>14445</td>\n",
       "      <td>14445</td>\n",
       "      <td>14280</td>\n",
       "      <td>14445</td>\n",
       "      <td>14445</td>\n",
       "      <td>14281</td>\n",
       "      <td>14281</td>\n",
       "      <td>14445</td>\n",
       "      <td>14445</td>\n",
       "    </tr>\n",
       "    <tr>\n",
       "      <th>2009</th>\n",
       "      <td>12167</td>\n",
       "      <td>12167</td>\n",
       "      <td>12167</td>\n",
       "      <td>12167</td>\n",
       "      <td>12167</td>\n",
       "      <td>12167</td>\n",
       "      <td>12040</td>\n",
       "      <td>12166</td>\n",
       "      <td>12167</td>\n",
       "      <td>12042</td>\n",
       "      <td>12042</td>\n",
       "      <td>12167</td>\n",
       "      <td>12167</td>\n",
       "    </tr>\n",
       "    <tr>\n",
       "      <th>2010</th>\n",
       "      <td>15497</td>\n",
       "      <td>15497</td>\n",
       "      <td>15497</td>\n",
       "      <td>15497</td>\n",
       "      <td>15497</td>\n",
       "      <td>15497</td>\n",
       "      <td>15484</td>\n",
       "      <td>15497</td>\n",
       "      <td>15497</td>\n",
       "      <td>15485</td>\n",
       "      <td>15485</td>\n",
       "      <td>15497</td>\n",
       "      <td>15497</td>\n",
       "    </tr>\n",
       "    <tr>\n",
       "      <th>2011</th>\n",
       "      <td>15637</td>\n",
       "      <td>15637</td>\n",
       "      <td>15637</td>\n",
       "      <td>15637</td>\n",
       "      <td>15637</td>\n",
       "      <td>15637</td>\n",
       "      <td>15622</td>\n",
       "      <td>15637</td>\n",
       "      <td>15637</td>\n",
       "      <td>15622</td>\n",
       "      <td>15622</td>\n",
       "      <td>15637</td>\n",
       "      <td>15637</td>\n",
       "    </tr>\n",
       "    <tr>\n",
       "      <th>2012</th>\n",
       "      <td>14092</td>\n",
       "      <td>14092</td>\n",
       "      <td>14092</td>\n",
       "      <td>14092</td>\n",
       "      <td>14092</td>\n",
       "      <td>14092</td>\n",
       "      <td>14003</td>\n",
       "      <td>14092</td>\n",
       "      <td>14092</td>\n",
       "      <td>13998</td>\n",
       "      <td>13998</td>\n",
       "      <td>14092</td>\n",
       "      <td>14092</td>\n",
       "    </tr>\n",
       "  </tbody>\n",
       "</table>\n",
       "</div>"
      ],
      "text/plain": [
       "         ID   Date  LocationDescription  Arrest  Domestic   Beat  District  \\\n",
       "Date                                                                         \n",
       "2001  20669  20669                20669   20669     20669  20669       122   \n",
       "2002  18753  18753                18753   18753     18753  18753       494   \n",
       "2003  16657  16657                16657   16657     16657  16657     12977   \n",
       "2004  16862  16862                16862   16862     16862  16862     16824   \n",
       "2005  16484  16484                16484   16484     16484  16484     16403   \n",
       "2006  16098  16098                16098   16098     16098  16098     16069   \n",
       "2007  14280  14280                14280   14280     14280  14280     14271   \n",
       "2008  14445  14445                14445   14445     14445  14445     14280   \n",
       "2009  12167  12167                12167   12167     12167  12167     12040   \n",
       "2010  15497  15497                15497   15497     15497  15497     15484   \n",
       "2011  15637  15637                15637   15637     15637  15637     15622   \n",
       "2012  14092  14092                14092   14092     14092  14092     14003   \n",
       "\n",
       "      CommunityArea   Year  Latitude  Longitude  Month  Weekday  \n",
       "Date                                                             \n",
       "2001            586  20669     20479      20479  20669    20669  \n",
       "2002          14236  18753     17274      17274  18753    18753  \n",
       "2003          16657  16657     16615      16615  16657    16657  \n",
       "2004          16861  16862     16826      16826  16862    16862  \n",
       "2005          16484  16484     16403      16403  16484    16484  \n",
       "2006          16097  16098     16069      16069  16098    16098  \n",
       "2007          14280  14280     14271      14271  14280    14280  \n",
       "2008          14445  14445     14281      14281  14445    14445  \n",
       "2009          12166  12167     12042      12042  12167    12167  \n",
       "2010          15497  15497     15485      15485  15497    15497  \n",
       "2011          15637  15637     15622      15622  15637    15637  \n",
       "2012          14092  14092     13998      13998  14092    14092  "
      ]
     },
     "execution_count": 23,
     "metadata": {},
     "output_type": "execute_result"
    }
   ],
   "source": [
    "### To access datetime properties: use dt!! This gives frequency counts \n",
    "data.groupby(data.Date.dt.year).count()"
   ]
  },
  {
   "cell_type": "code",
   "execution_count": 24,
   "metadata": {
    "collapsed": false
   },
   "outputs": [
    {
     "data": {
      "text/html": [
       "<div>\n",
       "<table border=\"1\" class=\"dataframe\">\n",
       "  <thead>\n",
       "    <tr style=\"text-align: right;\">\n",
       "      <th></th>\n",
       "      <th>ID</th>\n",
       "      <th>Date</th>\n",
       "      <th>LocationDescription</th>\n",
       "      <th>Arrest</th>\n",
       "      <th>Domestic</th>\n",
       "      <th>Beat</th>\n",
       "      <th>District</th>\n",
       "      <th>CommunityArea</th>\n",
       "      <th>Year</th>\n",
       "      <th>Latitude</th>\n",
       "      <th>Longitude</th>\n",
       "      <th>Month</th>\n",
       "      <th>Weekday</th>\n",
       "    </tr>\n",
       "    <tr>\n",
       "      <th>Date</th>\n",
       "      <th></th>\n",
       "      <th></th>\n",
       "      <th></th>\n",
       "      <th></th>\n",
       "      <th></th>\n",
       "      <th></th>\n",
       "      <th></th>\n",
       "      <th></th>\n",
       "      <th></th>\n",
       "      <th></th>\n",
       "      <th></th>\n",
       "      <th></th>\n",
       "      <th></th>\n",
       "    </tr>\n",
       "  </thead>\n",
       "  <tbody>\n",
       "    <tr>\n",
       "      <th>1</th>\n",
       "      <td>16047</td>\n",
       "      <td>16047</td>\n",
       "      <td>16047</td>\n",
       "      <td>16047</td>\n",
       "      <td>16047</td>\n",
       "      <td>16047</td>\n",
       "      <td>11749</td>\n",
       "      <td>13060</td>\n",
       "      <td>16047</td>\n",
       "      <td>15971</td>\n",
       "      <td>15971</td>\n",
       "      <td>16047</td>\n",
       "      <td>16047</td>\n",
       "    </tr>\n",
       "    <tr>\n",
       "      <th>2</th>\n",
       "      <td>13511</td>\n",
       "      <td>13511</td>\n",
       "      <td>13511</td>\n",
       "      <td>13511</td>\n",
       "      <td>13511</td>\n",
       "      <td>13511</td>\n",
       "      <td>9861</td>\n",
       "      <td>10980</td>\n",
       "      <td>13511</td>\n",
       "      <td>13403</td>\n",
       "      <td>13403</td>\n",
       "      <td>13511</td>\n",
       "      <td>13511</td>\n",
       "    </tr>\n",
       "    <tr>\n",
       "      <th>3</th>\n",
       "      <td>15758</td>\n",
       "      <td>15758</td>\n",
       "      <td>15758</td>\n",
       "      <td>15758</td>\n",
       "      <td>15758</td>\n",
       "      <td>15758</td>\n",
       "      <td>11909</td>\n",
       "      <td>13045</td>\n",
       "      <td>15758</td>\n",
       "      <td>15648</td>\n",
       "      <td>15648</td>\n",
       "      <td>15758</td>\n",
       "      <td>15758</td>\n",
       "    </tr>\n",
       "    <tr>\n",
       "      <th>4</th>\n",
       "      <td>15280</td>\n",
       "      <td>15280</td>\n",
       "      <td>15280</td>\n",
       "      <td>15280</td>\n",
       "      <td>15280</td>\n",
       "      <td>15280</td>\n",
       "      <td>11883</td>\n",
       "      <td>13247</td>\n",
       "      <td>15280</td>\n",
       "      <td>15157</td>\n",
       "      <td>15157</td>\n",
       "      <td>15280</td>\n",
       "      <td>15280</td>\n",
       "    </tr>\n",
       "    <tr>\n",
       "      <th>5</th>\n",
       "      <td>16035</td>\n",
       "      <td>16035</td>\n",
       "      <td>16035</td>\n",
       "      <td>16035</td>\n",
       "      <td>16035</td>\n",
       "      <td>16035</td>\n",
       "      <td>12661</td>\n",
       "      <td>14562</td>\n",
       "      <td>16035</td>\n",
       "      <td>15940</td>\n",
       "      <td>15940</td>\n",
       "      <td>16035</td>\n",
       "      <td>16035</td>\n",
       "    </tr>\n",
       "    <tr>\n",
       "      <th>6</th>\n",
       "      <td>16002</td>\n",
       "      <td>16002</td>\n",
       "      <td>16002</td>\n",
       "      <td>16002</td>\n",
       "      <td>16002</td>\n",
       "      <td>16002</td>\n",
       "      <td>12658</td>\n",
       "      <td>14369</td>\n",
       "      <td>16002</td>\n",
       "      <td>15911</td>\n",
       "      <td>15911</td>\n",
       "      <td>16002</td>\n",
       "      <td>16002</td>\n",
       "    </tr>\n",
       "    <tr>\n",
       "      <th>7</th>\n",
       "      <td>16801</td>\n",
       "      <td>16801</td>\n",
       "      <td>16801</td>\n",
       "      <td>16801</td>\n",
       "      <td>16801</td>\n",
       "      <td>16801</td>\n",
       "      <td>13104</td>\n",
       "      <td>14888</td>\n",
       "      <td>16801</td>\n",
       "      <td>16660</td>\n",
       "      <td>16660</td>\n",
       "      <td>16801</td>\n",
       "      <td>16801</td>\n",
       "    </tr>\n",
       "    <tr>\n",
       "      <th>8</th>\n",
       "      <td>16572</td>\n",
       "      <td>16572</td>\n",
       "      <td>16572</td>\n",
       "      <td>16572</td>\n",
       "      <td>16572</td>\n",
       "      <td>16572</td>\n",
       "      <td>13054</td>\n",
       "      <td>14833</td>\n",
       "      <td>16572</td>\n",
       "      <td>16425</td>\n",
       "      <td>16425</td>\n",
       "      <td>16572</td>\n",
       "      <td>16572</td>\n",
       "    </tr>\n",
       "    <tr>\n",
       "      <th>9</th>\n",
       "      <td>16060</td>\n",
       "      <td>16060</td>\n",
       "      <td>16060</td>\n",
       "      <td>16060</td>\n",
       "      <td>16060</td>\n",
       "      <td>16060</td>\n",
       "      <td>12516</td>\n",
       "      <td>14147</td>\n",
       "      <td>16060</td>\n",
       "      <td>15878</td>\n",
       "      <td>15878</td>\n",
       "      <td>16060</td>\n",
       "      <td>16060</td>\n",
       "    </tr>\n",
       "    <tr>\n",
       "      <th>10</th>\n",
       "      <td>17086</td>\n",
       "      <td>17086</td>\n",
       "      <td>17086</td>\n",
       "      <td>17086</td>\n",
       "      <td>17086</td>\n",
       "      <td>17086</td>\n",
       "      <td>13121</td>\n",
       "      <td>14854</td>\n",
       "      <td>17086</td>\n",
       "      <td>16648</td>\n",
       "      <td>16648</td>\n",
       "      <td>17086</td>\n",
       "      <td>17086</td>\n",
       "    </tr>\n",
       "    <tr>\n",
       "      <th>11</th>\n",
       "      <td>16063</td>\n",
       "      <td>16063</td>\n",
       "      <td>16063</td>\n",
       "      <td>16063</td>\n",
       "      <td>16063</td>\n",
       "      <td>16063</td>\n",
       "      <td>12740</td>\n",
       "      <td>14295</td>\n",
       "      <td>16063</td>\n",
       "      <td>15414</td>\n",
       "      <td>15414</td>\n",
       "      <td>16063</td>\n",
       "      <td>16063</td>\n",
       "    </tr>\n",
       "    <tr>\n",
       "      <th>12</th>\n",
       "      <td>16426</td>\n",
       "      <td>16426</td>\n",
       "      <td>16426</td>\n",
       "      <td>16426</td>\n",
       "      <td>16426</td>\n",
       "      <td>16426</td>\n",
       "      <td>13333</td>\n",
       "      <td>14758</td>\n",
       "      <td>16426</td>\n",
       "      <td>16310</td>\n",
       "      <td>16310</td>\n",
       "      <td>16426</td>\n",
       "      <td>16426</td>\n",
       "    </tr>\n",
       "  </tbody>\n",
       "</table>\n",
       "</div>"
      ],
      "text/plain": [
       "         ID   Date  LocationDescription  Arrest  Domestic   Beat  District  \\\n",
       "Date                                                                         \n",
       "1     16047  16047                16047   16047     16047  16047     11749   \n",
       "2     13511  13511                13511   13511     13511  13511      9861   \n",
       "3     15758  15758                15758   15758     15758  15758     11909   \n",
       "4     15280  15280                15280   15280     15280  15280     11883   \n",
       "5     16035  16035                16035   16035     16035  16035     12661   \n",
       "6     16002  16002                16002   16002     16002  16002     12658   \n",
       "7     16801  16801                16801   16801     16801  16801     13104   \n",
       "8     16572  16572                16572   16572     16572  16572     13054   \n",
       "9     16060  16060                16060   16060     16060  16060     12516   \n",
       "10    17086  17086                17086   17086     17086  17086     13121   \n",
       "11    16063  16063                16063   16063     16063  16063     12740   \n",
       "12    16426  16426                16426   16426     16426  16426     13333   \n",
       "\n",
       "      CommunityArea   Year  Latitude  Longitude  Month  Weekday  \n",
       "Date                                                             \n",
       "1             13060  16047     15971      15971  16047    16047  \n",
       "2             10980  13511     13403      13403  13511    13511  \n",
       "3             13045  15758     15648      15648  15758    15758  \n",
       "4             13247  15280     15157      15157  15280    15280  \n",
       "5             14562  16035     15940      15940  16035    16035  \n",
       "6             14369  16002     15911      15911  16002    16002  \n",
       "7             14888  16801     16660      16660  16801    16801  \n",
       "8             14833  16572     16425      16425  16572    16572  \n",
       "9             14147  16060     15878      15878  16060    16060  \n",
       "10            14854  17086     16648      16648  17086    17086  \n",
       "11            14295  16063     15414      15414  16063    16063  \n",
       "12            14758  16426     16310      16310  16426    16426  "
      ]
     },
     "execution_count": 24,
     "metadata": {},
     "output_type": "execute_result"
    }
   ],
   "source": [
    "##to access counts by month do; without having to create a 'Month' variable. \n",
    "###Note: here the count only counts the number of occurances ie frequency\n",
    "### count ...not value counts\n",
    "data.groupby(data.Date.dt.month).count()"
   ]
  },
  {
   "cell_type": "markdown",
   "metadata": {},
   "source": [
    "#### In general, does it look like crime increases or decreases from 2002 - 2012?"
   ]
  },
  {
   "cell_type": "code",
   "execution_count": 25,
   "metadata": {
    "collapsed": false
   },
   "outputs": [
    {
     "data": {
      "text/plain": [
       "Date\n",
       "2001    20669\n",
       "2002    18753\n",
       "2003    16657\n",
       "2004    16862\n",
       "2005    16484\n",
       "2006    16098\n",
       "2007    14280\n",
       "2008    14445\n",
       "2009    12167\n",
       "2010    15497\n",
       "2011    15637\n",
       "2012    14092\n",
       "Name: Date, dtype: int64"
      ]
     },
     "execution_count": 25,
     "metadata": {},
     "output_type": "execute_result"
    }
   ],
   "source": [
    "data.groupby(data.Date.dt.year)['Date'].count()"
   ]
  },
  {
   "cell_type": "code",
   "execution_count": 26,
   "metadata": {
    "collapsed": false
   },
   "outputs": [
    {
     "data": {
      "text/plain": [
       "<matplotlib.axes._subplots.AxesSubplot at 0x112f88bd0>"
      ]
     },
     "execution_count": 26,
     "metadata": {},
     "output_type": "execute_result"
    },
    {
     "data": {
      "image/png": "[encoded data removed]",
      "text/plain": [
       "<matplotlib.figure.Figure at 0x115b8c750>"
      ]
     },
     "metadata": {},
     "output_type": "display_data"
    }
   ],
   "source": [
    "data.groupby(data.Date.dt.year)['Date'].count().plot(kind='bar')"
   ]
  },
  {
   "cell_type": "markdown",
   "metadata": {
    "collapsed": true
   },
   "source": [
    "#### Overall looks like crime is decreasing."
   ]
  },
  {
   "cell_type": "markdown",
   "metadata": {},
   "source": [
    "Now, let's see how arrests have changed over time. Create a boxplot of the variable \"Date\", sorted by the variable \"Arrest\" (if you are not familiar with boxplots and would like to learn more, check out this tutorial). In a boxplot, the bold horizontal line is the median value of the data, the box shows the range of values between the first quartile and third quartile, and the whiskers (the dotted lines extending outside the box) show the minimum and maximum values, excluding any outliers (which are plotted as circles). Outliers are defined by first computing the difference between the first and third quartile values, or the height of the box. This number is called the Inter-Quartile Range (IQR). Any point that is greater than the third quartile plus the IQR or less than the first quartile minus the IQR is considered an outlier.\n",
    "\n",
    "Does it look like there were more crimes for which arrests were made in the first half of the time period or the second half of the time period? (Note that the time period is from 2001 to 2012, so the middle of the time period is the beginning of 2007.)\n"
   ]
  },
  {
   "cell_type": "code",
   "execution_count": 27,
   "metadata": {
    "collapsed": false
   },
   "outputs": [
    {
     "data": {
      "text/plain": [
       "<matplotlib.axes._subplots.AxesSubplot at 0x115e98350>"
      ]
     },
     "execution_count": 27,
     "metadata": {},
     "output_type": "execute_result"
    },
    {
     "data": {
      "image/png": "[encoded data removed]",
      "text/plain": [
       "<matplotlib.figure.Figure at 0x115b99210>"
      ]
     },
     "metadata": {},
     "output_type": "display_data"
    }
   ],
   "source": [
    "##Maybe for this I want to first remove data where Arrest=False? and create a Year variable?\n",
    "\n",
    "data['Year']=data['Date'].apply(lambda x: x.year)\n",
    "data.boxplot(column='Year',by='Arrest')"
   ]
  },
  {
   "cell_type": "markdown",
   "metadata": {},
   "source": [
    "#### So number of arrests made in the first half of the time period are significantly more, though total number of crimes is more similar over the first and second half of the time period"
   ]
  },
  {
   "cell_type": "code",
   "execution_count": 28,
   "metadata": {
    "collapsed": false,
    "scrolled": true
   },
   "outputs": [
    {
     "data": {
      "text/plain": [
       "<matplotlib.axes._subplots.AxesSubplot at 0x1134a5c50>"
      ]
     },
     "execution_count": 28,
     "metadata": {},
     "output_type": "execute_result"
    },
    {
     "data": {
      "image/png": "[encoded data removed]",
      "text/plain": [
       "<matplotlib.figure.Figure at 0x115d7b6d0>"
      ]
     },
     "metadata": {},
     "output_type": "display_data"
    }
   ],
   "source": [
    "##To chk if what we got above makes sense..s\n",
    "((data[data.Arrest == True]).groupby('Year')['Arrest'].value_counts()).plot(kind='bar')"
   ]
  },
  {
   "cell_type": "markdown",
   "metadata": {},
   "source": [
    "#### For what proportion of motor vehicle thefts in 2001 was an arrest made?"
   ]
  },
  {
   "cell_type": "code",
   "execution_count": 29,
   "metadata": {
    "collapsed": false
   },
   "outputs": [
    {
     "data": {
      "text/plain": [
       "False    18517\n",
       "True      2152\n",
       "Name: Arrest, dtype: int64"
      ]
     },
     "execution_count": 29,
     "metadata": {},
     "output_type": "execute_result"
    }
   ],
   "source": [
    "(data[data.Year==2001])['Arrest'].value_counts()"
   ]
  },
  {
   "cell_type": "code",
   "execution_count": 30,
   "metadata": {
    "collapsed": false
   },
   "outputs": [
    {
     "data": {
      "text/plain": [
       "0.10411727708161982"
      ]
     },
     "execution_count": 30,
     "metadata": {},
     "output_type": "execute_result"
    }
   ],
   "source": [
    "prop=2152.0/(2152+18517)\n",
    "prop"
   ]
  },
  {
   "cell_type": "markdown",
   "metadata": {
    "collapsed": true
   },
   "source": [
    "#### For what proportion of motor vehicle thefts in 2007 was an arrest made?\n"
   ]
  },
  {
   "cell_type": "code",
   "execution_count": 31,
   "metadata": {
    "collapsed": false
   },
   "outputs": [
    {
     "data": {
      "text/plain": [
       "False    13068\n",
       "True      1212\n",
       "Name: Arrest, dtype: int64"
      ]
     },
     "execution_count": 31,
     "metadata": {},
     "output_type": "execute_result"
    }
   ],
   "source": [
    "(data[data.Year==2007])['Arrest'].value_counts()"
   ]
  },
  {
   "cell_type": "code",
   "execution_count": 32,
   "metadata": {
    "collapsed": false
   },
   "outputs": [
    {
     "name": "stdout",
     "output_type": "stream",
     "text": [
      "0.0848739495798\n"
     ]
    }
   ],
   "source": [
    "prop_2=1212.0/(1212+13068)\n",
    "print prop_2"
   ]
  },
  {
   "cell_type": "markdown",
   "metadata": {},
   "source": [
    "#### Q: For what proportion of motor vehicle thefts in 2012 was an arrest made?"
   ]
  },
  {
   "cell_type": "code",
   "execution_count": 33,
   "metadata": {
    "collapsed": false
   },
   "outputs": [
    {
     "data": {
      "text/plain": [
       "False    13542\n",
       "True       550\n",
       "Name: Arrest, dtype: int64"
      ]
     },
     "execution_count": 33,
     "metadata": {},
     "output_type": "execute_result"
    }
   ],
   "source": [
    "(data[data.Year==2012])['Arrest'].value_counts()"
   ]
  },
  {
   "cell_type": "code",
   "execution_count": 34,
   "metadata": {
    "collapsed": false
   },
   "outputs": [
    {
     "data": {
      "text/plain": [
       "0.03902923644621062"
      ]
     },
     "execution_count": 34,
     "metadata": {},
     "output_type": "execute_result"
    }
   ],
   "source": [
    "prop3=550.0/(550.0+13542)\n",
    "prop3"
   ]
  },
  {
   "cell_type": "markdown",
   "metadata": {},
   "source": [
    "#### Q: Find the top five locations where motor vehicle thefts occur. \n",
    "Create a subset of your data, only taking observations for which the theft happened in one of these five locations, and call this new data set \"Top5\". How many observations are in Top5?\n"
   ]
  },
  {
   "cell_type": "code",
   "execution_count": 35,
   "metadata": {
    "collapsed": false
   },
   "outputs": [
    {
     "data": {
      "text/plain": [
       "STREET                            156564\n",
       "PARKING LOT/GARAGE(NON.RESID.)     14852\n",
       "OTHER                               4573\n",
       "ALLEY                               2308\n",
       "GAS STATION                         2111\n",
       "Name: LocationDescription, dtype: int64"
      ]
     },
     "execution_count": 35,
     "metadata": {},
     "output_type": "execute_result"
    }
   ],
   "source": [
    "data['LocationDescription'].value_counts().head(5)"
   ]
  },
  {
   "cell_type": "code",
   "execution_count": 36,
   "metadata": {
    "collapsed": false
   },
   "outputs": [
    {
     "data": {
      "text/plain": [
       "(177510, 13)"
      ]
     },
     "execution_count": 36,
     "metadata": {},
     "output_type": "execute_result"
    }
   ],
   "source": [
    "top5=data[ (data.LocationDescription=='STREET')|\n",
    "           (data.LocationDescription=='ALLEY') |\n",
    "           (data.LocationDescription=='GAS STATION')|\n",
    "           (data.LocationDescription=='PARKING LOT/GARAGE(NON.RESID.)') |\n",
    "           (data.LocationDescription=='DRIVEWAY - RESIDENTIAL')\n",
    "           ]\n",
    "top5.shape"
   ]
  },
  {
   "cell_type": "markdown",
   "metadata": {
    "collapsed": false
   },
   "source": [
    "#### Q: One of the locations has a much higher arrest rate than the other locations. Which is it?"
   ]
  },
  {
   "cell_type": "code",
   "execution_count": 37,
   "metadata": {
    "collapsed": false
   },
   "outputs": [
    {
     "data": {
      "text/plain": [
       "LocationDescription             Arrest\n",
       "ALLEY                           False       2059\n",
       "                                True         249\n",
       "DRIVEWAY - RESIDENTIAL          False       1543\n",
       "                                True         132\n",
       "GAS STATION                     False       1672\n",
       "                                True         439\n",
       "PARKING LOT/GARAGE(NON.RESID.)  False      13249\n",
       "                                True        1603\n",
       "STREET                          False     144969\n",
       "                                True       11595\n",
       "Name: Arrest, dtype: int64"
      ]
     },
     "execution_count": 37,
     "metadata": {},
     "output_type": "execute_result"
    }
   ],
   "source": [
    "#### Note we need the arrest RATE:\n",
    "aa=top5.groupby('LocationDescription')['Arrest'].value_counts()\n",
    "aa"
   ]
  },
  {
   "cell_type": "code",
   "execution_count": 38,
   "metadata": {
    "collapsed": false
   },
   "outputs": [
    {
     "data": {
      "text/plain": [
       "<matplotlib.axes._subplots.AxesSubplot at 0x118b602d0>"
      ]
     },
     "execution_count": 38,
     "metadata": {},
     "output_type": "execute_result"
    },
    {
     "data": {
      "image/png": "[encoded data removed]",
      "text/plain": [
       "<matplotlib.figure.Figure at 0x1133ded10>"
      ]
     },
     "metadata": {},
     "output_type": "display_data"
    }
   ],
   "source": [
    "aa.groupby(level=0).apply(lambda x: 100*x/x.sum()).plot(kind='bar')"
   ]
  },
  {
   "cell_type": "markdown",
   "metadata": {},
   "source": [
    "#### A: Arrest rate is maximum at Gas Station"
   ]
  },
  {
   "cell_type": "markdown",
   "metadata": {},
   "source": [
    "#### Q:  On which day of the week do the most motor vehicle thefts at gas stations happen? Note: its NOT asking when the most arrests happen"
   ]
  },
  {
   "cell_type": "code",
   "execution_count": 39,
   "metadata": {
    "collapsed": false
   },
   "outputs": [
    {
     "data": {
      "text/plain": [
       "Weekday  Arrest\n",
       "0        False     215\n",
       "         True       65\n",
       "1        False     213\n",
       "         True       57\n",
       "2        False     210\n",
       "         True       63\n",
       "3        False     229\n",
       "         True       53\n",
       "4        False     268\n",
       "         True       64\n",
       "5        False     270\n",
       "         True       68\n",
       "6        False     267\n",
       "         True       69\n",
       "Name: Arrest, dtype: int64"
      ]
     },
     "execution_count": 39,
     "metadata": {},
     "output_type": "execute_result"
    }
   ],
   "source": [
    "df=(top5[top5.LocationDescription== 'GAS STATION']).groupby('Weekday')['Arrest'].value_counts()\n",
    "df"
   ]
  },
  {
   "cell_type": "code",
   "execution_count": 40,
   "metadata": {
    "collapsed": false
   },
   "outputs": [
    {
     "data": {
      "text/plain": [
       "Weekday\n",
       "0    280\n",
       "1    270\n",
       "2    273\n",
       "3    282\n",
       "4    332\n",
       "5    338\n",
       "6    336\n",
       "Name: Arrest, dtype: int64"
      ]
     },
     "execution_count": 40,
     "metadata": {},
     "output_type": "execute_result"
    }
   ],
   "source": [
    "df.groupby(level=0).apply(lambda x: x.sum())"
   ]
  },
  {
   "cell_type": "markdown",
   "metadata": {},
   "source": [
    "#### Saturday is when most gas station thefts happen"
   ]
  },
  {
   "cell_type": "markdown",
   "metadata": {},
   "source": [
    "#### Q: On which day of the week do the FEWEST motor vehicle thefts in residential driveways happen?"
   ]
  },
  {
   "cell_type": "code",
   "execution_count": 41,
   "metadata": {
    "collapsed": false
   },
   "outputs": [
    {
     "data": {
      "text/plain": [
       "<matplotlib.axes._subplots.AxesSubplot at 0x1132f8c10>"
      ]
     },
     "execution_count": 41,
     "metadata": {},
     "output_type": "execute_result"
    },
    {
     "data": {
      "image/png": "[encoded data removed]",
      "text/plain": [
       "<matplotlib.figure.Figure at 0x113a2ca90>"
      ]
     },
     "metadata": {},
     "output_type": "display_data"
    }
   ],
   "source": [
    "((top5[top5.LocationDescription== 'DRIVEWAY - RESIDENTIAL']).groupby('Weekday')['Arrest'].value_counts()).groupby(level=0).apply(lambda x: x.sum()).plot(kind='bar')"
   ]
  },
  {
   "cell_type": "markdown",
   "metadata": {},
   "source": [
    "#### Saturday!!"
   ]
  }
 ],
 "metadata": {
  "kernelspec": {
   "display_name": "Python 2",
   "language": "python",
   "name": "python2"
  },
  "language_info": {
   "codemirror_mode": {
    "name": "ipython",
    "version": 2
   },
   "file_extension": ".py",
   "mimetype": "text/x-python",
   "name": "python",
   "nbconvert_exporter": "python",
   "pygments_lexer": "ipython2",
   "version": "2.7.11"
  }
 },
 "nbformat": 4,
 "nbformat_minor": 0
}
