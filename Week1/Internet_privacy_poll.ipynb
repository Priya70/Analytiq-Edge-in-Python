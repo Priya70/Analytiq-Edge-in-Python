{
 "cells": [
  {
   "cell_type": "markdown",
   "metadata": {},
   "source": [
    "#### Internet Privacy poll assignment in Python"
   ]
  },
  {
   "cell_type": "code",
   "execution_count": 30,
   "metadata": {
    "collapsed": true
   },
   "outputs": [],
   "source": [
    "import pandas as pd\n",
    "import statsmodels.formula.api as smf\n",
    "import matplotlib.pyplot as plt\n",
    "import numpy as np\n",
    "%matplotlib inline"
   ]
  },
  {
   "cell_type": "code",
   "execution_count": 2,
   "metadata": {
    "collapsed": false
   },
   "outputs": [
    {
     "data": {
      "text/html": [
       "<div>\n",
       "<table border=\"1\" class=\"dataframe\">\n",
       "  <thead>\n",
       "    <tr style=\"text-align: right;\">\n",
       "      <th></th>\n",
       "      <th>Internet.Use</th>\n",
       "      <th>Smartphone</th>\n",
       "      <th>Age</th>\n",
       "      <th>Conservativeness</th>\n",
       "      <th>Info.On.Internet</th>\n",
       "      <th>Worry.About.Info</th>\n",
       "      <th>Privacy.Importance</th>\n",
       "      <th>Anonymity.Possible</th>\n",
       "      <th>Tried.Masking.Identity</th>\n",
       "      <th>Privacy.Laws.Effective</th>\n",
       "    </tr>\n",
       "  </thead>\n",
       "  <tbody>\n",
       "    <tr>\n",
       "      <th>count</th>\n",
       "      <td>1001.000000</td>\n",
       "      <td>959.000000</td>\n",
       "      <td>975.000000</td>\n",
       "      <td>940.000000</td>\n",
       "      <td>792.000000</td>\n",
       "      <td>790.000000</td>\n",
       "      <td>787.000000</td>\n",
       "      <td>753.000000</td>\n",
       "      <td>784.000000</td>\n",
       "      <td>894.000000</td>\n",
       "    </tr>\n",
       "    <tr>\n",
       "      <th>mean</th>\n",
       "      <td>0.774226</td>\n",
       "      <td>0.507821</td>\n",
       "      <td>52.370256</td>\n",
       "      <td>3.276596</td>\n",
       "      <td>3.795455</td>\n",
       "      <td>0.488608</td>\n",
       "      <td>62.848672</td>\n",
       "      <td>0.369190</td>\n",
       "      <td>0.163265</td>\n",
       "      <td>0.261745</td>\n",
       "    </tr>\n",
       "    <tr>\n",
       "      <th>std</th>\n",
       "      <td>0.418300</td>\n",
       "      <td>0.500200</td>\n",
       "      <td>18.597082</td>\n",
       "      <td>1.012218</td>\n",
       "      <td>2.699174</td>\n",
       "      <td>0.500187</td>\n",
       "      <td>31.472764</td>\n",
       "      <td>0.482906</td>\n",
       "      <td>0.369844</td>\n",
       "      <td>0.439831</td>\n",
       "    </tr>\n",
       "    <tr>\n",
       "      <th>min</th>\n",
       "      <td>0.000000</td>\n",
       "      <td>0.000000</td>\n",
       "      <td>18.000000</td>\n",
       "      <td>1.000000</td>\n",
       "      <td>0.000000</td>\n",
       "      <td>0.000000</td>\n",
       "      <td>0.000000</td>\n",
       "      <td>0.000000</td>\n",
       "      <td>0.000000</td>\n",
       "      <td>0.000000</td>\n",
       "    </tr>\n",
       "    <tr>\n",
       "      <th>25%</th>\n",
       "      <td>1.000000</td>\n",
       "      <td>0.000000</td>\n",
       "      <td>37.000000</td>\n",
       "      <td>3.000000</td>\n",
       "      <td>2.000000</td>\n",
       "      <td>0.000000</td>\n",
       "      <td>41.428571</td>\n",
       "      <td>0.000000</td>\n",
       "      <td>0.000000</td>\n",
       "      <td>0.000000</td>\n",
       "    </tr>\n",
       "    <tr>\n",
       "      <th>50%</th>\n",
       "      <td>1.000000</td>\n",
       "      <td>1.000000</td>\n",
       "      <td>55.000000</td>\n",
       "      <td>3.000000</td>\n",
       "      <td>4.000000</td>\n",
       "      <td>0.000000</td>\n",
       "      <td>68.750000</td>\n",
       "      <td>0.000000</td>\n",
       "      <td>0.000000</td>\n",
       "      <td>0.000000</td>\n",
       "    </tr>\n",
       "    <tr>\n",
       "      <th>75%</th>\n",
       "      <td>1.000000</td>\n",
       "      <td>1.000000</td>\n",
       "      <td>66.000000</td>\n",
       "      <td>4.000000</td>\n",
       "      <td>6.000000</td>\n",
       "      <td>1.000000</td>\n",
       "      <td>88.888889</td>\n",
       "      <td>1.000000</td>\n",
       "      <td>0.000000</td>\n",
       "      <td>1.000000</td>\n",
       "    </tr>\n",
       "    <tr>\n",
       "      <th>max</th>\n",
       "      <td>1.000000</td>\n",
       "      <td>1.000000</td>\n",
       "      <td>96.000000</td>\n",
       "      <td>5.000000</td>\n",
       "      <td>11.000000</td>\n",
       "      <td>1.000000</td>\n",
       "      <td>100.000000</td>\n",
       "      <td>1.000000</td>\n",
       "      <td>1.000000</td>\n",
       "      <td>1.000000</td>\n",
       "    </tr>\n",
       "  </tbody>\n",
       "</table>\n",
       "</div>"
      ],
      "text/plain": [
       "       Internet.Use  Smartphone         Age  Conservativeness  \\\n",
       "count   1001.000000  959.000000  975.000000        940.000000   \n",
       "mean       0.774226    0.507821   52.370256          3.276596   \n",
       "std        0.418300    0.500200   18.597082          1.012218   \n",
       "min        0.000000    0.000000   18.000000          1.000000   \n",
       "25%        1.000000    0.000000   37.000000          3.000000   \n",
       "50%        1.000000    1.000000   55.000000          3.000000   \n",
       "75%        1.000000    1.000000   66.000000          4.000000   \n",
       "max        1.000000    1.000000   96.000000          5.000000   \n",
       "\n",
       "       Info.On.Internet  Worry.About.Info  Privacy.Importance  \\\n",
       "count        792.000000        790.000000          787.000000   \n",
       "mean           3.795455          0.488608           62.848672   \n",
       "std            2.699174          0.500187           31.472764   \n",
       "min            0.000000          0.000000            0.000000   \n",
       "25%            2.000000          0.000000           41.428571   \n",
       "50%            4.000000          0.000000           68.750000   \n",
       "75%            6.000000          1.000000           88.888889   \n",
       "max           11.000000          1.000000          100.000000   \n",
       "\n",
       "       Anonymity.Possible  Tried.Masking.Identity  Privacy.Laws.Effective  \n",
       "count          753.000000              784.000000              894.000000  \n",
       "mean             0.369190                0.163265                0.261745  \n",
       "std              0.482906                0.369844                0.439831  \n",
       "min              0.000000                0.000000                0.000000  \n",
       "25%              0.000000                0.000000                0.000000  \n",
       "50%              0.000000                0.000000                0.000000  \n",
       "75%              1.000000                0.000000                1.000000  \n",
       "max              1.000000                1.000000                1.000000  "
      ]
     },
     "execution_count": 2,
     "metadata": {},
     "output_type": "execute_result"
    }
   ],
   "source": [
    "data=pd.read_csv(\"../AnonymityPoll.csv\")\n",
    "data.describe() "
   ]
  },
  {
   "cell_type": "code",
   "execution_count": 3,
   "metadata": {
    "collapsed": false
   },
   "outputs": [
    {
     "data": {
      "text/html": [
       "<div>\n",
       "<table border=\"1\" class=\"dataframe\">\n",
       "  <thead>\n",
       "    <tr style=\"text-align: right;\">\n",
       "      <th></th>\n",
       "      <th>Internet.Use</th>\n",
       "      <th>Smartphone</th>\n",
       "      <th>Sex</th>\n",
       "      <th>Age</th>\n",
       "      <th>State</th>\n",
       "      <th>Region</th>\n",
       "      <th>Conservativeness</th>\n",
       "      <th>Info.On.Internet</th>\n",
       "      <th>Worry.About.Info</th>\n",
       "      <th>Privacy.Importance</th>\n",
       "      <th>Anonymity.Possible</th>\n",
       "      <th>Tried.Masking.Identity</th>\n",
       "      <th>Privacy.Laws.Effective</th>\n",
       "    </tr>\n",
       "  </thead>\n",
       "  <tbody>\n",
       "    <tr>\n",
       "      <th>0</th>\n",
       "      <td>1</td>\n",
       "      <td>0</td>\n",
       "      <td>Male</td>\n",
       "      <td>62</td>\n",
       "      <td>Massachusetts</td>\n",
       "      <td>Northeast</td>\n",
       "      <td>4</td>\n",
       "      <td>0</td>\n",
       "      <td>1</td>\n",
       "      <td>100.000000</td>\n",
       "      <td>0</td>\n",
       "      <td>0</td>\n",
       "      <td>0</td>\n",
       "    </tr>\n",
       "    <tr>\n",
       "      <th>1</th>\n",
       "      <td>1</td>\n",
       "      <td>0</td>\n",
       "      <td>Male</td>\n",
       "      <td>45</td>\n",
       "      <td>South Carolina</td>\n",
       "      <td>South</td>\n",
       "      <td>1</td>\n",
       "      <td>1</td>\n",
       "      <td>0</td>\n",
       "      <td>0.000000</td>\n",
       "      <td>1</td>\n",
       "      <td>0</td>\n",
       "      <td>1</td>\n",
       "    </tr>\n",
       "    <tr>\n",
       "      <th>2</th>\n",
       "      <td>0</td>\n",
       "      <td>1</td>\n",
       "      <td>Female</td>\n",
       "      <td>70</td>\n",
       "      <td>New Jersey</td>\n",
       "      <td>Northeast</td>\n",
       "      <td>4</td>\n",
       "      <td>0</td>\n",
       "      <td>0</td>\n",
       "      <td>NaN</td>\n",
       "      <td>0</td>\n",
       "      <td>0</td>\n",
       "      <td>NaN</td>\n",
       "    </tr>\n",
       "    <tr>\n",
       "      <th>3</th>\n",
       "      <td>1</td>\n",
       "      <td>0</td>\n",
       "      <td>Male</td>\n",
       "      <td>70</td>\n",
       "      <td>Georgia</td>\n",
       "      <td>South</td>\n",
       "      <td>4</td>\n",
       "      <td>3</td>\n",
       "      <td>1</td>\n",
       "      <td>88.888889</td>\n",
       "      <td>1</td>\n",
       "      <td>0</td>\n",
       "      <td>0</td>\n",
       "    </tr>\n",
       "    <tr>\n",
       "      <th>4</th>\n",
       "      <td>0</td>\n",
       "      <td>NaN</td>\n",
       "      <td>Female</td>\n",
       "      <td>80</td>\n",
       "      <td>Georgia</td>\n",
       "      <td>South</td>\n",
       "      <td>4</td>\n",
       "      <td>NaN</td>\n",
       "      <td>NaN</td>\n",
       "      <td>NaN</td>\n",
       "      <td>NaN</td>\n",
       "      <td>NaN</td>\n",
       "      <td>NaN</td>\n",
       "    </tr>\n",
       "  </tbody>\n",
       "</table>\n",
       "</div>"
      ],
      "text/plain": [
       "   Internet.Use  Smartphone     Sex  Age           State     Region  \\\n",
       "0             1           0    Male   62   Massachusetts  Northeast   \n",
       "1             1           0    Male   45  South Carolina      South   \n",
       "2             0           1  Female   70      New Jersey  Northeast   \n",
       "3             1           0    Male   70         Georgia      South   \n",
       "4             0         NaN  Female   80         Georgia      South   \n",
       "\n",
       "   Conservativeness  Info.On.Internet  Worry.About.Info  Privacy.Importance  \\\n",
       "0                 4                 0                 1          100.000000   \n",
       "1                 1                 1                 0            0.000000   \n",
       "2                 4                 0                 0                 NaN   \n",
       "3                 4                 3                 1           88.888889   \n",
       "4                 4               NaN               NaN                 NaN   \n",
       "\n",
       "   Anonymity.Possible  Tried.Masking.Identity  Privacy.Laws.Effective  \n",
       "0                   0                       0                       0  \n",
       "1                   1                       0                       1  \n",
       "2                   0                       0                     NaN  \n",
       "3                   1                       0                       0  \n",
       "4                 NaN                     NaN                     NaN  "
      ]
     },
     "execution_count": 3,
     "metadata": {},
     "output_type": "execute_result"
    }
   ],
   "source": [
    "data.head(5)"
   ]
  },
  {
   "cell_type": "markdown",
   "metadata": {},
   "source": [
    "#### Q: How many respondents did not reply to the Internet.Use question?"
   ]
  },
  {
   "cell_type": "code",
   "execution_count": 4,
   "metadata": {
    "collapsed": false
   },
   "outputs": [
    {
     "data": {
      "text/plain": [
       "1"
      ]
     },
     "execution_count": 4,
     "metadata": {},
     "output_type": "execute_result"
    }
   ],
   "source": [
    "#data[\"Internet.Use\"].isnull().sum()\n",
    "#or\n",
    "sum(data[\"Internet.Use\"].isnull())\n",
    "#data['Internet.Use'].isnull().values.sum()"
   ]
  },
  {
   "cell_type": "markdown",
   "metadata": {},
   "source": [
    "#### Q. How many participated in the poll"
   ]
  },
  {
   "cell_type": "code",
   "execution_count": 5,
   "metadata": {
    "collapsed": false
   },
   "outputs": [
    {
     "data": {
      "text/plain": [
       "(1002, 13)"
      ]
     },
     "execution_count": 5,
     "metadata": {},
     "output_type": "execute_result"
    }
   ],
   "source": [
    "data.shape"
   ]
  },
  {
   "cell_type": "markdown",
   "metadata": {},
   "source": [
    "#### Q: How many interviewees responded that they use a smartphone?\n",
    "* How many interviewees responded that they don't use a smartphone?\n",
    "* How many interviewees did not respond to the question, resulting in a missing value, or NA, in the summary() output?"
   ]
  },
  {
   "cell_type": "code",
   "execution_count": 6,
   "metadata": {
    "collapsed": false
   },
   "outputs": [
    {
     "data": {
      "text/plain": [
       "487.0"
      ]
     },
     "execution_count": 6,
     "metadata": {},
     "output_type": "execute_result"
    }
   ],
   "source": [
    "data.Smartphone.sum()"
   ]
  },
  {
   "cell_type": "code",
   "execution_count": 7,
   "metadata": {
    "collapsed": false
   },
   "outputs": [
    {
     "data": {
      "text/plain": [
       "472"
      ]
     },
     "execution_count": 7,
     "metadata": {},
     "output_type": "execute_result"
    }
   ],
   "source": [
    "#How many dont use a Smartphone\n",
    "(data.Smartphone==0).sum()"
   ]
  },
  {
   "cell_type": "code",
   "execution_count": 8,
   "metadata": {
    "collapsed": false
   },
   "outputs": [
    {
     "data": {
      "text/plain": [
       "43"
      ]
     },
     "execution_count": 8,
     "metadata": {},
     "output_type": "execute_result"
    }
   ],
   "source": [
    "#how many did not reply ie=NAn\n",
    "data.Smartphone.isnull().sum()"
   ]
  },
  {
   "cell_type": "markdown",
   "metadata": {},
   "source": [
    "#### Which of the following are states in the Midwest census region?"
   ]
  },
  {
   "cell_type": "code",
   "execution_count": 9,
   "metadata": {
    "collapsed": false
   },
   "outputs": [
    {
     "data": {
      "text/plain": [
       "Ohio            38\n",
       "Illinois        32\n",
       "Michigan        31\n",
       "Indiana         27\n",
       "Missouri        26\n",
       "Wisconsin       23\n",
       "Minnesota       15\n",
       "Iowa            14\n",
       "Kansas          14\n",
       "Nebraska        11\n",
       "North Dakota     5\n",
       "South Dakota     3\n",
       "Name: State, dtype: int64"
      ]
     },
     "execution_count": 9,
     "metadata": {},
     "output_type": "execute_result"
    }
   ],
   "source": [
    "data[data.Region=='Midwest']['State'].value_counts()"
   ]
  },
  {
   "cell_type": "code",
   "execution_count": 10,
   "metadata": {
    "collapsed": false
   },
   "outputs": [
    {
     "data": {
      "text/plain": [
       "Texas                   72\n",
       "Florida                 42\n",
       "Georgia                 34\n",
       "North Carolina          32\n",
       "Virginia                31\n",
       "Kentucky                25\n",
       "Maryland                18\n",
       "Louisiana               17\n",
       "Tennessee               17\n",
       "Oklahoma                14\n",
       "South Carolina          12\n",
       "Mississippi             11\n",
       "Alabama                 11\n",
       "Arkansas                10\n",
       "Delaware                 6\n",
       "West Virginia            5\n",
       "District of Columbia     2\n",
       "Name: State, dtype: int64"
      ]
     },
     "execution_count": 10,
     "metadata": {},
     "output_type": "execute_result"
    }
   ],
   "source": [
    "data[data.Region=='South']['State'].value_counts()"
   ]
  },
  {
   "cell_type": "markdown",
   "metadata": {},
   "source": [
    "#### Internet and Smartphone Users:\n",
    "Many of the response variables (Info.On.Internet, Worry.About.Info, Privacy.Importance, Anonymity.Possible, and Tried.Masking.Identity) were not collected if an interviewee does not use the Internet or a smartphone, meaning the variables will have missing values for these interviewees.\n",
    "* How many interviewees reported not having used the Internet and not having used a smartphone?\n",
    "* How many interviewees reported having used the Internet and having used a smartphone?\n",
    "* How many interviewees reported having used the Internet but not having used a smartphone?\n",
    "* How many interviewees reported having used a smartphone but not having used the Internet?\n",
    "* How many interviewees have a missing value for their Internet use?\n",
    "* How many interviewees have a missing value for their smartphone use?\n",
    "\n",
    "\n"
   ]
  },
  {
   "cell_type": "code",
   "execution_count": 11,
   "metadata": {
    "collapsed": false
   },
   "outputs": [
    {
     "name": "stderr",
     "output_type": "stream",
     "text": [
      "/Users/priyadesai/anaconda/lib/python2.7/site-packages/pandas/core/frame.py:1997: UserWarning: Boolean Series key will be reindexed to match DataFrame index.\n",
      "  \"DataFrame index.\", UserWarning)\n"
     ]
    },
    {
     "data": {
      "text/plain": [
       "(186, 13)"
      ]
     },
     "execution_count": 11,
     "metadata": {},
     "output_type": "execute_result"
    }
   ],
   "source": [
    "data[data['Internet.Use']==0][data['Smartphone']==0].shape"
   ]
  },
  {
   "cell_type": "code",
   "execution_count": 12,
   "metadata": {
    "collapsed": false
   },
   "outputs": [
    {
     "data": {
      "text/plain": [
       "(470, 13)"
      ]
     },
     "execution_count": 12,
     "metadata": {},
     "output_type": "execute_result"
    }
   ],
   "source": [
    "data[data['Internet.Use']==1][data['Smartphone']==1].shape"
   ]
  },
  {
   "cell_type": "code",
   "execution_count": 13,
   "metadata": {
    "collapsed": false
   },
   "outputs": [
    {
     "data": {
      "text/plain": [
       "(285, 13)"
      ]
     },
     "execution_count": 13,
     "metadata": {},
     "output_type": "execute_result"
    }
   ],
   "source": [
    "data[data['Internet.Use']==1][data['Smartphone']==0].shape"
   ]
  },
  {
   "cell_type": "code",
   "execution_count": 14,
   "metadata": {
    "collapsed": false
   },
   "outputs": [
    {
     "data": {
      "text/plain": [
       "(17, 13)"
      ]
     },
     "execution_count": 14,
     "metadata": {},
     "output_type": "execute_result"
    }
   ],
   "source": [
    "data[data['Internet.Use']==0][data['Smartphone']==1].shape"
   ]
  },
  {
   "cell_type": "code",
   "execution_count": 15,
   "metadata": {
    "collapsed": false
   },
   "outputs": [
    {
     "data": {
      "text/plain": [
       "1"
      ]
     },
     "execution_count": 15,
     "metadata": {},
     "output_type": "execute_result"
    }
   ],
   "source": [
    "data['Internet.Use'].isnull().sum()"
   ]
  },
  {
   "cell_type": "code",
   "execution_count": 16,
   "metadata": {
    "collapsed": false
   },
   "outputs": [
    {
     "data": {
      "text/plain": [
       "43"
      ]
     },
     "execution_count": 16,
     "metadata": {},
     "output_type": "execute_result"
    }
   ],
   "source": [
    "data['Smartphone'].isnull().sum()"
   ]
  },
  {
   "cell_type": "markdown",
   "metadata": {},
   "source": [
    "#### Obtain a data frame called \"limited\", which is limited to interviewees who reported Internet use or who reported smartphone use"
   ]
  },
  {
   "cell_type": "code",
   "execution_count": 17,
   "metadata": {
    "collapsed": false
   },
   "outputs": [
    {
     "data": {
      "text/plain": [
       "(792, 13)"
      ]
     },
     "execution_count": 17,
     "metadata": {},
     "output_type": "execute_result"
    }
   ],
   "source": [
    "limited=data[(data['Smartphone']==1) | (data['Internet.Use']==1)]\n",
    "limited.shape"
   ]
  },
  {
   "cell_type": "markdown",
   "metadata": {},
   "source": [
    "#### Which variables have missing values in the limited data frame? \n",
    "* What is the average number of pieces of personal information on the Internet, according to the Info.On.Internet variable?\n",
    "* How many interviewees reported a value of 0 for Info.On.Internet?\n",
    "* How many interviewees reported the maximum value of 11 for Info.On.Internet?\n",
    "* "
   ]
  },
  {
   "cell_type": "code",
   "execution_count": 18,
   "metadata": {
    "collapsed": false
   },
   "outputs": [
    {
     "data": {
      "text/plain": [
       "3.7954545454545454"
      ]
     },
     "execution_count": 18,
     "metadata": {},
     "output_type": "execute_result"
    }
   ],
   "source": [
    "limited['Info.On.Internet'].mean()"
   ]
  },
  {
   "cell_type": "code",
   "execution_count": 19,
   "metadata": {
    "collapsed": false
   },
   "outputs": [
    {
     "data": {
      "text/plain": [
       "(105, 13)"
      ]
     },
     "execution_count": 19,
     "metadata": {},
     "output_type": "execute_result"
    }
   ],
   "source": [
    "limited[limited['Info.On.Internet'] == 0]['Info.On.Internet'].count()\n",
    "#or\n",
    "limited[limited['Info.On.Internet'] ==0].shape"
   ]
  },
  {
   "cell_type": "code",
   "execution_count": 20,
   "metadata": {
    "collapsed": false
   },
   "outputs": [
    {
     "data": {
      "text/plain": [
       "(8, 13)"
      ]
     },
     "execution_count": 20,
     "metadata": {},
     "output_type": "execute_result"
    }
   ],
   "source": [
    "limited[limited['Info.On.Internet'] == 11].shape"
   ]
  },
  {
   "cell_type": "code",
   "execution_count": 21,
   "metadata": {
    "collapsed": false
   },
   "outputs": [
    {
     "data": {
      "text/plain": [
       "(792, 13)"
      ]
     },
     "execution_count": 21,
     "metadata": {},
     "output_type": "execute_result"
    }
   ],
   "source": [
    "limited.shape"
   ]
  },
  {
   "cell_type": "markdown",
   "metadata": {},
   "source": [
    "#### What proportion of interviewees who answered the Worry.About.Info question worry about how much information is available about them on the Internet? Note that to compute this proportion you will be dividing by the number of people who answered the Worry.About.Info question, not the total number of people in the data frame."
   ]
  },
  {
   "cell_type": "code",
   "execution_count": 22,
   "metadata": {
    "collapsed": false
   },
   "outputs": [
    {
     "data": {
      "text/plain": [
       "0.48860759493670886"
      ]
     },
     "execution_count": 22,
     "metadata": {},
     "output_type": "execute_result"
    }
   ],
   "source": [
    "float(limited[limited['Worry.About.Info'] ==1]['Worry.About.Info'].count())/ limited[(limited['Worry.About.Info'] ==1) | (limited['Worry.About.Info'] ==0)]['Worry.About.Info'].count()"
   ]
  },
  {
   "cell_type": "code",
   "execution_count": 23,
   "metadata": {
    "collapsed": false
   },
   "outputs": [
    {
     "data": {
      "text/plain": [
       "386"
      ]
     },
     "execution_count": 23,
     "metadata": {},
     "output_type": "execute_result"
    }
   ],
   "source": [
    "limited[limited['Worry.About.Info'] ==1]['Worry.About.Info'].count()"
   ]
  },
  {
   "cell_type": "markdown",
   "metadata": {},
   "source": [
    "#### What proportion of interviewees who answered the Anonymity.Possible question think it is possible to be completely anonymous on the Internet?"
   ]
  },
  {
   "cell_type": "code",
   "execution_count": 24,
   "metadata": {
    "collapsed": false
   },
   "outputs": [
    {
     "data": {
      "text/plain": [
       "0.3691899070385126"
      ]
     },
     "execution_count": 24,
     "metadata": {},
     "output_type": "execute_result"
    }
   ],
   "source": [
    "limited[limited['Anonymity.Possible']==1]['Anonymity.Possible'].sum()/limited[(limited['Anonymity.Possible']==1 )| (limited['Anonymity.Possible']==0)]['Anonymity.Possible'].count()"
   ]
  },
  {
   "cell_type": "code",
   "execution_count": 25,
   "metadata": {
    "collapsed": false
   },
   "outputs": [
    {
     "data": {
      "text/plain": [
       "753"
      ]
     },
     "execution_count": 25,
     "metadata": {},
     "output_type": "execute_result"
    }
   ],
   "source": [
    "limited[(limited['Anonymity.Possible']==1 )| (limited['Anonymity.Possible']==0)]['Anonymity.Possible'].count()"
   ]
  },
  {
   "cell_type": "markdown",
   "metadata": {},
   "source": [
    "#### What proportion of interviewees who answered the Tried.Masking.Identity question have tried masking their identity on the Internet?"
   ]
  },
  {
   "cell_type": "code",
   "execution_count": 26,
   "metadata": {
    "collapsed": false
   },
   "outputs": [
    {
     "data": {
      "text/plain": [
       "0.16326530612244897"
      ]
     },
     "execution_count": 26,
     "metadata": {},
     "output_type": "execute_result"
    }
   ],
   "source": [
    "limited[limited['Tried.Masking.Identity']==1]['Tried.Masking.Identity'].sum()/limited[(limited['Tried.Masking.Identity']==1) | (limited['Tried.Masking.Identity']==0 )]['Tried.Masking.Identity'].count()"
   ]
  },
  {
   "cell_type": "markdown",
   "metadata": {},
   "source": [
    "#### What proportion of interviewees who answered the Privacy.Laws.Effective question find United States privacy laws effective?\n"
   ]
  },
  {
   "cell_type": "code",
   "execution_count": 27,
   "metadata": {
    "collapsed": false
   },
   "outputs": [
    {
     "data": {
      "text/plain": [
       "0.2558459422283356"
      ]
     },
     "execution_count": 27,
     "metadata": {},
     "output_type": "execute_result"
    }
   ],
   "source": [
    "limited[limited['Privacy.Laws.Effective']==1]['Privacy.Laws.Effective'].sum()/limited[(limited['Privacy.Laws.Effective']==1) | (limited['Privacy.Laws.Effective']==0)]['Privacy.Laws.Effective'].count()"
   ]
  },
  {
   "cell_type": "code",
   "execution_count": null,
   "metadata": {
    "collapsed": false
   },
   "outputs": [],
   "source": [
    "##Note sum( results ina  float where as count results in an integer- so while dividing it makes a difference!)\n",
    "limited[(limited['Privacy.Laws.Effective']==1) | (limited['Privacy.Laws.Effective']==0)]['Privacy.Laws.Effective'].count()"
   ]
  },
  {
   "cell_type": "markdown",
   "metadata": {},
   "source": [
    "#### Relating Demographics to Polling Results\n",
    "\n",
    "Often, we are interested in whether certain characteristics of interviewees (e.g. their age or political opinions) affect their opinions on the topic of the poll (in this case, opinions on privacy). In this section, we will investigate the relationship between the characteristics Age and Smartphone and outcome variables Info.On.Internet and Tried.Masking.Identity, again using the limited data frame we built in an earlier section of this problem.\n",
    "\n",
    "Build a histogram of the age of interviewees. What is the best represented age group in the population?\n",
    "\n"
   ]
  },
  {
   "cell_type": "code",
   "execution_count": 32,
   "metadata": {
    "collapsed": false
   },
   "outputs": [
    {
     "data": {
      "text/plain": [
       "<matplotlib.axes._subplots.AxesSubplot at 0x11b12c750>"
      ]
     },
     "execution_count": 32,
     "metadata": {},
     "output_type": "execute_result"
    },
    {
     "data": {
      "image/png": "[encoded data removed]",
      "text/plain": [
       "<matplotlib.figure.Figure at 0x11b146bd0>"
      ]
     },
     "metadata": {},
     "output_type": "display_data"
    }
   ],
   "source": [
    "limited['Age'].plot.hist() ##or\n",
    "limited['Age'].plot(kind='hist')"
   ]
  },
  {
   "cell_type": "markdown",
   "metadata": {},
   "source": [
    "What is the largest number of interviewees that have exactly the same value in their Age variable AND the same value in their Info.On.Internet variable? In other words, what is the largest number of overlapping points in the plot plot(limited$Age, limited$Info.On.Internet)? "
   ]
  },
  {
   "cell_type": "code",
   "execution_count": 38,
   "metadata": {
    "collapsed": false
   },
   "outputs": [
    {
     "data": {
      "text/plain": [
       "Age  Info.On.Internet\n",
       "60   1                   6\n",
       "     0                   6\n",
       "53   0                   6\n",
       "18   6                   5\n",
       "45   4                   5\n",
       "dtype: int64"
      ]
     },
     "execution_count": 38,
     "metadata": {},
     "output_type": "execute_result"
    }
   ],
   "source": [
    "limited.groupby('Age')['Info.On.Internet'].value_counts().sort_values(ascending=False).head()"
   ]
  },
  {
   "cell_type": "code",
   "execution_count": 59,
   "metadata": {
    "collapsed": false
   },
   "outputs": [
    {
     "data": {
      "text/plain": [
       "[<matplotlib.lines.Line2D at 0x11f16ea90>]"
      ]
     },
     "execution_count": 59,
     "metadata": {},
     "output_type": "execute_result"
    },
    {
     "data": {
      "image/png": "[encoded data removed]",
      "text/plain": [
       "<matplotlib.figure.Figure at 0x11eb918d0>"
      ]
     },
     "metadata": {},
     "output_type": "display_data"
    }
   ],
   "source": [
    "plt.plot(limited.Age, limited['Info.On.Internet'], 'ro',markersize=4 )"
   ]
  },
  {
   "cell_type": "code",
   "execution_count": 83,
   "metadata": {
    "collapsed": false
   },
   "outputs": [
    {
     "data": {
      "text/plain": [
       "<matplotlib.axes._subplots.AxesSubplot at 0x123e80710>"
      ]
     },
     "execution_count": 83,
     "metadata": {},
     "output_type": "execute_result"
    },
    {
     "data": {
      "image/png": "[encoded data removed]",
      "text/plain": [
       "<matplotlib.figure.Figure at 0x1238b10d0>"
      ]
     },
     "metadata": {},
     "output_type": "display_data"
    }
   ],
   "source": [
    "###matplotlib does not have jitter functionality but seaborn does\n",
    "import seaborn as sns\n",
    "sns.swarmplot(x='Age',y='Info.On.Internet', data=limited)\n",
    "sns.stripplot(x='Age',y='Info.On.Internet', data=limited,jitter=True)"
   ]
  },
  {
   "cell_type": "markdown",
   "metadata": {},
   "source": [
    "Obtain the summary of the Info.On.Internet value, broken down by whether an interviewee is a smartphone user.\n",
    "* What is the average Info.On.Internet value for smartphone users?\n",
    "* What is the average Info.On.Internet value for non-smartphone users?"
   ]
  },
  {
   "cell_type": "code",
   "execution_count": 95,
   "metadata": {
    "collapsed": false
   },
   "outputs": [
    {
     "data": {
      "text/plain": [
       "Smartphone\n",
       "0    2.922807\n",
       "1    4.367556\n",
       "Name: Info.On.Internet, dtype: float64"
      ]
     },
     "execution_count": 95,
     "metadata": {},
     "output_type": "execute_result"
    }
   ],
   "source": [
    "limited.groupby('Smartphone')['Info.On.Internet'].mean()"
   ]
  },
  {
   "cell_type": "markdown",
   "metadata": {},
   "source": [
    "* What proportion of smartphone users who answered the Tried.Masking.Identity question have tried masking their identity when using the Internet?\n",
    "* What proportion of non-smartphone users who answered the Tried.Masking.Identity question have tried masking their identity when using the Internet?"
   ]
  },
  {
   "cell_type": "code",
   "execution_count": 97,
   "metadata": {
    "collapsed": false
   },
   "outputs": [
    {
     "data": {
      "text/plain": [
       "Smartphone\n",
       "0    0.117438\n",
       "1    0.192547\n",
       "Name: Tried.Masking.Identity, dtype: float64"
      ]
     },
     "execution_count": 97,
     "metadata": {},
     "output_type": "execute_result"
    }
   ],
   "source": [
    "limited.groupby('Smartphone')['Tried.Masking.Identity'].mean()"
   ]
  },
  {
   "cell_type": "code",
   "execution_count": 103,
   "metadata": {
    "collapsed": false
   },
   "outputs": [
    {
     "data": {
      "text/plain": [
       "483"
      ]
     },
     "execution_count": 103,
     "metadata": {},
     "output_type": "execute_result"
    }
   ],
   "source": [
    "limited[limited.Smartphone ==1][(limited['Tried.Masking.Identity']==1) | (limited['Tried.Masking.Identity']==0)]['Tried.Masking.Identity'].count()"
   ]
  },
  {
   "cell_type": "code",
   "execution_count": 104,
   "metadata": {
    "collapsed": false
   },
   "outputs": [
    {
     "data": {
      "text/plain": [
       "Tried.Masking.Identity    93\n",
       "dtype: int64"
      ]
     },
     "execution_count": 104,
     "metadata": {},
     "output_type": "execute_result"
    }
   ],
   "source": [
    "limited[limited.Smartphone ==1][(limited['Tried.Masking.Identity']==1)][['Tried.Masking.Identity']].count()"
   ]
  },
  {
   "cell_type": "code",
   "execution_count": 105,
   "metadata": {
    "collapsed": false
   },
   "outputs": [
    {
     "data": {
      "text/plain": [
       "0.19254658385093168"
      ]
     },
     "execution_count": 105,
     "metadata": {},
     "output_type": "execute_result"
    }
   ],
   "source": [
    "float(93)/483"
   ]
  },
  {
   "cell_type": "code",
   "execution_count": 108,
   "metadata": {
    "collapsed": false
   },
   "outputs": [
    {
     "data": {
      "text/plain": [
       "Tried.Masking.Identity    33\n",
       "dtype: int64"
      ]
     },
     "execution_count": 108,
     "metadata": {},
     "output_type": "execute_result"
    }
   ],
   "source": [
    "limited[limited.Smartphone ==0][(limited['Tried.Masking.Identity']==1)][['Tried.Masking.Identity']].count()"
   ]
  },
  {
   "cell_type": "code",
   "execution_count": 109,
   "metadata": {
    "collapsed": false
   },
   "outputs": [
    {
     "data": {
      "text/plain": [
       "281"
      ]
     },
     "execution_count": 109,
     "metadata": {},
     "output_type": "execute_result"
    }
   ],
   "source": [
    "limited[limited.Smartphone ==0][(limited['Tried.Masking.Identity']==1) | (limited['Tried.Masking.Identity']==0)]['Tried.Masking.Identity'].count()"
   ]
  },
  {
   "cell_type": "code",
   "execution_count": 111,
   "metadata": {
    "collapsed": false
   },
   "outputs": [
    {
     "data": {
      "text/plain": [
       "0.11743772241992882"
      ]
     },
     "execution_count": 111,
     "metadata": {},
     "output_type": "execute_result"
    }
   ],
   "source": [
    "float(33)/281"
   ]
  }
 ],
 "metadata": {
  "kernelspec": {
   "display_name": "Python 2",
   "language": "python",
   "name": "python2"
  },
  "language_info": {
   "codemirror_mode": {
    "name": "ipython",
    "version": 2
   },
   "file_extension": ".py",
   "mimetype": "text/x-python",
   "name": "python",
   "nbconvert_exporter": "python",
   "pygments_lexer": "ipython2",
   "version": "2.7.11"
  }
 },
 "nbformat": 4,
 "nbformat_minor": 0
}
