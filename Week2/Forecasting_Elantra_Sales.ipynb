{
 "cells": [
  {
   "cell_type": "markdown",
   "metadata": {},
   "source": [
    "### Forecasting Elantra Sales:\n",
    "An important application of linear regression is understanding sales. Consider a company that produces and sells a product. In a given period, if the company produces more units than how many consumers will buy, the company will not earn money on the unsold units and will incur additional costs due to having to store those units in inventory before they can be sold. If it produces fewer units than how many consumers will buy, the company will earn less than it potentially could have earned. Being able to predict consumer sales, therefore, is of first order importance to the company.\n",
    "In this problem, we will try to predict monthly sales of the Hyundai Elantra in the United States. The Hyundai Motor Company is a major automobile manufacturer based in South Korea. The Elantra is a car model that has been produced by Hyundai since 1990 and is sold all over the world, including the United States. We will build a linear regression model to predict monthly sales using economic indicators of the United States as well as Google search queries."
   ]
  },
  {
   "cell_type": "code",
   "execution_count": 1,
   "metadata": {
    "collapsed": false
   },
   "outputs": [],
   "source": [
    "import pandas as pd\n",
    "import numpy as np\n",
    "import statsmodels.formula.api as smf\n",
    "import matplotlib.pyplot as plt\n",
    "from sklearn.cross_validation import train_test_split"
   ]
  },
  {
   "cell_type": "code",
   "execution_count": 2,
   "metadata": {
    "collapsed": false
   },
   "outputs": [],
   "source": [
    "elantra=pd.read_csv(\"elantra.csv\")"
   ]
  },
  {
   "cell_type": "code",
   "execution_count": 3,
   "metadata": {
    "collapsed": false
   },
   "outputs": [
    {
     "data": {
      "text/html": [
       "<div>\n",
       "<table border=\"1\" class=\"dataframe\">\n",
       "  <thead>\n",
       "    <tr style=\"text-align: right;\">\n",
       "      <th></th>\n",
       "      <th>Month</th>\n",
       "      <th>Year</th>\n",
       "      <th>ElantraSales</th>\n",
       "      <th>Unemployment</th>\n",
       "      <th>Queries</th>\n",
       "      <th>CPI_energy</th>\n",
       "      <th>CPI_all</th>\n",
       "    </tr>\n",
       "  </thead>\n",
       "  <tbody>\n",
       "    <tr>\n",
       "      <th>0</th>\n",
       "      <td>1</td>\n",
       "      <td>2010</td>\n",
       "      <td>7690</td>\n",
       "      <td>9.7</td>\n",
       "      <td>153</td>\n",
       "      <td>213.377</td>\n",
       "      <td>217.466</td>\n",
       "    </tr>\n",
       "    <tr>\n",
       "      <th>1</th>\n",
       "      <td>1</td>\n",
       "      <td>2011</td>\n",
       "      <td>9659</td>\n",
       "      <td>9.1</td>\n",
       "      <td>259</td>\n",
       "      <td>229.353</td>\n",
       "      <td>221.082</td>\n",
       "    </tr>\n",
       "    <tr>\n",
       "      <th>2</th>\n",
       "      <td>1</td>\n",
       "      <td>2012</td>\n",
       "      <td>10900</td>\n",
       "      <td>8.2</td>\n",
       "      <td>354</td>\n",
       "      <td>244.178</td>\n",
       "      <td>227.666</td>\n",
       "    </tr>\n",
       "    <tr>\n",
       "      <th>3</th>\n",
       "      <td>1</td>\n",
       "      <td>2013</td>\n",
       "      <td>12174</td>\n",
       "      <td>7.9</td>\n",
       "      <td>230</td>\n",
       "      <td>242.560</td>\n",
       "      <td>231.321</td>\n",
       "    </tr>\n",
       "    <tr>\n",
       "      <th>4</th>\n",
       "      <td>1</td>\n",
       "      <td>2014</td>\n",
       "      <td>15326</td>\n",
       "      <td>6.6</td>\n",
       "      <td>232</td>\n",
       "      <td>247.575</td>\n",
       "      <td>234.933</td>\n",
       "    </tr>\n",
       "  </tbody>\n",
       "</table>\n",
       "</div>"
      ],
      "text/plain": [
       "   Month  Year  ElantraSales  Unemployment  Queries  CPI_energy  CPI_all\n",
       "0      1  2010          7690           9.7      153     213.377  217.466\n",
       "1      1  2011          9659           9.1      259     229.353  221.082\n",
       "2      1  2012         10900           8.2      354     244.178  227.666\n",
       "3      1  2013         12174           7.9      230     242.560  231.321\n",
       "4      1  2014         15326           6.6      232     247.575  234.933"
      ]
     },
     "execution_count": 3,
     "metadata": {},
     "output_type": "execute_result"
    }
   ],
   "source": [
    "elantra.head()"
   ]
  },
  {
   "cell_type": "markdown",
   "metadata": {},
   "source": [
    "#### Load the data set. Split the data set into training and testing sets as follows: place all observations for 2012 and earlier in the training set, and all observations for 2013 and 2014 into the testing set."
   ]
  },
  {
   "cell_type": "code",
   "execution_count": 4,
   "metadata": {
    "collapsed": false
   },
   "outputs": [
    {
     "data": {
      "text/html": [
       "<div>\n",
       "<table border=\"1\" class=\"dataframe\">\n",
       "  <thead>\n",
       "    <tr style=\"text-align: right;\">\n",
       "      <th></th>\n",
       "      <th>Month</th>\n",
       "      <th>Year</th>\n",
       "      <th>ElantraSales</th>\n",
       "      <th>Unemployment</th>\n",
       "      <th>Queries</th>\n",
       "      <th>CPI_energy</th>\n",
       "      <th>CPI_all</th>\n",
       "    </tr>\n",
       "  </thead>\n",
       "  <tbody>\n",
       "    <tr>\n",
       "      <th>0</th>\n",
       "      <td>1</td>\n",
       "      <td>2010</td>\n",
       "      <td>7690</td>\n",
       "      <td>9.7</td>\n",
       "      <td>153</td>\n",
       "      <td>213.377</td>\n",
       "      <td>217.466</td>\n",
       "    </tr>\n",
       "    <tr>\n",
       "      <th>1</th>\n",
       "      <td>1</td>\n",
       "      <td>2011</td>\n",
       "      <td>9659</td>\n",
       "      <td>9.1</td>\n",
       "      <td>259</td>\n",
       "      <td>229.353</td>\n",
       "      <td>221.082</td>\n",
       "    </tr>\n",
       "    <tr>\n",
       "      <th>2</th>\n",
       "      <td>1</td>\n",
       "      <td>2012</td>\n",
       "      <td>10900</td>\n",
       "      <td>8.2</td>\n",
       "      <td>354</td>\n",
       "      <td>244.178</td>\n",
       "      <td>227.666</td>\n",
       "    </tr>\n",
       "    <tr>\n",
       "      <th>5</th>\n",
       "      <td>2</td>\n",
       "      <td>2010</td>\n",
       "      <td>7966</td>\n",
       "      <td>9.8</td>\n",
       "      <td>130</td>\n",
       "      <td>209.924</td>\n",
       "      <td>217.251</td>\n",
       "    </tr>\n",
       "    <tr>\n",
       "      <th>6</th>\n",
       "      <td>2</td>\n",
       "      <td>2011</td>\n",
       "      <td>12289</td>\n",
       "      <td>9.0</td>\n",
       "      <td>266</td>\n",
       "      <td>232.188</td>\n",
       "      <td>221.816</td>\n",
       "    </tr>\n",
       "  </tbody>\n",
       "</table>\n",
       "</div>"
      ],
      "text/plain": [
       "   Month  Year  ElantraSales  Unemployment  Queries  CPI_energy  CPI_all\n",
       "0      1  2010          7690           9.7      153     213.377  217.466\n",
       "1      1  2011          9659           9.1      259     229.353  221.082\n",
       "2      1  2012         10900           8.2      354     244.178  227.666\n",
       "5      2  2010          7966           9.8      130     209.924  217.251\n",
       "6      2  2011         12289           9.0      266     232.188  221.816"
      ]
     },
     "execution_count": 4,
     "metadata": {},
     "output_type": "execute_result"
    }
   ],
   "source": [
    "train=elantra[elantra[\"Year\"] <=2012]\n",
    "test=elantra[elantra[\"Year\"] >2012]\n",
    "train.head()"
   ]
  },
  {
   "cell_type": "code",
   "execution_count": 5,
   "metadata": {
    "collapsed": false
   },
   "outputs": [
    {
     "data": {
      "text/plain": [
       "(36, 7)"
      ]
     },
     "execution_count": 5,
     "metadata": {},
     "output_type": "execute_result"
    }
   ],
   "source": [
    "train.shape"
   ]
  },
  {
   "cell_type": "markdown",
   "metadata": {},
   "source": [
    "#### 2.1 Build a linear regression model to predict monthly Elantra sales using Unemployment, CPI_all, CPI_energy and Queries as the independent variables. Use all of the training set data to do this. What is the model R-squared? Note: In this problem, we will always be asking for the \"Multiple R-Squared\" of the model."
   ]
  },
  {
   "cell_type": "code",
   "execution_count": 6,
   "metadata": {
    "collapsed": false
   },
   "outputs": [
    {
     "data": {
      "text/html": [
       "<table class=\"simpletable\">\n",
       "<caption>OLS Regression Results</caption>\n",
       "<tr>\n",
       "  <th>Dep. Variable:</th>            <td>0</td>        <th>  R-squared:         </th> <td>   0.428</td>\n",
       "</tr>\n",
       "<tr>\n",
       "  <th>Model:</th>                   <td>OLS</td>       <th>  Adj. R-squared:    </th> <td>   0.354</td>\n",
       "</tr>\n",
       "<tr>\n",
       "  <th>Method:</th>             <td>Least Squares</td>  <th>  F-statistic:       </th> <td>   5.803</td>\n",
       "</tr>\n",
       "<tr>\n",
       "  <th>Date:</th>             <td>Thu, 08 Sep 2016</td> <th>  Prob (F-statistic):</th>  <td>0.00132</td>\n",
       "</tr>\n",
       "<tr>\n",
       "  <th>Time:</th>                 <td>18:04:38</td>     <th>  Log-Likelihood:    </th> <td> -339.99</td>\n",
       "</tr>\n",
       "<tr>\n",
       "  <th>No. Observations:</th>      <td>    36</td>      <th>  AIC:               </th> <td>   690.0</td>\n",
       "</tr>\n",
       "<tr>\n",
       "  <th>Df Residuals:</th>          <td>    31</td>      <th>  BIC:               </th> <td>   697.9</td>\n",
       "</tr>\n",
       "<tr>\n",
       "  <th>Df Model:</th>              <td>     4</td>      <th>                     </th>     <td> </td>   \n",
       "</tr>\n",
       "<tr>\n",
       "  <th>Covariance Type:</th>      <td>nonrobust</td>    <th>                     </th>     <td> </td>   \n",
       "</tr>\n",
       "</table>\n",
       "<table class=\"simpletable\">\n",
       "<tr>\n",
       "        <td></td>          <th>coef</th>     <th>std err</th>      <th>t</th>      <th>P>|t|</th> <th>[95.0% Conf. Int.]</th> \n",
       "</tr>\n",
       "<tr>\n",
       "  <th>Intercept</th>    <td> 9.539e+04</td> <td> 1.71e+05</td> <td>    0.559</td> <td> 0.580</td> <td>-2.53e+05  4.43e+05</td>\n",
       "</tr>\n",
       "<tr>\n",
       "  <th>Unemployment</th> <td>-3179.8996</td> <td> 3610.262</td> <td>   -0.881</td> <td> 0.385</td> <td>-1.05e+04  4183.279</td>\n",
       "</tr>\n",
       "<tr>\n",
       "  <th>Queries</th>      <td>   19.0297</td> <td>   11.259</td> <td>    1.690</td> <td> 0.101</td> <td>   -3.933    41.992</td>\n",
       "</tr>\n",
       "<tr>\n",
       "  <th>CPI_energy</th>   <td>   38.5060</td> <td>  109.601</td> <td>    0.351</td> <td> 0.728</td> <td> -185.027   262.039</td>\n",
       "</tr>\n",
       "<tr>\n",
       "  <th>CPI_all</th>      <td> -297.6456</td> <td>  704.837</td> <td>   -0.422</td> <td> 0.676</td> <td>-1735.169  1139.878</td>\n",
       "</tr>\n",
       "</table>\n",
       "<table class=\"simpletable\">\n",
       "<tr>\n",
       "  <th>Omnibus:</th>       <td> 1.210</td> <th>  Durbin-Watson:     </th> <td>   1.190</td>\n",
       "</tr>\n",
       "<tr>\n",
       "  <th>Prob(Omnibus):</th> <td> 0.546</td> <th>  Jarque-Bera (JB):  </th> <td>   0.947</td>\n",
       "</tr>\n",
       "<tr>\n",
       "  <th>Skew:</th>          <td> 0.390</td> <th>  Prob(JB):          </th> <td>   0.623</td>\n",
       "</tr>\n",
       "<tr>\n",
       "  <th>Kurtosis:</th>      <td> 2.845</td> <th>  Cond. No.          </th> <td>1.32e+05</td>\n",
       "</tr>\n",
       "</table>"
      ],
      "text/plain": [
       "<class 'statsmodels.iolib.summary.Summary'>\n",
       "\"\"\"\n",
       "                            OLS Regression Results                            \n",
       "==============================================================================\n",
       "Dep. Variable:                      0   R-squared:                       0.428\n",
       "Model:                            OLS   Adj. R-squared:                  0.354\n",
       "Method:                 Least Squares   F-statistic:                     5.803\n",
       "Date:                Thu, 08 Sep 2016   Prob (F-statistic):            0.00132\n",
       "Time:                        18:04:38   Log-Likelihood:                -339.99\n",
       "No. Observations:                  36   AIC:                             690.0\n",
       "Df Residuals:                      31   BIC:                             697.9\n",
       "Df Model:                           4                                         \n",
       "Covariance Type:            nonrobust                                         \n",
       "================================================================================\n",
       "                   coef    std err          t      P>|t|      [95.0% Conf. Int.]\n",
       "--------------------------------------------------------------------------------\n",
       "Intercept     9.539e+04   1.71e+05      0.559      0.580     -2.53e+05  4.43e+05\n",
       "Unemployment -3179.8996   3610.262     -0.881      0.385     -1.05e+04  4183.279\n",
       "Queries         19.0297     11.259      1.690      0.101        -3.933    41.992\n",
       "CPI_energy      38.5060    109.601      0.351      0.728      -185.027   262.039\n",
       "CPI_all       -297.6456    704.837     -0.422      0.676     -1735.169  1139.878\n",
       "==============================================================================\n",
       "Omnibus:                        1.210   Durbin-Watson:                   1.190\n",
       "Prob(Omnibus):                  0.546   Jarque-Bera (JB):                0.947\n",
       "Skew:                           0.390   Prob(JB):                        0.623\n",
       "Kurtosis:                       2.845   Cond. No.                     1.32e+05\n",
       "==============================================================================\n",
       "\n",
       "Warnings:\n",
       "[1] Standard Errors assume that the covariance matrix of the errors is correctly specified.\n",
       "[2] The condition number is large, 1.32e+05. This might indicate that there are\n",
       "strong multicollinearity or other numerical problems.\n",
       "\"\"\""
      ]
     },
     "execution_count": 6,
     "metadata": {},
     "output_type": "execute_result"
    }
   ],
   "source": [
    "model=smf.ols(formula='ElantraSales ~ Unemployment + Queries + CPI_energy + CPI_all',data=train)\n",
    "fitted=model.fit()\n",
    "fitted.summary(0)"
   ]
  },
  {
   "cell_type": "markdown",
   "metadata": {},
   "source": [
    "#### 2.2 How many variables are significant, or have levels that are significant? Use 0.10 as your p-value cutoff ."
   ]
  },
  {
   "cell_type": "code",
   "execution_count": 7,
   "metadata": {
    "collapsed": true
   },
   "outputs": [],
   "source": [
    "#num of  variable with p<0.10 =0"
   ]
  },
  {
   "cell_type": "markdown",
   "metadata": {},
   "source": [
    "#### 2.3-4 What is the coefficient of the Unemployment variable? what is the interpretaion?"
   ]
  },
  {
   "cell_type": "code",
   "execution_count": 8,
   "metadata": {
    "collapsed": false
   },
   "outputs": [
    {
     "data": {
      "text/plain": [
       "3180"
      ]
     },
     "execution_count": 8,
     "metadata": {},
     "output_type": "execute_result"
    }
   ],
   "source": [
    "#-3179.90 : implies that for an increase of 1 in Unemployment ; Sales decrease by\n",
    "3180"
   ]
  },
  {
   "cell_type": "markdown",
   "metadata": {},
   "source": [
    "#### 3.1: Our model R-Squared is relatively low, so we would now like to improve our model. In modeling demand and sales, it is often useful to model seasonality.   refers to the fact that demand is often cyclical/periodic in time. For example, in countries with different seasons, demand for warm outerwear (like jackets and coats) is higher in fall/autumn and winter (due to the colder weather) than in spring and summer. (In contrast, demand for swimsuits and sunscreen is higher in the summer than in the other seasons.) Another example is the \"back to school\" period in North America: demand for stationary (pencils, notebooks and so on) in late July and all of August is higher than the rest of the year due to the start of the school year in September.\n",
    "\n",
    "#### In our problem, since our data includes the month of the year in which the units were sold, it is feasible for us to incorporate monthly seasonality. From a modeling point of view, it may be reasonable that the month plays an effect in how many Elantra units are sold.\n",
    "\n",
    "#### To incorporate the seasonal effect due to the month, build a new linear regression model that predicts monthly Elantra sales using Month as well as Unemployment, CPI_all, CPI_energy and Queries. Do not modify the training and testing data frames before building the model. What is the model R-Squared?"
   ]
  },
  {
   "cell_type": "code",
   "execution_count": 9,
   "metadata": {
    "collapsed": false
   },
   "outputs": [
    {
     "data": {
      "text/html": [
       "<table class=\"simpletable\">\n",
       "<caption>OLS Regression Results</caption>\n",
       "<tr>\n",
       "  <th>Dep. Variable:</th>      <td>ElantraSales</td>   <th>  R-squared:         </th> <td>   0.428</td>\n",
       "</tr>\n",
       "<tr>\n",
       "  <th>Model:</th>                   <td>OLS</td>       <th>  Adj. R-squared:    </th> <td>   0.354</td>\n",
       "</tr>\n",
       "<tr>\n",
       "  <th>Method:</th>             <td>Least Squares</td>  <th>  F-statistic:       </th> <td>   5.803</td>\n",
       "</tr>\n",
       "<tr>\n",
       "  <th>Date:</th>             <td>Thu, 08 Sep 2016</td> <th>  Prob (F-statistic):</th>  <td>0.00132</td>\n",
       "</tr>\n",
       "<tr>\n",
       "  <th>Time:</th>                 <td>18:04:38</td>     <th>  Log-Likelihood:    </th> <td> -339.99</td>\n",
       "</tr>\n",
       "<tr>\n",
       "  <th>No. Observations:</th>      <td>    36</td>      <th>  AIC:               </th> <td>   690.0</td>\n",
       "</tr>\n",
       "<tr>\n",
       "  <th>Df Residuals:</th>          <td>    31</td>      <th>  BIC:               </th> <td>   697.9</td>\n",
       "</tr>\n",
       "<tr>\n",
       "  <th>Df Model:</th>              <td>     4</td>      <th>                     </th>     <td> </td>   \n",
       "</tr>\n",
       "<tr>\n",
       "  <th>Covariance Type:</th>      <td>nonrobust</td>    <th>                     </th>     <td> </td>   \n",
       "</tr>\n",
       "</table>\n",
       "<table class=\"simpletable\">\n",
       "<tr>\n",
       "        <td></td>          <th>coef</th>     <th>std err</th>      <th>t</th>      <th>P>|t|</th> <th>[95.0% Conf. Int.]</th> \n",
       "</tr>\n",
       "<tr>\n",
       "  <th>Intercept</th>    <td> 9.539e+04</td> <td> 1.71e+05</td> <td>    0.559</td> <td> 0.580</td> <td>-2.53e+05  4.43e+05</td>\n",
       "</tr>\n",
       "<tr>\n",
       "  <th>Unemployment</th> <td>-3179.8996</td> <td> 3610.262</td> <td>   -0.881</td> <td> 0.385</td> <td>-1.05e+04  4183.279</td>\n",
       "</tr>\n",
       "<tr>\n",
       "  <th>Queries</th>      <td>   19.0297</td> <td>   11.259</td> <td>    1.690</td> <td> 0.101</td> <td>   -3.933    41.992</td>\n",
       "</tr>\n",
       "<tr>\n",
       "  <th>CPI_energy</th>   <td>   38.5060</td> <td>  109.601</td> <td>    0.351</td> <td> 0.728</td> <td> -185.027   262.039</td>\n",
       "</tr>\n",
       "<tr>\n",
       "  <th>CPI_all</th>      <td> -297.6456</td> <td>  704.837</td> <td>   -0.422</td> <td> 0.676</td> <td>-1735.169  1139.878</td>\n",
       "</tr>\n",
       "</table>\n",
       "<table class=\"simpletable\">\n",
       "<tr>\n",
       "  <th>Omnibus:</th>       <td> 1.210</td> <th>  Durbin-Watson:     </th> <td>   1.190</td>\n",
       "</tr>\n",
       "<tr>\n",
       "  <th>Prob(Omnibus):</th> <td> 0.546</td> <th>  Jarque-Bera (JB):  </th> <td>   0.947</td>\n",
       "</tr>\n",
       "<tr>\n",
       "  <th>Skew:</th>          <td> 0.390</td> <th>  Prob(JB):          </th> <td>   0.623</td>\n",
       "</tr>\n",
       "<tr>\n",
       "  <th>Kurtosis:</th>      <td> 2.845</td> <th>  Cond. No.          </th> <td>1.32e+05</td>\n",
       "</tr>\n",
       "</table>"
      ],
      "text/plain": [
       "<class 'statsmodels.iolib.summary.Summary'>\n",
       "\"\"\"\n",
       "                            OLS Regression Results                            \n",
       "==============================================================================\n",
       "Dep. Variable:           ElantraSales   R-squared:                       0.428\n",
       "Model:                            OLS   Adj. R-squared:                  0.354\n",
       "Method:                 Least Squares   F-statistic:                     5.803\n",
       "Date:                Thu, 08 Sep 2016   Prob (F-statistic):            0.00132\n",
       "Time:                        18:04:38   Log-Likelihood:                -339.99\n",
       "No. Observations:                  36   AIC:                             690.0\n",
       "Df Residuals:                      31   BIC:                             697.9\n",
       "Df Model:                           4                                         \n",
       "Covariance Type:            nonrobust                                         \n",
       "================================================================================\n",
       "                   coef    std err          t      P>|t|      [95.0% Conf. Int.]\n",
       "--------------------------------------------------------------------------------\n",
       "Intercept     9.539e+04   1.71e+05      0.559      0.580     -2.53e+05  4.43e+05\n",
       "Unemployment -3179.8996   3610.262     -0.881      0.385     -1.05e+04  4183.279\n",
       "Queries         19.0297     11.259      1.690      0.101        -3.933    41.992\n",
       "CPI_energy      38.5060    109.601      0.351      0.728      -185.027   262.039\n",
       "CPI_all       -297.6456    704.837     -0.422      0.676     -1735.169  1139.878\n",
       "==============================================================================\n",
       "Omnibus:                        1.210   Durbin-Watson:                   1.190\n",
       "Prob(Omnibus):                  0.546   Jarque-Bera (JB):                0.947\n",
       "Skew:                           0.390   Prob(JB):                        0.623\n",
       "Kurtosis:                       2.845   Cond. No.                     1.32e+05\n",
       "==============================================================================\n",
       "\n",
       "Warnings:\n",
       "[1] Standard Errors assume that the covariance matrix of the errors is correctly specified.\n",
       "[2] The condition number is large, 1.32e+05. This might indicate that there are\n",
       "strong multicollinearity or other numerical problems.\n",
       "\"\"\""
      ]
     },
     "execution_count": 9,
     "metadata": {},
     "output_type": "execute_result"
    }
   ],
   "source": [
    "model2=smf.ols(formula='ElantraSales ~ Unemployment + Queries + CPI_energy + CPI_all + Month',data=train)\n",
    "fitted2=model2.fit()\n",
    "fitted.summary()"
   ]
  },
  {
   "cell_type": "markdown",
   "metadata": {},
   "source": [
    "#### 3.2 What the effect of adding Month?"
   ]
  },
  {
   "cell_type": "raw",
   "metadata": {},
   "source": [
    "The R-sqaured always improves if you add more variables.But the adjusted R-sqared went down implying its a worse model\n",
    "Furthermore, NONE of the variable have P < 0.10 implying they are not significant"
   ]
  },
  {
   "cell_type": "markdown",
   "metadata": {},
   "source": [
    "#### 3.3 In the new model, given two monthly periods that are otherwise identical in Unemployment, CPI_all, CPI_energy and Queries, what is the absolute difference in predicted Elantra sales given that one period is in January and one is in March?"
   ]
  },
  {
   "cell_type": "code",
   "execution_count": 10,
   "metadata": {
    "collapsed": false
   },
   "outputs": [
    {
     "data": {
      "text/plain": [
       "221.37060000000002"
      ]
     },
     "execution_count": 10,
     "metadata": {},
     "output_type": "execute_result"
    }
   ],
   "source": [
    "diff=110.6853*3 -110.6853*1\n",
    "diff"
   ]
  },
  {
   "cell_type": "markdown",
   "metadata": {},
   "source": [
    "#### In the new model, given two monthly periods that are otherwise identical in Unemployment, CPI_all, CPI_energy and Queries, what is the absolute difference in predicted Elantra sales given that one period is in January and one is in May?"
   ]
  },
  {
   "cell_type": "code",
   "execution_count": 11,
   "metadata": {
    "collapsed": false
   },
   "outputs": [
    {
     "data": {
      "text/plain": [
       "442.74120000000005"
      ]
     },
     "execution_count": 11,
     "metadata": {},
     "output_type": "execute_result"
    }
   ],
   "source": [
    "diff=110.6853*5 -110.6853*1\n",
    "diff"
   ]
  },
  {
   "cell_type": "markdown",
   "metadata": {},
   "source": [
    "#### 3.4 You may be experiencing an uneasy feeling that there is something not quite right in how we have modeled the effect of the calendar month on the monthly sales of Elantras. If so, you are right. In particular, we added Month as a variable, but Month is an ordinary numeric variable. In fact, we must convert Month to a factor variable before adding it to the model. why?\n"
   ]
  },
  {
   "cell_type": "markdown",
   "metadata": {},
   "source": [
    " By modeling Month as a factor variable, the effect of each calendar month is not restricted to be linear in the numerical coding of the month. \n",
    " There are several possible approaches to encode categorical values, and statsmodels has built-in support for many of them. In general these work by splitting a categorical variable into many different binary variables. The simplest way to encode categoricals is “dummy-encoding” which encodes a k-level categorical variable into k-1 binary variables.\n",
    "\n",
    "In statsmodels this is done easily using the C() function.This is equivalent to R's as.factor()"
   ]
  },
  {
   "cell_type": "markdown",
   "metadata": {},
   "source": [
    "#### 4.1 Re-run the regression with the Month variable modeled as a factor variable "
   ]
  },
  {
   "cell_type": "code",
   "execution_count": 12,
   "metadata": {
    "collapsed": false
   },
   "outputs": [
    {
     "data": {
      "text/html": [
       "<table class=\"simpletable\">\n",
       "<caption>OLS Regression Results</caption>\n",
       "<tr>\n",
       "  <th>Dep. Variable:</th>      <td>ElantraSales</td>   <th>  R-squared:         </th> <td>   0.819</td>\n",
       "</tr>\n",
       "<tr>\n",
       "  <th>Model:</th>                   <td>OLS</td>       <th>  Adj. R-squared:    </th> <td>   0.684</td>\n",
       "</tr>\n",
       "<tr>\n",
       "  <th>Method:</th>             <td>Least Squares</td>  <th>  F-statistic:       </th> <td>   6.044</td>\n",
       "</tr>\n",
       "<tr>\n",
       "  <th>Date:</th>             <td>Thu, 08 Sep 2016</td> <th>  Prob (F-statistic):</th> <td>0.000147</td>\n",
       "</tr>\n",
       "<tr>\n",
       "  <th>Time:</th>                 <td>18:04:39</td>     <th>  Log-Likelihood:    </th> <td> -319.26</td>\n",
       "</tr>\n",
       "<tr>\n",
       "  <th>No. Observations:</th>      <td>    36</td>      <th>  AIC:               </th> <td>   670.5</td>\n",
       "</tr>\n",
       "<tr>\n",
       "  <th>Df Residuals:</th>          <td>    20</td>      <th>  BIC:               </th> <td>   695.9</td>\n",
       "</tr>\n",
       "<tr>\n",
       "  <th>Df Model:</th>              <td>    15</td>      <th>                     </th>     <td> </td>   \n",
       "</tr>\n",
       "<tr>\n",
       "  <th>Covariance Type:</th>      <td>nonrobust</td>    <th>                     </th>     <td> </td>   \n",
       "</tr>\n",
       "</table>\n",
       "<table class=\"simpletable\">\n",
       "<tr>\n",
       "         <td></td>           <th>coef</th>     <th>std err</th>      <th>t</th>      <th>P>|t|</th> <th>[95.0% Conf. Int.]</th> \n",
       "</tr>\n",
       "<tr>\n",
       "  <th>Intercept</th>      <td> 3.125e+05</td> <td> 1.44e+05</td> <td>    2.169</td> <td> 0.042</td> <td>  1.2e+04  6.13e+05</td>\n",
       "</tr>\n",
       "<tr>\n",
       "  <th>C(Month)[T.2]</th>  <td> 2254.9978</td> <td> 1943.249</td> <td>    1.160</td> <td> 0.260</td> <td>-1798.548  6308.543</td>\n",
       "</tr>\n",
       "<tr>\n",
       "  <th>C(Month)[T.3]</th>  <td> 6696.5568</td> <td> 1991.635</td> <td>    3.362</td> <td> 0.003</td> <td> 2542.080  1.09e+04</td>\n",
       "</tr>\n",
       "<tr>\n",
       "  <th>C(Month)[T.4]</th>  <td> 7556.6074</td> <td> 2038.022</td> <td>    3.708</td> <td> 0.001</td> <td> 3305.368  1.18e+04</td>\n",
       "</tr>\n",
       "<tr>\n",
       "  <th>C(Month)[T.5]</th>  <td> 7420.2490</td> <td> 1950.139</td> <td>    3.805</td> <td> 0.001</td> <td> 3352.331  1.15e+04</td>\n",
       "</tr>\n",
       "<tr>\n",
       "  <th>C(Month)[T.6]</th>  <td> 9215.8326</td> <td> 1995.230</td> <td>    4.619</td> <td> 0.000</td> <td> 5053.856  1.34e+04</td>\n",
       "</tr>\n",
       "<tr>\n",
       "  <th>C(Month)[T.7]</th>  <td> 9929.4644</td> <td> 2238.800</td> <td>    4.435</td> <td> 0.000</td> <td> 5259.409  1.46e+04</td>\n",
       "</tr>\n",
       "<tr>\n",
       "  <th>C(Month)[T.8]</th>  <td> 7939.4474</td> <td> 2064.629</td> <td>    3.845</td> <td> 0.001</td> <td> 3632.706  1.22e+04</td>\n",
       "</tr>\n",
       "<tr>\n",
       "  <th>C(Month)[T.9]</th>  <td> 5013.2866</td> <td> 2010.745</td> <td>    2.493</td> <td> 0.022</td> <td>  818.946  9207.627</td>\n",
       "</tr>\n",
       "<tr>\n",
       "  <th>C(Month)[T.10]</th> <td> 2500.1838</td> <td> 2084.057</td> <td>    1.200</td> <td> 0.244</td> <td>-1847.083  6847.451</td>\n",
       "</tr>\n",
       "<tr>\n",
       "  <th>C(Month)[T.11]</th> <td> 3238.9315</td> <td> 2397.231</td> <td>    1.351</td> <td> 0.192</td> <td>-1761.605  8239.468</td>\n",
       "</tr>\n",
       "<tr>\n",
       "  <th>C(Month)[T.12]</th> <td> 5293.9107</td> <td> 2228.310</td> <td>    2.376</td> <td> 0.028</td> <td>  645.738  9942.083</td>\n",
       "</tr>\n",
       "<tr>\n",
       "  <th>Unemployment</th>   <td>-7739.3814</td> <td> 2968.747</td> <td>   -2.607</td> <td> 0.017</td> <td>-1.39e+04 -1546.683</td>\n",
       "</tr>\n",
       "<tr>\n",
       "  <th>Queries</th>        <td>   -4.7636</td> <td>   12.938</td> <td>   -0.368</td> <td> 0.717</td> <td>  -31.752    22.224</td>\n",
       "</tr>\n",
       "<tr>\n",
       "  <th>CPI_energy</th>     <td>  288.6314</td> <td>   97.974</td> <td>    2.946</td> <td> 0.008</td> <td>   84.262   493.001</td>\n",
       "</tr>\n",
       "<tr>\n",
       "  <th>CPI_all</th>        <td>-1343.3068</td> <td>  592.919</td> <td>   -2.266</td> <td> 0.035</td> <td>-2580.114  -106.500</td>\n",
       "</tr>\n",
       "</table>\n",
       "<table class=\"simpletable\">\n",
       "<tr>\n",
       "  <th>Omnibus:</th>       <td> 0.047</td> <th>  Durbin-Watson:     </th> <td>   2.795</td>\n",
       "</tr>\n",
       "<tr>\n",
       "  <th>Prob(Omnibus):</th> <td> 0.977</td> <th>  Jarque-Bera (JB):  </th> <td>   0.246</td>\n",
       "</tr>\n",
       "<tr>\n",
       "  <th>Skew:</th>          <td>-0.032</td> <th>  Prob(JB):          </th> <td>   0.884</td>\n",
       "</tr>\n",
       "<tr>\n",
       "  <th>Kurtosis:</th>      <td> 2.600</td> <th>  Cond. No.          </th> <td>1.59e+05</td>\n",
       "</tr>\n",
       "</table>"
      ],
      "text/plain": [
       "<class 'statsmodels.iolib.summary.Summary'>\n",
       "\"\"\"\n",
       "                            OLS Regression Results                            \n",
       "==============================================================================\n",
       "Dep. Variable:           ElantraSales   R-squared:                       0.819\n",
       "Model:                            OLS   Adj. R-squared:                  0.684\n",
       "Method:                 Least Squares   F-statistic:                     6.044\n",
       "Date:                Thu, 08 Sep 2016   Prob (F-statistic):           0.000147\n",
       "Time:                        18:04:39   Log-Likelihood:                -319.26\n",
       "No. Observations:                  36   AIC:                             670.5\n",
       "Df Residuals:                      20   BIC:                             695.9\n",
       "Df Model:                          15                                         \n",
       "Covariance Type:            nonrobust                                         \n",
       "==================================================================================\n",
       "                     coef    std err          t      P>|t|      [95.0% Conf. Int.]\n",
       "----------------------------------------------------------------------------------\n",
       "Intercept       3.125e+05   1.44e+05      2.169      0.042       1.2e+04  6.13e+05\n",
       "C(Month)[T.2]   2254.9978   1943.249      1.160      0.260     -1798.548  6308.543\n",
       "C(Month)[T.3]   6696.5568   1991.635      3.362      0.003      2542.080  1.09e+04\n",
       "C(Month)[T.4]   7556.6074   2038.022      3.708      0.001      3305.368  1.18e+04\n",
       "C(Month)[T.5]   7420.2490   1950.139      3.805      0.001      3352.331  1.15e+04\n",
       "C(Month)[T.6]   9215.8326   1995.230      4.619      0.000      5053.856  1.34e+04\n",
       "C(Month)[T.7]   9929.4644   2238.800      4.435      0.000      5259.409  1.46e+04\n",
       "C(Month)[T.8]   7939.4474   2064.629      3.845      0.001      3632.706  1.22e+04\n",
       "C(Month)[T.9]   5013.2866   2010.745      2.493      0.022       818.946  9207.627\n",
       "C(Month)[T.10]  2500.1838   2084.057      1.200      0.244     -1847.083  6847.451\n",
       "C(Month)[T.11]  3238.9315   2397.231      1.351      0.192     -1761.605  8239.468\n",
       "C(Month)[T.12]  5293.9107   2228.310      2.376      0.028       645.738  9942.083\n",
       "Unemployment   -7739.3814   2968.747     -2.607      0.017     -1.39e+04 -1546.683\n",
       "Queries           -4.7636     12.938     -0.368      0.717       -31.752    22.224\n",
       "CPI_energy       288.6314     97.974      2.946      0.008        84.262   493.001\n",
       "CPI_all        -1343.3068    592.919     -2.266      0.035     -2580.114  -106.500\n",
       "==============================================================================\n",
       "Omnibus:                        0.047   Durbin-Watson:                   2.795\n",
       "Prob(Omnibus):                  0.977   Jarque-Bera (JB):                0.246\n",
       "Skew:                          -0.032   Prob(JB):                        0.884\n",
       "Kurtosis:                       2.600   Cond. No.                     1.59e+05\n",
       "==============================================================================\n",
       "\n",
       "Warnings:\n",
       "[1] Standard Errors assume that the covariance matrix of the errors is correctly specified.\n",
       "[2] The condition number is large, 1.59e+05. This might indicate that there are\n",
       "strong multicollinearity or other numerical problems.\n",
       "\"\"\""
      ]
     },
     "execution_count": 12,
     "metadata": {},
     "output_type": "execute_result"
    }
   ],
   "source": [
    "model3=smf.ols(formula='ElantraSales ~ Unemployment +Queries + CPI_energy + CPI_all + C(Month)',data=train)\n",
    "fitted3=model3.fit()\n",
    "fitted3.summary()"
   ]
  },
  {
   "cell_type": "markdown",
   "metadata": {},
   "source": [
    "#### 4.2 Which variables are significant, or have levels that are significant? Use 0.10 as your p-value cutoff."
   ]
  },
  {
   "cell_type": "markdown",
   "metadata": {},
   "source": [
    "#### Note: unlike R, we cannot look for the number of stars/ periods, but actually need to see for which variables the p value (P>|t|) <0.1 \n",
    "\n",
    "* CPI_energy, p-value:0.008\n",
    "* CPI_all, p-value:0.035\n",
    "* Unemployment, p-value:0.017\n",
    "* Months( as factor):March, April, May , June, July, Aug ,Sep,Dec\n"
   ]
  },
  {
   "cell_type": "markdown",
   "metadata": {},
   "source": [
    "#### 5.1 MultiCollinearity\n",
    "Another peculiar observation about the regression is that the sign of the Queries variable has changed. In particular, when we naively modeled Month as a numeric variable, Queries had a positive coefficient. Now, Queries has a negative coefficient. Furthermore, CPI_energy has a positive coefficient -- as the overall price of energy increases, we expect Elantra sales to increase, which seems counter-intuitive (if the price of energy increases, we'd expect consumers to have less funds to purchase automobiles, leading to lower Elantra sales).\n",
    "\n",
    "As we have seen before, changes in coefficient signs and signs that are counter to our intuition may be due to a multicolinearity problem. To check, compute the correlations of the variables in the training set.\n",
    "\n",
    "#### Which of the following variables is CPI_energy highly correlated with? Include only variables where the absolute value of the correlation exceeds 0.6. For the purpose of this question, treat Month as a numeric variable, not a factor variable.\n"
   ]
  },
  {
   "cell_type": "code",
   "execution_count": 13,
   "metadata": {
    "collapsed": false
   },
   "outputs": [
    {
     "data": {
      "text/plain": [
       "0.91322590900823353"
      ]
     },
     "execution_count": 13,
     "metadata": {},
     "output_type": "execute_result"
    }
   ],
   "source": [
    "train.corr()\n",
    "##For correlations between individual columns:\n",
    "train.CPI_energy.corr(train.CPI_all)"
   ]
  },
  {
   "cell_type": "markdown",
   "metadata": {},
   "source": [
    "CPI_enegy is highly correlated with:\n",
    "* Year\n",
    "* Unemployment \n",
    "* Queries\n",
    "* CPI_all"
   ]
  },
  {
   "cell_type": "markdown",
   "metadata": {},
   "source": [
    "#### 5.2 CORRELATIONS  \n",
    "####Which of the following variables is Queries highly correlated with? Again, compute the correlations on the training set. Include only variables where the absolute value of the correlation exceeds 0.6 and treat Month as a numeric variable, not a factor variable."
   ]
  },
  {
   "cell_type": "markdown",
   "metadata": {},
   "source": [
    "From above result Queries is highly corre;lated with:\n",
    "* Year\n",
    "* ElantraSales\n",
    "* Unemployment\n",
    "* CPI_energy\n",
    "* CPI_all"
   ]
  },
  {
   "cell_type": "markdown",
   "metadata": {},
   "source": [
    "#### 6.1 A Reduced Model\n",
    "Simplify our model (the model using the factor version of the Month variable). We will do this by iteratively removing variables, one at a time. Remove the variable with the highest p-value (i.e., the least statistically significant variable) from the model. Repeat this until there are no variables that are insignificant or variables for which all of the factor levels are insignificant. Use a threshold of 0.10 to determine whether a variable is significant.\n",
    "Looking at the summary output from model3,re-running the model with the Queries variable removed (p-value: 0.717)"
   ]
  },
  {
   "cell_type": "code",
   "execution_count": 14,
   "metadata": {
    "collapsed": false
   },
   "outputs": [
    {
     "data": {
      "text/html": [
       "<table class=\"simpletable\">\n",
       "<caption>OLS Regression Results</caption>\n",
       "<tr>\n",
       "  <th>Dep. Variable:</th>      <td>ElantraSales</td>   <th>  R-squared:         </th> <td>   0.818</td>\n",
       "</tr>\n",
       "<tr>\n",
       "  <th>Model:</th>                   <td>OLS</td>       <th>  Adj. R-squared:    </th> <td>   0.697</td>\n",
       "</tr>\n",
       "<tr>\n",
       "  <th>Method:</th>             <td>Least Squares</td>  <th>  F-statistic:       </th> <td>   6.744</td>\n",
       "</tr>\n",
       "<tr>\n",
       "  <th>Date:</th>             <td>Thu, 08 Sep 2016</td> <th>  Prob (F-statistic):</th> <td>5.73e-05</td>\n",
       "</tr>\n",
       "<tr>\n",
       "  <th>Time:</th>                 <td>18:04:39</td>     <th>  Log-Likelihood:    </th> <td> -319.38</td>\n",
       "</tr>\n",
       "<tr>\n",
       "  <th>No. Observations:</th>      <td>    36</td>      <th>  AIC:               </th> <td>   668.8</td>\n",
       "</tr>\n",
       "<tr>\n",
       "  <th>Df Residuals:</th>          <td>    21</td>      <th>  BIC:               </th> <td>   692.5</td>\n",
       "</tr>\n",
       "<tr>\n",
       "  <th>Df Model:</th>              <td>    14</td>      <th>                     </th>     <td> </td>   \n",
       "</tr>\n",
       "<tr>\n",
       "  <th>Covariance Type:</th>      <td>nonrobust</td>    <th>                     </th>     <td> </td>   \n",
       "</tr>\n",
       "</table>\n",
       "<table class=\"simpletable\">\n",
       "<tr>\n",
       "         <td></td>           <th>coef</th>     <th>std err</th>      <th>t</th>      <th>P>|t|</th> <th>[95.0% Conf. Int.]</th> \n",
       "</tr>\n",
       "<tr>\n",
       "  <th>Intercept</th>      <td> 3.257e+05</td> <td> 1.37e+05</td> <td>    2.384</td> <td> 0.027</td> <td> 4.16e+04   6.1e+05</td>\n",
       "</tr>\n",
       "<tr>\n",
       "  <th>C(Month)[T.2]</th>  <td> 2410.9137</td> <td> 1857.103</td> <td>    1.298</td> <td> 0.208</td> <td>-1451.144  6272.972</td>\n",
       "</tr>\n",
       "<tr>\n",
       "  <th>C(Month)[T.3]</th>  <td> 6880.0868</td> <td> 1888.145</td> <td>    3.644</td> <td> 0.002</td> <td> 2953.474  1.08e+04</td>\n",
       "</tr>\n",
       "<tr>\n",
       "  <th>C(Month)[T.4]</th>  <td> 7697.3580</td> <td> 1960.214</td> <td>    3.927</td> <td> 0.001</td> <td> 3620.869  1.18e+04</td>\n",
       "</tr>\n",
       "<tr>\n",
       "  <th>C(Month)[T.5]</th>  <td> 7444.6447</td> <td> 1908.477</td> <td>    3.901</td> <td> 0.001</td> <td> 3475.749  1.14e+04</td>\n",
       "</tr>\n",
       "<tr>\n",
       "  <th>C(Month)[T.6]</th>  <td> 9223.1343</td> <td> 1953.636</td> <td>    4.721</td> <td> 0.000</td> <td> 5160.325  1.33e+04</td>\n",
       "</tr>\n",
       "<tr>\n",
       "  <th>C(Month)[T.7]</th>  <td> 9602.7221</td> <td> 2012.661</td> <td>    4.771</td> <td> 0.000</td> <td> 5417.165  1.38e+04</td>\n",
       "</tr>\n",
       "<tr>\n",
       "  <th>C(Month)[T.8]</th>  <td> 7919.4990</td> <td> 2020.993</td> <td>    3.919</td> <td> 0.001</td> <td> 3716.614  1.21e+04</td>\n",
       "</tr>\n",
       "<tr>\n",
       "  <th>C(Month)[T.9]</th>  <td> 5074.2910</td> <td> 1962.230</td> <td>    2.586</td> <td> 0.017</td> <td>  993.611  9154.971</td>\n",
       "</tr>\n",
       "<tr>\n",
       "  <th>C(Month)[T.10]</th> <td> 2724.2422</td> <td> 1951.778</td> <td>    1.396</td> <td> 0.177</td> <td>-1334.702  6783.186</td>\n",
       "</tr>\n",
       "<tr>\n",
       "  <th>C(Month)[T.11]</th> <td> 3665.0765</td> <td> 2055.659</td> <td>    1.783</td> <td> 0.089</td> <td> -609.900  7940.053</td>\n",
       "</tr>\n",
       "<tr>\n",
       "  <th>C(Month)[T.12]</th> <td> 5643.1903</td> <td> 1974.363</td> <td>    2.858</td> <td> 0.009</td> <td> 1537.278  9749.103</td>\n",
       "</tr>\n",
       "<tr>\n",
       "  <th>Unemployment</th>   <td>-7971.3395</td> <td> 2840.795</td> <td>   -2.806</td> <td> 0.011</td> <td>-1.39e+04 -2063.584</td>\n",
       "</tr>\n",
       "<tr>\n",
       "  <th>CPI_energy</th>     <td>  268.0299</td> <td>   78.752</td> <td>    3.403</td> <td> 0.003</td> <td>  104.257   431.803</td>\n",
       "</tr>\n",
       "<tr>\n",
       "  <th>CPI_all</th>        <td>-1377.5816</td> <td>  573.387</td> <td>   -2.403</td> <td> 0.026</td> <td>-2570.005  -185.158</td>\n",
       "</tr>\n",
       "</table>\n",
       "<table class=\"simpletable\">\n",
       "<tr>\n",
       "  <th>Omnibus:</th>       <td> 0.000</td> <th>  Durbin-Watson:     </th> <td>   2.771</td>\n",
       "</tr>\n",
       "<tr>\n",
       "  <th>Prob(Omnibus):</th> <td> 1.000</td> <th>  Jarque-Bera (JB):  </th> <td>   0.137</td>\n",
       "</tr>\n",
       "<tr>\n",
       "  <th>Skew:</th>          <td>-0.001</td> <th>  Prob(JB):          </th> <td>   0.934</td>\n",
       "</tr>\n",
       "<tr>\n",
       "  <th>Kurtosis:</th>      <td> 2.698</td> <th>  Cond. No.          </th> <td>1.18e+05</td>\n",
       "</tr>\n",
       "</table>"
      ],
      "text/plain": [
       "<class 'statsmodels.iolib.summary.Summary'>\n",
       "\"\"\"\n",
       "                            OLS Regression Results                            \n",
       "==============================================================================\n",
       "Dep. Variable:           ElantraSales   R-squared:                       0.818\n",
       "Model:                            OLS   Adj. R-squared:                  0.697\n",
       "Method:                 Least Squares   F-statistic:                     6.744\n",
       "Date:                Thu, 08 Sep 2016   Prob (F-statistic):           5.73e-05\n",
       "Time:                        18:04:39   Log-Likelihood:                -319.38\n",
       "No. Observations:                  36   AIC:                             668.8\n",
       "Df Residuals:                      21   BIC:                             692.5\n",
       "Df Model:                          14                                         \n",
       "Covariance Type:            nonrobust                                         \n",
       "==================================================================================\n",
       "                     coef    std err          t      P>|t|      [95.0% Conf. Int.]\n",
       "----------------------------------------------------------------------------------\n",
       "Intercept       3.257e+05   1.37e+05      2.384      0.027      4.16e+04   6.1e+05\n",
       "C(Month)[T.2]   2410.9137   1857.103      1.298      0.208     -1451.144  6272.972\n",
       "C(Month)[T.3]   6880.0868   1888.145      3.644      0.002      2953.474  1.08e+04\n",
       "C(Month)[T.4]   7697.3580   1960.214      3.927      0.001      3620.869  1.18e+04\n",
       "C(Month)[T.5]   7444.6447   1908.477      3.901      0.001      3475.749  1.14e+04\n",
       "C(Month)[T.6]   9223.1343   1953.636      4.721      0.000      5160.325  1.33e+04\n",
       "C(Month)[T.7]   9602.7221   2012.661      4.771      0.000      5417.165  1.38e+04\n",
       "C(Month)[T.8]   7919.4990   2020.993      3.919      0.001      3716.614  1.21e+04\n",
       "C(Month)[T.9]   5074.2910   1962.230      2.586      0.017       993.611  9154.971\n",
       "C(Month)[T.10]  2724.2422   1951.778      1.396      0.177     -1334.702  6783.186\n",
       "C(Month)[T.11]  3665.0765   2055.659      1.783      0.089      -609.900  7940.053\n",
       "C(Month)[T.12]  5643.1903   1974.363      2.858      0.009      1537.278  9749.103\n",
       "Unemployment   -7971.3395   2840.795     -2.806      0.011     -1.39e+04 -2063.584\n",
       "CPI_energy       268.0299     78.752      3.403      0.003       104.257   431.803\n",
       "CPI_all        -1377.5816    573.387     -2.403      0.026     -2570.005  -185.158\n",
       "==============================================================================\n",
       "Omnibus:                        0.000   Durbin-Watson:                   2.771\n",
       "Prob(Omnibus):                  1.000   Jarque-Bera (JB):                0.137\n",
       "Skew:                          -0.001   Prob(JB):                        0.934\n",
       "Kurtosis:                       2.698   Cond. No.                     1.18e+05\n",
       "==============================================================================\n",
       "\n",
       "Warnings:\n",
       "[1] Standard Errors assume that the covariance matrix of the errors is correctly specified.\n",
       "[2] The condition number is large, 1.18e+05. This might indicate that there are\n",
       "strong multicollinearity or other numerical problems.\n",
       "\"\"\""
      ]
     },
     "execution_count": 14,
     "metadata": {},
     "output_type": "execute_result"
    }
   ],
   "source": [
    "model3=smf.ols(formula='ElantraSales~ C(Month)+Unemployment+CPI_energy+CPI_all',data=train)\n",
    "fitted3=model3.fit()\n",
    "fitted3.summary()"
   ]
  },
  {
   "cell_type": "raw",
   "metadata": {},
   "source": [
    "Adjusted R-squared increased -which is a good sign. All the other variables have p-value <0.1.So no more variables to remove. Note that Month has a few values that are insignificant, but we don't want to remove it because many values are very significant, and we cannot separate them."
   ]
  },
  {
   "cell_type": "markdown",
   "metadata": {},
   "source": [
    "#### Using the model from Problem 6.1, make predictions on the test set. What is the sum of squared errors of the model on the test set?"
   ]
  },
  {
   "cell_type": "code",
   "execution_count": 15,
   "metadata": {
    "collapsed": false
   },
   "outputs": [
    {
     "name": "stderr",
     "output_type": "stream",
     "text": [
      "/Users/priyadesai/anaconda/lib/python2.7/site-packages/ipykernel/__main__.py:1: SettingWithCopyWarning: \n",
      "A value is trying to be set on a copy of a slice from a DataFrame.\n",
      "Try using .loc[row_indexer,col_indexer] = value instead\n",
      "\n",
      "See the caveats in the documentation: http://pandas.pydata.org/pandas-docs/stable/indexing.html#indexing-view-versus-copy\n",
      "  if __name__ == '__main__':\n"
     ]
    },
    {
     "data": {
      "text/plain": [
       "190757747.4443853"
      ]
     },
     "execution_count": 15,
     "metadata": {},
     "output_type": "execute_result"
    }
   ],
   "source": [
    "test['Predicted_Sales']=fitted3.predict(test)\n",
    "SSE=((test.ElantraSales - test.Predicted_Sales)**2).sum()\n",
    "SSE"
   ]
  },
  {
   "cell_type": "markdown",
   "metadata": {},
   "source": [
    "SSE= 190757747.44431427"
   ]
  },
  {
   "cell_type": "markdown",
   "metadata": {},
   "source": [
    "#### 6.3 - Comparing to a Baseline\n",
    "What would the baseline method predict for all observations in the test set? Remember that the baseline method we use predicts the average outcome of all observations in the training set."
   ]
  },
  {
   "cell_type": "code",
   "execution_count": 16,
   "metadata": {
    "collapsed": false
   },
   "outputs": [
    {
     "data": {
      "text/plain": [
       "14462.25"
      ]
     },
     "execution_count": 16,
     "metadata": {},
     "output_type": "execute_result"
    }
   ],
   "source": [
    "avg_Sales=train.ElantraSales.mean()\n",
    "avg_Sales"
   ]
  },
  {
   "cell_type": "markdown",
   "metadata": {},
   "source": [
    "Baseline method would predict average sales of $14462.25."
   ]
  },
  {
   "cell_type": "markdown",
   "metadata": {},
   "source": [
    "#### 6.4 - Test Set R-squared\n",
    "What is the test set R-Squared?"
   ]
  },
  {
   "cell_type": "code",
   "execution_count": 17,
   "metadata": {
    "collapsed": false
   },
   "outputs": [
    {
     "data": {
      "text/plain": [
       "0.7280232276290254"
      ]
     },
     "execution_count": 17,
     "metadata": {},
     "output_type": "execute_result"
    }
   ],
   "source": [
    "#R-squared= 1-SSE/SST\n",
    "SST= ((test.ElantraSales -  train.ElantraSales.mean())**2).sum()\n",
    "R_sq_test= 1- float(SSE/SST)\n",
    "R_sq_test"
   ]
  },
  {
   "cell_type": "markdown",
   "metadata": {},
   "source": [
    "#### 6.5 -Absolute Errors\n",
    "What is the largest absolute error that we make in our test set predictions?"
   ]
  },
  {
   "cell_type": "code",
   "execution_count": 18,
   "metadata": {
    "collapsed": false
   },
   "outputs": [
    {
     "data": {
      "text/plain": [
       "7491.4876927119039"
      ]
     },
     "execution_count": 18,
     "metadata": {},
     "output_type": "execute_result"
    }
   ],
   "source": [
    "max(abs(test.ElantraSales - test.Predicted_Sales))"
   ]
  },
  {
   "cell_type": "code",
   "execution_count": 19,
   "metadata": {
    "collapsed": false
   },
   "outputs": [
    {
     "data": {
      "text/html": [
       "<div>\n",
       "<table border=\"1\" class=\"dataframe\">\n",
       "  <thead>\n",
       "    <tr style=\"text-align: right;\">\n",
       "      <th></th>\n",
       "      <th>Month</th>\n",
       "      <th>Year</th>\n",
       "      <th>ElantraSales</th>\n",
       "      <th>Unemployment</th>\n",
       "      <th>Queries</th>\n",
       "      <th>CPI_energy</th>\n",
       "      <th>CPI_all</th>\n",
       "      <th>Predicted_Sales</th>\n",
       "    </tr>\n",
       "  </thead>\n",
       "  <tbody>\n",
       "    <tr>\n",
       "      <th>13</th>\n",
       "      <td>3</td>\n",
       "      <td>2013</td>\n",
       "      <td>26153</td>\n",
       "      <td>7.5</td>\n",
       "      <td>313</td>\n",
       "      <td>244.598</td>\n",
       "      <td>232.075</td>\n",
       "      <td>18661.512307</td>\n",
       "    </tr>\n",
       "  </tbody>\n",
       "</table>\n",
       "</div>"
      ],
      "text/plain": [
       "    Month  Year  ElantraSales  Unemployment  Queries  CPI_energy  CPI_all  \\\n",
       "13      3  2013         26153           7.5      313     244.598  232.075   \n",
       "\n",
       "    Predicted_Sales  \n",
       "13     18661.512307  "
      ]
     },
     "execution_count": 19,
     "metadata": {},
     "output_type": "execute_result"
    }
   ],
   "source": [
    "test[abs(test.ElantraSales - test.Predicted_Sales)>7491.0]"
   ]
  }
 ],
 "metadata": {
  "kernelspec": {
   "display_name": "Python 2",
   "language": "python",
   "name": "python2"
  },
  "language_info": {
   "codemirror_mode": {
    "name": "ipython",
    "version": 2
   },
   "file_extension": ".py",
   "mimetype": "text/x-python",
   "name": "python",
   "nbconvert_exporter": "python",
   "pygments_lexer": "ipython2",
   "version": "2.7.11"
  }
 },
 "nbformat": 4,
 "nbformat_minor": 0
}
