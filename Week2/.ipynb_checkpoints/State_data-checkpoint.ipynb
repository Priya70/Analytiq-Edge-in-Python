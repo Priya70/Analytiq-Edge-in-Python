{
 "cells": [
  {
   "cell_type": "markdown",
   "metadata": {},
   "source": [
    "### State Data\n",
    "#### The \"state\" dataset, has data from the 1970s on all fifty US states. For each state, the dataset includes the population, per capita income, illiteracy rate, murder rate, high school graduation rate, average number of frost days, area, latitude and longitude, division the state belongs to,  region the state belongs to, and two-letter abbreviation."
   ]
  },
  {
   "cell_type": "code",
   "execution_count": 1,
   "metadata": {
    "collapsed": true
   },
   "outputs": [],
   "source": [
    "import pandas as pd\n",
    "import numpy as np\n",
    "import matplotlib.pyplot as plt\n",
    "%matplotlib inline\n",
    "import math\n",
    "import statsmodels.api as sm"
   ]
  },
  {
   "cell_type": "code",
   "execution_count": 2,
   "metadata": {
    "collapsed": true
   },
   "outputs": [],
   "source": [
    "data=pd.read_csv('statedata.csv')"
   ]
  },
  {
   "cell_type": "code",
   "execution_count": 3,
   "metadata": {
    "collapsed": false
   },
   "outputs": [
    {
     "data": {
      "text/html": [
       "<div>\n",
       "<table border=\"1\" class=\"dataframe\">\n",
       "  <thead>\n",
       "    <tr style=\"text-align: right;\">\n",
       "      <th></th>\n",
       "      <th>Population</th>\n",
       "      <th>Income</th>\n",
       "      <th>Illiteracy</th>\n",
       "      <th>Life.Exp</th>\n",
       "      <th>Murder</th>\n",
       "      <th>HS.Grad</th>\n",
       "      <th>Frost</th>\n",
       "      <th>Area</th>\n",
       "      <th>state.abb</th>\n",
       "      <th>state.area</th>\n",
       "      <th>x</th>\n",
       "      <th>y</th>\n",
       "      <th>state.division</th>\n",
       "      <th>state.name</th>\n",
       "      <th>state.region</th>\n",
       "    </tr>\n",
       "  </thead>\n",
       "  <tbody>\n",
       "    <tr>\n",
       "      <th>0</th>\n",
       "      <td>3615</td>\n",
       "      <td>3624</td>\n",
       "      <td>2.1</td>\n",
       "      <td>69.05</td>\n",
       "      <td>15.1</td>\n",
       "      <td>41.3</td>\n",
       "      <td>20</td>\n",
       "      <td>50708</td>\n",
       "      <td>AL</td>\n",
       "      <td>51609</td>\n",
       "      <td>-86.7509</td>\n",
       "      <td>32.5901</td>\n",
       "      <td>East South Central</td>\n",
       "      <td>Alabama</td>\n",
       "      <td>South</td>\n",
       "    </tr>\n",
       "    <tr>\n",
       "      <th>1</th>\n",
       "      <td>365</td>\n",
       "      <td>6315</td>\n",
       "      <td>1.5</td>\n",
       "      <td>69.31</td>\n",
       "      <td>11.3</td>\n",
       "      <td>66.7</td>\n",
       "      <td>152</td>\n",
       "      <td>566432</td>\n",
       "      <td>AK</td>\n",
       "      <td>589757</td>\n",
       "      <td>-127.2500</td>\n",
       "      <td>49.2500</td>\n",
       "      <td>Pacific</td>\n",
       "      <td>Alaska</td>\n",
       "      <td>West</td>\n",
       "    </tr>\n",
       "    <tr>\n",
       "      <th>2</th>\n",
       "      <td>2212</td>\n",
       "      <td>4530</td>\n",
       "      <td>1.8</td>\n",
       "      <td>70.55</td>\n",
       "      <td>7.8</td>\n",
       "      <td>58.1</td>\n",
       "      <td>15</td>\n",
       "      <td>113417</td>\n",
       "      <td>AZ</td>\n",
       "      <td>113909</td>\n",
       "      <td>-111.6250</td>\n",
       "      <td>34.2192</td>\n",
       "      <td>Mountain</td>\n",
       "      <td>Arizona</td>\n",
       "      <td>West</td>\n",
       "    </tr>\n",
       "    <tr>\n",
       "      <th>3</th>\n",
       "      <td>2110</td>\n",
       "      <td>3378</td>\n",
       "      <td>1.9</td>\n",
       "      <td>70.66</td>\n",
       "      <td>10.1</td>\n",
       "      <td>39.9</td>\n",
       "      <td>65</td>\n",
       "      <td>51945</td>\n",
       "      <td>AR</td>\n",
       "      <td>53104</td>\n",
       "      <td>-92.2992</td>\n",
       "      <td>34.7336</td>\n",
       "      <td>West South Central</td>\n",
       "      <td>Arkansas</td>\n",
       "      <td>South</td>\n",
       "    </tr>\n",
       "  </tbody>\n",
       "</table>\n",
       "</div>"
      ],
      "text/plain": [
       "   Population  Income  Illiteracy  Life.Exp  Murder  HS.Grad  Frost    Area  \\\n",
       "0        3615    3624         2.1     69.05    15.1     41.3     20   50708   \n",
       "1         365    6315         1.5     69.31    11.3     66.7    152  566432   \n",
       "2        2212    4530         1.8     70.55     7.8     58.1     15  113417   \n",
       "3        2110    3378         1.9     70.66    10.1     39.9     65   51945   \n",
       "\n",
       "  state.abb  state.area         x        y      state.division state.name  \\\n",
       "0        AL       51609  -86.7509  32.5901  East South Central    Alabama   \n",
       "1        AK      589757 -127.2500  49.2500             Pacific     Alaska   \n",
       "2        AZ      113909 -111.6250  34.2192            Mountain    Arizona   \n",
       "3        AR       53104  -92.2992  34.7336  West South Central   Arkansas   \n",
       "\n",
       "  state.region  \n",
       "0        South  \n",
       "1         West  \n",
       "2         West  \n",
       "3        South  "
      ]
     },
     "execution_count": 3,
     "metadata": {},
     "output_type": "execute_result"
    }
   ],
   "source": [
    "data.head(4)"
   ]
  },
  {
   "cell_type": "markdown",
   "metadata": {},
   "source": [
    "#### Plot all of the states' centers with latitude on the y axis (the \"y\" variable in our dataset) and longitude on the x axis (the \"x\" variable in our dataset). The shape of the plot should look like the outline of the United States! "
   ]
  },
  {
   "cell_type": "code",
   "execution_count": 4,
   "metadata": {
    "collapsed": false
   },
   "outputs": [
    {
     "data": {
      "text/plain": [
       "[<matplotlib.lines.Line2D at 0x118f38990>]"
      ]
     },
     "execution_count": 4,
     "metadata": {},
     "output_type": "execute_result"
    },
    {
     "data": {
      "image/png": "[encoded data removed]",
      "text/plain": [
       "<matplotlib.figure.Figure at 0x118e97b10>"
      ]
     },
     "metadata": {},
     "output_type": "display_data"
    }
   ],
   "source": [
    "plt.plot(data.x,data.y,'*',color='blue')"
   ]
  },
  {
   "cell_type": "markdown",
   "metadata": {},
   "source": [
    "#### Determine which region of the US (West, North Central, South, or Northeast) has the highest average high school graduation rate of all the states in the region:"
   ]
  },
  {
   "cell_type": "code",
   "execution_count": 5,
   "metadata": {
    "collapsed": false
   },
   "outputs": [
    {
     "data": {
      "text/plain": [
       "state.region\n",
       "North Central    54.516667\n",
       "Northeast        53.966667\n",
       "South            44.343750\n",
       "West             62.000000\n",
       "Name: HS.Grad, dtype: float64"
      ]
     },
     "execution_count": 5,
     "metadata": {},
     "output_type": "execute_result"
    }
   ],
   "source": [
    "data.groupby('state.region')['HS.Grad'].mean()"
   ]
  },
  {
   "cell_type": "markdown",
   "metadata": {},
   "source": [
    "The West has the highest HS.graduation rate"
   ]
  },
  {
   "cell_type": "markdown",
   "metadata": {},
   "source": [
    "#### Make a boxplot of the murder rate by region. Which region has the highest median murder rate?"
   ]
  },
  {
   "cell_type": "code",
   "execution_count": 6,
   "metadata": {
    "collapsed": false
   },
   "outputs": [
    {
     "data": {
      "text/plain": [
       "<matplotlib.axes._subplots.AxesSubplot at 0x118e6be10>"
      ]
     },
     "execution_count": 6,
     "metadata": {},
     "output_type": "execute_result"
    },
    {
     "data": {
      "image/png": "[encoded data removed]",
      "text/plain": [
       "<matplotlib.figure.Figure at 0x118e6be50>"
      ]
     },
     "metadata": {},
     "output_type": "display_data"
    }
   ],
   "source": [
    "data.boxplot(column='Murder',by='state.region')  "
   ]
  },
  {
   "cell_type": "markdown",
   "metadata": {},
   "source": [
    "South has the largest median murder rate"
   ]
  },
  {
   "cell_type": "markdown",
   "metadata": {},
   "source": [
    "#### You should see that there is an outlier in the Northeast region of the boxplot you just generated. Which state does this correspond to? "
   ]
  },
  {
   "cell_type": "code",
   "execution_count": 7,
   "metadata": {
    "collapsed": false
   },
   "outputs": [
    {
     "data": {
      "text/html": [
       "<div>\n",
       "<table border=\"1\" class=\"dataframe\">\n",
       "  <thead>\n",
       "    <tr style=\"text-align: right;\">\n",
       "      <th></th>\n",
       "      <th>Murder</th>\n",
       "      <th>state.name</th>\n",
       "    </tr>\n",
       "  </thead>\n",
       "  <tbody>\n",
       "    <tr>\n",
       "      <th>6</th>\n",
       "      <td>3.1</td>\n",
       "      <td>Connecticut</td>\n",
       "    </tr>\n",
       "    <tr>\n",
       "      <th>18</th>\n",
       "      <td>2.7</td>\n",
       "      <td>Maine</td>\n",
       "    </tr>\n",
       "    <tr>\n",
       "      <th>20</th>\n",
       "      <td>3.3</td>\n",
       "      <td>Massachusetts</td>\n",
       "    </tr>\n",
       "    <tr>\n",
       "      <th>28</th>\n",
       "      <td>3.3</td>\n",
       "      <td>New Hampshire</td>\n",
       "    </tr>\n",
       "    <tr>\n",
       "      <th>29</th>\n",
       "      <td>5.2</td>\n",
       "      <td>New Jersey</td>\n",
       "    </tr>\n",
       "    <tr>\n",
       "      <th>31</th>\n",
       "      <td>10.9</td>\n",
       "      <td>New York</td>\n",
       "    </tr>\n",
       "    <tr>\n",
       "      <th>37</th>\n",
       "      <td>6.1</td>\n",
       "      <td>Pennsylvania</td>\n",
       "    </tr>\n",
       "    <tr>\n",
       "      <th>38</th>\n",
       "      <td>2.4</td>\n",
       "      <td>Rhode Island</td>\n",
       "    </tr>\n",
       "    <tr>\n",
       "      <th>44</th>\n",
       "      <td>5.5</td>\n",
       "      <td>Vermont</td>\n",
       "    </tr>\n",
       "  </tbody>\n",
       "</table>\n",
       "</div>"
      ],
      "text/plain": [
       "    Murder     state.name\n",
       "6      3.1    Connecticut\n",
       "18     2.7          Maine\n",
       "20     3.3  Massachusetts\n",
       "28     3.3  New Hampshire\n",
       "29     5.2     New Jersey\n",
       "31    10.9       New York\n",
       "37     6.1   Pennsylvania\n",
       "38     2.4   Rhode Island\n",
       "44     5.5        Vermont"
      ]
     },
     "execution_count": 7,
     "metadata": {},
     "output_type": "execute_result"
    }
   ],
   "source": [
    "data[data['state.region']=='Northeast'][['Murder','state.name']]"
   ]
  },
  {
   "cell_type": "markdown",
   "metadata": {},
   "source": [
    "Its New York!"
   ]
  },
  {
   "cell_type": "markdown",
   "metadata": {},
   "source": [
    "#### We would like to build a model to predict life expectancy by state using the state statistics we have in our dataset.\n",
    "Build the model with all potential variables included (Population, Income, Illiteracy, Murder, HS.Grad, Frost, and Area). Note that you should use the variable \"Area\" in your model, NOT the variable \"state.area\".\n",
    "\n",
    "What is the coefficient for \"Income\" in your linear regression model? What does it mean?"
   ]
  },
  {
   "cell_type": "code",
   "execution_count": 8,
   "metadata": {
    "collapsed": false
   },
   "outputs": [],
   "source": [
    "data=data.rename({'state.area':'Area'})\n",
    "feature_cols=['Population','Income','Illiteracy','Murder', 'HS.Grad', 'Frost','Area']\n",
    "X=data[feature_cols]\n",
    "X=sm.add_constant(X)\n",
    "X.head()\n",
    "y=data['Life.Exp']"
   ]
  },
  {
   "cell_type": "code",
   "execution_count": 9,
   "metadata": {
    "collapsed": false
   },
   "outputs": [
    {
     "data": {
      "text/html": [
       "<table class=\"simpletable\">\n",
       "<caption>OLS Regression Results</caption>\n",
       "<tr>\n",
       "  <th>Dep. Variable:</th>        <td>Life.Exp</td>     <th>  R-squared:         </th> <td>   0.736</td>\n",
       "</tr>\n",
       "<tr>\n",
       "  <th>Model:</th>                   <td>OLS</td>       <th>  Adj. R-squared:    </th> <td>   0.692</td>\n",
       "</tr>\n",
       "<tr>\n",
       "  <th>Method:</th>             <td>Least Squares</td>  <th>  F-statistic:       </th> <td>   16.74</td>\n",
       "</tr>\n",
       "<tr>\n",
       "  <th>Date:</th>             <td>Sun, 04 Sep 2016</td> <th>  Prob (F-statistic):</th> <td>2.53e-10</td>\n",
       "</tr>\n",
       "<tr>\n",
       "  <th>Time:</th>                 <td>19:50:32</td>     <th>  Log-Likelihood:    </th> <td> -51.855</td>\n",
       "</tr>\n",
       "<tr>\n",
       "  <th>No. Observations:</th>      <td>    50</td>      <th>  AIC:               </th> <td>   119.7</td>\n",
       "</tr>\n",
       "<tr>\n",
       "  <th>Df Residuals:</th>          <td>    42</td>      <th>  BIC:               </th> <td>   135.0</td>\n",
       "</tr>\n",
       "<tr>\n",
       "  <th>Df Model:</th>              <td>     7</td>      <th>                     </th>     <td> </td>   \n",
       "</tr>\n",
       "<tr>\n",
       "  <th>Covariance Type:</th>      <td>nonrobust</td>    <th>                     </th>     <td> </td>   \n",
       "</tr>\n",
       "</table>\n",
       "<table class=\"simpletable\">\n",
       "<tr>\n",
       "       <td></td>         <th>coef</th>     <th>std err</th>      <th>t</th>      <th>P>|t|</th> <th>[95.0% Conf. Int.]</th> \n",
       "</tr>\n",
       "<tr>\n",
       "  <th>const</th>      <td>   70.9432</td> <td>    1.748</td> <td>   40.586</td> <td> 0.000</td> <td>   67.416    74.471</td>\n",
       "</tr>\n",
       "<tr>\n",
       "  <th>Population</th> <td>  5.18e-05</td> <td> 2.92e-05</td> <td>    1.775</td> <td> 0.083</td> <td> -7.1e-06     0.000</td>\n",
       "</tr>\n",
       "<tr>\n",
       "  <th>Income</th>     <td> -2.18e-05</td> <td>    0.000</td> <td>   -0.089</td> <td> 0.929</td> <td>   -0.001     0.000</td>\n",
       "</tr>\n",
       "<tr>\n",
       "  <th>Illiteracy</th> <td>    0.0338</td> <td>    0.366</td> <td>    0.092</td> <td> 0.927</td> <td>   -0.705     0.773</td>\n",
       "</tr>\n",
       "<tr>\n",
       "  <th>Murder</th>     <td>   -0.3011</td> <td>    0.047</td> <td>   -6.459</td> <td> 0.000</td> <td>   -0.395    -0.207</td>\n",
       "</tr>\n",
       "<tr>\n",
       "  <th>HS.Grad</th>    <td>    0.0489</td> <td>    0.023</td> <td>    2.098</td> <td> 0.042</td> <td>    0.002     0.096</td>\n",
       "</tr>\n",
       "<tr>\n",
       "  <th>Frost</th>      <td>   -0.0057</td> <td>    0.003</td> <td>   -1.825</td> <td> 0.075</td> <td>   -0.012     0.001</td>\n",
       "</tr>\n",
       "<tr>\n",
       "  <th>Area</th>       <td>-7.383e-08</td> <td> 1.67e-06</td> <td>   -0.044</td> <td> 0.965</td> <td>-3.44e-06  3.29e-06</td>\n",
       "</tr>\n",
       "</table>\n",
       "<table class=\"simpletable\">\n",
       "<tr>\n",
       "  <th>Omnibus:</th>       <td> 2.385</td> <th>  Durbin-Watson:     </th> <td>   1.929</td>\n",
       "</tr>\n",
       "<tr>\n",
       "  <th>Prob(Omnibus):</th> <td> 0.303</td> <th>  Jarque-Bera (JB):  </th> <td>   1.420</td>\n",
       "</tr>\n",
       "<tr>\n",
       "  <th>Skew:</th>          <td>-0.081</td> <th>  Prob(JB):          </th> <td>   0.492</td>\n",
       "</tr>\n",
       "<tr>\n",
       "  <th>Kurtosis:</th>      <td> 2.190</td> <th>  Cond. No.          </th> <td>1.85e+06</td>\n",
       "</tr>\n",
       "</table>"
      ],
      "text/plain": [
       "<class 'statsmodels.iolib.summary.Summary'>\n",
       "\"\"\"\n",
       "                            OLS Regression Results                            \n",
       "==============================================================================\n",
       "Dep. Variable:               Life.Exp   R-squared:                       0.736\n",
       "Model:                            OLS   Adj. R-squared:                  0.692\n",
       "Method:                 Least Squares   F-statistic:                     16.74\n",
       "Date:                Sun, 04 Sep 2016   Prob (F-statistic):           2.53e-10\n",
       "Time:                        19:50:32   Log-Likelihood:                -51.855\n",
       "No. Observations:                  50   AIC:                             119.7\n",
       "Df Residuals:                      42   BIC:                             135.0\n",
       "Df Model:                           7                                         \n",
       "Covariance Type:            nonrobust                                         \n",
       "==============================================================================\n",
       "                 coef    std err          t      P>|t|      [95.0% Conf. Int.]\n",
       "------------------------------------------------------------------------------\n",
       "const         70.9432      1.748     40.586      0.000        67.416    74.471\n",
       "Population   5.18e-05   2.92e-05      1.775      0.083      -7.1e-06     0.000\n",
       "Income      -2.18e-05      0.000     -0.089      0.929        -0.001     0.000\n",
       "Illiteracy     0.0338      0.366      0.092      0.927        -0.705     0.773\n",
       "Murder        -0.3011      0.047     -6.459      0.000        -0.395    -0.207\n",
       "HS.Grad        0.0489      0.023      2.098      0.042         0.002     0.096\n",
       "Frost         -0.0057      0.003     -1.825      0.075        -0.012     0.001\n",
       "Area       -7.383e-08   1.67e-06     -0.044      0.965     -3.44e-06  3.29e-06\n",
       "==============================================================================\n",
       "Omnibus:                        2.385   Durbin-Watson:                   1.929\n",
       "Prob(Omnibus):                  0.303   Jarque-Bera (JB):                1.420\n",
       "Skew:                          -0.081   Prob(JB):                        0.492\n",
       "Kurtosis:                       2.190   Cond. No.                     1.85e+06\n",
       "==============================================================================\n",
       "\n",
       "Warnings:\n",
       "[1] Standard Errors assume that the covariance matrix of the errors is correctly specified.\n",
       "[2] The condition number is large, 1.85e+06. This might indicate that there are\n",
       "strong multicollinearity or other numerical problems.\n",
       "\"\"\""
      ]
     },
     "execution_count": 9,
     "metadata": {},
     "output_type": "execute_result"
    }
   ],
   "source": [
    "lm_model=sm.OLS(y,X)\n",
    "lm_model=lm_model.fit()\n",
    "lm_model.summary()"
   ]
  },
  {
   "cell_type": "markdown",
   "metadata": {},
   "source": [
    "It means for a one unit increase in income, predicted life expectancy decreases by|-2.18e-05|"
   ]
  },
  {
   "cell_type": "markdown",
   "metadata": {},
   "source": [
    "#### Now plot a graph of life expectancy vs. income. Visually observe the plot. What appears to be the relationship?"
   ]
  },
  {
   "cell_type": "code",
   "execution_count": 10,
   "metadata": {
    "collapsed": false
   },
   "outputs": [
    {
     "data": {
      "text/plain": [
       "<matplotlib.collections.PathCollection at 0x1194e0f10>"
      ]
     },
     "execution_count": 10,
     "metadata": {},
     "output_type": "execute_result"
    },
    {
     "data": {
      "image/png": "[encoded data removed]",
      "text/plain": [
       "<matplotlib.figure.Figure at 0x119064290>"
      ]
     },
     "metadata": {},
     "output_type": "display_data"
    }
   ],
   "source": [
    "plt.scatter(data.Income,data['Life.Exp'])"
   ]
  },
  {
   "cell_type": "markdown",
   "metadata": {},
   "source": [
    "Life expectancy seems to be positively correlated with Income. \n",
    "#### The model we built does not display the relationship we saw from the plot of life expectancy vs. income. Which of the following explanations seems the most reasonable?\n",
    "\n",
    "* Multicollinearity"
   ]
  },
  {
   "cell_type": "markdown",
   "metadata": {},
   "source": [
    "#### Problem 3.1 - Predicting Life Expectancy - Refining the Model and Analyzing Predictions.\n",
    "Recall a model with fewer variables is preferable to a model with many unnnecessary variables. Experiment with removing independent variables from the original model. Remember to use the significance of the coefficients to decide which variables to remove (remove the one with the largest \"p-value\" first, or the one with the \"t value\" closest to zero), and to remove them one at a time (this is called \"backwards variable selection\"). This is important due to multicollinearity issues - removing one insignificant variable may make another previously insignificant variable become significant."
   ]
  },
  {
   "cell_type": "code",
   "execution_count": 21,
   "metadata": {
    "collapsed": false
   },
   "outputs": [
    {
     "data": {
      "text/html": [
       "<table class=\"simpletable\">\n",
       "<caption>OLS Regression Results</caption>\n",
       "<tr>\n",
       "  <th>Dep. Variable:</th>        <td>Life.Exp</td>     <th>  R-squared:         </th> <td>   0.736</td>\n",
       "</tr>\n",
       "<tr>\n",
       "  <th>Model:</th>                   <td>OLS</td>       <th>  Adj. R-squared:    </th> <td>   0.699</td>\n",
       "</tr>\n",
       "<tr>\n",
       "  <th>Method:</th>             <td>Least Squares</td>  <th>  F-statistic:       </th> <td>   19.99</td>\n",
       "</tr>\n",
       "<tr>\n",
       "  <th>Date:</th>             <td>Sun, 04 Sep 2016</td> <th>  Prob (F-statistic):</th> <td>5.36e-11</td>\n",
       "</tr>\n",
       "<tr>\n",
       "  <th>Time:</th>                 <td>19:53:06</td>     <th>  Log-Likelihood:    </th> <td> -51.856</td>\n",
       "</tr>\n",
       "<tr>\n",
       "  <th>No. Observations:</th>      <td>    50</td>      <th>  AIC:               </th> <td>   117.7</td>\n",
       "</tr>\n",
       "<tr>\n",
       "  <th>Df Residuals:</th>          <td>    43</td>      <th>  BIC:               </th> <td>   131.1</td>\n",
       "</tr>\n",
       "<tr>\n",
       "  <th>Df Model:</th>              <td>     6</td>      <th>                     </th>     <td> </td>   \n",
       "</tr>\n",
       "<tr>\n",
       "  <th>Covariance Type:</th>      <td>nonrobust</td>    <th>                     </th>     <td> </td>   \n",
       "</tr>\n",
       "</table>\n",
       "<table class=\"simpletable\">\n",
       "<tr>\n",
       "       <td></td>         <th>coef</th>     <th>std err</th>      <th>t</th>      <th>P>|t|</th> <th>[95.0% Conf. Int.]</th> \n",
       "</tr>\n",
       "<tr>\n",
       "  <th>const</th>      <td>   70.9893</td> <td>    1.387</td> <td>   51.165</td> <td> 0.000</td> <td>   68.191    73.787</td>\n",
       "</tr>\n",
       "<tr>\n",
       "  <th>Population</th> <td> 5.188e-05</td> <td> 2.88e-05</td> <td>    1.802</td> <td> 0.079</td> <td>-6.17e-06     0.000</td>\n",
       "</tr>\n",
       "<tr>\n",
       "  <th>Income</th>     <td>-2.444e-05</td> <td>    0.000</td> <td>   -0.104</td> <td> 0.917</td> <td>   -0.000     0.000</td>\n",
       "</tr>\n",
       "<tr>\n",
       "  <th>Illiteracy</th> <td>    0.0285</td> <td>    0.342</td> <td>    0.083</td> <td> 0.934</td> <td>   -0.661     0.717</td>\n",
       "</tr>\n",
       "<tr>\n",
       "  <th>Murder</th>     <td>   -0.3018</td> <td>    0.043</td> <td>   -6.963</td> <td> 0.000</td> <td>   -0.389    -0.214</td>\n",
       "</tr>\n",
       "<tr>\n",
       "  <th>HS.Grad</th>    <td>    0.0485</td> <td>    0.021</td> <td>    2.345</td> <td> 0.024</td> <td>    0.007     0.090</td>\n",
       "</tr>\n",
       "<tr>\n",
       "  <th>Frost</th>      <td>   -0.0058</td> <td>    0.003</td> <td>   -1.945</td> <td> 0.058</td> <td>   -0.012     0.000</td>\n",
       "</tr>\n",
       "</table>\n",
       "<table class=\"simpletable\">\n",
       "<tr>\n",
       "  <th>Omnibus:</th>       <td> 2.294</td> <th>  Durbin-Watson:     </th> <td>   1.930</td>\n",
       "</tr>\n",
       "<tr>\n",
       "  <th>Prob(Omnibus):</th> <td> 0.318</td> <th>  Jarque-Bera (JB):  </th> <td>   1.390</td>\n",
       "</tr>\n",
       "<tr>\n",
       "  <th>Skew:</th>          <td>-0.079</td> <th>  Prob(JB):          </th> <td>   0.499</td>\n",
       "</tr>\n",
       "<tr>\n",
       "  <th>Kurtosis:</th>      <td> 2.199</td> <th>  Cond. No.          </th> <td>9.56e+04</td>\n",
       "</tr>\n",
       "</table>"
      ],
      "text/plain": [
       "<class 'statsmodels.iolib.summary.Summary'>\n",
       "\"\"\"\n",
       "                            OLS Regression Results                            \n",
       "==============================================================================\n",
       "Dep. Variable:               Life.Exp   R-squared:                       0.736\n",
       "Model:                            OLS   Adj. R-squared:                  0.699\n",
       "Method:                 Least Squares   F-statistic:                     19.99\n",
       "Date:                Sun, 04 Sep 2016   Prob (F-statistic):           5.36e-11\n",
       "Time:                        19:53:06   Log-Likelihood:                -51.856\n",
       "No. Observations:                  50   AIC:                             117.7\n",
       "Df Residuals:                      43   BIC:                             131.1\n",
       "Df Model:                           6                                         \n",
       "Covariance Type:            nonrobust                                         \n",
       "==============================================================================\n",
       "                 coef    std err          t      P>|t|      [95.0% Conf. Int.]\n",
       "------------------------------------------------------------------------------\n",
       "const         70.9893      1.387     51.165      0.000        68.191    73.787\n",
       "Population  5.188e-05   2.88e-05      1.802      0.079     -6.17e-06     0.000\n",
       "Income     -2.444e-05      0.000     -0.104      0.917        -0.000     0.000\n",
       "Illiteracy     0.0285      0.342      0.083      0.934        -0.661     0.717\n",
       "Murder        -0.3018      0.043     -6.963      0.000        -0.389    -0.214\n",
       "HS.Grad        0.0485      0.021      2.345      0.024         0.007     0.090\n",
       "Frost         -0.0058      0.003     -1.945      0.058        -0.012     0.000\n",
       "==============================================================================\n",
       "Omnibus:                        2.294   Durbin-Watson:                   1.930\n",
       "Prob(Omnibus):                  0.318   Jarque-Bera (JB):                1.390\n",
       "Skew:                          -0.079   Prob(JB):                        0.499\n",
       "Kurtosis:                       2.199   Cond. No.                     9.56e+04\n",
       "==============================================================================\n",
       "\n",
       "Warnings:\n",
       "[1] Standard Errors assume that the covariance matrix of the errors is correctly specified.\n",
       "[2] The condition number is large, 9.56e+04. This might indicate that there are\n",
       "strong multicollinearity or other numerical problems.\n",
       "\"\"\""
      ]
     },
     "execution_count": 21,
     "metadata": {},
     "output_type": "execute_result"
    }
   ],
   "source": [
    "#feature_cols.remove('Area')\n",
    "X_1=data[feature_cols]\n",
    "X_1=sm.add_constant(X_1)\n",
    "lm_model1=sm.OLS(y,X_1)\n",
    "lm_model1=lm_model1.fit()\n",
    "lm_model1.summary()"
   ]
  },
  {
   "cell_type": "code",
   "execution_count": 27,
   "metadata": {
    "collapsed": false
   },
   "outputs": [
    {
     "data": {
      "text/html": [
       "<table class=\"simpletable\">\n",
       "<caption>OLS Regression Results</caption>\n",
       "<tr>\n",
       "  <th>Dep. Variable:</th>        <td>Life.Exp</td>     <th>  R-squared:         </th> <td>   0.736</td>\n",
       "</tr>\n",
       "<tr>\n",
       "  <th>Model:</th>                   <td>OLS</td>       <th>  Adj. R-squared:    </th> <td>   0.706</td>\n",
       "</tr>\n",
       "<tr>\n",
       "  <th>Method:</th>             <td>Least Squares</td>  <th>  F-statistic:       </th> <td>   24.55</td>\n",
       "</tr>\n",
       "<tr>\n",
       "  <th>Date:</th>             <td>Sun, 04 Sep 2016</td> <th>  Prob (F-statistic):</th> <td>1.02e-11</td>\n",
       "</tr>\n",
       "<tr>\n",
       "  <th>Time:</th>                 <td>19:55:45</td>     <th>  Log-Likelihood:    </th> <td> -51.860</td>\n",
       "</tr>\n",
       "<tr>\n",
       "  <th>No. Observations:</th>      <td>    50</td>      <th>  AIC:               </th> <td>   115.7</td>\n",
       "</tr>\n",
       "<tr>\n",
       "  <th>Df Residuals:</th>          <td>    44</td>      <th>  BIC:               </th> <td>   127.2</td>\n",
       "</tr>\n",
       "<tr>\n",
       "  <th>Df Model:</th>              <td>     5</td>      <th>                     </th>     <td> </td>   \n",
       "</tr>\n",
       "<tr>\n",
       "  <th>Covariance Type:</th>      <td>nonrobust</td>    <th>                     </th>     <td> </td>   \n",
       "</tr>\n",
       "</table>\n",
       "<table class=\"simpletable\">\n",
       "<tr>\n",
       "       <td></td>         <th>coef</th>     <th>std err</th>      <th>t</th>      <th>P>|t|</th> <th>[95.0% Conf. Int.]</th> \n",
       "</tr>\n",
       "<tr>\n",
       "  <th>const</th>      <td>   71.0658</td> <td>    1.029</td> <td>   69.067</td> <td> 0.000</td> <td>   68.992    73.139</td>\n",
       "</tr>\n",
       "<tr>\n",
       "  <th>Population</th> <td> 5.115e-05</td> <td> 2.71e-05</td> <td>    1.888</td> <td> 0.066</td> <td>-3.46e-06     0.000</td>\n",
       "</tr>\n",
       "<tr>\n",
       "  <th>Income</th>     <td>-2.477e-05</td> <td>    0.000</td> <td>   -0.107</td> <td> 0.915</td> <td>   -0.000     0.000</td>\n",
       "</tr>\n",
       "<tr>\n",
       "  <th>Murder</th>     <td>   -0.3000</td> <td>    0.037</td> <td>   -8.099</td> <td> 0.000</td> <td>   -0.375    -0.225</td>\n",
       "</tr>\n",
       "<tr>\n",
       "  <th>HS.Grad</th>    <td>    0.0478</td> <td>    0.019</td> <td>    2.569</td> <td> 0.014</td> <td>    0.010     0.085</td>\n",
       "</tr>\n",
       "<tr>\n",
       "  <th>Frost</th>      <td>   -0.0059</td> <td>    0.002</td> <td>   -2.395</td> <td> 0.021</td> <td>   -0.011    -0.001</td>\n",
       "</tr>\n",
       "</table>\n",
       "<table class=\"simpletable\">\n",
       "<tr>\n",
       "  <th>Omnibus:</th>       <td> 2.144</td> <th>  Durbin-Watson:     </th> <td>   1.927</td>\n",
       "</tr>\n",
       "<tr>\n",
       "  <th>Prob(Omnibus):</th> <td> 0.342</td> <th>  Jarque-Bera (JB):  </th> <td>   1.336</td>\n",
       "</tr>\n",
       "<tr>\n",
       "  <th>Skew:</th>          <td>-0.072</td> <th>  Prob(JB):          </th> <td>   0.513</td>\n",
       "</tr>\n",
       "<tr>\n",
       "  <th>Kurtosis:</th>      <td> 2.212</td> <th>  Cond. No.          </th> <td>7.08e+04</td>\n",
       "</tr>\n",
       "</table>"
      ],
      "text/plain": [
       "<class 'statsmodels.iolib.summary.Summary'>\n",
       "\"\"\"\n",
       "                            OLS Regression Results                            \n",
       "==============================================================================\n",
       "Dep. Variable:               Life.Exp   R-squared:                       0.736\n",
       "Model:                            OLS   Adj. R-squared:                  0.706\n",
       "Method:                 Least Squares   F-statistic:                     24.55\n",
       "Date:                Sun, 04 Sep 2016   Prob (F-statistic):           1.02e-11\n",
       "Time:                        19:55:45   Log-Likelihood:                -51.860\n",
       "No. Observations:                  50   AIC:                             115.7\n",
       "Df Residuals:                      44   BIC:                             127.2\n",
       "Df Model:                           5                                         \n",
       "Covariance Type:            nonrobust                                         \n",
       "==============================================================================\n",
       "                 coef    std err          t      P>|t|      [95.0% Conf. Int.]\n",
       "------------------------------------------------------------------------------\n",
       "const         71.0658      1.029     69.067      0.000        68.992    73.139\n",
       "Population  5.115e-05   2.71e-05      1.888      0.066     -3.46e-06     0.000\n",
       "Income     -2.477e-05      0.000     -0.107      0.915        -0.000     0.000\n",
       "Murder        -0.3000      0.037     -8.099      0.000        -0.375    -0.225\n",
       "HS.Grad        0.0478      0.019      2.569      0.014         0.010     0.085\n",
       "Frost         -0.0059      0.002     -2.395      0.021        -0.011    -0.001\n",
       "==============================================================================\n",
       "Omnibus:                        2.144   Durbin-Watson:                   1.927\n",
       "Prob(Omnibus):                  0.342   Jarque-Bera (JB):                1.336\n",
       "Skew:                          -0.072   Prob(JB):                        0.513\n",
       "Kurtosis:                       2.212   Cond. No.                     7.08e+04\n",
       "==============================================================================\n",
       "\n",
       "Warnings:\n",
       "[1] Standard Errors assume that the covariance matrix of the errors is correctly specified.\n",
       "[2] The condition number is large, 7.08e+04. This might indicate that there are\n",
       "strong multicollinearity or other numerical problems.\n",
       "\"\"\""
      ]
     },
     "execution_count": 27,
     "metadata": {},
     "output_type": "execute_result"
    }
   ],
   "source": [
    "feature_cols.remove('Illiteracy')\n",
    "X_2=data[feature_cols]\n",
    "X_2=sm.add_constant(X_2)\n",
    "lm_model2=sm.OLS(y,X_2)\n",
    "lm_model2=lm_model2.fit()\n",
    "lm_model2.summary()"
   ]
  },
  {
   "cell_type": "code",
   "execution_count": 28,
   "metadata": {
    "collapsed": false
   },
   "outputs": [
    {
     "data": {
      "text/html": [
       "<table class=\"simpletable\">\n",
       "<caption>OLS Regression Results</caption>\n",
       "<tr>\n",
       "  <th>Dep. Variable:</th>        <td>Life.Exp</td>     <th>  R-squared:         </th> <td>   0.736</td>\n",
       "</tr>\n",
       "<tr>\n",
       "  <th>Model:</th>                   <td>OLS</td>       <th>  Adj. R-squared:    </th> <td>   0.713</td>\n",
       "</tr>\n",
       "<tr>\n",
       "  <th>Method:</th>             <td>Least Squares</td>  <th>  F-statistic:       </th> <td>   31.37</td>\n",
       "</tr>\n",
       "<tr>\n",
       "  <th>Date:</th>             <td>Sun, 04 Sep 2016</td> <th>  Prob (F-statistic):</th> <td>1.70e-12</td>\n",
       "</tr>\n",
       "<tr>\n",
       "  <th>Time:</th>                 <td>19:57:08</td>     <th>  Log-Likelihood:    </th> <td> -51.866</td>\n",
       "</tr>\n",
       "<tr>\n",
       "  <th>No. Observations:</th>      <td>    50</td>      <th>  AIC:               </th> <td>   113.7</td>\n",
       "</tr>\n",
       "<tr>\n",
       "  <th>Df Residuals:</th>          <td>    45</td>      <th>  BIC:               </th> <td>   123.3</td>\n",
       "</tr>\n",
       "<tr>\n",
       "  <th>Df Model:</th>              <td>     4</td>      <th>                     </th>     <td> </td>   \n",
       "</tr>\n",
       "<tr>\n",
       "  <th>Covariance Type:</th>      <td>nonrobust</td>    <th>                     </th>     <td> </td>   \n",
       "</tr>\n",
       "</table>\n",
       "<table class=\"simpletable\">\n",
       "<tr>\n",
       "       <td></td>         <th>coef</th>     <th>std err</th>      <th>t</th>      <th>P>|t|</th> <th>[95.0% Conf. Int.]</th> \n",
       "</tr>\n",
       "<tr>\n",
       "  <th>const</th>      <td>   71.0271</td> <td>    0.953</td> <td>   74.542</td> <td> 0.000</td> <td>   69.108    72.946</td>\n",
       "</tr>\n",
       "<tr>\n",
       "  <th>Population</th> <td> 5.014e-05</td> <td> 2.51e-05</td> <td>    1.996</td> <td> 0.052</td> <td>-4.54e-07     0.000</td>\n",
       "</tr>\n",
       "<tr>\n",
       "  <th>Murder</th>     <td>   -0.3001</td> <td>    0.037</td> <td>   -8.199</td> <td> 0.000</td> <td>   -0.374    -0.226</td>\n",
       "</tr>\n",
       "<tr>\n",
       "  <th>HS.Grad</th>    <td>    0.0466</td> <td>    0.015</td> <td>    3.142</td> <td> 0.003</td> <td>    0.017     0.076</td>\n",
       "</tr>\n",
       "<tr>\n",
       "  <th>Frost</th>      <td>   -0.0059</td> <td>    0.002</td> <td>   -2.455</td> <td> 0.018</td> <td>   -0.011    -0.001</td>\n",
       "</tr>\n",
       "</table>\n",
       "<table class=\"simpletable\">\n",
       "<tr>\n",
       "  <th>Omnibus:</th>       <td> 2.444</td> <th>  Durbin-Watson:     </th> <td>   1.914</td>\n",
       "</tr>\n",
       "<tr>\n",
       "  <th>Prob(Omnibus):</th> <td> 0.295</td> <th>  Jarque-Bera (JB):  </th> <td>   1.426</td>\n",
       "</tr>\n",
       "<tr>\n",
       "  <th>Skew:</th>          <td>-0.065</td> <th>  Prob(JB):          </th> <td>   0.490</td>\n",
       "</tr>\n",
       "<tr>\n",
       "  <th>Kurtosis:</th>      <td> 2.183</td> <th>  Cond. No.          </th> <td>5.74e+04</td>\n",
       "</tr>\n",
       "</table>"
      ],
      "text/plain": [
       "<class 'statsmodels.iolib.summary.Summary'>\n",
       "\"\"\"\n",
       "                            OLS Regression Results                            \n",
       "==============================================================================\n",
       "Dep. Variable:               Life.Exp   R-squared:                       0.736\n",
       "Model:                            OLS   Adj. R-squared:                  0.713\n",
       "Method:                 Least Squares   F-statistic:                     31.37\n",
       "Date:                Sun, 04 Sep 2016   Prob (F-statistic):           1.70e-12\n",
       "Time:                        19:57:08   Log-Likelihood:                -51.866\n",
       "No. Observations:                  50   AIC:                             113.7\n",
       "Df Residuals:                      45   BIC:                             123.3\n",
       "Df Model:                           4                                         \n",
       "Covariance Type:            nonrobust                                         \n",
       "==============================================================================\n",
       "                 coef    std err          t      P>|t|      [95.0% Conf. Int.]\n",
       "------------------------------------------------------------------------------\n",
       "const         71.0271      0.953     74.542      0.000        69.108    72.946\n",
       "Population  5.014e-05   2.51e-05      1.996      0.052     -4.54e-07     0.000\n",
       "Murder        -0.3001      0.037     -8.199      0.000        -0.374    -0.226\n",
       "HS.Grad        0.0466      0.015      3.142      0.003         0.017     0.076\n",
       "Frost         -0.0059      0.002     -2.455      0.018        -0.011    -0.001\n",
       "==============================================================================\n",
       "Omnibus:                        2.444   Durbin-Watson:                   1.914\n",
       "Prob(Omnibus):                  0.295   Jarque-Bera (JB):                1.426\n",
       "Skew:                          -0.065   Prob(JB):                        0.490\n",
       "Kurtosis:                       2.183   Cond. No.                     5.74e+04\n",
       "==============================================================================\n",
       "\n",
       "Warnings:\n",
       "[1] Standard Errors assume that the covariance matrix of the errors is correctly specified.\n",
       "[2] The condition number is large, 5.74e+04. This might indicate that there are\n",
       "strong multicollinearity or other numerical problems.\n",
       "\"\"\""
      ]
     },
     "execution_count": 28,
     "metadata": {},
     "output_type": "execute_result"
    }
   ],
   "source": [
    "feature_cols.remove('Income')\n",
    "X_3=data[feature_cols]\n",
    "X_3=sm.add_constant(X_3)\n",
    "lm_model3=sm.OLS(y,X_3)\n",
    "lm_model3=lm_model3.fit()\n",
    "lm_model3.summary()"
   ]
  },
  {
   "cell_type": "markdown",
   "metadata": {},
   "source": [
    "#### Using the simplified 4 variable model that we created, we'll now take a look at how our predictions compare to the actual values.\n",
    "Take a look at the vector of predictions by using the predict function (since we are just looking at predictions on the training set, you don't need to pass a \"newdata\" argument to the predict function).\n",
    "Which state do we predict to have the lowest life expectancy? \n"
   ]
  },
  {
   "cell_type": "code",
   "execution_count": 69,
   "metadata": {
    "collapsed": false
   },
   "outputs": [],
   "source": [
    "predict=lm_model3.predict(X_3)\n",
    "predicted=(zip(data['state.name'],predict))"
   ]
  },
  {
   "cell_type": "code",
   "execution_count": 45,
   "metadata": {
    "collapsed": false
   },
   "outputs": [
    {
     "data": {
      "text/plain": [
       "[('Alabama', 68.4811186603675),\n",
       " ('Georgia', 68.636942270212671),\n",
       " ('Mississippi', 69.005353843543986),\n",
       " ('South Carolina', 69.061091718213859),\n",
       " ('Louisiana', 69.150448456580335),\n",
       " ('Kentucky', 69.24417932694513),\n",
       " ('North Carolina', 69.286241787454074),\n",
       " ('Tennessee', 69.465833486605788),\n",
       " ('Nevada', 69.524823929831172),\n",
       " ('Arkansas', 69.573738812234012),\n",
       " ('Alaska', 69.857403994889353),\n",
       " ('Michigan', 69.868933596479138),\n",
       " ('Texas', 69.978859430484036),\n",
       " ('New Mexico', 70.031190552791301),\n",
       " ('Missouri', 70.106100311262153),\n",
       " ('Virginia', 70.146913923464908),\n",
       " ('Illinois', 70.192441602081203),\n",
       " ('West Virginia', 70.449825879205221),\n",
       " ('Maryland', 70.518519957104473),\n",
       " ('Florida', 70.615394954101703),\n",
       " ('New York', 70.62937149280117),\n",
       " ('Wyoming', 70.876788634581459),\n",
       " ('Indiana', 70.901585255175789),\n",
       " ('Vermont', 71.061349810894498),\n",
       " ('Ohio', 71.085487670370412),\n",
       " ('Colorado', 71.103541841723839),\n",
       " ('Delaware', 71.126468843675596),\n",
       " ('Oklahoma', 71.158600420826872),\n",
       " ('Pennsylvania', 71.38045526661395),\n",
       " ('Montana', 71.400248049434424),\n",
       " ('Arizona', 71.414156706223395),\n",
       " ('Idaho', 71.499892863842604),\n",
       " ('New Jersey', 71.596120860771535),\n",
       " ('New Hampshire', 71.726356149134233),\n",
       " ('Rhode Island', 71.760070181173788),\n",
       " ('California', 71.795645989167852),\n",
       " ('Maine', 71.860954114999416),\n",
       " ('North Dakota', 71.876494496276578),\n",
       " ('Kansas', 71.903519627187649),\n",
       " ('Wisconsin', 72.009956764583876),\n",
       " ('South Dakota', 72.011608811332863),\n",
       " ('Connecticut', 72.034589724534001),\n",
       " ('Utah', 72.057531832555028),\n",
       " ('Hawaii', 72.093168539492183),\n",
       " ('Nebraska', 72.170323092818407),\n",
       " ('Minnesota', 72.265596197210115),\n",
       " ('Iowa', 72.396528760325836),\n",
       " ('Oregon', 72.414453332510433),\n",
       " ('Massachusetts', 72.441053911480481),\n",
       " ('Washington', 72.682724264441887)]"
      ]
     },
     "execution_count": 45,
     "metadata": {},
     "output_type": "execute_result"
    }
   ],
   "source": [
    "predicted.sort(key=lambda tup: tup[1])\n",
    "predicted"
   ]
  },
  {
   "cell_type": "code",
   "execution_count": 56,
   "metadata": {
    "collapsed": false
   },
   "outputs": [],
   "source": [
    "actual=zip(list(data['state.name']),list(data['Life.Exp']))"
   ]
  },
  {
   "cell_type": "code",
   "execution_count": 57,
   "metadata": {
    "collapsed": false
   },
   "outputs": [
    {
     "data": {
      "text/plain": [
       "[('South Carolina', 67.959999999999994),\n",
       " ('Mississippi', 68.090000000000003),\n",
       " ('Georgia', 68.540000000000006),\n",
       " ('Louisiana', 68.760000000000005),\n",
       " ('Nevada', 69.030000000000001),\n",
       " ('Alabama', 69.049999999999997),\n",
       " ('North Carolina', 69.209999999999994),\n",
       " ('Alaska', 69.310000000000002),\n",
       " ('West Virginia', 69.480000000000004),\n",
       " ('Delaware', 70.060000000000002),\n",
       " ('Virginia', 70.079999999999998),\n",
       " ('Kentucky', 70.099999999999994),\n",
       " ('Tennessee', 70.109999999999999),\n",
       " ('Illinois', 70.140000000000001),\n",
       " ('Maryland', 70.219999999999999),\n",
       " ('Wyoming', 70.290000000000006),\n",
       " ('New Mexico', 70.319999999999993),\n",
       " ('Maine', 70.390000000000001),\n",
       " ('Pennsylvania', 70.430000000000007),\n",
       " ('Arizona', 70.549999999999997),\n",
       " ('New York', 70.549999999999997),\n",
       " ('Montana', 70.560000000000002),\n",
       " ('Michigan', 70.629999999999995),\n",
       " ('Arkansas', 70.659999999999997),\n",
       " ('Florida', 70.659999999999997),\n",
       " ('Missouri', 70.689999999999998),\n",
       " ('Ohio', 70.819999999999993),\n",
       " ('Indiana', 70.879999999999995),\n",
       " ('Texas', 70.900000000000006),\n",
       " ('New Jersey', 70.930000000000007),\n",
       " ('New Hampshire', 71.230000000000004),\n",
       " ('Oklahoma', 71.420000000000002),\n",
       " ('Vermont', 71.640000000000001),\n",
       " ('California', 71.709999999999994),\n",
       " ('Washington', 71.719999999999999),\n",
       " ('Massachusetts', 71.829999999999998),\n",
       " ('Idaho', 71.870000000000005),\n",
       " ('Rhode Island', 71.900000000000006),\n",
       " ('Colorado', 72.060000000000002),\n",
       " ('South Dakota', 72.079999999999998),\n",
       " ('Oregon', 72.129999999999995),\n",
       " ('Connecticut', 72.480000000000004),\n",
       " ('Wisconsin', 72.480000000000004),\n",
       " ('Iowa', 72.560000000000002),\n",
       " ('Kansas', 72.579999999999998),\n",
       " ('Nebraska', 72.599999999999994),\n",
       " ('North Dakota', 72.780000000000001),\n",
       " ('Utah', 72.900000000000006),\n",
       " ('Minnesota', 72.959999999999994),\n",
       " ('Hawaii', 73.599999999999994)]"
      ]
     },
     "execution_count": 57,
     "metadata": {},
     "output_type": "execute_result"
    }
   ],
   "source": [
    "actual.sort(key=lambda tup:tup[1])\n",
    "actual"
   ]
  },
  {
   "cell_type": "code",
   "execution_count": 70,
   "metadata": {
    "collapsed": false
   },
   "outputs": [
    {
     "data": {
      "text/plain": [
       "67.959999999999994"
      ]
     },
     "execution_count": 70,
     "metadata": {},
     "output_type": "execute_result"
    }
   ],
   "source": [
    "##OR\n",
    "data['Life.Exp'].min()"
   ]
  },
  {
   "cell_type": "code",
   "execution_count": 72,
   "metadata": {
    "collapsed": false
   },
   "outputs": [
    {
     "data": {
      "text/plain": [
       "39    South Carolina\n",
       "Name: state.name, dtype: object"
      ]
     },
     "execution_count": 72,
     "metadata": {},
     "output_type": "execute_result"
    }
   ],
   "source": [
    "data[data['Life.Exp'] < 67.969]['state.name']"
   ]
  },
  {
   "cell_type": "markdown",
   "metadata": {},
   "source": [
    "#### Problem 3.5 - Predicting Life Expectancy - Refining the Model and Analyzing Predictions\n",
    "For which state do we make the smallest absolute error? \n",
    "For which state do we make the largest absolute error?"
   ]
  },
  {
   "cell_type": "code",
   "execution_count": 85,
   "metadata": {
    "collapsed": false
   },
   "outputs": [
    {
     "data": {
      "text/html": [
       "<div>\n",
       "<table border=\"1\" class=\"dataframe\">\n",
       "  <thead>\n",
       "    <tr style=\"text-align: right;\">\n",
       "      <th></th>\n",
       "      <th>0</th>\n",
       "    </tr>\n",
       "  </thead>\n",
       "  <tbody>\n",
       "    <tr>\n",
       "      <th>-1.470954</th>\n",
       "      <td>Maine</td>\n",
       "    </tr>\n",
       "    <tr>\n",
       "      <th>-1.101092</th>\n",
       "      <td>South Carolina</td>\n",
       "    </tr>\n",
       "    <tr>\n",
       "      <th>-1.066469</th>\n",
       "      <td>Delaware</td>\n",
       "    </tr>\n",
       "    <tr>\n",
       "      <th>-0.969826</th>\n",
       "      <td>West Virginia</td>\n",
       "    </tr>\n",
       "    <tr>\n",
       "      <th>-0.962724</th>\n",
       "      <td>Washington</td>\n",
       "    </tr>\n",
       "    <tr>\n",
       "      <th>-0.950455</th>\n",
       "      <td>Pennsylvania</td>\n",
       "    </tr>\n",
       "    <tr>\n",
       "      <th>-0.915354</th>\n",
       "      <td>Mississippi</td>\n",
       "    </tr>\n",
       "    <tr>\n",
       "      <th>-0.864157</th>\n",
       "      <td>Arizona</td>\n",
       "    </tr>\n",
       "    <tr>\n",
       "      <th>-0.840248</th>\n",
       "      <td>Montana</td>\n",
       "    </tr>\n",
       "    <tr>\n",
       "      <th>-0.666121</th>\n",
       "      <td>New Jersey</td>\n",
       "    </tr>\n",
       "    <tr>\n",
       "      <th>-0.611054</th>\n",
       "      <td>Massachusetts</td>\n",
       "    </tr>\n",
       "    <tr>\n",
       "      <th>-0.586789</th>\n",
       "      <td>Wyoming</td>\n",
       "    </tr>\n",
       "    <tr>\n",
       "      <th>-0.547404</th>\n",
       "      <td>Alaska</td>\n",
       "    </tr>\n",
       "    <tr>\n",
       "      <th>-0.496356</th>\n",
       "      <td>New Hampshire</td>\n",
       "    </tr>\n",
       "    <tr>\n",
       "      <th>-0.494824</th>\n",
       "      <td>Nevada</td>\n",
       "    </tr>\n",
       "    <tr>\n",
       "      <th>-0.390448</th>\n",
       "      <td>Louisiana</td>\n",
       "    </tr>\n",
       "    <tr>\n",
       "      <th>-0.298520</th>\n",
       "      <td>Maryland</td>\n",
       "    </tr>\n",
       "    <tr>\n",
       "      <th>-0.284453</th>\n",
       "      <td>Oregon</td>\n",
       "    </tr>\n",
       "    <tr>\n",
       "      <th>-0.265488</th>\n",
       "      <td>Ohio</td>\n",
       "    </tr>\n",
       "    <tr>\n",
       "      <th>-0.096942</th>\n",
       "      <td>Georgia</td>\n",
       "    </tr>\n",
       "    <tr>\n",
       "      <th>-0.085646</th>\n",
       "      <td>California</td>\n",
       "    </tr>\n",
       "    <tr>\n",
       "      <th>-0.079371</th>\n",
       "      <td>New York</td>\n",
       "    </tr>\n",
       "    <tr>\n",
       "      <th>-0.076242</th>\n",
       "      <td>North Carolina</td>\n",
       "    </tr>\n",
       "    <tr>\n",
       "      <th>-0.066914</th>\n",
       "      <td>Virginia</td>\n",
       "    </tr>\n",
       "    <tr>\n",
       "      <th>-0.052442</th>\n",
       "      <td>Illinois</td>\n",
       "    </tr>\n",
       "    <tr>\n",
       "      <th>-0.021585</th>\n",
       "      <td>Indiana</td>\n",
       "    </tr>\n",
       "    <tr>\n",
       "      <th>0.044605</th>\n",
       "      <td>Florida</td>\n",
       "    </tr>\n",
       "    <tr>\n",
       "      <th>0.068391</th>\n",
       "      <td>South Dakota</td>\n",
       "    </tr>\n",
       "    <tr>\n",
       "      <th>0.139930</th>\n",
       "      <td>Rhode Island</td>\n",
       "    </tr>\n",
       "    <tr>\n",
       "      <th>0.163471</th>\n",
       "      <td>Iowa</td>\n",
       "    </tr>\n",
       "    <tr>\n",
       "      <th>0.261400</th>\n",
       "      <td>Oklahoma</td>\n",
       "    </tr>\n",
       "    <tr>\n",
       "      <th>0.288809</th>\n",
       "      <td>New Mexico</td>\n",
       "    </tr>\n",
       "    <tr>\n",
       "      <th>0.370107</th>\n",
       "      <td>Idaho</td>\n",
       "    </tr>\n",
       "    <tr>\n",
       "      <th>0.429677</th>\n",
       "      <td>Nebraska</td>\n",
       "    </tr>\n",
       "    <tr>\n",
       "      <th>0.445410</th>\n",
       "      <td>Connecticut</td>\n",
       "    </tr>\n",
       "    <tr>\n",
       "      <th>0.470043</th>\n",
       "      <td>Wisconsin</td>\n",
       "    </tr>\n",
       "    <tr>\n",
       "      <th>0.568881</th>\n",
       "      <td>Alabama</td>\n",
       "    </tr>\n",
       "    <tr>\n",
       "      <th>0.578650</th>\n",
       "      <td>Vermont</td>\n",
       "    </tr>\n",
       "    <tr>\n",
       "      <th>0.583900</th>\n",
       "      <td>Missouri</td>\n",
       "    </tr>\n",
       "    <tr>\n",
       "      <th>0.644167</th>\n",
       "      <td>Tennessee</td>\n",
       "    </tr>\n",
       "    <tr>\n",
       "      <th>0.676480</th>\n",
       "      <td>Kansas</td>\n",
       "    </tr>\n",
       "    <tr>\n",
       "      <th>0.694404</th>\n",
       "      <td>Minnesota</td>\n",
       "    </tr>\n",
       "    <tr>\n",
       "      <th>0.761066</th>\n",
       "      <td>Michigan</td>\n",
       "    </tr>\n",
       "    <tr>\n",
       "      <th>0.842468</th>\n",
       "      <td>Utah</td>\n",
       "    </tr>\n",
       "    <tr>\n",
       "      <th>0.855821</th>\n",
       "      <td>Kentucky</td>\n",
       "    </tr>\n",
       "    <tr>\n",
       "      <th>0.903506</th>\n",
       "      <td>North Dakota</td>\n",
       "    </tr>\n",
       "    <tr>\n",
       "      <th>0.921141</th>\n",
       "      <td>Texas</td>\n",
       "    </tr>\n",
       "    <tr>\n",
       "      <th>0.956458</th>\n",
       "      <td>Colorado</td>\n",
       "    </tr>\n",
       "    <tr>\n",
       "      <th>1.086261</th>\n",
       "      <td>Arkansas</td>\n",
       "    </tr>\n",
       "    <tr>\n",
       "      <th>1.506831</th>\n",
       "      <td>Hawaii</td>\n",
       "    </tr>\n",
       "  </tbody>\n",
       "</table>\n",
       "</div>"
      ],
      "text/plain": [
       "                        0\n",
       "-1.470954           Maine\n",
       "-1.101092  South Carolina\n",
       "-1.066469        Delaware\n",
       "-0.969826   West Virginia\n",
       "-0.962724      Washington\n",
       "-0.950455    Pennsylvania\n",
       "-0.915354     Mississippi\n",
       "-0.864157         Arizona\n",
       "-0.840248         Montana\n",
       "-0.666121      New Jersey\n",
       "-0.611054   Massachusetts\n",
       "-0.586789         Wyoming\n",
       "-0.547404          Alaska\n",
       "-0.496356   New Hampshire\n",
       "-0.494824          Nevada\n",
       "-0.390448       Louisiana\n",
       "-0.298520        Maryland\n",
       "-0.284453          Oregon\n",
       "-0.265488            Ohio\n",
       "-0.096942         Georgia\n",
       "-0.085646      California\n",
       "-0.079371        New York\n",
       "-0.076242  North Carolina\n",
       "-0.066914        Virginia\n",
       "-0.052442        Illinois\n",
       "-0.021585         Indiana\n",
       " 0.044605         Florida\n",
       " 0.068391    South Dakota\n",
       " 0.139930    Rhode Island\n",
       " 0.163471            Iowa\n",
       " 0.261400        Oklahoma\n",
       " 0.288809      New Mexico\n",
       " 0.370107           Idaho\n",
       " 0.429677        Nebraska\n",
       " 0.445410     Connecticut\n",
       " 0.470043       Wisconsin\n",
       " 0.568881         Alabama\n",
       " 0.578650         Vermont\n",
       " 0.583900        Missouri\n",
       " 0.644167       Tennessee\n",
       " 0.676480          Kansas\n",
       " 0.694404       Minnesota\n",
       " 0.761066        Michigan\n",
       " 0.842468            Utah\n",
       " 0.855821        Kentucky\n",
       " 0.903506    North Dakota\n",
       " 0.921141           Texas\n",
       " 0.956458        Colorado\n",
       " 1.086261        Arkansas\n",
       " 1.506831          Hawaii"
      ]
     },
     "execution_count": 85,
     "metadata": {},
     "output_type": "execute_result"
    }
   ],
   "source": [
    "pd.DataFrame(list(data['state.name']),list(lm_model3.resid)).sort_index()"
   ]
  },
  {
   "cell_type": "code",
   "execution_count": 95,
   "metadata": {
    "collapsed": false
   },
   "outputs": [
    {
     "data": {
      "text/plain": [
       "[(-0.02158525517579335, 'Indiana'),\n",
       " (0.044605045898293838, 'Florida'),\n",
       " (-0.052441602081202632, 'Illinois'),\n",
       " (-0.066913923464909431, 'Virginia'),\n",
       " (0.068391188667135339, 'South Dakota'),\n",
       " (-0.076241787454080168, 'North Carolina'),\n",
       " (-0.079371492801172394, 'New York'),\n",
       " (-0.085645989167858261, 'California'),\n",
       " (-0.096942270212664994, 'Georgia'),\n",
       " (0.13992981882621791, 'Rhode Island'),\n",
       " (0.16347123967416621, 'Iowa'),\n",
       " (0.26139957917312984, 'Oklahoma'),\n",
       " (-0.26548767037041898, 'Ohio'),\n",
       " (-0.28445333251043792, 'Oregon'),\n",
       " (0.28880944720869195, 'New Mexico'),\n",
       " (-0.29851995710447454, 'Maryland'),\n",
       " (0.37010713615740087, 'Idaho'),\n",
       " (-0.39044845658033012, 'Louisiana'),\n",
       " (0.42967690718158735, 'Nebraska'),\n",
       " (0.44541027546600276, 'Connecticut'),\n",
       " (0.47004323541612791, 'Wisconsin'),\n",
       " (-0.49482392983117052, 'Nevada'),\n",
       " (-0.49635614913422899, 'New Hampshire'),\n",
       " (-0.54740399488935054, 'Alaska'),\n",
       " (0.56888133963249743, 'Alabama'),\n",
       " (0.57865018910550248, 'Vermont'),\n",
       " (0.58389968873784426, 'Missouri'),\n",
       " (-0.58678863458145258, 'Wyoming'),\n",
       " (-0.61105391148048227, 'Massachusetts'),\n",
       " (0.64416651339421094, 'Tennessee'),\n",
       " (-0.6661208607715281, 'New Jersey'),\n",
       " (0.67648037281234963, 'Kansas'),\n",
       " (0.69440380278987845, 'Minnesota'),\n",
       " (0.76106640352085719, 'Michigan'),\n",
       " (-0.84024804943442177, 'Montana'),\n",
       " (0.84246816744497721, 'Utah'),\n",
       " (0.85582067305486476, 'Kentucky'),\n",
       " (-0.86415670622339746, 'Arizona'),\n",
       " (0.90350550372342298, 'North Dakota'),\n",
       " (-0.91535384354398275, 'Mississippi'),\n",
       " (0.92114056951596979, 'Texas'),\n",
       " (-0.95045526661394319, 'Pennsylvania'),\n",
       " (0.95645815827616332, 'Colorado'),\n",
       " (-0.96272426444188852, 'Washington'),\n",
       " (-0.96982587920521723, 'West Virginia'),\n",
       " (-1.0664688436755938, 'Delaware'),\n",
       " (1.0862611877659845, 'Arkansas'),\n",
       " (-1.1010917182138655, 'South Carolina'),\n",
       " (-1.4709541149994152, 'Maine'),\n",
       " (1.5068314605078115, 'Hawaii')]"
      ]
     },
     "execution_count": 95,
     "metadata": {},
     "output_type": "execute_result"
    }
   ],
   "source": [
    "##Another way:\n",
    "new_list=zip(list(lm_model3.resid),list(data['state.name']))\n",
    "new_list.sort(key=lambda tup:  abs(tup[0]))\n",
    "new_list"
   ]
  }
 ],
 "metadata": {
  "kernelspec": {
   "display_name": "Python 2",
   "language": "python",
   "name": "python2"
  },
  "language_info": {
   "codemirror_mode": {
    "name": "ipython",
    "version": 2
   },
   "file_extension": ".py",
   "mimetype": "text/x-python",
   "name": "python",
   "nbconvert_exporter": "python",
   "pygments_lexer": "ipython2",
   "version": "2.7.11"
  }
 },
 "nbformat": 4,
 "nbformat_minor": 0
}
