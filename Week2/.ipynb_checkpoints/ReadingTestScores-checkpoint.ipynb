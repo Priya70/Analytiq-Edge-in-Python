{
 "cells": [
  {
   "cell_type": "markdown",
   "metadata": {},
   "source": [
    "#### Reading Test Scores \n",
    "The Programme for International Student Assessment (PISA) is a test given every three years to 15-year-old students from around the world to evaluate their performance in mathematics, reading, and science. \n",
    "The datasets pisa2009train.csv and pisa2009test.csv contain information about the demographics and schools for American students taking the exam, derived from 2009 PISA Public-Use Data Files distributed by the United States National Center for Education Statistics (NCES).\n",
    "Each row in the datasets pisa2009train.csv and pisa2009test.csv represents one student taking the exam. The datasets have the following variables:"
   ]
  },
  {
   "cell_type": "code",
   "execution_count": 1,
   "metadata": {
    "collapsed": false
   },
   "outputs": [],
   "source": [
    "import numpy as np\n",
    "import pandas as pd\n",
    "import matplotlib.pyplot as plt\n",
    "import statsmodels.api as sm\n",
    "from sklearn.cross_validation import train_test_split\n",
    "import math"
   ]
  },
  {
   "cell_type": "code",
   "execution_count": 2,
   "metadata": {
    "collapsed": false
   },
   "outputs": [
    {
     "data": {
      "text/plain": [
       "u'0.18.1'"
      ]
     },
     "execution_count": 2,
     "metadata": {},
     "output_type": "execute_result"
    }
   ],
   "source": [
    "pd.__version__"
   ]
  },
  {
   "cell_type": "code",
   "execution_count": 3,
   "metadata": {
    "collapsed": false
   },
   "outputs": [
    {
     "data": {
      "text/plain": [
       "(3663, 24)"
      ]
     },
     "execution_count": 3,
     "metadata": {},
     "output_type": "execute_result"
    }
   ],
   "source": [
    "##Read in data\n",
    "train=pd.read_csv('pisa2009train.csv')\n",
    "test=pd.read_csv('pisa2009test.csv')\n",
    "train.shape"
   ]
  },
  {
   "cell_type": "code",
   "execution_count": 4,
   "metadata": {
    "collapsed": false
   },
   "outputs": [
    {
     "data": {
      "text/plain": [
       "(1570, 24)"
      ]
     },
     "execution_count": 4,
     "metadata": {},
     "output_type": "execute_result"
    }
   ],
   "source": [
    "test.shape"
   ]
  },
  {
   "cell_type": "code",
   "execution_count": 5,
   "metadata": {
    "collapsed": false
   },
   "outputs": [
    {
     "data": {
      "text/html": [
       "<div>\n",
       "<table border=\"1\" class=\"dataframe\">\n",
       "  <thead>\n",
       "    <tr style=\"text-align: right;\">\n",
       "      <th></th>\n",
       "      <th>grade</th>\n",
       "      <th>male</th>\n",
       "      <th>raceeth</th>\n",
       "      <th>preschool</th>\n",
       "      <th>expectBachelors</th>\n",
       "      <th>motherHS</th>\n",
       "      <th>motherBachelors</th>\n",
       "      <th>motherWork</th>\n",
       "      <th>fatherHS</th>\n",
       "      <th>fatherBachelors</th>\n",
       "      <th>...</th>\n",
       "      <th>englishAtHome</th>\n",
       "      <th>computerForSchoolwork</th>\n",
       "      <th>read30MinsADay</th>\n",
       "      <th>minutesPerWeekEnglish</th>\n",
       "      <th>studentsInEnglish</th>\n",
       "      <th>schoolHasLibrary</th>\n",
       "      <th>publicSchool</th>\n",
       "      <th>urban</th>\n",
       "      <th>schoolSize</th>\n",
       "      <th>readingScore</th>\n",
       "    </tr>\n",
       "  </thead>\n",
       "  <tbody>\n",
       "    <tr>\n",
       "      <th>0</th>\n",
       "      <td>11</td>\n",
       "      <td>1</td>\n",
       "      <td>NaN</td>\n",
       "      <td>NaN</td>\n",
       "      <td>0.0</td>\n",
       "      <td>NaN</td>\n",
       "      <td>NaN</td>\n",
       "      <td>1.0</td>\n",
       "      <td>NaN</td>\n",
       "      <td>NaN</td>\n",
       "      <td>...</td>\n",
       "      <td>0.0</td>\n",
       "      <td>1.0</td>\n",
       "      <td>0.0</td>\n",
       "      <td>225.0</td>\n",
       "      <td>NaN</td>\n",
       "      <td>1.0</td>\n",
       "      <td>1</td>\n",
       "      <td>1</td>\n",
       "      <td>673.0</td>\n",
       "      <td>476.00</td>\n",
       "    </tr>\n",
       "    <tr>\n",
       "      <th>1</th>\n",
       "      <td>11</td>\n",
       "      <td>1</td>\n",
       "      <td>White</td>\n",
       "      <td>0.0</td>\n",
       "      <td>0.0</td>\n",
       "      <td>1.0</td>\n",
       "      <td>1.0</td>\n",
       "      <td>1.0</td>\n",
       "      <td>1.0</td>\n",
       "      <td>0.0</td>\n",
       "      <td>...</td>\n",
       "      <td>1.0</td>\n",
       "      <td>1.0</td>\n",
       "      <td>1.0</td>\n",
       "      <td>450.0</td>\n",
       "      <td>25.0</td>\n",
       "      <td>1.0</td>\n",
       "      <td>1</td>\n",
       "      <td>0</td>\n",
       "      <td>1173.0</td>\n",
       "      <td>575.01</td>\n",
       "    </tr>\n",
       "    <tr>\n",
       "      <th>2</th>\n",
       "      <td>9</td>\n",
       "      <td>1</td>\n",
       "      <td>White</td>\n",
       "      <td>1.0</td>\n",
       "      <td>1.0</td>\n",
       "      <td>1.0</td>\n",
       "      <td>1.0</td>\n",
       "      <td>1.0</td>\n",
       "      <td>1.0</td>\n",
       "      <td>NaN</td>\n",
       "      <td>...</td>\n",
       "      <td>1.0</td>\n",
       "      <td>1.0</td>\n",
       "      <td>0.0</td>\n",
       "      <td>250.0</td>\n",
       "      <td>28.0</td>\n",
       "      <td>1.0</td>\n",
       "      <td>1</td>\n",
       "      <td>0</td>\n",
       "      <td>1233.0</td>\n",
       "      <td>554.81</td>\n",
       "    </tr>\n",
       "    <tr>\n",
       "      <th>3</th>\n",
       "      <td>10</td>\n",
       "      <td>0</td>\n",
       "      <td>Black</td>\n",
       "      <td>1.0</td>\n",
       "      <td>1.0</td>\n",
       "      <td>0.0</td>\n",
       "      <td>0.0</td>\n",
       "      <td>1.0</td>\n",
       "      <td>1.0</td>\n",
       "      <td>0.0</td>\n",
       "      <td>...</td>\n",
       "      <td>1.0</td>\n",
       "      <td>1.0</td>\n",
       "      <td>1.0</td>\n",
       "      <td>200.0</td>\n",
       "      <td>23.0</td>\n",
       "      <td>1.0</td>\n",
       "      <td>1</td>\n",
       "      <td>1</td>\n",
       "      <td>2640.0</td>\n",
       "      <td>458.11</td>\n",
       "    </tr>\n",
       "    <tr>\n",
       "      <th>4</th>\n",
       "      <td>10</td>\n",
       "      <td>1</td>\n",
       "      <td>Hispanic</td>\n",
       "      <td>1.0</td>\n",
       "      <td>0.0</td>\n",
       "      <td>1.0</td>\n",
       "      <td>0.0</td>\n",
       "      <td>1.0</td>\n",
       "      <td>1.0</td>\n",
       "      <td>0.0</td>\n",
       "      <td>...</td>\n",
       "      <td>1.0</td>\n",
       "      <td>1.0</td>\n",
       "      <td>1.0</td>\n",
       "      <td>250.0</td>\n",
       "      <td>35.0</td>\n",
       "      <td>1.0</td>\n",
       "      <td>1</td>\n",
       "      <td>1</td>\n",
       "      <td>1095.0</td>\n",
       "      <td>613.89</td>\n",
       "    </tr>\n",
       "  </tbody>\n",
       "</table>\n",
       "<p>5 rows × 24 columns</p>\n",
       "</div>"
      ],
      "text/plain": [
       "   grade  male   raceeth  preschool  expectBachelors  motherHS  \\\n",
       "0     11     1       NaN        NaN              0.0       NaN   \n",
       "1     11     1     White        0.0              0.0       1.0   \n",
       "2      9     1     White        1.0              1.0       1.0   \n",
       "3     10     0     Black        1.0              1.0       0.0   \n",
       "4     10     1  Hispanic        1.0              0.0       1.0   \n",
       "\n",
       "   motherBachelors  motherWork  fatherHS  fatherBachelors      ...       \\\n",
       "0              NaN         1.0       NaN              NaN      ...        \n",
       "1              1.0         1.0       1.0              0.0      ...        \n",
       "2              1.0         1.0       1.0              NaN      ...        \n",
       "3              0.0         1.0       1.0              0.0      ...        \n",
       "4              0.0         1.0       1.0              0.0      ...        \n",
       "\n",
       "   englishAtHome  computerForSchoolwork  read30MinsADay  \\\n",
       "0            0.0                    1.0             0.0   \n",
       "1            1.0                    1.0             1.0   \n",
       "2            1.0                    1.0             0.0   \n",
       "3            1.0                    1.0             1.0   \n",
       "4            1.0                    1.0             1.0   \n",
       "\n",
       "   minutesPerWeekEnglish  studentsInEnglish  schoolHasLibrary  publicSchool  \\\n",
       "0                  225.0                NaN               1.0             1   \n",
       "1                  450.0               25.0               1.0             1   \n",
       "2                  250.0               28.0               1.0             1   \n",
       "3                  200.0               23.0               1.0             1   \n",
       "4                  250.0               35.0               1.0             1   \n",
       "\n",
       "   urban  schoolSize  readingScore  \n",
       "0      1       673.0        476.00  \n",
       "1      0      1173.0        575.01  \n",
       "2      0      1233.0        554.81  \n",
       "3      1      2640.0        458.11  \n",
       "4      1      1095.0        613.89  \n",
       "\n",
       "[5 rows x 24 columns]"
      ]
     },
     "execution_count": 5,
     "metadata": {},
     "output_type": "execute_result"
    }
   ],
   "source": [
    "train.head()"
   ]
  },
  {
   "cell_type": "markdown",
   "metadata": {},
   "source": [
    "####  1.2 What is the average reading test score of males and females in th training set?"
   ]
  },
  {
   "cell_type": "code",
   "execution_count": 6,
   "metadata": {
    "collapsed": false
   },
   "outputs": [
    {
     "data": {
      "text/plain": [
       "483.53247863247805"
      ]
     },
     "execution_count": 6,
     "metadata": {},
     "output_type": "execute_result"
    }
   ],
   "source": [
    "# average reading score of males \n",
    "train.readingScore[train.male==1].mean()"
   ]
  },
  {
   "cell_type": "code",
   "execution_count": 7,
   "metadata": {
    "collapsed": false
   },
   "outputs": [
    {
     "data": {
      "text/plain": [
       "512.94063093244"
      ]
     },
     "execution_count": 7,
     "metadata": {},
     "output_type": "execute_result"
    }
   ],
   "source": [
    "#Average female reading score\n",
    "train.readingScore[train.male==0].mean()"
   ]
  },
  {
   "cell_type": "markdown",
   "metadata": {},
   "source": [
    "#### Locate missing Values\n",
    "Which variables are missing data in at least one observation in the training set? "
   ]
  },
  {
   "cell_type": "code",
   "execution_count": 8,
   "metadata": {
    "collapsed": false
   },
   "outputs": [
    {
     "data": {
      "text/plain": [
       "grade                      0\n",
       "male                       0\n",
       "raceeth                   35\n",
       "preschool                 56\n",
       "expectBachelors           62\n",
       "motherHS                  97\n",
       "motherBachelors          397\n",
       "motherWork                93\n",
       "fatherHS                 245\n",
       "fatherBachelors          569\n",
       "fatherWork               233\n",
       "selfBornUS                69\n",
       "motherBornUS              71\n",
       "fatherBornUS             113\n",
       "englishAtHome             71\n",
       "computerForSchoolwork     65\n",
       "read30MinsADay            34\n",
       "minutesPerWeekEnglish    186\n",
       "studentsInEnglish        249\n",
       "schoolHasLibrary         143\n",
       "publicSchool               0\n",
       "urban                      0\n",
       "schoolSize               162\n",
       "readingScore               0\n",
       "dtype: int64"
      ]
     },
     "execution_count": 8,
     "metadata": {},
     "output_type": "execute_result"
    }
   ],
   "source": [
    "train.isnull().sum()"
   ]
  },
  {
   "cell_type": "markdown",
   "metadata": {},
   "source": [
    "Linear regression discards observations with missing data, so we will remove all such observations from the training and testing sets. Later in the course, we will learn about imputation, which deals with missing data by filling in missing values with plausible information."
   ]
  },
  {
   "cell_type": "code",
   "execution_count": 9,
   "metadata": {
    "collapsed": false
   },
   "outputs": [],
   "source": [
    "##Drop missing values\n",
    "train.dropna(inplace=True)\n",
    "test.dropna(inplace=True)"
   ]
  },
  {
   "cell_type": "code",
   "execution_count": 10,
   "metadata": {
    "collapsed": false
   },
   "outputs": [
    {
     "data": {
      "text/plain": [
       "(990, 24)"
      ]
     },
     "execution_count": 10,
     "metadata": {},
     "output_type": "execute_result"
    }
   ],
   "source": [
    "test.shape"
   ]
  },
  {
   "cell_type": "code",
   "execution_count": 11,
   "metadata": {
    "collapsed": false
   },
   "outputs": [
    {
     "data": {
      "text/plain": [
       "(2414, 24)"
      ]
     },
     "execution_count": 11,
     "metadata": {},
     "output_type": "execute_result"
    }
   ],
   "source": [
    "train.shape"
   ]
  },
  {
   "cell_type": "code",
   "execution_count": 12,
   "metadata": {
    "collapsed": false
   },
   "outputs": [
    {
     "data": {
      "text/html": [
       "<div>\n",
       "<table border=\"1\" class=\"dataframe\">\n",
       "  <thead>\n",
       "    <tr style=\"text-align: right;\">\n",
       "      <th></th>\n",
       "      <th>grade</th>\n",
       "      <th>male</th>\n",
       "      <th>raceeth</th>\n",
       "      <th>preschool</th>\n",
       "      <th>expectBachelors</th>\n",
       "      <th>motherHS</th>\n",
       "      <th>motherBachelors</th>\n",
       "      <th>motherWork</th>\n",
       "      <th>fatherHS</th>\n",
       "      <th>fatherBachelors</th>\n",
       "      <th>...</th>\n",
       "      <th>englishAtHome</th>\n",
       "      <th>computerForSchoolwork</th>\n",
       "      <th>read30MinsADay</th>\n",
       "      <th>minutesPerWeekEnglish</th>\n",
       "      <th>studentsInEnglish</th>\n",
       "      <th>schoolHasLibrary</th>\n",
       "      <th>publicSchool</th>\n",
       "      <th>urban</th>\n",
       "      <th>schoolSize</th>\n",
       "      <th>readingScore</th>\n",
       "    </tr>\n",
       "  </thead>\n",
       "  <tbody>\n",
       "    <tr>\n",
       "      <th>1</th>\n",
       "      <td>11</td>\n",
       "      <td>1</td>\n",
       "      <td>White</td>\n",
       "      <td>0.0</td>\n",
       "      <td>0.0</td>\n",
       "      <td>1.0</td>\n",
       "      <td>1.0</td>\n",
       "      <td>1.0</td>\n",
       "      <td>1.0</td>\n",
       "      <td>0.0</td>\n",
       "      <td>...</td>\n",
       "      <td>1.0</td>\n",
       "      <td>1.0</td>\n",
       "      <td>1.0</td>\n",
       "      <td>450.0</td>\n",
       "      <td>25.0</td>\n",
       "      <td>1.0</td>\n",
       "      <td>1</td>\n",
       "      <td>0</td>\n",
       "      <td>1173.0</td>\n",
       "      <td>575.01</td>\n",
       "    </tr>\n",
       "    <tr>\n",
       "      <th>3</th>\n",
       "      <td>10</td>\n",
       "      <td>0</td>\n",
       "      <td>Black</td>\n",
       "      <td>1.0</td>\n",
       "      <td>1.0</td>\n",
       "      <td>0.0</td>\n",
       "      <td>0.0</td>\n",
       "      <td>1.0</td>\n",
       "      <td>1.0</td>\n",
       "      <td>0.0</td>\n",
       "      <td>...</td>\n",
       "      <td>1.0</td>\n",
       "      <td>1.0</td>\n",
       "      <td>1.0</td>\n",
       "      <td>200.0</td>\n",
       "      <td>23.0</td>\n",
       "      <td>1.0</td>\n",
       "      <td>1</td>\n",
       "      <td>1</td>\n",
       "      <td>2640.0</td>\n",
       "      <td>458.11</td>\n",
       "    </tr>\n",
       "    <tr>\n",
       "      <th>4</th>\n",
       "      <td>10</td>\n",
       "      <td>1</td>\n",
       "      <td>Hispanic</td>\n",
       "      <td>1.0</td>\n",
       "      <td>0.0</td>\n",
       "      <td>1.0</td>\n",
       "      <td>0.0</td>\n",
       "      <td>1.0</td>\n",
       "      <td>1.0</td>\n",
       "      <td>0.0</td>\n",
       "      <td>...</td>\n",
       "      <td>1.0</td>\n",
       "      <td>1.0</td>\n",
       "      <td>1.0</td>\n",
       "      <td>250.0</td>\n",
       "      <td>35.0</td>\n",
       "      <td>1.0</td>\n",
       "      <td>1</td>\n",
       "      <td>1</td>\n",
       "      <td>1095.0</td>\n",
       "      <td>613.89</td>\n",
       "    </tr>\n",
       "    <tr>\n",
       "      <th>7</th>\n",
       "      <td>10</td>\n",
       "      <td>0</td>\n",
       "      <td>White</td>\n",
       "      <td>1.0</td>\n",
       "      <td>1.0</td>\n",
       "      <td>1.0</td>\n",
       "      <td>0.0</td>\n",
       "      <td>0.0</td>\n",
       "      <td>1.0</td>\n",
       "      <td>0.0</td>\n",
       "      <td>...</td>\n",
       "      <td>1.0</td>\n",
       "      <td>1.0</td>\n",
       "      <td>1.0</td>\n",
       "      <td>300.0</td>\n",
       "      <td>30.0</td>\n",
       "      <td>1.0</td>\n",
       "      <td>1</td>\n",
       "      <td>0</td>\n",
       "      <td>1913.0</td>\n",
       "      <td>439.36</td>\n",
       "    </tr>\n",
       "    <tr>\n",
       "      <th>9</th>\n",
       "      <td>10</td>\n",
       "      <td>1</td>\n",
       "      <td>More than one race</td>\n",
       "      <td>1.0</td>\n",
       "      <td>1.0</td>\n",
       "      <td>1.0</td>\n",
       "      <td>1.0</td>\n",
       "      <td>1.0</td>\n",
       "      <td>0.0</td>\n",
       "      <td>0.0</td>\n",
       "      <td>...</td>\n",
       "      <td>1.0</td>\n",
       "      <td>1.0</td>\n",
       "      <td>0.0</td>\n",
       "      <td>294.0</td>\n",
       "      <td>24.0</td>\n",
       "      <td>1.0</td>\n",
       "      <td>1</td>\n",
       "      <td>0</td>\n",
       "      <td>899.0</td>\n",
       "      <td>465.90</td>\n",
       "    </tr>\n",
       "  </tbody>\n",
       "</table>\n",
       "<p>5 rows × 24 columns</p>\n",
       "</div>"
      ],
      "text/plain": [
       "   grade  male             raceeth  preschool  expectBachelors  motherHS  \\\n",
       "1     11     1               White        0.0              0.0       1.0   \n",
       "3     10     0               Black        1.0              1.0       0.0   \n",
       "4     10     1            Hispanic        1.0              0.0       1.0   \n",
       "7     10     0               White        1.0              1.0       1.0   \n",
       "9     10     1  More than one race        1.0              1.0       1.0   \n",
       "\n",
       "   motherBachelors  motherWork  fatherHS  fatherBachelors      ...       \\\n",
       "1              1.0         1.0       1.0              0.0      ...        \n",
       "3              0.0         1.0       1.0              0.0      ...        \n",
       "4              0.0         1.0       1.0              0.0      ...        \n",
       "7              0.0         0.0       1.0              0.0      ...        \n",
       "9              1.0         1.0       0.0              0.0      ...        \n",
       "\n",
       "   englishAtHome  computerForSchoolwork  read30MinsADay  \\\n",
       "1            1.0                    1.0             1.0   \n",
       "3            1.0                    1.0             1.0   \n",
       "4            1.0                    1.0             1.0   \n",
       "7            1.0                    1.0             1.0   \n",
       "9            1.0                    1.0             0.0   \n",
       "\n",
       "   minutesPerWeekEnglish  studentsInEnglish  schoolHasLibrary  publicSchool  \\\n",
       "1                  450.0               25.0               1.0             1   \n",
       "3                  200.0               23.0               1.0             1   \n",
       "4                  250.0               35.0               1.0             1   \n",
       "7                  300.0               30.0               1.0             1   \n",
       "9                  294.0               24.0               1.0             1   \n",
       "\n",
       "   urban  schoolSize  readingScore  \n",
       "1      0      1173.0        575.01  \n",
       "3      1      2640.0        458.11  \n",
       "4      1      1095.0        613.89  \n",
       "7      0      1913.0        439.36  \n",
       "9      0       899.0        465.90  \n",
       "\n",
       "[5 rows x 24 columns]"
      ]
     },
     "execution_count": 12,
     "metadata": {},
     "output_type": "execute_result"
    }
   ],
   "source": [
    "train.head(5)"
   ]
  },
  {
   "cell_type": "code",
   "execution_count": 13,
   "metadata": {
    "collapsed": false
   },
   "outputs": [
    {
     "data": {
      "text/html": [
       "<div>\n",
       "<table border=\"1\" class=\"dataframe\">\n",
       "  <thead>\n",
       "    <tr style=\"text-align: right;\">\n",
       "      <th></th>\n",
       "      <th>index</th>\n",
       "      <th>grade</th>\n",
       "      <th>male</th>\n",
       "      <th>raceeth</th>\n",
       "      <th>preschool</th>\n",
       "      <th>expectBachelors</th>\n",
       "      <th>motherHS</th>\n",
       "      <th>motherBachelors</th>\n",
       "      <th>motherWork</th>\n",
       "      <th>fatherHS</th>\n",
       "      <th>...</th>\n",
       "      <th>englishAtHome</th>\n",
       "      <th>computerForSchoolwork</th>\n",
       "      <th>read30MinsADay</th>\n",
       "      <th>minutesPerWeekEnglish</th>\n",
       "      <th>studentsInEnglish</th>\n",
       "      <th>schoolHasLibrary</th>\n",
       "      <th>publicSchool</th>\n",
       "      <th>urban</th>\n",
       "      <th>schoolSize</th>\n",
       "      <th>readingScore</th>\n",
       "    </tr>\n",
       "  </thead>\n",
       "  <tbody>\n",
       "    <tr>\n",
       "      <th>0</th>\n",
       "      <td>1</td>\n",
       "      <td>11</td>\n",
       "      <td>1</td>\n",
       "      <td>White</td>\n",
       "      <td>0.0</td>\n",
       "      <td>0.0</td>\n",
       "      <td>1.0</td>\n",
       "      <td>1.0</td>\n",
       "      <td>1.0</td>\n",
       "      <td>1.0</td>\n",
       "      <td>...</td>\n",
       "      <td>1.0</td>\n",
       "      <td>1.0</td>\n",
       "      <td>1.0</td>\n",
       "      <td>450.0</td>\n",
       "      <td>25.0</td>\n",
       "      <td>1.0</td>\n",
       "      <td>1</td>\n",
       "      <td>0</td>\n",
       "      <td>1173.0</td>\n",
       "      <td>575.01</td>\n",
       "    </tr>\n",
       "    <tr>\n",
       "      <th>1</th>\n",
       "      <td>3</td>\n",
       "      <td>10</td>\n",
       "      <td>0</td>\n",
       "      <td>Black</td>\n",
       "      <td>1.0</td>\n",
       "      <td>1.0</td>\n",
       "      <td>0.0</td>\n",
       "      <td>0.0</td>\n",
       "      <td>1.0</td>\n",
       "      <td>1.0</td>\n",
       "      <td>...</td>\n",
       "      <td>1.0</td>\n",
       "      <td>1.0</td>\n",
       "      <td>1.0</td>\n",
       "      <td>200.0</td>\n",
       "      <td>23.0</td>\n",
       "      <td>1.0</td>\n",
       "      <td>1</td>\n",
       "      <td>1</td>\n",
       "      <td>2640.0</td>\n",
       "      <td>458.11</td>\n",
       "    </tr>\n",
       "    <tr>\n",
       "      <th>2</th>\n",
       "      <td>4</td>\n",
       "      <td>10</td>\n",
       "      <td>1</td>\n",
       "      <td>Hispanic</td>\n",
       "      <td>1.0</td>\n",
       "      <td>0.0</td>\n",
       "      <td>1.0</td>\n",
       "      <td>0.0</td>\n",
       "      <td>1.0</td>\n",
       "      <td>1.0</td>\n",
       "      <td>...</td>\n",
       "      <td>1.0</td>\n",
       "      <td>1.0</td>\n",
       "      <td>1.0</td>\n",
       "      <td>250.0</td>\n",
       "      <td>35.0</td>\n",
       "      <td>1.0</td>\n",
       "      <td>1</td>\n",
       "      <td>1</td>\n",
       "      <td>1095.0</td>\n",
       "      <td>613.89</td>\n",
       "    </tr>\n",
       "    <tr>\n",
       "      <th>3</th>\n",
       "      <td>7</td>\n",
       "      <td>10</td>\n",
       "      <td>0</td>\n",
       "      <td>White</td>\n",
       "      <td>1.0</td>\n",
       "      <td>1.0</td>\n",
       "      <td>1.0</td>\n",
       "      <td>0.0</td>\n",
       "      <td>0.0</td>\n",
       "      <td>1.0</td>\n",
       "      <td>...</td>\n",
       "      <td>1.0</td>\n",
       "      <td>1.0</td>\n",
       "      <td>1.0</td>\n",
       "      <td>300.0</td>\n",
       "      <td>30.0</td>\n",
       "      <td>1.0</td>\n",
       "      <td>1</td>\n",
       "      <td>0</td>\n",
       "      <td>1913.0</td>\n",
       "      <td>439.36</td>\n",
       "    </tr>\n",
       "    <tr>\n",
       "      <th>4</th>\n",
       "      <td>9</td>\n",
       "      <td>10</td>\n",
       "      <td>1</td>\n",
       "      <td>More than one race</td>\n",
       "      <td>1.0</td>\n",
       "      <td>1.0</td>\n",
       "      <td>1.0</td>\n",
       "      <td>1.0</td>\n",
       "      <td>1.0</td>\n",
       "      <td>0.0</td>\n",
       "      <td>...</td>\n",
       "      <td>1.0</td>\n",
       "      <td>1.0</td>\n",
       "      <td>0.0</td>\n",
       "      <td>294.0</td>\n",
       "      <td>24.0</td>\n",
       "      <td>1.0</td>\n",
       "      <td>1</td>\n",
       "      <td>0</td>\n",
       "      <td>899.0</td>\n",
       "      <td>465.90</td>\n",
       "    </tr>\n",
       "  </tbody>\n",
       "</table>\n",
       "<p>5 rows × 25 columns</p>\n",
       "</div>"
      ],
      "text/plain": [
       "   index  grade  male             raceeth  preschool  expectBachelors  \\\n",
       "0      1     11     1               White        0.0              0.0   \n",
       "1      3     10     0               Black        1.0              1.0   \n",
       "2      4     10     1            Hispanic        1.0              0.0   \n",
       "3      7     10     0               White        1.0              1.0   \n",
       "4      9     10     1  More than one race        1.0              1.0   \n",
       "\n",
       "   motherHS  motherBachelors  motherWork  fatherHS      ...       \\\n",
       "0       1.0              1.0         1.0       1.0      ...        \n",
       "1       0.0              0.0         1.0       1.0      ...        \n",
       "2       1.0              0.0         1.0       1.0      ...        \n",
       "3       1.0              0.0         0.0       1.0      ...        \n",
       "4       1.0              1.0         1.0       0.0      ...        \n",
       "\n",
       "   englishAtHome  computerForSchoolwork  read30MinsADay  \\\n",
       "0            1.0                    1.0             1.0   \n",
       "1            1.0                    1.0             1.0   \n",
       "2            1.0                    1.0             1.0   \n",
       "3            1.0                    1.0             1.0   \n",
       "4            1.0                    1.0             0.0   \n",
       "\n",
       "   minutesPerWeekEnglish  studentsInEnglish  schoolHasLibrary  publicSchool  \\\n",
       "0                  450.0               25.0               1.0             1   \n",
       "1                  200.0               23.0               1.0             1   \n",
       "2                  250.0               35.0               1.0             1   \n",
       "3                  300.0               30.0               1.0             1   \n",
       "4                  294.0               24.0               1.0             1   \n",
       "\n",
       "   urban  schoolSize  readingScore  \n",
       "0      0      1173.0        575.01  \n",
       "1      1      2640.0        458.11  \n",
       "2      1      1095.0        613.89  \n",
       "3      0      1913.0        439.36  \n",
       "4      0       899.0        465.90  \n",
       "\n",
       "[5 rows x 25 columns]"
      ]
     },
     "execution_count": 13,
     "metadata": {},
     "output_type": "execute_result"
    }
   ],
   "source": [
    "## Reset indexing of the df\n",
    "train.reset_index(inplace=True)\n",
    "test.reset_index(inplace=True) ##Note reset_index add another column called 'index with the old index cols\n",
    "train.head(5)"
   ]
  },
  {
   "cell_type": "markdown",
   "metadata": {},
   "source": [
    "Factor variables are variables that take on a discrete set of values. An ordered factor has a natural ordering between the levels (an example would be the classifications \"large,\" \"medium,\" and \"small\"). \n",
    "\n",
    "Which of the following variables is an unordered factor with at least 3 levels?\n",
    "Which of the following variables is an ordered factor with at least 3 levels? (Select all that apply"
   ]
  },
  {
   "cell_type": "code",
   "execution_count": 14,
   "metadata": {
    "collapsed": false
   },
   "outputs": [
    {
     "data": {
      "text/plain": [
       "10    1730\n",
       "11     491\n",
       "9      188\n",
       "12       3\n",
       "8        2\n",
       "Name: grade, dtype: int64"
      ]
     },
     "execution_count": 14,
     "metadata": {},
     "output_type": "execute_result"
    }
   ],
   "source": [
    "train.grade.value_counts()"
   ]
  },
  {
   "cell_type": "code",
   "execution_count": 15,
   "metadata": {
    "collapsed": false
   },
   "outputs": [
    {
     "data": {
      "text/plain": [
       "1    1210\n",
       "0    1204\n",
       "Name: male, dtype: int64"
      ]
     },
     "execution_count": 15,
     "metadata": {},
     "output_type": "execute_result"
    }
   ],
   "source": [
    "train.male.value_counts()"
   ]
  },
  {
   "cell_type": "code",
   "execution_count": 16,
   "metadata": {
    "collapsed": false
   },
   "outputs": [
    {
     "data": {
      "text/plain": [
       "White                                     1470\n",
       "Hispanic                                   500\n",
       "Black                                      228\n",
       "Asian                                       95\n",
       "More than one race                          81\n",
       "American Indian/Alaska Native               20\n",
       "Native Hawaiian/Other Pacific Islander      20\n",
       "Name: raceeth, dtype: int64"
      ]
     },
     "execution_count": 16,
     "metadata": {},
     "output_type": "execute_result"
    }
   ],
   "source": [
    "train.raceeth.value_counts()"
   ]
  },
  {
   "cell_type": "markdown",
   "metadata": {},
   "source": [
    "2. To include categorical features in a Linear regression model, we would need to convert the  categories into integers. In python, thisfunctionality is available in DictVectorizer from scikit-learn, or \"get_dummies()\" function. One Hot encoder is another option.\n",
    "The difference is as follows:\n",
    "* OneHotEncoder takes as input categorical values encoded as integers - you can get them from LabelEncoder.\n",
    "* DictVectorizer expects data as a list of dictionaries, where each dictionary is a data row with column names as keys.\n",
    "* One can use Patsy another python library.\n",
    "* get_dummies() is another option"
   ]
  },
  {
   "cell_type": "code",
   "execution_count": 17,
   "metadata": {
    "collapsed": false
   },
   "outputs": [
    {
     "data": {
      "text/html": [
       "<div>\n",
       "<table border=\"1\" class=\"dataframe\">\n",
       "  <thead>\n",
       "    <tr style=\"text-align: right;\">\n",
       "      <th></th>\n",
       "      <th>American Indian/Alaska Native</th>\n",
       "      <th>Asian</th>\n",
       "      <th>Black</th>\n",
       "      <th>Hispanic</th>\n",
       "      <th>More than one race</th>\n",
       "      <th>Native Hawaiian/Other Pacific Islander</th>\n",
       "      <th>White</th>\n",
       "    </tr>\n",
       "  </thead>\n",
       "  <tbody>\n",
       "    <tr>\n",
       "      <th>0</th>\n",
       "      <td>0.0</td>\n",
       "      <td>0.0</td>\n",
       "      <td>0.0</td>\n",
       "      <td>0.0</td>\n",
       "      <td>0.0</td>\n",
       "      <td>0.0</td>\n",
       "      <td>1.0</td>\n",
       "    </tr>\n",
       "    <tr>\n",
       "      <th>1</th>\n",
       "      <td>0.0</td>\n",
       "      <td>0.0</td>\n",
       "      <td>1.0</td>\n",
       "      <td>0.0</td>\n",
       "      <td>0.0</td>\n",
       "      <td>0.0</td>\n",
       "      <td>0.0</td>\n",
       "    </tr>\n",
       "    <tr>\n",
       "      <th>2</th>\n",
       "      <td>0.0</td>\n",
       "      <td>0.0</td>\n",
       "      <td>0.0</td>\n",
       "      <td>1.0</td>\n",
       "      <td>0.0</td>\n",
       "      <td>0.0</td>\n",
       "      <td>0.0</td>\n",
       "    </tr>\n",
       "    <tr>\n",
       "      <th>3</th>\n",
       "      <td>0.0</td>\n",
       "      <td>0.0</td>\n",
       "      <td>0.0</td>\n",
       "      <td>0.0</td>\n",
       "      <td>0.0</td>\n",
       "      <td>0.0</td>\n",
       "      <td>1.0</td>\n",
       "    </tr>\n",
       "    <tr>\n",
       "      <th>4</th>\n",
       "      <td>0.0</td>\n",
       "      <td>0.0</td>\n",
       "      <td>0.0</td>\n",
       "      <td>0.0</td>\n",
       "      <td>1.0</td>\n",
       "      <td>0.0</td>\n",
       "      <td>0.0</td>\n",
       "    </tr>\n",
       "  </tbody>\n",
       "</table>\n",
       "</div>"
      ],
      "text/plain": [
       "   American Indian/Alaska Native  Asian  Black  Hispanic  More than one race  \\\n",
       "0                            0.0    0.0    0.0       0.0                 0.0   \n",
       "1                            0.0    0.0    1.0       0.0                 0.0   \n",
       "2                            0.0    0.0    0.0       1.0                 0.0   \n",
       "3                            0.0    0.0    0.0       0.0                 0.0   \n",
       "4                            0.0    0.0    0.0       0.0                 1.0   \n",
       "\n",
       "   Native Hawaiian/Other Pacific Islander  White  \n",
       "0                                     0.0    1.0  \n",
       "1                                     0.0    0.0  \n",
       "2                                     0.0    0.0  \n",
       "3                                     0.0    1.0  \n",
       "4                                     0.0    0.0  "
      ]
     },
     "execution_count": 17,
     "metadata": {},
     "output_type": "execute_result"
    }
   ],
   "source": [
    "#Using get_dummies()\n",
    "pd.get_dummies(train.raceeth).head(5)"
   ]
  },
  {
   "cell_type": "code",
   "execution_count": 18,
   "metadata": {
    "collapsed": false
   },
   "outputs": [
    {
     "data": {
      "text/html": [
       "<div>\n",
       "<table border=\"1\" class=\"dataframe\">\n",
       "  <thead>\n",
       "    <tr style=\"text-align: right;\">\n",
       "      <th></th>\n",
       "      <th>Asian</th>\n",
       "      <th>Black</th>\n",
       "      <th>Hispanic</th>\n",
       "      <th>More than one race</th>\n",
       "      <th>Native Hawaiian/Other Pacific Islander</th>\n",
       "      <th>White</th>\n",
       "    </tr>\n",
       "  </thead>\n",
       "  <tbody>\n",
       "    <tr>\n",
       "      <th>0</th>\n",
       "      <td>0.0</td>\n",
       "      <td>0.0</td>\n",
       "      <td>0.0</td>\n",
       "      <td>0.0</td>\n",
       "      <td>0.0</td>\n",
       "      <td>1.0</td>\n",
       "    </tr>\n",
       "    <tr>\n",
       "      <th>1</th>\n",
       "      <td>0.0</td>\n",
       "      <td>1.0</td>\n",
       "      <td>0.0</td>\n",
       "      <td>0.0</td>\n",
       "      <td>0.0</td>\n",
       "      <td>0.0</td>\n",
       "    </tr>\n",
       "    <tr>\n",
       "      <th>2</th>\n",
       "      <td>0.0</td>\n",
       "      <td>0.0</td>\n",
       "      <td>1.0</td>\n",
       "      <td>0.0</td>\n",
       "      <td>0.0</td>\n",
       "      <td>0.0</td>\n",
       "    </tr>\n",
       "  </tbody>\n",
       "</table>\n",
       "</div>"
      ],
      "text/plain": [
       "   Asian  Black  Hispanic  More than one race  \\\n",
       "0    0.0    0.0       0.0                 0.0   \n",
       "1    0.0    1.0       0.0                 0.0   \n",
       "2    0.0    0.0       1.0                 0.0   \n",
       "\n",
       "   Native Hawaiian/Other Pacific Islander  White  \n",
       "0                                     0.0    1.0  \n",
       "1                                     0.0    0.0  \n",
       "2                                     0.0    0.0  "
      ]
     },
     "execution_count": 18,
     "metadata": {},
     "output_type": "execute_result"
    }
   ],
   "source": [
    "##Use get_dummies and drop the first level to get n-1 categorical levels\n",
    "pd.get_dummies(train.raceeth,drop_first=True).head(3)\n",
    "##Note you will need to make sure that its the most common category etc\n",
    "###Pretty cool..can get dummies for multiple columns as get_dummies can handle a df directly\n",
    "#and will convert all columns into cateory levels if possible."
   ]
  },
  {
   "cell_type": "code",
   "execution_count": 19,
   "metadata": {
    "collapsed": false
   },
   "outputs": [
    {
     "data": {
      "text/html": [
       "<div>\n",
       "<table border=\"1\" class=\"dataframe\">\n",
       "  <thead>\n",
       "    <tr style=\"text-align: right;\">\n",
       "      <th></th>\n",
       "      <th>American Indian/Alaska Native</th>\n",
       "      <th>Asian</th>\n",
       "      <th>Black</th>\n",
       "      <th>Hispanic</th>\n",
       "      <th>More than one race</th>\n",
       "      <th>Native Hawaiian/Other Pacific Islander</th>\n",
       "      <th>White</th>\n",
       "    </tr>\n",
       "  </thead>\n",
       "  <tbody>\n",
       "    <tr>\n",
       "      <th>0</th>\n",
       "      <td>0.0</td>\n",
       "      <td>0.0</td>\n",
       "      <td>0.0</td>\n",
       "      <td>0.0</td>\n",
       "      <td>0.0</td>\n",
       "      <td>0.0</td>\n",
       "      <td>1.0</td>\n",
       "    </tr>\n",
       "    <tr>\n",
       "      <th>1</th>\n",
       "      <td>0.0</td>\n",
       "      <td>0.0</td>\n",
       "      <td>0.0</td>\n",
       "      <td>0.0</td>\n",
       "      <td>0.0</td>\n",
       "      <td>0.0</td>\n",
       "      <td>1.0</td>\n",
       "    </tr>\n",
       "    <tr>\n",
       "      <th>2</th>\n",
       "      <td>1.0</td>\n",
       "      <td>0.0</td>\n",
       "      <td>0.0</td>\n",
       "      <td>0.0</td>\n",
       "      <td>0.0</td>\n",
       "      <td>0.0</td>\n",
       "      <td>0.0</td>\n",
       "    </tr>\n",
       "  </tbody>\n",
       "</table>\n",
       "</div>"
      ],
      "text/plain": [
       "   American Indian/Alaska Native  Asian  Black  Hispanic  More than one race  \\\n",
       "0                            0.0    0.0    0.0       0.0                 0.0   \n",
       "1                            0.0    0.0    0.0       0.0                 0.0   \n",
       "2                            1.0    0.0    0.0       0.0                 0.0   \n",
       "\n",
       "   Native Hawaiian/Other Pacific Islander  White  \n",
       "0                                     0.0    1.0  \n",
       "1                                     0.0    1.0  \n",
       "2                                     0.0    0.0  "
      ]
     },
     "execution_count": 19,
     "metadata": {},
     "output_type": "execute_result"
    }
   ],
   "source": [
    "##We would like to use white as the reference level; so lets do iy one step at a time:\n",
    "#First create a df with interger levels for reaceeth: Columns for all 7 levels are created\n",
    "race_train=pd.get_dummies(train.raceeth)\n",
    "race_test=pd.get_dummies(test.raceeth)\n",
    "race_train.head(3)\n",
    "race_test.head(3)\n"
   ]
  },
  {
   "cell_type": "code",
   "execution_count": 20,
   "metadata": {
    "collapsed": false
   },
   "outputs": [
    {
     "data": {
      "text/plain": [
       "(2414, 25)"
      ]
     },
     "execution_count": 20,
     "metadata": {},
     "output_type": "execute_result"
    }
   ],
   "source": [
    "train.shape"
   ]
  },
  {
   "cell_type": "code",
   "execution_count": 21,
   "metadata": {
    "collapsed": false
   },
   "outputs": [
    {
     "data": {
      "text/plain": [
       "(990, 7)"
      ]
     },
     "execution_count": 21,
     "metadata": {},
     "output_type": "execute_result"
    }
   ],
   "source": [
    "race_train.shape\n",
    "test.shape\n",
    "race_test.shape"
   ]
  },
  {
   "cell_type": "code",
   "execution_count": 22,
   "metadata": {
    "collapsed": false
   },
   "outputs": [
    {
     "data": {
      "text/html": [
       "<div>\n",
       "<table border=\"1\" class=\"dataframe\">\n",
       "  <thead>\n",
       "    <tr style=\"text-align: right;\">\n",
       "      <th></th>\n",
       "      <th>American Indian/Alaska Native</th>\n",
       "      <th>Asian</th>\n",
       "      <th>Black</th>\n",
       "      <th>Hispanic</th>\n",
       "      <th>More than one race</th>\n",
       "      <th>Native Hawaiian/Other Pacific Islander</th>\n",
       "      <th>White</th>\n",
       "      <th>index</th>\n",
       "      <th>grade</th>\n",
       "      <th>male</th>\n",
       "      <th>...</th>\n",
       "      <th>englishAtHome</th>\n",
       "      <th>computerForSchoolwork</th>\n",
       "      <th>read30MinsADay</th>\n",
       "      <th>minutesPerWeekEnglish</th>\n",
       "      <th>studentsInEnglish</th>\n",
       "      <th>schoolHasLibrary</th>\n",
       "      <th>publicSchool</th>\n",
       "      <th>urban</th>\n",
       "      <th>schoolSize</th>\n",
       "      <th>readingScore</th>\n",
       "    </tr>\n",
       "  </thead>\n",
       "  <tbody>\n",
       "    <tr>\n",
       "      <th>0</th>\n",
       "      <td>0.0</td>\n",
       "      <td>0.0</td>\n",
       "      <td>0.0</td>\n",
       "      <td>0.0</td>\n",
       "      <td>0.0</td>\n",
       "      <td>0.0</td>\n",
       "      <td>1.0</td>\n",
       "      <td>1</td>\n",
       "      <td>11</td>\n",
       "      <td>1</td>\n",
       "      <td>...</td>\n",
       "      <td>1.0</td>\n",
       "      <td>1.0</td>\n",
       "      <td>1.0</td>\n",
       "      <td>450.0</td>\n",
       "      <td>25.0</td>\n",
       "      <td>1.0</td>\n",
       "      <td>1</td>\n",
       "      <td>0</td>\n",
       "      <td>1173.0</td>\n",
       "      <td>575.01</td>\n",
       "    </tr>\n",
       "    <tr>\n",
       "      <th>1</th>\n",
       "      <td>0.0</td>\n",
       "      <td>0.0</td>\n",
       "      <td>1.0</td>\n",
       "      <td>0.0</td>\n",
       "      <td>0.0</td>\n",
       "      <td>0.0</td>\n",
       "      <td>0.0</td>\n",
       "      <td>3</td>\n",
       "      <td>10</td>\n",
       "      <td>0</td>\n",
       "      <td>...</td>\n",
       "      <td>1.0</td>\n",
       "      <td>1.0</td>\n",
       "      <td>1.0</td>\n",
       "      <td>200.0</td>\n",
       "      <td>23.0</td>\n",
       "      <td>1.0</td>\n",
       "      <td>1</td>\n",
       "      <td>1</td>\n",
       "      <td>2640.0</td>\n",
       "      <td>458.11</td>\n",
       "    </tr>\n",
       "    <tr>\n",
       "      <th>2</th>\n",
       "      <td>0.0</td>\n",
       "      <td>0.0</td>\n",
       "      <td>0.0</td>\n",
       "      <td>1.0</td>\n",
       "      <td>0.0</td>\n",
       "      <td>0.0</td>\n",
       "      <td>0.0</td>\n",
       "      <td>4</td>\n",
       "      <td>10</td>\n",
       "      <td>1</td>\n",
       "      <td>...</td>\n",
       "      <td>1.0</td>\n",
       "      <td>1.0</td>\n",
       "      <td>1.0</td>\n",
       "      <td>250.0</td>\n",
       "      <td>35.0</td>\n",
       "      <td>1.0</td>\n",
       "      <td>1</td>\n",
       "      <td>1</td>\n",
       "      <td>1095.0</td>\n",
       "      <td>613.89</td>\n",
       "    </tr>\n",
       "    <tr>\n",
       "      <th>3</th>\n",
       "      <td>0.0</td>\n",
       "      <td>0.0</td>\n",
       "      <td>0.0</td>\n",
       "      <td>0.0</td>\n",
       "      <td>0.0</td>\n",
       "      <td>0.0</td>\n",
       "      <td>1.0</td>\n",
       "      <td>7</td>\n",
       "      <td>10</td>\n",
       "      <td>0</td>\n",
       "      <td>...</td>\n",
       "      <td>1.0</td>\n",
       "      <td>1.0</td>\n",
       "      <td>1.0</td>\n",
       "      <td>300.0</td>\n",
       "      <td>30.0</td>\n",
       "      <td>1.0</td>\n",
       "      <td>1</td>\n",
       "      <td>0</td>\n",
       "      <td>1913.0</td>\n",
       "      <td>439.36</td>\n",
       "    </tr>\n",
       "  </tbody>\n",
       "</table>\n",
       "<p>4 rows × 32 columns</p>\n",
       "</div>"
      ],
      "text/plain": [
       "   American Indian/Alaska Native  Asian  Black  Hispanic  More than one race  \\\n",
       "0                            0.0    0.0    0.0       0.0                 0.0   \n",
       "1                            0.0    0.0    1.0       0.0                 0.0   \n",
       "2                            0.0    0.0    0.0       1.0                 0.0   \n",
       "3                            0.0    0.0    0.0       0.0                 0.0   \n",
       "\n",
       "   Native Hawaiian/Other Pacific Islander  White  index  grade  male  \\\n",
       "0                                     0.0    1.0      1     11     1   \n",
       "1                                     0.0    0.0      3     10     0   \n",
       "2                                     0.0    0.0      4     10     1   \n",
       "3                                     0.0    1.0      7     10     0   \n",
       "\n",
       "       ...      englishAtHome  computerForSchoolwork  read30MinsADay  \\\n",
       "0      ...                1.0                    1.0             1.0   \n",
       "1      ...                1.0                    1.0             1.0   \n",
       "2      ...                1.0                    1.0             1.0   \n",
       "3      ...                1.0                    1.0             1.0   \n",
       "\n",
       "   minutesPerWeekEnglish  studentsInEnglish  schoolHasLibrary  publicSchool  \\\n",
       "0                  450.0               25.0               1.0             1   \n",
       "1                  200.0               23.0               1.0             1   \n",
       "2                  250.0               35.0               1.0             1   \n",
       "3                  300.0               30.0               1.0             1   \n",
       "\n",
       "   urban  schoolSize  readingScore  \n",
       "0      0      1173.0        575.01  \n",
       "1      1      2640.0        458.11  \n",
       "2      1      1095.0        613.89  \n",
       "3      0      1913.0        439.36  \n",
       "\n",
       "[4 rows x 32 columns]"
      ]
     },
     "execution_count": 22,
     "metadata": {},
     "output_type": "execute_result"
    }
   ],
   "source": [
    "##Concat the new cols to the original dfs\n",
    "train=pd.concat([race_train,train],axis=1)\n",
    "test=pd.concat([race_test,test],axis=1)\n",
    "train.head(4)"
   ]
  },
  {
   "cell_type": "code",
   "execution_count": 23,
   "metadata": {
    "collapsed": true
   },
   "outputs": [],
   "source": [
    "#Drop the 'white' as well as the original 'raceeth' column. Note: all those rows where all columns are=0 correspond to white=1\n",
    "train.drop(['White','raceeth'],axis=1,inplace=True)\n",
    "test.drop(['White','raceeth'],axis=1,inplace=True)"
   ]
  },
  {
   "cell_type": "code",
   "execution_count": 24,
   "metadata": {
    "collapsed": false
   },
   "outputs": [
    {
     "data": {
      "text/plain": [
       "['American Indian/Alaska Native',\n",
       " 'Asian',\n",
       " 'Black',\n",
       " 'Hispanic',\n",
       " 'More than one race',\n",
       " 'Native Hawaiian/Other Pacific Islander',\n",
       " 'index',\n",
       " 'grade',\n",
       " 'male',\n",
       " 'preschool',\n",
       " 'expectBachelors',\n",
       " 'motherHS',\n",
       " 'motherBachelors',\n",
       " 'motherWork',\n",
       " 'fatherHS',\n",
       " 'fatherBachelors',\n",
       " 'fatherWork',\n",
       " 'selfBornUS',\n",
       " 'motherBornUS',\n",
       " 'fatherBornUS',\n",
       " 'englishAtHome',\n",
       " 'computerForSchoolwork',\n",
       " 'read30MinsADay',\n",
       " 'minutesPerWeekEnglish',\n",
       " 'studentsInEnglish',\n",
       " 'schoolHasLibrary',\n",
       " 'publicSchool',\n",
       " 'urban',\n",
       " 'schoolSize',\n",
       " 'readingScore']"
      ]
     },
     "execution_count": 24,
     "metadata": {},
     "output_type": "execute_result"
    }
   ],
   "source": [
    "list(train.columns)"
   ]
  },
  {
   "cell_type": "code",
   "execution_count": 25,
   "metadata": {
    "collapsed": false
   },
   "outputs": [
    {
     "data": {
      "text/html": [
       "<div>\n",
       "<table border=\"1\" class=\"dataframe\">\n",
       "  <thead>\n",
       "    <tr style=\"text-align: right;\">\n",
       "      <th></th>\n",
       "      <th>American Indian/Alaska Native</th>\n",
       "      <th>Asian</th>\n",
       "      <th>Black</th>\n",
       "      <th>Hispanic</th>\n",
       "      <th>More than one race</th>\n",
       "      <th>Native Hawaiian/Other Pacific Islander</th>\n",
       "      <th>index</th>\n",
       "      <th>grade</th>\n",
       "      <th>male</th>\n",
       "      <th>preschool</th>\n",
       "      <th>...</th>\n",
       "      <th>englishAtHome</th>\n",
       "      <th>computerForSchoolwork</th>\n",
       "      <th>read30MinsADay</th>\n",
       "      <th>minutesPerWeekEnglish</th>\n",
       "      <th>studentsInEnglish</th>\n",
       "      <th>schoolHasLibrary</th>\n",
       "      <th>publicSchool</th>\n",
       "      <th>urban</th>\n",
       "      <th>schoolSize</th>\n",
       "      <th>readingScore</th>\n",
       "    </tr>\n",
       "  </thead>\n",
       "  <tbody>\n",
       "    <tr>\n",
       "      <th>0</th>\n",
       "      <td>0.0</td>\n",
       "      <td>0.0</td>\n",
       "      <td>0.0</td>\n",
       "      <td>0.0</td>\n",
       "      <td>0.0</td>\n",
       "      <td>0.0</td>\n",
       "      <td>1</td>\n",
       "      <td>11</td>\n",
       "      <td>1</td>\n",
       "      <td>0.0</td>\n",
       "      <td>...</td>\n",
       "      <td>1.0</td>\n",
       "      <td>1.0</td>\n",
       "      <td>1.0</td>\n",
       "      <td>450.0</td>\n",
       "      <td>25.0</td>\n",
       "      <td>1.0</td>\n",
       "      <td>1</td>\n",
       "      <td>0</td>\n",
       "      <td>1173.0</td>\n",
       "      <td>575.01</td>\n",
       "    </tr>\n",
       "    <tr>\n",
       "      <th>1</th>\n",
       "      <td>0.0</td>\n",
       "      <td>0.0</td>\n",
       "      <td>1.0</td>\n",
       "      <td>0.0</td>\n",
       "      <td>0.0</td>\n",
       "      <td>0.0</td>\n",
       "      <td>3</td>\n",
       "      <td>10</td>\n",
       "      <td>0</td>\n",
       "      <td>1.0</td>\n",
       "      <td>...</td>\n",
       "      <td>1.0</td>\n",
       "      <td>1.0</td>\n",
       "      <td>1.0</td>\n",
       "      <td>200.0</td>\n",
       "      <td>23.0</td>\n",
       "      <td>1.0</td>\n",
       "      <td>1</td>\n",
       "      <td>1</td>\n",
       "      <td>2640.0</td>\n",
       "      <td>458.11</td>\n",
       "    </tr>\n",
       "    <tr>\n",
       "      <th>2</th>\n",
       "      <td>0.0</td>\n",
       "      <td>0.0</td>\n",
       "      <td>0.0</td>\n",
       "      <td>1.0</td>\n",
       "      <td>0.0</td>\n",
       "      <td>0.0</td>\n",
       "      <td>4</td>\n",
       "      <td>10</td>\n",
       "      <td>1</td>\n",
       "      <td>1.0</td>\n",
       "      <td>...</td>\n",
       "      <td>1.0</td>\n",
       "      <td>1.0</td>\n",
       "      <td>1.0</td>\n",
       "      <td>250.0</td>\n",
       "      <td>35.0</td>\n",
       "      <td>1.0</td>\n",
       "      <td>1</td>\n",
       "      <td>1</td>\n",
       "      <td>1095.0</td>\n",
       "      <td>613.89</td>\n",
       "    </tr>\n",
       "  </tbody>\n",
       "</table>\n",
       "<p>3 rows × 30 columns</p>\n",
       "</div>"
      ],
      "text/plain": [
       "   American Indian/Alaska Native  Asian  Black  Hispanic  More than one race  \\\n",
       "0                            0.0    0.0    0.0       0.0                 0.0   \n",
       "1                            0.0    0.0    1.0       0.0                 0.0   \n",
       "2                            0.0    0.0    0.0       1.0                 0.0   \n",
       "\n",
       "   Native Hawaiian/Other Pacific Islander  index  grade  male  preschool  \\\n",
       "0                                     0.0      1     11     1        0.0   \n",
       "1                                     0.0      3     10     0        1.0   \n",
       "2                                     0.0      4     10     1        1.0   \n",
       "\n",
       "       ...       englishAtHome  computerForSchoolwork  read30MinsADay  \\\n",
       "0      ...                 1.0                    1.0             1.0   \n",
       "1      ...                 1.0                    1.0             1.0   \n",
       "2      ...                 1.0                    1.0             1.0   \n",
       "\n",
       "   minutesPerWeekEnglish  studentsInEnglish  schoolHasLibrary  publicSchool  \\\n",
       "0                  450.0               25.0               1.0             1   \n",
       "1                  200.0               23.0               1.0             1   \n",
       "2                  250.0               35.0               1.0             1   \n",
       "\n",
       "   urban  schoolSize  readingScore  \n",
       "0      0      1173.0        575.01  \n",
       "1      1      2640.0        458.11  \n",
       "2      1      1095.0        613.89  \n",
       "\n",
       "[3 rows x 30 columns]"
      ]
     },
     "execution_count": 25,
     "metadata": {},
     "output_type": "execute_result"
    }
   ],
   "source": [
    "train.head(3)"
   ]
  },
  {
   "cell_type": "markdown",
   "metadata": {},
   "source": [
    "Building a model:\n",
    "build a linear regression model (call it lmScore) using the training set to predict readingScore using all(the remaining) variables.\n",
    "This time I want to use sklearn NOT stats models. But first lets get all the answer using statsmodel"
   ]
  },
  {
   "cell_type": "code",
   "execution_count": 26,
   "metadata": {
    "collapsed": false
   },
   "outputs": [
    {
     "data": {
      "text/plain": [
       "['American Indian/Alaska Native',\n",
       " 'Asian',\n",
       " 'Black',\n",
       " 'Hispanic',\n",
       " 'More than one race',\n",
       " 'Native Hawaiian/Other Pacific Islander',\n",
       " 'grade',\n",
       " 'male',\n",
       " 'preschool',\n",
       " 'expectBachelors',\n",
       " 'motherHS',\n",
       " 'motherBachelors',\n",
       " 'motherWork',\n",
       " 'fatherHS',\n",
       " 'fatherBachelors',\n",
       " 'fatherWork',\n",
       " 'selfBornUS',\n",
       " 'motherBornUS',\n",
       " 'fatherBornUS',\n",
       " 'englishAtHome',\n",
       " 'computerForSchoolwork',\n",
       " 'read30MinsADay',\n",
       " 'minutesPerWeekEnglish',\n",
       " 'studentsInEnglish',\n",
       " 'schoolHasLibrary',\n",
       " 'publicSchool',\n",
       " 'urban',\n",
       " 'schoolSize']"
      ]
     },
     "execution_count": 26,
     "metadata": {},
     "output_type": "execute_result"
    }
   ],
   "source": [
    "features_to_use=[cols for cols in train.columns if cols not in ['readingScore','index']]\n",
    "features_to_use"
   ]
  },
  {
   "cell_type": "code",
   "execution_count": 27,
   "metadata": {
    "collapsed": false
   },
   "outputs": [],
   "source": [
    "y=train.readingScore\n",
    "X=train[features_to_use]\n",
    "X=sm.add_constant(X)\n",
    "lmscore=sm.OLS(y,X)\n",
    "lmscore=lmscore.fit()"
   ]
  },
  {
   "cell_type": "code",
   "execution_count": 28,
   "metadata": {
    "collapsed": false
   },
   "outputs": [
    {
     "data": {
      "text/html": [
       "<table class=\"simpletable\">\n",
       "<tr>\n",
       "        <td>Model:</td>               <td>OLS</td>         <td>Adj. R-squared:</td>      <td>0.317</td>  \n",
       "</tr>\n",
       "<tr>\n",
       "  <td>Dependent Variable:</td>   <td>readingScore</td>          <td>AIC:</td>         <td>27647.0896</td>\n",
       "</tr>\n",
       "<tr>\n",
       "         <td>Date:</td>        <td>2016-09-04 17:47</td>        <td>BIC:</td>         <td>27814.9717</td>\n",
       "</tr>\n",
       "<tr>\n",
       "   <td>No. Observations:</td>        <td>2414</td>         <td>Log-Likelihood:</td>     <td>-13795.</td> \n",
       "</tr>\n",
       "<tr>\n",
       "       <td>Df Model:</td>             <td>28</td>           <td>F-statistic:</td>        <td>41.04</td>  \n",
       "</tr>\n",
       "<tr>\n",
       "     <td>Df Residuals:</td>          <td>2385</td>       <td>Prob (F-statistic):</td>  <td>1.72e-180</td>\n",
       "</tr>\n",
       "<tr>\n",
       "      <td>R-squared:</td>            <td>0.325</td>            <td>Scale:</td>          <td>5448.0</td>  \n",
       "</tr>\n",
       "</table>\n",
       "<table class=\"simpletable\">\n",
       "<tr>\n",
       "                     <td></td>                      <th>Coef.</th>  <th>Std.Err.</th>     <th>t</th>     <th>P>|t|</th>  <th>[0.025</th>    <th>0.975]</th> \n",
       "</tr>\n",
       "<tr>\n",
       "  <th>const</th>                                  <td>143.7663</td>  <td>33.8412</td>  <td>4.2483</td>  <td>0.0000</td>  <td>77.4051</td>  <td>210.1276</td>\n",
       "</tr>\n",
       "<tr>\n",
       "  <th>American Indian/Alaska Native</th>          <td>-67.2773</td>  <td>16.7869</td>  <td>-4.0077</td> <td>0.0001</td> <td>-100.1958</td> <td>-34.3588</td>\n",
       "</tr>\n",
       "<tr>\n",
       "  <th>Asian</th>                                   <td>-4.1103</td>  <td>9.2201</td>   <td>-0.4458</td> <td>0.6558</td> <td>-22.1905</td>   <td>13.9699</td>\n",
       "</tr>\n",
       "<tr>\n",
       "  <th>Black</th>                                  <td>-67.0123</td>  <td>5.4609</td>  <td>-12.2713</td> <td>0.0000</td> <td>-77.7209</td>  <td>-56.3038</td>\n",
       "</tr>\n",
       "<tr>\n",
       "  <th>Hispanic</th>                               <td>-38.9755</td>  <td>5.1777</td>   <td>-7.5275</td> <td>0.0000</td> <td>-49.1288</td>  <td>-28.8221</td>\n",
       "</tr>\n",
       "<tr>\n",
       "  <th>More than one race</th>                     <td>-16.9225</td>  <td>8.4963</td>   <td>-1.9918</td> <td>0.0465</td> <td>-33.5834</td>   <td>-0.2617</td>\n",
       "</tr>\n",
       "<tr>\n",
       "  <th>Native Hawaiian/Other Pacific Islander</th>  <td>-5.1016</td>  <td>17.0057</td>  <td>-0.3000</td> <td>0.7642</td> <td>-38.4491</td>   <td>28.2459</td>\n",
       "</tr>\n",
       "<tr>\n",
       "  <th>grade</th>                                   <td>29.5427</td>  <td>2.9374</td>   <td>10.0574</td> <td>0.0000</td>  <td>23.7826</td>   <td>35.3028</td>\n",
       "</tr>\n",
       "<tr>\n",
       "  <th>male</th>                                   <td>-14.5217</td>  <td>3.1559</td>   <td>-4.6014</td> <td>0.0000</td> <td>-20.7103</td>   <td>-8.3330</td>\n",
       "</tr>\n",
       "<tr>\n",
       "  <th>preschool</th>                               <td>-4.4637</td>  <td>3.4861</td>   <td>-1.2804</td> <td>0.2005</td> <td>-11.2997</td>   <td>2.3723</td> \n",
       "</tr>\n",
       "<tr>\n",
       "  <th>expectBachelors</th>                         <td>55.2671</td>  <td>4.2939</td>   <td>12.8711</td> <td>0.0000</td>  <td>46.8469</td>   <td>63.6872</td>\n",
       "</tr>\n",
       "<tr>\n",
       "  <th>motherHS</th>                                <td>6.0588</td>   <td>6.0914</td>   <td>0.9946</td>  <td>0.3200</td>  <td>-5.8863</td>   <td>18.0038</td>\n",
       "</tr>\n",
       "<tr>\n",
       "  <th>motherBachelors</th>                         <td>12.6381</td>  <td>3.8615</td>   <td>3.2729</td>  <td>0.0011</td>  <td>5.0659</td>    <td>20.2102</td>\n",
       "</tr>\n",
       "<tr>\n",
       "  <th>motherWork</th>                              <td>-2.8091</td>  <td>3.5218</td>   <td>-0.7976</td> <td>0.4252</td>  <td>-9.7153</td>   <td>4.0971</td> \n",
       "</tr>\n",
       "<tr>\n",
       "  <th>fatherHS</th>                                <td>4.0182</td>   <td>5.5793</td>   <td>0.7202</td>  <td>0.4715</td>  <td>-6.9225</td>   <td>14.9589</td>\n",
       "</tr>\n",
       "<tr>\n",
       "  <th>fatherBachelors</th>                         <td>16.9298</td>  <td>3.9953</td>   <td>4.2375</td>  <td>0.0000</td>  <td>9.0952</td>    <td>24.7643</td>\n",
       "</tr>\n",
       "<tr>\n",
       "  <th>fatherWork</th>                              <td>5.8428</td>   <td>4.3960</td>   <td>1.3291</td>  <td>0.1839</td>  <td>-2.7775</td>   <td>14.4631</td>\n",
       "</tr>\n",
       "<tr>\n",
       "  <th>selfBornUS</th>                              <td>-3.8063</td>  <td>7.3237</td>   <td>-0.5197</td> <td>0.6033</td> <td>-18.1678</td>   <td>10.5552</td>\n",
       "</tr>\n",
       "<tr>\n",
       "  <th>motherBornUS</th>                            <td>-8.7982</td>  <td>6.5876</td>   <td>-1.3356</td> <td>0.1818</td> <td>-21.7162</td>   <td>4.1199</td> \n",
       "</tr>\n",
       "<tr>\n",
       "  <th>fatherBornUS</th>                            <td>4.3070</td>   <td>6.2639</td>   <td>0.6876</td>  <td>0.4918</td>  <td>-7.9762</td>   <td>16.5902</td>\n",
       "</tr>\n",
       "<tr>\n",
       "  <th>englishAtHome</th>                           <td>8.0357</td>   <td>6.8595</td>   <td>1.1715</td>  <td>0.2415</td>  <td>-5.4155</td>   <td>21.4869</td>\n",
       "</tr>\n",
       "<tr>\n",
       "  <th>computerForSchoolwork</th>                   <td>22.5002</td>  <td>5.7026</td>   <td>3.9456</td>  <td>0.0001</td>  <td>11.3177</td>   <td>33.6827</td>\n",
       "</tr>\n",
       "<tr>\n",
       "  <th>read30MinsADay</th>                          <td>34.8719</td>  <td>3.4084</td>   <td>10.2310</td> <td>0.0000</td>  <td>28.1881</td>   <td>41.5557</td>\n",
       "</tr>\n",
       "<tr>\n",
       "  <th>minutesPerWeekEnglish</th>                   <td>0.0128</td>   <td>0.0107</td>   <td>1.1939</td>  <td>0.2326</td>  <td>-0.0082</td>   <td>0.0338</td> \n",
       "</tr>\n",
       "<tr>\n",
       "  <th>studentsInEnglish</th>                       <td>-0.2866</td>  <td>0.2278</td>   <td>-1.2582</td> <td>0.2085</td>  <td>-0.7334</td>   <td>0.1601</td> \n",
       "</tr>\n",
       "<tr>\n",
       "  <th>schoolHasLibrary</th>                        <td>12.2151</td>  <td>9.2649</td>   <td>1.3184</td>  <td>0.1875</td>  <td>-5.9530</td>   <td>30.3831</td>\n",
       "</tr>\n",
       "<tr>\n",
       "  <th>publicSchool</th>                           <td>-16.8575</td>  <td>6.7256</td>   <td>-2.5065</td> <td>0.0123</td> <td>-30.0461</td>   <td>-3.6688</td>\n",
       "</tr>\n",
       "<tr>\n",
       "  <th>urban</th>                                   <td>-0.1101</td>  <td>3.9627</td>   <td>-0.0278</td> <td>0.9778</td>  <td>-7.8809</td>   <td>7.6606</td> \n",
       "</tr>\n",
       "<tr>\n",
       "  <th>schoolSize</th>                              <td>0.0065</td>   <td>0.0022</td>   <td>2.9769</td>  <td>0.0029</td>  <td>0.0022</td>    <td>0.0108</td> \n",
       "</tr>\n",
       "</table>\n",
       "<table class=\"simpletable\">\n",
       "<tr>\n",
       "     <td>Omnibus:</td>     <td>8.273</td>  <td>Durbin-Watson:</td>   <td>1.998</td>\n",
       "</tr>\n",
       "<tr>\n",
       "  <td>Prob(Omnibus):</td>  <td>0.016</td> <td>Jarque-Bera (JB):</td> <td>8.362</td>\n",
       "</tr>\n",
       "<tr>\n",
       "       <td>Skew:</td>     <td>-0.141</td>     <td>Prob(JB):</td>     <td>0.015</td>\n",
       "</tr>\n",
       "<tr>\n",
       "     <td>Kurtosis:</td>    <td>2.943</td>  <td>Condition No.:</td>   <td>37016</td>\n",
       "</tr>\n",
       "</table>"
      ],
      "text/plain": [
       "<class 'statsmodels.iolib.summary2.Summary'>\n",
       "\"\"\"\n",
       "                              Results: Ordinary least squares\n",
       "===========================================================================================\n",
       "Model:                      OLS                      Adj. R-squared:             0.317     \n",
       "Dependent Variable:         readingScore             AIC:                        27647.0896\n",
       "Date:                       2016-09-04 17:47         BIC:                        27814.9717\n",
       "No. Observations:           2414                     Log-Likelihood:             -13795.   \n",
       "Df Model:                   28                       F-statistic:                41.04     \n",
       "Df Residuals:               2385                     Prob (F-statistic):         1.72e-180 \n",
       "R-squared:                  0.325                    Scale:                      5448.0    \n",
       "-------------------------------------------------------------------------------------------\n",
       "                                        Coef.   Std.Err.    t     P>|t|    [0.025   0.975] \n",
       "-------------------------------------------------------------------------------------------\n",
       "const                                  143.7663  33.8412   4.2483 0.0000   77.4051 210.1276\n",
       "American Indian/Alaska Native          -67.2773  16.7869  -4.0077 0.0001 -100.1958 -34.3588\n",
       "Asian                                   -4.1103   9.2201  -0.4458 0.6558  -22.1905  13.9699\n",
       "Black                                  -67.0123   5.4609 -12.2713 0.0000  -77.7209 -56.3038\n",
       "Hispanic                               -38.9755   5.1777  -7.5275 0.0000  -49.1288 -28.8221\n",
       "More than one race                     -16.9225   8.4963  -1.9918 0.0465  -33.5834  -0.2617\n",
       "Native Hawaiian/Other Pacific Islander  -5.1016  17.0057  -0.3000 0.7642  -38.4491  28.2459\n",
       "grade                                   29.5427   2.9374  10.0574 0.0000   23.7826  35.3028\n",
       "male                                   -14.5217   3.1559  -4.6014 0.0000  -20.7103  -8.3330\n",
       "preschool                               -4.4637   3.4861  -1.2804 0.2005  -11.2997   2.3723\n",
       "expectBachelors                         55.2671   4.2939  12.8711 0.0000   46.8469  63.6872\n",
       "motherHS                                 6.0588   6.0914   0.9946 0.3200   -5.8863  18.0038\n",
       "motherBachelors                         12.6381   3.8615   3.2729 0.0011    5.0659  20.2102\n",
       "motherWork                              -2.8091   3.5218  -0.7976 0.4252   -9.7153   4.0971\n",
       "fatherHS                                 4.0182   5.5793   0.7202 0.4715   -6.9225  14.9589\n",
       "fatherBachelors                         16.9298   3.9953   4.2375 0.0000    9.0952  24.7643\n",
       "fatherWork                               5.8428   4.3960   1.3291 0.1839   -2.7775  14.4631\n",
       "selfBornUS                              -3.8063   7.3237  -0.5197 0.6033  -18.1678  10.5552\n",
       "motherBornUS                            -8.7982   6.5876  -1.3356 0.1818  -21.7162   4.1199\n",
       "fatherBornUS                             4.3070   6.2639   0.6876 0.4918   -7.9762  16.5902\n",
       "englishAtHome                            8.0357   6.8595   1.1715 0.2415   -5.4155  21.4869\n",
       "computerForSchoolwork                   22.5002   5.7026   3.9456 0.0001   11.3177  33.6827\n",
       "read30MinsADay                          34.8719   3.4084  10.2310 0.0000   28.1881  41.5557\n",
       "minutesPerWeekEnglish                    0.0128   0.0107   1.1939 0.2326   -0.0082   0.0338\n",
       "studentsInEnglish                       -0.2866   0.2278  -1.2582 0.2085   -0.7334   0.1601\n",
       "schoolHasLibrary                        12.2151   9.2649   1.3184 0.1875   -5.9530  30.3831\n",
       "publicSchool                           -16.8575   6.7256  -2.5065 0.0123  -30.0461  -3.6688\n",
       "urban                                   -0.1101   3.9627  -0.0278 0.9778   -7.8809   7.6606\n",
       "schoolSize                               0.0065   0.0022   2.9769 0.0029    0.0022   0.0108\n",
       "-------------------------------------------------------------------------------------------\n",
       "Omnibus:                       8.273                 Durbin-Watson:                   1.998\n",
       "Prob(Omnibus):                 0.016                 Jarque-Bera (JB):                8.362\n",
       "Skew:                          -0.141                Prob(JB):                        0.015\n",
       "Kurtosis:                      2.943                 Condition No.:                   37016\n",
       "===========================================================================================\n",
       "* The condition number is large (4e+04). This might indicate             strong\n",
       "multicollinearity or other numerical problems.\n",
       "\"\"\""
      ]
     },
     "execution_count": 28,
     "metadata": {},
     "output_type": "execute_result"
    }
   ],
   "source": [
    "lmscore.summary2()"
   ]
  },
  {
   "cell_type": "code",
   "execution_count": 29,
   "metadata": {
    "collapsed": false
   },
   "outputs": [
    {
     "data": {
      "text/html": [
       "<table class=\"simpletable\">\n",
       "<caption>OLS Regression Results</caption>\n",
       "<tr>\n",
       "  <th>Dep. Variable:</th>      <td>readingScore</td>   <th>  R-squared:         </th> <td>   0.325</td> \n",
       "</tr>\n",
       "<tr>\n",
       "  <th>Model:</th>                   <td>OLS</td>       <th>  Adj. R-squared:    </th> <td>   0.317</td> \n",
       "</tr>\n",
       "<tr>\n",
       "  <th>Method:</th>             <td>Least Squares</td>  <th>  F-statistic:       </th> <td>   41.04</td> \n",
       "</tr>\n",
       "<tr>\n",
       "  <th>Date:</th>             <td>Sun, 04 Sep 2016</td> <th>  Prob (F-statistic):</th> <td>1.72e-180</td>\n",
       "</tr>\n",
       "<tr>\n",
       "  <th>Time:</th>                 <td>17:47:22</td>     <th>  Log-Likelihood:    </th> <td> -13795.</td> \n",
       "</tr>\n",
       "<tr>\n",
       "  <th>No. Observations:</th>      <td>  2414</td>      <th>  AIC:               </th> <td>2.765e+04</td>\n",
       "</tr>\n",
       "<tr>\n",
       "  <th>Df Residuals:</th>          <td>  2385</td>      <th>  BIC:               </th> <td>2.781e+04</td>\n",
       "</tr>\n",
       "<tr>\n",
       "  <th>Df Model:</th>              <td>    28</td>      <th>                     </th>     <td> </td>    \n",
       "</tr>\n",
       "<tr>\n",
       "  <th>Covariance Type:</th>      <td>nonrobust</td>    <th>                     </th>     <td> </td>    \n",
       "</tr>\n",
       "</table>\n",
       "<table class=\"simpletable\">\n",
       "<tr>\n",
       "                     <td></td>                       <th>coef</th>     <th>std err</th>      <th>t</th>      <th>P>|t|</th> <th>[95.0% Conf. Int.]</th> \n",
       "</tr>\n",
       "<tr>\n",
       "  <th>const</th>                                  <td>  143.7663</td> <td>   33.841</td> <td>    4.248</td> <td> 0.000</td> <td>   77.405   210.128</td>\n",
       "</tr>\n",
       "<tr>\n",
       "  <th>American Indian/Alaska Native</th>          <td>  -67.2773</td> <td>   16.787</td> <td>   -4.008</td> <td> 0.000</td> <td> -100.196   -34.359</td>\n",
       "</tr>\n",
       "<tr>\n",
       "  <th>Asian</th>                                  <td>   -4.1103</td> <td>    9.220</td> <td>   -0.446</td> <td> 0.656</td> <td>  -22.191    13.970</td>\n",
       "</tr>\n",
       "<tr>\n",
       "  <th>Black</th>                                  <td>  -67.0123</td> <td>    5.461</td> <td>  -12.271</td> <td> 0.000</td> <td>  -77.721   -56.304</td>\n",
       "</tr>\n",
       "<tr>\n",
       "  <th>Hispanic</th>                               <td>  -38.9755</td> <td>    5.178</td> <td>   -7.528</td> <td> 0.000</td> <td>  -49.129   -28.822</td>\n",
       "</tr>\n",
       "<tr>\n",
       "  <th>More than one race</th>                     <td>  -16.9225</td> <td>    8.496</td> <td>   -1.992</td> <td> 0.047</td> <td>  -33.583    -0.262</td>\n",
       "</tr>\n",
       "<tr>\n",
       "  <th>Native Hawaiian/Other Pacific Islander</th> <td>   -5.1016</td> <td>   17.006</td> <td>   -0.300</td> <td> 0.764</td> <td>  -38.449    28.246</td>\n",
       "</tr>\n",
       "<tr>\n",
       "  <th>grade</th>                                  <td>   29.5427</td> <td>    2.937</td> <td>   10.057</td> <td> 0.000</td> <td>   23.783    35.303</td>\n",
       "</tr>\n",
       "<tr>\n",
       "  <th>male</th>                                   <td>  -14.5217</td> <td>    3.156</td> <td>   -4.601</td> <td> 0.000</td> <td>  -20.710    -8.333</td>\n",
       "</tr>\n",
       "<tr>\n",
       "  <th>preschool</th>                              <td>   -4.4637</td> <td>    3.486</td> <td>   -1.280</td> <td> 0.201</td> <td>  -11.300     2.372</td>\n",
       "</tr>\n",
       "<tr>\n",
       "  <th>expectBachelors</th>                        <td>   55.2671</td> <td>    4.294</td> <td>   12.871</td> <td> 0.000</td> <td>   46.847    63.687</td>\n",
       "</tr>\n",
       "<tr>\n",
       "  <th>motherHS</th>                               <td>    6.0588</td> <td>    6.091</td> <td>    0.995</td> <td> 0.320</td> <td>   -5.886    18.004</td>\n",
       "</tr>\n",
       "<tr>\n",
       "  <th>motherBachelors</th>                        <td>   12.6381</td> <td>    3.861</td> <td>    3.273</td> <td> 0.001</td> <td>    5.066    20.210</td>\n",
       "</tr>\n",
       "<tr>\n",
       "  <th>motherWork</th>                             <td>   -2.8091</td> <td>    3.522</td> <td>   -0.798</td> <td> 0.425</td> <td>   -9.715     4.097</td>\n",
       "</tr>\n",
       "<tr>\n",
       "  <th>fatherHS</th>                               <td>    4.0182</td> <td>    5.579</td> <td>    0.720</td> <td> 0.471</td> <td>   -6.923    14.959</td>\n",
       "</tr>\n",
       "<tr>\n",
       "  <th>fatherBachelors</th>                        <td>   16.9298</td> <td>    3.995</td> <td>    4.237</td> <td> 0.000</td> <td>    9.095    24.764</td>\n",
       "</tr>\n",
       "<tr>\n",
       "  <th>fatherWork</th>                             <td>    5.8428</td> <td>    4.396</td> <td>    1.329</td> <td> 0.184</td> <td>   -2.778    14.463</td>\n",
       "</tr>\n",
       "<tr>\n",
       "  <th>selfBornUS</th>                             <td>   -3.8063</td> <td>    7.324</td> <td>   -0.520</td> <td> 0.603</td> <td>  -18.168    10.555</td>\n",
       "</tr>\n",
       "<tr>\n",
       "  <th>motherBornUS</th>                           <td>   -8.7982</td> <td>    6.588</td> <td>   -1.336</td> <td> 0.182</td> <td>  -21.716     4.120</td>\n",
       "</tr>\n",
       "<tr>\n",
       "  <th>fatherBornUS</th>                           <td>    4.3070</td> <td>    6.264</td> <td>    0.688</td> <td> 0.492</td> <td>   -7.976    16.590</td>\n",
       "</tr>\n",
       "<tr>\n",
       "  <th>englishAtHome</th>                          <td>    8.0357</td> <td>    6.859</td> <td>    1.171</td> <td> 0.242</td> <td>   -5.415    21.487</td>\n",
       "</tr>\n",
       "<tr>\n",
       "  <th>computerForSchoolwork</th>                  <td>   22.5002</td> <td>    5.703</td> <td>    3.946</td> <td> 0.000</td> <td>   11.318    33.683</td>\n",
       "</tr>\n",
       "<tr>\n",
       "  <th>read30MinsADay</th>                         <td>   34.8719</td> <td>    3.408</td> <td>   10.231</td> <td> 0.000</td> <td>   28.188    41.556</td>\n",
       "</tr>\n",
       "<tr>\n",
       "  <th>minutesPerWeekEnglish</th>                  <td>    0.0128</td> <td>    0.011</td> <td>    1.194</td> <td> 0.233</td> <td>   -0.008     0.034</td>\n",
       "</tr>\n",
       "<tr>\n",
       "  <th>studentsInEnglish</th>                      <td>   -0.2866</td> <td>    0.228</td> <td>   -1.258</td> <td> 0.208</td> <td>   -0.733     0.160</td>\n",
       "</tr>\n",
       "<tr>\n",
       "  <th>schoolHasLibrary</th>                       <td>   12.2151</td> <td>    9.265</td> <td>    1.318</td> <td> 0.187</td> <td>   -5.953    30.383</td>\n",
       "</tr>\n",
       "<tr>\n",
       "  <th>publicSchool</th>                           <td>  -16.8575</td> <td>    6.726</td> <td>   -2.506</td> <td> 0.012</td> <td>  -30.046    -3.669</td>\n",
       "</tr>\n",
       "<tr>\n",
       "  <th>urban</th>                                  <td>   -0.1101</td> <td>    3.963</td> <td>   -0.028</td> <td> 0.978</td> <td>   -7.881     7.661</td>\n",
       "</tr>\n",
       "<tr>\n",
       "  <th>schoolSize</th>                             <td>    0.0065</td> <td>    0.002</td> <td>    2.977</td> <td> 0.003</td> <td>    0.002     0.011</td>\n",
       "</tr>\n",
       "</table>\n",
       "<table class=\"simpletable\">\n",
       "<tr>\n",
       "  <th>Omnibus:</th>       <td> 8.273</td> <th>  Durbin-Watson:     </th> <td>   1.998</td>\n",
       "</tr>\n",
       "<tr>\n",
       "  <th>Prob(Omnibus):</th> <td> 0.016</td> <th>  Jarque-Bera (JB):  </th> <td>   8.362</td>\n",
       "</tr>\n",
       "<tr>\n",
       "  <th>Skew:</th>          <td>-0.141</td> <th>  Prob(JB):          </th> <td>  0.0153</td>\n",
       "</tr>\n",
       "<tr>\n",
       "  <th>Kurtosis:</th>      <td> 2.943</td> <th>  Cond. No.          </th> <td>3.70e+04</td>\n",
       "</tr>\n",
       "</table>"
      ],
      "text/plain": [
       "<class 'statsmodels.iolib.summary.Summary'>\n",
       "\"\"\"\n",
       "                            OLS Regression Results                            \n",
       "==============================================================================\n",
       "Dep. Variable:           readingScore   R-squared:                       0.325\n",
       "Model:                            OLS   Adj. R-squared:                  0.317\n",
       "Method:                 Least Squares   F-statistic:                     41.04\n",
       "Date:                Sun, 04 Sep 2016   Prob (F-statistic):          1.72e-180\n",
       "Time:                        17:47:22   Log-Likelihood:                -13795.\n",
       "No. Observations:                2414   AIC:                         2.765e+04\n",
       "Df Residuals:                    2385   BIC:                         2.781e+04\n",
       "Df Model:                          28                                         \n",
       "Covariance Type:            nonrobust                                         \n",
       "==========================================================================================================\n",
       "                                             coef    std err          t      P>|t|      [95.0% Conf. Int.]\n",
       "----------------------------------------------------------------------------------------------------------\n",
       "const                                    143.7663     33.841      4.248      0.000        77.405   210.128\n",
       "American Indian/Alaska Native            -67.2773     16.787     -4.008      0.000      -100.196   -34.359\n",
       "Asian                                     -4.1103      9.220     -0.446      0.656       -22.191    13.970\n",
       "Black                                    -67.0123      5.461    -12.271      0.000       -77.721   -56.304\n",
       "Hispanic                                 -38.9755      5.178     -7.528      0.000       -49.129   -28.822\n",
       "More than one race                       -16.9225      8.496     -1.992      0.047       -33.583    -0.262\n",
       "Native Hawaiian/Other Pacific Islander    -5.1016     17.006     -0.300      0.764       -38.449    28.246\n",
       "grade                                     29.5427      2.937     10.057      0.000        23.783    35.303\n",
       "male                                     -14.5217      3.156     -4.601      0.000       -20.710    -8.333\n",
       "preschool                                 -4.4637      3.486     -1.280      0.201       -11.300     2.372\n",
       "expectBachelors                           55.2671      4.294     12.871      0.000        46.847    63.687\n",
       "motherHS                                   6.0588      6.091      0.995      0.320        -5.886    18.004\n",
       "motherBachelors                           12.6381      3.861      3.273      0.001         5.066    20.210\n",
       "motherWork                                -2.8091      3.522     -0.798      0.425        -9.715     4.097\n",
       "fatherHS                                   4.0182      5.579      0.720      0.471        -6.923    14.959\n",
       "fatherBachelors                           16.9298      3.995      4.237      0.000         9.095    24.764\n",
       "fatherWork                                 5.8428      4.396      1.329      0.184        -2.778    14.463\n",
       "selfBornUS                                -3.8063      7.324     -0.520      0.603       -18.168    10.555\n",
       "motherBornUS                              -8.7982      6.588     -1.336      0.182       -21.716     4.120\n",
       "fatherBornUS                               4.3070      6.264      0.688      0.492        -7.976    16.590\n",
       "englishAtHome                              8.0357      6.859      1.171      0.242        -5.415    21.487\n",
       "computerForSchoolwork                     22.5002      5.703      3.946      0.000        11.318    33.683\n",
       "read30MinsADay                            34.8719      3.408     10.231      0.000        28.188    41.556\n",
       "minutesPerWeekEnglish                      0.0128      0.011      1.194      0.233        -0.008     0.034\n",
       "studentsInEnglish                         -0.2866      0.228     -1.258      0.208        -0.733     0.160\n",
       "schoolHasLibrary                          12.2151      9.265      1.318      0.187        -5.953    30.383\n",
       "publicSchool                             -16.8575      6.726     -2.506      0.012       -30.046    -3.669\n",
       "urban                                     -0.1101      3.963     -0.028      0.978        -7.881     7.661\n",
       "schoolSize                                 0.0065      0.002      2.977      0.003         0.002     0.011\n",
       "==============================================================================\n",
       "Omnibus:                        8.273   Durbin-Watson:                   1.998\n",
       "Prob(Omnibus):                  0.016   Jarque-Bera (JB):                8.362\n",
       "Skew:                          -0.141   Prob(JB):                       0.0153\n",
       "Kurtosis:                       2.943   Cond. No.                     3.70e+04\n",
       "==============================================================================\n",
       "\n",
       "Warnings:\n",
       "[1] Standard Errors assume that the covariance matrix of the errors is correctly specified.\n",
       "[2] The condition number is large, 3.7e+04. This might indicate that there are\n",
       "strong multicollinearity or other numerical problems.\n",
       "\"\"\""
      ]
     },
     "execution_count": 29,
     "metadata": {},
     "output_type": "execute_result"
    }
   ],
   "source": [
    "lmscore.summary() ##I think I can use any one of the two summary types"
   ]
  },
  {
   "cell_type": "code",
   "execution_count": 30,
   "metadata": {
    "collapsed": false
   },
   "outputs": [
    {
     "data": {
      "text/plain": [
       "0     36.317872\n",
       "1    -37.516051\n",
       "2    177.011875\n",
       "3   -126.773978\n",
       "dtype: float64"
      ]
     },
     "execution_count": 30,
     "metadata": {},
     "output_type": "execute_result"
    }
   ],
   "source": [
    "#residuals of the model;\n",
    "lmscore.resid.head(4)"
   ]
  },
  {
   "cell_type": "code",
   "execution_count": 31,
   "metadata": {
    "collapsed": false
   },
   "outputs": [
    {
     "name": "stdout",
     "output_type": "stream",
     "text": [
      "73.365551433\n"
     ]
    }
   ],
   "source": [
    "rmse=math.sqrt((lmscore.resid**2).mean()) \n",
    "print rmse"
   ]
  },
  {
   "cell_type": "markdown",
   "metadata": {},
   "source": [
    "#### What is the Multiple R-squared value of lmScore on the training set\n",
    "* 0.3254\n",
    "\n",
    "#### What is the training-set root-mean squared error (RMSE) of lmScore?\n",
    "* 73.8108\n",
    "\n",
    "#### Consider two students A and B. They have all variable values the same, except that student A is in grade 11 and student B is in grade 9. What is the predicted reading score of student A minus the predicted reading score of student B?\n",
    "* Ans: 58.98. Since the coeff of grade is +29.49; for 2 grade levels; it is double the coeff.\n",
    "\n",
    "#### What is the meaning of the coefficient associated with variable raceethAsian?\n",
    "*  Predicted difference in the reading score between an Asian student and a white student who is otherwise identical "
   ]
  },
  {
   "cell_type": "markdown",
   "metadata": {
    "collapsed": false
   },
   "source": [
    "#### Based on the significance values, which variables are candidates for removal from the model? \n",
    "Assume that the factor variable raceeth should only be removed if none of its levels are significant.)"
   ]
  },
  {
   "cell_type": "code",
   "execution_count": 34,
   "metadata": {
    "collapsed": false
   },
   "outputs": [
    {
     "data": {
      "text/plain": [
       "Asian                                     0.655781\n",
       "Native Hawaiian/Other Pacific Islander    0.764208\n",
       "preschool                                 0.200516\n",
       "motherHS                                  0.320012\n",
       "motherWork                                0.425167\n",
       "fatherHS                                  0.471470\n",
       "fatherWork                                0.183934\n",
       "selfBornUS                                0.603307\n",
       "motherBornUS                              0.181821\n",
       "fatherBornUS                              0.491776\n",
       "englishAtHome                             0.241527\n",
       "minutesPerWeekEnglish                     0.232644\n",
       "studentsInEnglish                         0.208460\n",
       "schoolHasLibrary                          0.187487\n",
       "urban                                     0.977830\n",
       "dtype: float64"
      ]
     },
     "execution_count": 34,
     "metadata": {},
     "output_type": "execute_result"
    }
   ],
   "source": [
    "lmscore.pvalues[lmscore.pvalues >0.05]"
   ]
  },
  {
   "cell_type": "markdown",
   "metadata": {},
   "source": [
    "#### So all the above variables are candidates for removal except Asian/Native Hawaiian "
   ]
  },
  {
   "cell_type": "markdown",
   "metadata": {},
   "source": [
    "#### Predicting on unseen data:\n",
    "Using the \"predict\" function and supplying the \"newdata\" argument, use the lmScore model to predict the reading scores of students in pisaTest. Call this vector of predictions \"predTest\". Do not change the variables in the model (for example, do not remove variables that we found were not significant in the previous part of this problem). Use the summary function to describe the test set predictions.\n",
    "\n",
    "What is the range between the maximum and minimum predicted reading score on the test set?"
   ]
  },
  {
   "cell_type": "code",
   "execution_count": 35,
   "metadata": {
    "collapsed": false
   },
   "outputs": [
    {
     "data": {
      "text/plain": [
       "array([ 538.69212789,  495.62605148,  436.8781249 , ...,  447.98990547,\n",
       "        468.91289474,  557.36336867])"
      ]
     },
     "execution_count": 35,
     "metadata": {},
     "output_type": "execute_result"
    }
   ],
   "source": [
    "lmscore.predict(X)"
   ]
  },
  {
   "cell_type": "code",
   "execution_count": 44,
   "metadata": {
    "collapsed": false
   },
   "outputs": [],
   "source": [
    "X_test=test[features_to_use]\n",
    "X_test=sm.add_constant(X_test)\n",
    "X_test_pred=lmscore.predict(X_test)\n",
    "y_test=test.readingScore"
   ]
  },
  {
   "cell_type": "code",
   "execution_count": 45,
   "metadata": {
    "collapsed": false
   },
   "outputs": [
    {
     "data": {
      "text/plain": [
       "353.2231231139566"
      ]
     },
     "execution_count": 45,
     "metadata": {},
     "output_type": "execute_result"
    }
   ],
   "source": [
    "min(X_test_pred)"
   ]
  },
  {
   "cell_type": "markdown",
   "metadata": {},
   "source": [
    "#### What is the range between the maximum and minimum predicted reading score on the test set"
   ]
  },
  {
   "cell_type": "code",
   "execution_count": 46,
   "metadata": {
    "collapsed": false
   },
   "outputs": [
    {
     "data": {
      "text/plain": [
       "284.46831179513288"
      ]
     },
     "execution_count": 46,
     "metadata": {},
     "output_type": "execute_result"
    }
   ],
   "source": [
    "max(X_test_pred)-min(X_test_pred)"
   ]
  },
  {
   "cell_type": "markdown",
   "metadata": {},
   "source": [
    "#### Test set SSE and RMSE:\n",
    "What is the sum of squared errors (SSE) of lmScore on the testing set?"
   ]
  },
  {
   "cell_type": "code",
   "execution_count": 47,
   "metadata": {
    "collapsed": false
   },
   "outputs": [
    {
     "data": {
      "text/plain": [
       "5762082.371144367"
      ]
     },
     "execution_count": 47,
     "metadata": {},
     "output_type": "execute_result"
    }
   ],
   "source": [
    "SSE=((lmscore.predict(X_test)-y_test)**2).sum()\n",
    "SSE"
   ]
  },
  {
   "cell_type": "markdown",
   "metadata": {},
   "source": [
    "What is the RSME of lmScore on the testing set?"
   ]
  },
  {
   "cell_type": "code",
   "execution_count": 48,
   "metadata": {
    "collapsed": false
   },
   "outputs": [
    {
     "data": {
      "text/plain": [
       "76.29079383109176"
      ]
     },
     "execution_count": 48,
     "metadata": {},
     "output_type": "execute_result"
    }
   ],
   "source": [
    "math.sqrt(((lmscore.predict(X_test)-y_test)**2).mean())"
   ]
  },
  {
   "cell_type": "markdown",
   "metadata": {},
   "source": [
    "#### Problem 4.3 - Baseline prediction and test-set SSE\n",
    "\n",
    "What is the predicted test score used in the baseline model? Remember to compute this value using the training set and not the test set."
   ]
  },
  {
   "cell_type": "code",
   "execution_count": 49,
   "metadata": {
    "collapsed": false
   },
   "outputs": [
    {
     "data": {
      "text/plain": [
       "517.9628873239429"
      ]
     },
     "execution_count": 49,
     "metadata": {},
     "output_type": "execute_result"
    }
   ],
   "source": [
    "##baseline is the average of the training scores:\n",
    "## Note this what is used to calculate Total sum of sqaures\n",
    "y.mean()"
   ]
  },
  {
   "cell_type": "markdown",
   "metadata": {},
   "source": [
    "What is the sum of squared errors of the baseline model on the testing set? HINT: We call the sum of squared errors for the baseline model the total sum of squares (SST)."
   ]
  },
  {
   "cell_type": "code",
   "execution_count": 50,
   "metadata": {
    "collapsed": false
   },
   "outputs": [
    {
     "name": "stdout",
     "output_type": "stream",
     "text": [
      "7802354.07761\n"
     ]
    }
   ],
   "source": [
    "#This can be computed as:\n",
    "SST=((y.mean() - test.readingScore)**2).sum()\n",
    "print SST"
   ]
  },
  {
   "cell_type": "markdown",
   "metadata": {},
   "source": [
    "What is the test-set R-squared value of lmScore?"
   ]
  },
  {
   "cell_type": "code",
   "execution_count": 51,
   "metadata": {
    "collapsed": false
   },
   "outputs": [
    {
     "data": {
      "text/plain": [
       "0.26149437543770626"
      ]
     },
     "execution_count": 51,
     "metadata": {},
     "output_type": "execute_result"
    }
   ],
   "source": [
    "#The test-set R^2 is defined as 1-SSE/SST, where SSE is the sum of squared errors of the model on the test set and SST is the sum of squared errors of the baseline model. For this model, the R^2 is then computed to be 1-5762082/7802354.\n",
    "\n",
    "R_sq=1.0-(SSE/SST)\n",
    "R_sq"
   ]
  }
 ],
 "metadata": {
  "kernelspec": {
   "display_name": "Python 2",
   "language": "python",
   "name": "python2"
  },
  "language_info": {
   "codemirror_mode": {
    "name": "ipython",
    "version": 2
   },
   "file_extension": ".py",
   "mimetype": "text/x-python",
   "name": "python",
   "nbconvert_exporter": "python",
   "pygments_lexer": "ipython2",
   "version": "2.7.11"
  }
 },
 "nbformat": 4,
 "nbformat_minor": 0
}
