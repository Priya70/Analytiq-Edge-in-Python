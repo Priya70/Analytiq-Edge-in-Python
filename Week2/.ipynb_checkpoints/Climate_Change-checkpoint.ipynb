{
 "cells": [
  {
   "cell_type": "markdown",
   "metadata": {},
   "source": [
    "### Climate Change Assignment in Python\n"
   ]
  },
  {
   "cell_type": "code",
   "execution_count": 2,
   "metadata": {
    "collapsed": false
   },
   "outputs": [
    {
     "data": {
      "text/html": [
       "<div>\n",
       "<table border=\"1\" class=\"dataframe\">\n",
       "  <thead>\n",
       "    <tr style=\"text-align: right;\">\n",
       "      <th></th>\n",
       "      <th>Year</th>\n",
       "      <th>Month</th>\n",
       "      <th>MEI</th>\n",
       "      <th>CO2</th>\n",
       "      <th>CH4</th>\n",
       "      <th>N2O</th>\n",
       "      <th>CFC11</th>\n",
       "      <th>CFC12</th>\n",
       "      <th>TSI</th>\n",
       "      <th>Aerosols</th>\n",
       "      <th>Temp</th>\n",
       "    </tr>\n",
       "  </thead>\n",
       "  <tbody>\n",
       "    <tr>\n",
       "      <th>0</th>\n",
       "      <td>1983</td>\n",
       "      <td>5</td>\n",
       "      <td>2.556</td>\n",
       "      <td>345.96</td>\n",
       "      <td>1638.59</td>\n",
       "      <td>303.677</td>\n",
       "      <td>191.324</td>\n",
       "      <td>350.113</td>\n",
       "      <td>1366.1024</td>\n",
       "      <td>0.0863</td>\n",
       "      <td>0.109</td>\n",
       "    </tr>\n",
       "    <tr>\n",
       "      <th>1</th>\n",
       "      <td>1983</td>\n",
       "      <td>6</td>\n",
       "      <td>2.167</td>\n",
       "      <td>345.52</td>\n",
       "      <td>1633.71</td>\n",
       "      <td>303.746</td>\n",
       "      <td>192.057</td>\n",
       "      <td>351.848</td>\n",
       "      <td>1366.1208</td>\n",
       "      <td>0.0794</td>\n",
       "      <td>0.118</td>\n",
       "    </tr>\n",
       "    <tr>\n",
       "      <th>2</th>\n",
       "      <td>1983</td>\n",
       "      <td>7</td>\n",
       "      <td>1.741</td>\n",
       "      <td>344.15</td>\n",
       "      <td>1633.22</td>\n",
       "      <td>303.795</td>\n",
       "      <td>192.818</td>\n",
       "      <td>353.725</td>\n",
       "      <td>1366.2850</td>\n",
       "      <td>0.0731</td>\n",
       "      <td>0.137</td>\n",
       "    </tr>\n",
       "    <tr>\n",
       "      <th>3</th>\n",
       "      <td>1983</td>\n",
       "      <td>8</td>\n",
       "      <td>1.130</td>\n",
       "      <td>342.25</td>\n",
       "      <td>1631.35</td>\n",
       "      <td>303.839</td>\n",
       "      <td>193.602</td>\n",
       "      <td>355.633</td>\n",
       "      <td>1366.4202</td>\n",
       "      <td>0.0673</td>\n",
       "      <td>0.176</td>\n",
       "    </tr>\n",
       "    <tr>\n",
       "      <th>4</th>\n",
       "      <td>1983</td>\n",
       "      <td>9</td>\n",
       "      <td>0.428</td>\n",
       "      <td>340.17</td>\n",
       "      <td>1648.40</td>\n",
       "      <td>303.901</td>\n",
       "      <td>194.392</td>\n",
       "      <td>357.465</td>\n",
       "      <td>1366.2335</td>\n",
       "      <td>0.0619</td>\n",
       "      <td>0.149</td>\n",
       "    </tr>\n",
       "  </tbody>\n",
       "</table>\n",
       "</div>"
      ],
      "text/plain": [
       "   Year  Month    MEI     CO2      CH4      N2O    CFC11    CFC12        TSI  \\\n",
       "0  1983      5  2.556  345.96  1638.59  303.677  191.324  350.113  1366.1024   \n",
       "1  1983      6  2.167  345.52  1633.71  303.746  192.057  351.848  1366.1208   \n",
       "2  1983      7  1.741  344.15  1633.22  303.795  192.818  353.725  1366.2850   \n",
       "3  1983      8  1.130  342.25  1631.35  303.839  193.602  355.633  1366.4202   \n",
       "4  1983      9  0.428  340.17  1648.40  303.901  194.392  357.465  1366.2335   \n",
       "\n",
       "   Aerosols   Temp  \n",
       "0    0.0863  0.109  \n",
       "1    0.0794  0.118  \n",
       "2    0.0731  0.137  \n",
       "3    0.0673  0.176  \n",
       "4    0.0619  0.149  "
      ]
     },
     "execution_count": 2,
     "metadata": {},
     "output_type": "execute_result"
    }
   ],
   "source": [
    "import pandas as pd\n",
    "import matplotlib \n",
    "import numpy as np\n",
    "import matplotlib.pyplot as plt\n",
    "import statsmodels.formula.api as smf\n",
    "%matplotlib inline  \n",
    "\n",
    "#read in the climate data\n",
    "climate=pd.read_csv('climate_change.csv')\n",
    "climate.columns=['Year','Month','MEI','CO2','CH4','N2O','CFC11','CFC12','TSI','Aerosols', 'Temp']\n",
    "climate.head()"
   ]
  },
  {
   "cell_type": "code",
   "execution_count": 3,
   "metadata": {
    "collapsed": false
   },
   "outputs": [],
   "source": [
    "train=climate[climate.Year<=2006]\n",
    "test=climate[climate.Year>2006]"
   ]
  },
  {
   "cell_type": "markdown",
   "metadata": {},
   "source": [
    "### Using sklearn"
   ]
  },
  {
   "cell_type": "code",
   "execution_count": 23,
   "metadata": {
    "collapsed": false
   },
   "outputs": [
    {
     "name": "stdout",
     "output_type": "stream",
     "text": [
      "Intercept:  -124.594260401\n"
     ]
    },
    {
     "data": {
      "text/plain": [
       "[('MEI', 0.06420531336752576),\n",
       " ('CO2', 0.0064573592723366378),\n",
       " ('CH4', 0.00012404189575251033),\n",
       " ('N2O', -0.01652800325747477),\n",
       " ('CFC11', -0.0066304888893799103),\n",
       " ('CFC12', 0.0038081032430232562),\n",
       " ('TSI', 0.093141083484999818),\n",
       " ('Aerosols', -1.5376132381050902)]"
      ]
     },
     "execution_count": 23,
     "metadata": {},
     "output_type": "execute_result"
    }
   ],
   "source": [
    "##import sklearn\n",
    "from sklearn import linear_model\n",
    "features=['MEI','CO2','CH4','N2O','CFC11','CFC12','TSI','Aerosols']\n",
    "input_features=train[features]\n",
    "#input_features.head()\n",
    "output_feature=train['Temp']\n",
    "LR_1=linear_model.LinearRegression()\n",
    "LR_1.fit(input_features,output_feature)\n",
    "print \"Intercept: \", LR_1.intercept_\n",
    "zip(input_features,LR_1.coef_)"
   ]
  },
  {
   "cell_type": "code",
   "execution_count": 26,
   "metadata": {
    "collapsed": false
   },
   "outputs": [
    {
     "data": {
      "text/plain": [
       "0.75089327705234177"
      ]
     },
     "execution_count": 26,
     "metadata": {},
     "output_type": "execute_result"
    }
   ],
   "source": [
    "LR_1.fit\n",
    "##The R2 value is \n",
    "LR_1.score(input_features,output_feature)"
   ]
  },
  {
   "cell_type": "code",
   "execution_count": 30,
   "metadata": {
    "collapsed": false
   },
   "outputs": [
    {
     "ename": "AttributeError",
     "evalue": "'function' object has no attribute 'feature_selection'",
     "output_type": "error",
     "traceback": [
      "\u001b[0;31m---------------------------------------------------------------------------\u001b[0m",
      "\u001b[0;31mAttributeError\u001b[0m                            Traceback (most recent call last)",
      "\u001b[0;32m<ipython-input-30-aa35c5b1cc5f>\u001b[0m in \u001b[0;36m<module>\u001b[0;34m()\u001b[0m\n\u001b[1;32m      1\u001b[0m \u001b[0;32mfrom\u001b[0m \u001b[0msklearn\u001b[0m \u001b[0;32mimport\u001b[0m \u001b[0mfeature_selection\u001b[0m\u001b[0;34m\u001b[0m\u001b[0m\n\u001b[0;32m----> 2\u001b[0;31m \u001b[0mLR_1\u001b[0m\u001b[0;34m.\u001b[0m\u001b[0mfit\u001b[0m\u001b[0;34m.\u001b[0m\u001b[0mfeature_selection\u001b[0m\u001b[0;34m(\u001b[0m\u001b[0minput_features\u001b[0m\u001b[0;34m,\u001b[0m\u001b[0moutput_feature\u001b[0m\u001b[0;34m)\u001b[0m\u001b[0;34m\u001b[0m\u001b[0m\n\u001b[0m",
      "\u001b[0;31mAttributeError\u001b[0m: 'function' object has no attribute 'feature_selection'"
     ]
    }
   ],
   "source": [
    "from sklearn import feature_selection\n",
    "LR_1.fit.feature_selection(input_features,output_feature)\n"
   ]
  },
  {
   "cell_type": "code",
   "execution_count": null,
   "metadata": {
    "collapsed": true
   },
   "outputs": [],
   "source": [
    "##To get the e p-value (significance) of each coefficient?\n",
    "class LinearRegression(linear_model.LinearRegression):\n",
    "\n",
    "    def __init__(self,*args,**kwargs):\n",
    "        # *args is the list of arguments that might go into the LinearRegression object\n",
    "        # that we don't know about and don't want to have to deal with. Similarly, **kwargs\n",
    "        # is a dictionary of key words and values that might also need to go into the orginal\n",
    "        # LinearRegression object. We put *args and **kwargs so that we don't have to look\n",
    "        # these up and write them down explicitly here. Nice and easy.\n",
    "\n",
    "        if not \"fit_intercept\" in kwargs:\n",
    "            kwargs['fit_intercept'] = False\n",
    "\n",
    "        super(LinearRegression,self).__init__(*args,**kwargs)\n",
    "\n",
    "    # Adding in t-statistics for the coefficients.\n",
    "    def fit(self,x,y):\n",
    "        # This takes in numpy arrays (not matrices). Also assumes you are leaving out the column\n",
    "        # of constants.\n",
    "\n",
    "        # Not totally sure what 'super' does here and why you redefine self...\n",
    "        self = super(LinearRegression, self).fit(x,y)\n",
    "        n, k = x.shape\n",
    "        yHat = np.matrix(self.predict(x)).T\n",
    "\n",
    "        # Change X and Y into numpy matricies. x also has a column of ones added to it.\n",
    "        x = np.hstack((np.ones((n,1)),np.matrix(x)))\n",
    "        y = np.matrix(y).T\n",
    "\n",
    "        # Degrees of freedom.\n",
    "        df = float(n-k-1)\n",
    "\n",
    "        # Sample variance.     \n",
    "        sse = np.sum(np.square(yHat - y),axis=0)\n",
    "        self.sampleVariance = sse/df\n",
    "\n",
    "        # Sample variance for x.\n",
    "        self.sampleVarianceX = x.T*x\n",
    "\n",
    "        # Covariance Matrix = [(s^2)(X'X)^-1]^0.5. (sqrtm = matrix square root.  ugly)\n",
    "        self.covarianceMatrix = sc.linalg.sqrtm(self.sampleVariance[0,0]*self.sampleVarianceX.I)\n",
    "\n",
    "        # Standard erros for the difference coefficients: the diagonal elements of the covariance matrix.\n",
    "        self.se = self.covarianceMatrix.diagonal()[1:]\n",
    "\n",
    "        # T statistic for each beta.\n",
    "        self.betasTStat = np.zeros(len(self.se))\n",
    "        for i in xrange(len(self.se)):\n",
    "            self.betasTStat[i] = self.coef_[0,i]/self.se[i]\n",
    "\n",
    "        # P-value for each beta. This is a two sided t-test, since the betas can be \n",
    "        # positive or negative.\n",
    "        self.betasPValue = 1 - t.cdf(abs(self.betasTStat),df)\n",
    "shareimprove this answer"
   ]
  },
  {
   "cell_type": "markdown",
   "metadata": {},
   "source": [
    "### Using Stats models -which is not as complete as scikit-learn but has a syntax similar to R"
   ]
  },
  {
   "cell_type": "code",
   "execution_count": 35,
   "metadata": {
    "collapsed": false
   },
   "outputs": [
    {
     "data": {
      "text/html": [
       "<table class=\"simpletable\">\n",
       "<caption>OLS Regression Results</caption>\n",
       "<tr>\n",
       "  <th>Dep. Variable:</th>          <td>Temp</td>       <th>  R-squared:         </th> <td>   0.751</td>\n",
       "</tr>\n",
       "<tr>\n",
       "  <th>Model:</th>                   <td>OLS</td>       <th>  Adj. R-squared:    </th> <td>   0.744</td>\n",
       "</tr>\n",
       "<tr>\n",
       "  <th>Method:</th>             <td>Least Squares</td>  <th>  F-statistic:       </th> <td>   103.6</td>\n",
       "</tr>\n",
       "<tr>\n",
       "  <th>Date:</th>             <td>Sat, 03 Oct 2015</td> <th>  Prob (F-statistic):</th> <td>1.94e-78</td>\n",
       "</tr>\n",
       "<tr>\n",
       "  <th>Time:</th>                 <td>11:05:16</td>     <th>  Log-Likelihood:    </th> <td>  280.10</td>\n",
       "</tr>\n",
       "<tr>\n",
       "  <th>No. Observations:</th>      <td>   284</td>      <th>  AIC:               </th> <td>  -542.2</td>\n",
       "</tr>\n",
       "<tr>\n",
       "  <th>Df Residuals:</th>          <td>   275</td>      <th>  BIC:               </th> <td>  -509.4</td>\n",
       "</tr>\n",
       "<tr>\n",
       "  <th>Df Model:</th>              <td>     8</td>      <th>                     </th>     <td> </td>   \n",
       "</tr>\n",
       "<tr>\n",
       "  <th>Covariance Type:</th>      <td>nonrobust</td>    <th>                     </th>     <td> </td>   \n",
       "</tr>\n",
       "</table>\n",
       "<table class=\"simpletable\">\n",
       "<tr>\n",
       "      <td></td>         <th>coef</th>     <th>std err</th>      <th>t</th>      <th>P>|t|</th> <th>[95.0% Conf. Int.]</th> \n",
       "</tr>\n",
       "<tr>\n",
       "  <th>Intercept</th> <td> -124.5943</td> <td>   19.887</td> <td>   -6.265</td> <td> 0.000</td> <td> -163.744   -85.445</td>\n",
       "</tr>\n",
       "<tr>\n",
       "  <th>MEI</th>       <td>    0.0642</td> <td>    0.006</td> <td>    9.923</td> <td> 0.000</td> <td>    0.051     0.077</td>\n",
       "</tr>\n",
       "<tr>\n",
       "  <th>CO2</th>       <td>    0.0065</td> <td>    0.002</td> <td>    2.826</td> <td> 0.005</td> <td>    0.002     0.011</td>\n",
       "</tr>\n",
       "<tr>\n",
       "  <th>CH4</th>       <td>    0.0001</td> <td>    0.001</td> <td>    0.240</td> <td> 0.810</td> <td>   -0.001     0.001</td>\n",
       "</tr>\n",
       "<tr>\n",
       "  <th>N2O</th>       <td>   -0.0165</td> <td>    0.009</td> <td>   -1.930</td> <td> 0.055</td> <td>   -0.033     0.000</td>\n",
       "</tr>\n",
       "<tr>\n",
       "  <th>CFC11</th>     <td>   -0.0066</td> <td>    0.002</td> <td>   -4.078</td> <td> 0.000</td> <td>   -0.010    -0.003</td>\n",
       "</tr>\n",
       "<tr>\n",
       "  <th>CFC12</th>     <td>    0.0038</td> <td>    0.001</td> <td>    3.757</td> <td> 0.000</td> <td>    0.002     0.006</td>\n",
       "</tr>\n",
       "<tr>\n",
       "  <th>TSI</th>       <td>    0.0931</td> <td>    0.015</td> <td>    6.313</td> <td> 0.000</td> <td>    0.064     0.122</td>\n",
       "</tr>\n",
       "<tr>\n",
       "  <th>Aerosols</th>  <td>   -1.5376</td> <td>    0.213</td> <td>   -7.210</td> <td> 0.000</td> <td>   -1.957    -1.118</td>\n",
       "</tr>\n",
       "</table>\n",
       "<table class=\"simpletable\">\n",
       "<tr>\n",
       "  <th>Omnibus:</th>       <td> 8.740</td> <th>  Durbin-Watson:     </th> <td>   0.956</td>\n",
       "</tr>\n",
       "<tr>\n",
       "  <th>Prob(Omnibus):</th> <td> 0.013</td> <th>  Jarque-Bera (JB):  </th> <td>  10.327</td>\n",
       "</tr>\n",
       "<tr>\n",
       "  <th>Skew:</th>          <td> 0.289</td> <th>  Prob(JB):          </th> <td> 0.00572</td>\n",
       "</tr>\n",
       "<tr>\n",
       "  <th>Kurtosis:</th>      <td> 3.733</td> <th>  Cond. No.          </th> <td>8.53e+06</td>\n",
       "</tr>\n",
       "</table>"
      ],
      "text/plain": [
       "<class 'statsmodels.iolib.summary.Summary'>\n",
       "\"\"\"\n",
       "                            OLS Regression Results                            \n",
       "==============================================================================\n",
       "Dep. Variable:                   Temp   R-squared:                       0.751\n",
       "Model:                            OLS   Adj. R-squared:                  0.744\n",
       "Method:                 Least Squares   F-statistic:                     103.6\n",
       "Date:                Sat, 03 Oct 2015   Prob (F-statistic):           1.94e-78\n",
       "Time:                        11:05:16   Log-Likelihood:                 280.10\n",
       "No. Observations:                 284   AIC:                            -542.2\n",
       "Df Residuals:                     275   BIC:                            -509.4\n",
       "Df Model:                           8                                         \n",
       "Covariance Type:            nonrobust                                         \n",
       "==============================================================================\n",
       "                 coef    std err          t      P>|t|      [95.0% Conf. Int.]\n",
       "------------------------------------------------------------------------------\n",
       "Intercept   -124.5943     19.887     -6.265      0.000      -163.744   -85.445\n",
       "MEI            0.0642      0.006      9.923      0.000         0.051     0.077\n",
       "CO2            0.0065      0.002      2.826      0.005         0.002     0.011\n",
       "CH4            0.0001      0.001      0.240      0.810        -0.001     0.001\n",
       "N2O           -0.0165      0.009     -1.930      0.055        -0.033     0.000\n",
       "CFC11         -0.0066      0.002     -4.078      0.000        -0.010    -0.003\n",
       "CFC12          0.0038      0.001      3.757      0.000         0.002     0.006\n",
       "TSI            0.0931      0.015      6.313      0.000         0.064     0.122\n",
       "Aerosols      -1.5376      0.213     -7.210      0.000        -1.957    -1.118\n",
       "==============================================================================\n",
       "Omnibus:                        8.740   Durbin-Watson:                   0.956\n",
       "Prob(Omnibus):                  0.013   Jarque-Bera (JB):               10.327\n",
       "Skew:                           0.289   Prob(JB):                      0.00572\n",
       "Kurtosis:                       3.733   Cond. No.                     8.53e+06\n",
       "==============================================================================\n",
       "\n",
       "Warnings:\n",
       "[1] Standard Errors assume that the covariance matrix of the errors is correctly specified.\n",
       "[2] The condition number is large, 8.53e+06. This might indicate that there are\n",
       "strong multicollinearity or other numerical problems.\n",
       "\"\"\""
      ]
     },
     "execution_count": 35,
     "metadata": {},
     "output_type": "execute_result"
    }
   ],
   "source": [
    "train.N2O\n",
    "model1=smf.ols(formula='Temp ~ MEI + CO2 + CH4+ N2O + CFC11+ CFC12+TSI + Aerosols',data=train)\n",
    "Temp_fitted1=model1.fit()\n",
    "Temp_fitted1.summary()"
   ]
  },
  {
   "cell_type": "markdown",
   "metadata": {},
   "source": [
    "####1.1Build a linear regression model using all of the independant variables except Year and Month. Whta is the R-squared?"
   ]
  },
  {
   "cell_type": "markdown",
   "metadata": {},
   "source": [
    "0.751"
   ]
  },
  {
   "cell_type": "markdown",
   "metadata": {},
   "source": [
    "####1.2 Which variables are significant (p<0.005)"
   ]
  },
  {
   "cell_type": "markdown",
   "metadata": {},
   "source": [
    "Significant variables:\n",
    "* MEI \n",
    "* CO2\n",
    "* CFC-11\n",
    "* CFC-12\n",
    "* TSI\n",
    "* Aerosles"
   ]
  },
  {
   "cell_type": "markdown",
   "metadata": {},
   "source": [
    "#### Current scientific opinion is that NO2 and CFC-11 are greenhouse gases.However their reegression coefficient atre negative. What does thsi likely signify?"
   ]
  },
  {
   "cell_type": "raw",
   "metadata": {},
   "source": [
    "2O and CFC-11 are likely to be correlated. "
   ]
  },
  {
   "cell_type": "code",
   "execution_count": 36,
   "metadata": {
    "collapsed": false
   },
   "outputs": [
    {
     "data": {
      "text/html": [
       "<div>\n",
       "<table border=\"1\" class=\"dataframe\">\n",
       "  <thead>\n",
       "    <tr style=\"text-align: right;\">\n",
       "      <th></th>\n",
       "      <th>Year</th>\n",
       "      <th>Month</th>\n",
       "      <th>MEI</th>\n",
       "      <th>CO2</th>\n",
       "      <th>CH4</th>\n",
       "      <th>N2O</th>\n",
       "      <th>CFC11</th>\n",
       "      <th>CFC12</th>\n",
       "      <th>TSI</th>\n",
       "      <th>Aerosols</th>\n",
       "      <th>Temp</th>\n",
       "    </tr>\n",
       "  </thead>\n",
       "  <tbody>\n",
       "    <tr>\n",
       "      <th>Year</th>\n",
       "      <td>1.000000</td>\n",
       "      <td>-0.027942</td>\n",
       "      <td>-0.036988</td>\n",
       "      <td>0.982749</td>\n",
       "      <td>0.915659</td>\n",
       "      <td>0.993845</td>\n",
       "      <td>0.569106</td>\n",
       "      <td>0.897012</td>\n",
       "      <td>0.170302</td>\n",
       "      <td>-0.345247</td>\n",
       "      <td>0.786797</td>\n",
       "    </tr>\n",
       "    <tr>\n",
       "      <th>Month</th>\n",
       "      <td>-0.027942</td>\n",
       "      <td>1.000000</td>\n",
       "      <td>0.000885</td>\n",
       "      <td>-0.106732</td>\n",
       "      <td>0.018569</td>\n",
       "      <td>0.013632</td>\n",
       "      <td>-0.013111</td>\n",
       "      <td>0.000675</td>\n",
       "      <td>-0.034606</td>\n",
       "      <td>0.014890</td>\n",
       "      <td>-0.099857</td>\n",
       "    </tr>\n",
       "    <tr>\n",
       "      <th>MEI</th>\n",
       "      <td>-0.036988</td>\n",
       "      <td>0.000885</td>\n",
       "      <td>1.000000</td>\n",
       "      <td>-0.041147</td>\n",
       "      <td>-0.033419</td>\n",
       "      <td>-0.050820</td>\n",
       "      <td>0.069000</td>\n",
       "      <td>0.008286</td>\n",
       "      <td>-0.154492</td>\n",
       "      <td>0.340238</td>\n",
       "      <td>0.172471</td>\n",
       "    </tr>\n",
       "    <tr>\n",
       "      <th>CO2</th>\n",
       "      <td>0.982749</td>\n",
       "      <td>-0.106732</td>\n",
       "      <td>-0.041147</td>\n",
       "      <td>1.000000</td>\n",
       "      <td>0.877280</td>\n",
       "      <td>0.976720</td>\n",
       "      <td>0.514060</td>\n",
       "      <td>0.852690</td>\n",
       "      <td>0.177429</td>\n",
       "      <td>-0.356155</td>\n",
       "      <td>0.788529</td>\n",
       "    </tr>\n",
       "    <tr>\n",
       "      <th>CH4</th>\n",
       "      <td>0.915659</td>\n",
       "      <td>0.018569</td>\n",
       "      <td>-0.033419</td>\n",
       "      <td>0.877280</td>\n",
       "      <td>1.000000</td>\n",
       "      <td>0.899839</td>\n",
       "      <td>0.779904</td>\n",
       "      <td>0.963616</td>\n",
       "      <td>0.245528</td>\n",
       "      <td>-0.267809</td>\n",
       "      <td>0.703255</td>\n",
       "    </tr>\n",
       "    <tr>\n",
       "      <th>N2O</th>\n",
       "      <td>0.993845</td>\n",
       "      <td>0.013632</td>\n",
       "      <td>-0.050820</td>\n",
       "      <td>0.976720</td>\n",
       "      <td>0.899839</td>\n",
       "      <td>1.000000</td>\n",
       "      <td>0.522477</td>\n",
       "      <td>0.867931</td>\n",
       "      <td>0.199757</td>\n",
       "      <td>-0.337055</td>\n",
       "      <td>0.778639</td>\n",
       "    </tr>\n",
       "    <tr>\n",
       "      <th>CFC11</th>\n",
       "      <td>0.569106</td>\n",
       "      <td>-0.013111</td>\n",
       "      <td>0.069000</td>\n",
       "      <td>0.514060</td>\n",
       "      <td>0.779904</td>\n",
       "      <td>0.522477</td>\n",
       "      <td>1.000000</td>\n",
       "      <td>0.868985</td>\n",
       "      <td>0.272046</td>\n",
       "      <td>-0.043921</td>\n",
       "      <td>0.407710</td>\n",
       "    </tr>\n",
       "    <tr>\n",
       "      <th>CFC12</th>\n",
       "      <td>0.897012</td>\n",
       "      <td>0.000675</td>\n",
       "      <td>0.008286</td>\n",
       "      <td>0.852690</td>\n",
       "      <td>0.963616</td>\n",
       "      <td>0.867931</td>\n",
       "      <td>0.868985</td>\n",
       "      <td>1.000000</td>\n",
       "      <td>0.255303</td>\n",
       "      <td>-0.225131</td>\n",
       "      <td>0.687558</td>\n",
       "    </tr>\n",
       "    <tr>\n",
       "      <th>TSI</th>\n",
       "      <td>0.170302</td>\n",
       "      <td>-0.034606</td>\n",
       "      <td>-0.154492</td>\n",
       "      <td>0.177429</td>\n",
       "      <td>0.245528</td>\n",
       "      <td>0.199757</td>\n",
       "      <td>0.272046</td>\n",
       "      <td>0.255303</td>\n",
       "      <td>1.000000</td>\n",
       "      <td>0.052117</td>\n",
       "      <td>0.243383</td>\n",
       "    </tr>\n",
       "    <tr>\n",
       "      <th>Aerosols</th>\n",
       "      <td>-0.345247</td>\n",
       "      <td>0.014890</td>\n",
       "      <td>0.340238</td>\n",
       "      <td>-0.356155</td>\n",
       "      <td>-0.267809</td>\n",
       "      <td>-0.337055</td>\n",
       "      <td>-0.043921</td>\n",
       "      <td>-0.225131</td>\n",
       "      <td>0.052117</td>\n",
       "      <td>1.000000</td>\n",
       "      <td>-0.384914</td>\n",
       "    </tr>\n",
       "    <tr>\n",
       "      <th>Temp</th>\n",
       "      <td>0.786797</td>\n",
       "      <td>-0.099857</td>\n",
       "      <td>0.172471</td>\n",
       "      <td>0.788529</td>\n",
       "      <td>0.703255</td>\n",
       "      <td>0.778639</td>\n",
       "      <td>0.407710</td>\n",
       "      <td>0.687558</td>\n",
       "      <td>0.243383</td>\n",
       "      <td>-0.384914</td>\n",
       "      <td>1.000000</td>\n",
       "    </tr>\n",
       "  </tbody>\n",
       "</table>\n",
       "</div>"
      ],
      "text/plain": [
       "              Year     Month       MEI       CO2       CH4       N2O  \\\n",
       "Year      1.000000 -0.027942 -0.036988  0.982749  0.915659  0.993845   \n",
       "Month    -0.027942  1.000000  0.000885 -0.106732  0.018569  0.013632   \n",
       "MEI      -0.036988  0.000885  1.000000 -0.041147 -0.033419 -0.050820   \n",
       "CO2       0.982749 -0.106732 -0.041147  1.000000  0.877280  0.976720   \n",
       "CH4       0.915659  0.018569 -0.033419  0.877280  1.000000  0.899839   \n",
       "N2O       0.993845  0.013632 -0.050820  0.976720  0.899839  1.000000   \n",
       "CFC11     0.569106 -0.013111  0.069000  0.514060  0.779904  0.522477   \n",
       "CFC12     0.897012  0.000675  0.008286  0.852690  0.963616  0.867931   \n",
       "TSI       0.170302 -0.034606 -0.154492  0.177429  0.245528  0.199757   \n",
       "Aerosols -0.345247  0.014890  0.340238 -0.356155 -0.267809 -0.337055   \n",
       "Temp      0.786797 -0.099857  0.172471  0.788529  0.703255  0.778639   \n",
       "\n",
       "             CFC11     CFC12       TSI  Aerosols      Temp  \n",
       "Year      0.569106  0.897012  0.170302 -0.345247  0.786797  \n",
       "Month    -0.013111  0.000675 -0.034606  0.014890 -0.099857  \n",
       "MEI       0.069000  0.008286 -0.154492  0.340238  0.172471  \n",
       "CO2       0.514060  0.852690  0.177429 -0.356155  0.788529  \n",
       "CH4       0.779904  0.963616  0.245528 -0.267809  0.703255  \n",
       "N2O       0.522477  0.867931  0.199757 -0.337055  0.778639  \n",
       "CFC11     1.000000  0.868985  0.272046 -0.043921  0.407710  \n",
       "CFC12     0.868985  1.000000  0.255303 -0.225131  0.687558  \n",
       "TSI       0.272046  0.255303  1.000000  0.052117  0.243383  \n",
       "Aerosols -0.043921 -0.225131  0.052117  1.000000 -0.384914  \n",
       "Temp      0.407710  0.687558  0.243383 -0.384914  1.000000  "
      ]
     },
     "execution_count": 36,
     "metadata": {},
     "output_type": "execute_result"
    }
   ],
   "source": [
    "train.corr()"
   ]
  },
  {
   "cell_type": "markdown",
   "metadata": {},
   "source": [
    "#### 2.2 Compute correlations between all variables in the tarining set. WHich of the independant variables is N2O highly crrelated with? (>0.7)"
   ]
  },
  {
   "cell_type": "markdown",
   "metadata": {},
   "source": [
    "N2O is Highly correlated with:\n",
    "    * CO2\n",
    "    * CH4\n",
    "    * CFC12\n",
    "    "
   ]
  },
  {
   "cell_type": "markdown",
   "metadata": {},
   "source": [
    "#### which of the variables in CFC-11 correlated with?"
   ]
  },
  {
   "cell_type": "markdown",
   "metadata": {},
   "source": [
    "* CH4\n",
    "* CFC-12\n"
   ]
  },
  {
   "cell_type": "markdown",
   "metadata": {},
   "source": [
    "####3. Simplyfying the model. Given that the correlatiosn are so high, let us try to build a modle with just N2O,MEI, Aerosols and TSI. What is the coefficient of N2O in this model? How does this compare wiht the coeffient in the earlier model created with all variables? Enter the model R-squared. "
   ]
  },
  {
   "cell_type": "code",
   "execution_count": 40,
   "metadata": {
    "collapsed": false
   },
   "outputs": [],
   "source": [
    "model2=smf.ols(formula='Temp~ N2O+ MEI+TSI+Aerosols',data=train)"
   ]
  },
  {
   "cell_type": "code",
   "execution_count": 39,
   "metadata": {
    "collapsed": false
   },
   "outputs": [
    {
     "data": {
      "text/html": [
       "<table class=\"simpletable\">\n",
       "<caption>OLS Regression Results</caption>\n",
       "<tr>\n",
       "  <th>Dep. Variable:</th>          <td>Temp</td>       <th>  R-squared:         </th> <td>   0.726</td>\n",
       "</tr>\n",
       "<tr>\n",
       "  <th>Model:</th>                   <td>OLS</td>       <th>  Adj. R-squared:    </th> <td>   0.722</td>\n",
       "</tr>\n",
       "<tr>\n",
       "  <th>Method:</th>             <td>Least Squares</td>  <th>  F-statistic:       </th> <td>   184.9</td>\n",
       "</tr>\n",
       "<tr>\n",
       "  <th>Date:</th>             <td>Sat, 03 Oct 2015</td> <th>  Prob (F-statistic):</th> <td>3.52e-77</td>\n",
       "</tr>\n",
       "<tr>\n",
       "  <th>Time:</th>                 <td>14:12:59</td>     <th>  Log-Likelihood:    </th> <td>  266.64</td>\n",
       "</tr>\n",
       "<tr>\n",
       "  <th>No. Observations:</th>      <td>   284</td>      <th>  AIC:               </th> <td>  -523.3</td>\n",
       "</tr>\n",
       "<tr>\n",
       "  <th>Df Residuals:</th>          <td>   279</td>      <th>  BIC:               </th> <td>  -505.0</td>\n",
       "</tr>\n",
       "<tr>\n",
       "  <th>Df Model:</th>              <td>     4</td>      <th>                     </th>     <td> </td>   \n",
       "</tr>\n",
       "<tr>\n",
       "  <th>Covariance Type:</th>      <td>nonrobust</td>    <th>                     </th>     <td> </td>   \n",
       "</tr>\n",
       "</table>\n",
       "<table class=\"simpletable\">\n",
       "<tr>\n",
       "      <td></td>         <th>coef</th>     <th>std err</th>      <th>t</th>      <th>P>|t|</th> <th>[95.0% Conf. Int.]</th> \n",
       "</tr>\n",
       "<tr>\n",
       "  <th>Intercept</th> <td> -116.2269</td> <td>   20.223</td> <td>   -5.747</td> <td> 0.000</td> <td> -156.036   -76.418</td>\n",
       "</tr>\n",
       "<tr>\n",
       "  <th>N2O</th>       <td>    0.0253</td> <td>    0.001</td> <td>   19.307</td> <td> 0.000</td> <td>    0.023     0.028</td>\n",
       "</tr>\n",
       "<tr>\n",
       "  <th>MEI</th>       <td>    0.0642</td> <td>    0.007</td> <td>    9.649</td> <td> 0.000</td> <td>    0.051     0.077</td>\n",
       "</tr>\n",
       "<tr>\n",
       "  <th>TSI</th>       <td>    0.0795</td> <td>    0.015</td> <td>    5.344</td> <td> 0.000</td> <td>    0.050     0.109</td>\n",
       "</tr>\n",
       "<tr>\n",
       "  <th>Aerosols</th>  <td>   -1.7017</td> <td>    0.218</td> <td>   -7.806</td> <td> 0.000</td> <td>   -2.131    -1.273</td>\n",
       "</tr>\n",
       "</table>\n",
       "<table class=\"simpletable\">\n",
       "<tr>\n",
       "  <th>Omnibus:</th>       <td>10.908</td> <th>  Durbin-Watson:     </th> <td>   0.842</td>\n",
       "</tr>\n",
       "<tr>\n",
       "  <th>Prob(Omnibus):</th> <td> 0.004</td> <th>  Jarque-Bera (JB):  </th> <td>  15.097</td>\n",
       "</tr>\n",
       "<tr>\n",
       "  <th>Skew:</th>          <td> 0.289</td> <th>  Prob(JB):          </th> <td>0.000527</td>\n",
       "</tr>\n",
       "<tr>\n",
       "  <th>Kurtosis:</th>      <td> 3.971</td> <th>  Cond. No.          </th> <td>5.00e+06</td>\n",
       "</tr>\n",
       "</table>"
      ],
      "text/plain": [
       "<class 'statsmodels.iolib.summary.Summary'>\n",
       "\"\"\"\n",
       "                            OLS Regression Results                            \n",
       "==============================================================================\n",
       "Dep. Variable:                   Temp   R-squared:                       0.726\n",
       "Model:                            OLS   Adj. R-squared:                  0.722\n",
       "Method:                 Least Squares   F-statistic:                     184.9\n",
       "Date:                Sat, 03 Oct 2015   Prob (F-statistic):           3.52e-77\n",
       "Time:                        14:12:59   Log-Likelihood:                 266.64\n",
       "No. Observations:                 284   AIC:                            -523.3\n",
       "Df Residuals:                     279   BIC:                            -505.0\n",
       "Df Model:                           4                                         \n",
       "Covariance Type:            nonrobust                                         \n",
       "==============================================================================\n",
       "                 coef    std err          t      P>|t|      [95.0% Conf. Int.]\n",
       "------------------------------------------------------------------------------\n",
       "Intercept   -116.2269     20.223     -5.747      0.000      -156.036   -76.418\n",
       "N2O            0.0253      0.001     19.307      0.000         0.023     0.028\n",
       "MEI            0.0642      0.007      9.649      0.000         0.051     0.077\n",
       "TSI            0.0795      0.015      5.344      0.000         0.050     0.109\n",
       "Aerosols      -1.7017      0.218     -7.806      0.000        -2.131    -1.273\n",
       "==============================================================================\n",
       "Omnibus:                       10.908   Durbin-Watson:                   0.842\n",
       "Prob(Omnibus):                  0.004   Jarque-Bera (JB):               15.097\n",
       "Skew:                           0.289   Prob(JB):                     0.000527\n",
       "Kurtosis:                       3.971   Cond. No.                     5.00e+06\n",
       "==============================================================================\n",
       "\n",
       "Warnings:\n",
       "[1] Standard Errors assume that the covariance matrix of the errors is correctly specified.\n",
       "[2] The condition number is large,  5e+06. This might indicate that there are\n",
       "strong multicollinearity or other numerical problems.\n",
       "\"\"\""
      ]
     },
     "execution_count": 39,
     "metadata": {},
     "output_type": "execute_result"
    }
   ],
   "source": [
    "Temp_fitted2=model2.fit()\n",
    "Temp_fitted2.summary()"
   ]
  },
  {
   "cell_type": "raw",
   "metadata": {},
   "source": [
    "coeff of N2O is 0.0253. It is no longer negative! R-squared is lower:0.726"
   ]
  },
  {
   "cell_type": "markdown",
   "metadata": {},
   "source": [
    "####4 Automatically building the model: As we have seen  dropping some of the varibles form the model doesnt decrease by much. R has a step wise linear regression function; that python doesnt , but here is a piece of cod eI found from http://planspace.org/20150423-forward_selection_with_statsmodels/ that seems to do the trick!!! What is the R-squared value of the model produced. Which variable if any are eliminated?"
   ]
  },
  {
   "cell_type": "code",
   "execution_count": 73,
   "metadata": {
    "collapsed": false
   },
   "outputs": [],
   "source": [
    "##First remove Year and Month from the training et:\n",
    "train=train.drop(['Year','Month'],axis=1)\n",
    "test=train.drop(['Year','Month'],axis=1)"
   ]
  },
  {
   "cell_type": "code",
   "execution_count": 74,
   "metadata": {
    "collapsed": false
   },
   "outputs": [
    {
     "data": {
      "text/html": [
       "<div>\n",
       "<table border=\"1\" class=\"dataframe\">\n",
       "  <thead>\n",
       "    <tr style=\"text-align: right;\">\n",
       "      <th></th>\n",
       "      <th>MEI</th>\n",
       "      <th>CO2</th>\n",
       "      <th>CH4</th>\n",
       "      <th>N2O</th>\n",
       "      <th>CFC11</th>\n",
       "      <th>CFC12</th>\n",
       "      <th>TSI</th>\n",
       "      <th>Aerosols</th>\n",
       "      <th>Temp</th>\n",
       "    </tr>\n",
       "  </thead>\n",
       "  <tbody>\n",
       "    <tr>\n",
       "      <th>0</th>\n",
       "      <td>2.556</td>\n",
       "      <td>345.96</td>\n",
       "      <td>1638.59</td>\n",
       "      <td>303.677</td>\n",
       "      <td>191.324</td>\n",
       "      <td>350.113</td>\n",
       "      <td>1366.1024</td>\n",
       "      <td>0.0863</td>\n",
       "      <td>0.109</td>\n",
       "    </tr>\n",
       "    <tr>\n",
       "      <th>1</th>\n",
       "      <td>2.167</td>\n",
       "      <td>345.52</td>\n",
       "      <td>1633.71</td>\n",
       "      <td>303.746</td>\n",
       "      <td>192.057</td>\n",
       "      <td>351.848</td>\n",
       "      <td>1366.1208</td>\n",
       "      <td>0.0794</td>\n",
       "      <td>0.118</td>\n",
       "    </tr>\n",
       "    <tr>\n",
       "      <th>2</th>\n",
       "      <td>1.741</td>\n",
       "      <td>344.15</td>\n",
       "      <td>1633.22</td>\n",
       "      <td>303.795</td>\n",
       "      <td>192.818</td>\n",
       "      <td>353.725</td>\n",
       "      <td>1366.2850</td>\n",
       "      <td>0.0731</td>\n",
       "      <td>0.137</td>\n",
       "    </tr>\n",
       "    <tr>\n",
       "      <th>3</th>\n",
       "      <td>1.130</td>\n",
       "      <td>342.25</td>\n",
       "      <td>1631.35</td>\n",
       "      <td>303.839</td>\n",
       "      <td>193.602</td>\n",
       "      <td>355.633</td>\n",
       "      <td>1366.4202</td>\n",
       "      <td>0.0673</td>\n",
       "      <td>0.176</td>\n",
       "    </tr>\n",
       "    <tr>\n",
       "      <th>4</th>\n",
       "      <td>0.428</td>\n",
       "      <td>340.17</td>\n",
       "      <td>1648.40</td>\n",
       "      <td>303.901</td>\n",
       "      <td>194.392</td>\n",
       "      <td>357.465</td>\n",
       "      <td>1366.2335</td>\n",
       "      <td>0.0619</td>\n",
       "      <td>0.149</td>\n",
       "    </tr>\n",
       "  </tbody>\n",
       "</table>\n",
       "</div>"
      ],
      "text/plain": [
       "     MEI     CO2      CH4      N2O    CFC11    CFC12        TSI  Aerosols  \\\n",
       "0  2.556  345.96  1638.59  303.677  191.324  350.113  1366.1024    0.0863   \n",
       "1  2.167  345.52  1633.71  303.746  192.057  351.848  1366.1208    0.0794   \n",
       "2  1.741  344.15  1633.22  303.795  192.818  353.725  1366.2850    0.0731   \n",
       "3  1.130  342.25  1631.35  303.839  193.602  355.633  1366.4202    0.0673   \n",
       "4  0.428  340.17  1648.40  303.901  194.392  357.465  1366.2335    0.0619   \n",
       "\n",
       "    Temp  \n",
       "0  0.109  \n",
       "1  0.118  \n",
       "2  0.137  \n",
       "3  0.176  \n",
       "4  0.149  "
      ]
     },
     "execution_count": 74,
     "metadata": {},
     "output_type": "execute_result"
    }
   ],
   "source": [
    "train.head()"
   ]
  },
  {
   "cell_type": "code",
   "execution_count": 75,
   "metadata": {
    "collapsed": false
   },
   "outputs": [],
   "source": [
    "model_auto = forward_selected(train, 'Temp')"
   ]
  },
  {
   "cell_type": "code",
   "execution_count": 79,
   "metadata": {
    "collapsed": false
   },
   "outputs": [
    {
     "data": {
      "text/html": [
       "<table class=\"simpletable\">\n",
       "<caption>OLS Regression Results</caption>\n",
       "<tr>\n",
       "  <th>Dep. Variable:</th>          <td>Temp</td>       <th>  R-squared:         </th> <td>   0.751</td>\n",
       "</tr>\n",
       "<tr>\n",
       "  <th>Model:</th>                   <td>OLS</td>       <th>  Adj. R-squared:    </th> <td>   0.745</td>\n",
       "</tr>\n",
       "<tr>\n",
       "  <th>Method:</th>             <td>Least Squares</td>  <th>  F-statistic:       </th> <td>   118.8</td>\n",
       "</tr>\n",
       "<tr>\n",
       "  <th>Date:</th>             <td>Sat, 03 Oct 2015</td> <th>  Prob (F-statistic):</th> <td>1.77e-79</td>\n",
       "</tr>\n",
       "<tr>\n",
       "  <th>Time:</th>                 <td>15:36:04</td>     <th>  Log-Likelihood:    </th> <td>  280.07</td>\n",
       "</tr>\n",
       "<tr>\n",
       "  <th>No. Observations:</th>      <td>   284</td>      <th>  AIC:               </th> <td>  -544.1</td>\n",
       "</tr>\n",
       "<tr>\n",
       "  <th>Df Residuals:</th>          <td>   276</td>      <th>  BIC:               </th> <td>  -515.0</td>\n",
       "</tr>\n",
       "<tr>\n",
       "  <th>Df Model:</th>              <td>     7</td>      <th>                     </th>     <td> </td>   \n",
       "</tr>\n",
       "<tr>\n",
       "  <th>Covariance Type:</th>      <td>nonrobust</td>    <th>                     </th>     <td> </td>   \n",
       "</tr>\n",
       "</table>\n",
       "<table class=\"simpletable\">\n",
       "<tr>\n",
       "      <td></td>         <th>coef</th>     <th>std err</th>      <th>t</th>      <th>P>|t|</th> <th>[95.0% Conf. Int.]</th> \n",
       "</tr>\n",
       "<tr>\n",
       "  <th>Intercept</th> <td> -124.5152</td> <td>   19.850</td> <td>   -6.273</td> <td> 0.000</td> <td> -163.592   -85.438</td>\n",
       "</tr>\n",
       "<tr>\n",
       "  <th>CO2</th>       <td>    0.0064</td> <td>    0.002</td> <td>    2.821</td> <td> 0.005</td> <td>    0.002     0.011</td>\n",
       "</tr>\n",
       "<tr>\n",
       "  <th>MEI</th>       <td>    0.0641</td> <td>    0.006</td> <td>    9.958</td> <td> 0.000</td> <td>    0.051     0.077</td>\n",
       "</tr>\n",
       "<tr>\n",
       "  <th>Aerosols</th>  <td>   -1.5402</td> <td>    0.213</td> <td>   -7.244</td> <td> 0.000</td> <td>   -1.959    -1.122</td>\n",
       "</tr>\n",
       "<tr>\n",
       "  <th>TSI</th>       <td>    0.0931</td> <td>    0.015</td> <td>    6.322</td> <td> 0.000</td> <td>    0.064     0.122</td>\n",
       "</tr>\n",
       "<tr>\n",
       "  <th>N2O</th>       <td>   -0.0160</td> <td>    0.008</td> <td>   -1.933</td> <td> 0.054</td> <td>   -0.032     0.000</td>\n",
       "</tr>\n",
       "<tr>\n",
       "  <th>CFC11</th>     <td>   -0.0066</td> <td>    0.002</td> <td>   -4.078</td> <td> 0.000</td> <td>   -0.010    -0.003</td>\n",
       "</tr>\n",
       "<tr>\n",
       "  <th>CFC12</th>     <td>    0.0039</td> <td>    0.001</td> <td>    3.942</td> <td> 0.000</td> <td>    0.002     0.006</td>\n",
       "</tr>\n",
       "</table>\n",
       "<table class=\"simpletable\">\n",
       "<tr>\n",
       "  <th>Omnibus:</th>       <td> 8.543</td> <th>  Durbin-Watson:     </th> <td>   0.952</td>\n",
       "</tr>\n",
       "<tr>\n",
       "  <th>Prob(Omnibus):</th> <td> 0.014</td> <th>  Jarque-Bera (JB):  </th> <td>   9.913</td>\n",
       "</tr>\n",
       "<tr>\n",
       "  <th>Skew:</th>          <td> 0.291</td> <th>  Prob(JB):          </th> <td> 0.00704</td>\n",
       "</tr>\n",
       "<tr>\n",
       "  <th>Kurtosis:</th>      <td> 3.707</td> <th>  Cond. No.          </th> <td>5.66e+06</td>\n",
       "</tr>\n",
       "</table>"
      ],
      "text/plain": [
       "<class 'statsmodels.iolib.summary.Summary'>\n",
       "\"\"\"\n",
       "                            OLS Regression Results                            \n",
       "==============================================================================\n",
       "Dep. Variable:                   Temp   R-squared:                       0.751\n",
       "Model:                            OLS   Adj. R-squared:                  0.745\n",
       "Method:                 Least Squares   F-statistic:                     118.8\n",
       "Date:                Sat, 03 Oct 2015   Prob (F-statistic):           1.77e-79\n",
       "Time:                        15:36:04   Log-Likelihood:                 280.07\n",
       "No. Observations:                 284   AIC:                            -544.1\n",
       "Df Residuals:                     276   BIC:                            -515.0\n",
       "Df Model:                           7                                         \n",
       "Covariance Type:            nonrobust                                         \n",
       "==============================================================================\n",
       "                 coef    std err          t      P>|t|      [95.0% Conf. Int.]\n",
       "------------------------------------------------------------------------------\n",
       "Intercept   -124.5152     19.850     -6.273      0.000      -163.592   -85.438\n",
       "CO2            0.0064      0.002      2.821      0.005         0.002     0.011\n",
       "MEI            0.0641      0.006      9.958      0.000         0.051     0.077\n",
       "Aerosols      -1.5402      0.213     -7.244      0.000        -1.959    -1.122\n",
       "TSI            0.0931      0.015      6.322      0.000         0.064     0.122\n",
       "N2O           -0.0160      0.008     -1.933      0.054        -0.032     0.000\n",
       "CFC11         -0.0066      0.002     -4.078      0.000        -0.010    -0.003\n",
       "CFC12          0.0039      0.001      3.942      0.000         0.002     0.006\n",
       "==============================================================================\n",
       "Omnibus:                        8.543   Durbin-Watson:                   0.952\n",
       "Prob(Omnibus):                  0.014   Jarque-Bera (JB):                9.913\n",
       "Skew:                           0.291   Prob(JB):                      0.00704\n",
       "Kurtosis:                       3.707   Cond. No.                     5.66e+06\n",
       "==============================================================================\n",
       "\n",
       "Warnings:\n",
       "[1] Standard Errors assume that the covariance matrix of the errors is correctly specified.\n",
       "[2] The condition number is large, 5.66e+06. This might indicate that there are\n",
       "strong multicollinearity or other numerical problems.\n",
       "\"\"\""
      ]
     },
     "execution_count": 79,
     "metadata": {},
     "output_type": "execute_result"
    }
   ],
   "source": [
    "model_auto.summary()"
   ]
  },
  {
   "cell_type": "code",
   "execution_count": 81,
   "metadata": {
    "collapsed": false
   },
   "outputs": [
    {
     "data": {
      "text/plain": [
       "0.7508408962216917"
      ]
     },
     "execution_count": 81,
     "metadata": {},
     "output_type": "execute_result"
    }
   ],
   "source": [
    "model_auto.rsquared "
   ]
  },
  {
   "cell_type": "raw",
   "metadata": {},
   "source": [
    "The variable eliminated is CH4.\n",
    "Note: The stepwise  linear regression function does not address the collinearity of the variables - and as aconsequence may not be very interpretable."
   ]
  },
  {
   "cell_type": "markdown",
   "metadata": {},
   "source": [
    "####5. How does this model hold to unseen data? wjhat is the R-squared?"
   ]
  },
  {
   "cell_type": "code",
   "execution_count": 87,
   "metadata": {
    "collapsed": false
   },
   "outputs": [],
   "source": [
    "test=climate[climate.Year>2006]\n",
    "test=test.drop(['Year','Month'],axis=1)"
   ]
  },
  {
   "cell_type": "code",
   "execution_count": 92,
   "metadata": {
    "collapsed": false
   },
   "outputs": [],
   "source": [
    "test_predict=model_auto.predict(test)"
   ]
  },
  {
   "cell_type": "code",
   "execution_count": 104,
   "metadata": {
    "collapsed": false
   },
   "outputs": [
    {
     "ename": "NameError",
     "evalue": "name 'train_predict' is not defined",
     "output_type": "error",
     "traceback": [
      "\u001b[0;31m---------------------------------------------------------------------------\u001b[0m",
      "\u001b[0;31mNameError\u001b[0m                                 Traceback (most recent call last)",
      "\u001b[0;32m<ipython-input-104-5ef90818d4fd>\u001b[0m in \u001b[0;36m<module>\u001b[0;34m()\u001b[0m\n\u001b[1;32m      1\u001b[0m \u001b[0;31m#R2= 1-SSE/SST\u001b[0m\u001b[0;34m\u001b[0m\u001b[0;34m\u001b[0m\u001b[0m\n\u001b[0;32m----> 2\u001b[0;31m \u001b[0mR2\u001b[0m\u001b[0;34m=\u001b[0m\u001b[0;36m1.0\u001b[0m \u001b[0;34m-\u001b[0m \u001b[0;34m(\u001b[0m\u001b[0;34m(\u001b[0m\u001b[0;34m(\u001b[0m\u001b[0mtest\u001b[0m\u001b[0;34m.\u001b[0m\u001b[0mTemp\u001b[0m \u001b[0;34m-\u001b[0m\u001b[0mtest_predict\u001b[0m\u001b[0;34m)\u001b[0m\u001b[0;34m**\u001b[0m\u001b[0;36m2\u001b[0m\u001b[0;34m)\u001b[0m\u001b[0;34m.\u001b[0m\u001b[0msum\u001b[0m\u001b[0;34m(\u001b[0m\u001b[0;34m)\u001b[0m\u001b[0;34m/\u001b[0m\u001b[0;34m(\u001b[0m\u001b[0;34m(\u001b[0m\u001b[0;34m(\u001b[0m\u001b[0mtrain\u001b[0m\u001b[0;34m.\u001b[0m\u001b[0mTemp\u001b[0m\u001b[0;34m.\u001b[0m\u001b[0mmean\u001b[0m\u001b[0;34m(\u001b[0m\u001b[0;34m)\u001b[0m\u001b[0;34m-\u001b[0m \u001b[0mtrain_predict\u001b[0m\u001b[0;34m)\u001b[0m\u001b[0;34m**\u001b[0m\u001b[0;36m2\u001b[0m\u001b[0;34m)\u001b[0m\u001b[0;34m.\u001b[0m\u001b[0msum\u001b[0m\u001b[0;34m(\u001b[0m\u001b[0;34m)\u001b[0m\u001b[0;34m)\u001b[0m\u001b[0;34m)\u001b[0m\u001b[0;34m\u001b[0m\u001b[0m\n\u001b[0m",
      "\u001b[0;31mNameError\u001b[0m: name 'train_predict' is not defined"
     ]
    }
   ],
   "source": [
    "#R2= 1-SSE/SST \n",
    "R2=1.0 - (((test.Temp -test_predict)**2).sum()/(((train.Temp.mean()- train)**2).sum()))"
   ]
  },
  {
   "cell_type": "code",
   "execution_count": 102,
   "metadata": {
    "collapsed": false
   },
   "outputs": [
    {
     "data": {
      "text/plain": [
       "-2.6035126319811455"
      ]
     },
     "execution_count": 102,
     "metadata": {},
     "output_type": "execute_result"
    }
   ],
   "source": [
    "R2"
   ]
  },
  {
   "cell_type": "code",
   "execution_count": null,
   "metadata": {
    "collapsed": true
   },
   "outputs": [],
   "source": []
  }
 ],
 "metadata": {
  "kernelspec": {
   "display_name": "Python 2",
   "language": "python",
   "name": "python2"
  },
  "language_info": {
   "codemirror_mode": {
    "name": "ipython",
    "version": 2
   },
   "file_extension": ".py",
   "mimetype": "text/x-python",
   "name": "python",
   "nbconvert_exporter": "python",
   "pygments_lexer": "ipython2",
   "version": "2.7.11"
  }
 },
 "nbformat": 4,
 "nbformat_minor": 0
}
