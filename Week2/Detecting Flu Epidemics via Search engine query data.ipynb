{
 "cells": [
  {
   "cell_type": "markdown",
   "metadata": {},
   "source": [
    "#### Using data from Goole Flu Trends:\n",
    "The US Center for Disease Control and Prevention (CDC) and the European Influenza Surveillance Scheme(EISS) detect influenza activity through clinical data including influenza like illness(ILI) physician visits.\n",
    "The Google Flu Trends project was initiated to see if faster reporting can be made possible by considering flu-related online queries.\n",
    "The file FluTrain.csv aggregates this data from Jan1, 2004, to Dec31, 2011.\n",
    "the columns are :\n",
    "* Week: the range of dates represented by the symptoms\n",
    "* ILI: percentage of ILI related physician visits \n",
    "* Queries: The fraction of queries that are ILI related for the corresponding week, adjusted between 0-1 (higher values correspond to more ILI related searches)"
   ]
  },
  {
   "cell_type": "code",
   "execution_count": 1,
   "metadata": {
    "collapsed": false
   },
   "outputs": [],
   "source": [
    "import pandas as pd\n",
    "import numpy as np\n",
    "import matplotlib\n",
    "import matplotlib.pyplot as plt\n",
    "import statsmodels.formula.api as smf\n",
    "%matplotlib inline"
   ]
  },
  {
   "cell_type": "markdown",
   "metadata": {},
   "source": [
    "#### 1.1  Understanding the Data:  Lookign at the time period 2004-2011; which week corresponds to the highest % of ILI related physicain visits."
   ]
  },
  {
   "cell_type": "code",
   "execution_count": 2,
   "metadata": {
    "collapsed": false
   },
   "outputs": [],
   "source": [
    "fluTrain=pd.read_csv(\"FluTrain.csv\",parse_dates=True)"
   ]
  },
  {
   "cell_type": "code",
   "execution_count": 3,
   "metadata": {
    "collapsed": false
   },
   "outputs": [
    {
     "data": {
      "text/html": [
       "<div>\n",
       "<table border=\"1\" class=\"dataframe\">\n",
       "  <thead>\n",
       "    <tr style=\"text-align: right;\">\n",
       "      <th></th>\n",
       "      <th>Week</th>\n",
       "      <th>ILI</th>\n",
       "      <th>Queries</th>\n",
       "    </tr>\n",
       "  </thead>\n",
       "  <tbody>\n",
       "    <tr>\n",
       "      <th>0</th>\n",
       "      <td>2004-01-04 - 2004-01-10</td>\n",
       "      <td>2.418331</td>\n",
       "      <td>0.237716</td>\n",
       "    </tr>\n",
       "    <tr>\n",
       "      <th>1</th>\n",
       "      <td>2004-01-11 - 2004-01-17</td>\n",
       "      <td>1.809056</td>\n",
       "      <td>0.220452</td>\n",
       "    </tr>\n",
       "    <tr>\n",
       "      <th>2</th>\n",
       "      <td>2004-01-18 - 2004-01-24</td>\n",
       "      <td>1.712024</td>\n",
       "      <td>0.225764</td>\n",
       "    </tr>\n",
       "    <tr>\n",
       "      <th>3</th>\n",
       "      <td>2004-01-25 - 2004-01-31</td>\n",
       "      <td>1.542495</td>\n",
       "      <td>0.237716</td>\n",
       "    </tr>\n",
       "    <tr>\n",
       "      <th>4</th>\n",
       "      <td>2004-02-01 - 2004-02-07</td>\n",
       "      <td>1.437868</td>\n",
       "      <td>0.224436</td>\n",
       "    </tr>\n",
       "  </tbody>\n",
       "</table>\n",
       "</div>"
      ],
      "text/plain": [
       "                      Week       ILI   Queries\n",
       "0  2004-01-04 - 2004-01-10  2.418331  0.237716\n",
       "1  2004-01-11 - 2004-01-17  1.809056  0.220452\n",
       "2  2004-01-18 - 2004-01-24  1.712024  0.225764\n",
       "3  2004-01-25 - 2004-01-31  1.542495  0.237716\n",
       "4  2004-02-01 - 2004-02-07  1.437868  0.224436"
      ]
     },
     "execution_count": 3,
     "metadata": {},
     "output_type": "execute_result"
    }
   ],
   "source": [
    "fluTrain.head()"
   ]
  },
  {
   "cell_type": "code",
   "execution_count": 4,
   "metadata": {
    "collapsed": false
   },
   "outputs": [
    {
     "data": {
      "text/plain": [
       "302    2009-10-18 - 2009-10-24\n",
       "Name: Week, dtype: object"
      ]
     },
     "execution_count": 4,
     "metadata": {},
     "output_type": "execute_result"
    }
   ],
   "source": [
    "fluTrain.Week[fluTrain.ILI==max(fluTrain.ILI)]"
   ]
  },
  {
   "cell_type": "markdown",
   "metadata": {},
   "source": [
    "#### 1.2 Let us now understand the data at an aggregate level. Plot the histogram of the dependant variable. What best describes the distribution of ILI?"
   ]
  },
  {
   "cell_type": "code",
   "execution_count": 5,
   "metadata": {
    "collapsed": false
   },
   "outputs": [
    {
     "data": {
      "text/plain": [
       "<matplotlib.axes._subplots.AxesSubplot at 0x1182d0250>"
      ]
     },
     "execution_count": 5,
     "metadata": {},
     "output_type": "execute_result"
    },
    {
     "data": {
      "image/png": "[encoded data removed]",
      "text/plain": [
       "<matplotlib.figure.Figure at 0x1048c1550>"
      ]
     },
     "metadata": {},
     "output_type": "display_data"
    }
   ],
   "source": [
    "fluTrain.ILI.hist()"
   ]
  },
  {
   "cell_type": "raw",
   "metadata": {},
   "source": [
    "This distribution is called \"skew right\" - as most the ILI values being small, with a relatively small number of values being large."
   ]
  },
  {
   "cell_type": "markdown",
   "metadata": {},
   "source": [
    "#### 1.3  When handling a skewed dependand variable, it is oftemn useful to predict the logarithm of the dependant variable instaed of the depeandant variable itself. This prevents the small number of unusually large or small observations from having an undue effect on the sum of squared errors of predictive models .In this problem we will predict the natural log of the ILI variable. Plot the natural log of ILI vs Queries. what does it suggest?"
   ]
  },
  {
   "cell_type": "code",
   "execution_count": 6,
   "metadata": {
    "collapsed": false
   },
   "outputs": [
    {
     "data": {
      "image/png": "[encoded data removed]",
      "text/plain": [
       "<matplotlib.figure.Figure at 0x118528e50>"
      ]
     },
     "metadata": {},
     "output_type": "display_data"
    }
   ],
   "source": [
    "import math\n",
    "fluTrain[\"ILI_aslog\"]= fluTrain.ILI.apply(lambda x:math.log(x))\n",
    "plt.scatter(fluTrain.Queries, fluTrain.ILI_aslog)\n",
    "plt.xlabel(\"Queries\")\n",
    "plt.ylabel(\"ln(ILI)\")\n",
    "plt.show()"
   ]
  },
  {
   "cell_type": "raw",
   "metadata": {},
   "source": [
    "There is a positive linear relationship between log(ILI) and Queries"
   ]
  },
  {
   "cell_type": "code",
   "execution_count": 7,
   "metadata": {
    "collapsed": false
   },
   "outputs": [
    {
     "data": {
      "text/plain": [
       "<matplotlib.collections.PathCollection at 0x118779c10>"
      ]
     },
     "execution_count": 7,
     "metadata": {},
     "output_type": "execute_result"
    },
    {
     "data": {
      "image/png": "[encoded data removed]",
      "text/plain": [
       "<matplotlib.figure.Figure at 0x118388a90>"
      ]
     },
     "metadata": {},
     "output_type": "display_data"
    }
   ],
   "source": [
    "#I can plot using the np function!! as well-so no need to do sapply..\n",
    "plt.scatter(fluTrain.Queries, np.log(fluTrain.ILI))"
   ]
  },
  {
   "cell_type": "code",
   "execution_count": 8,
   "metadata": {
    "collapsed": false
   },
   "outputs": [
    {
     "data": {
      "text/plain": [
       "<matplotlib.collections.PathCollection at 0x11907d210>"
      ]
     },
     "execution_count": 8,
     "metadata": {},
     "output_type": "execute_result"
    },
    {
     "data": {
      "image/png": "[encoded data removed]",
      "text/plain": [
       "<matplotlib.figure.Figure at 0x118672d50>"
      ]
     },
     "metadata": {},
     "output_type": "display_data"
    }
   ],
   "source": [
    "plt.scatter(np.exp(fluTrain.Queries), fluTrain.ILI)"
   ]
  },
  {
   "cell_type": "markdown",
   "metadata": {},
   "source": [
    "#### 2.1  Based on the above plot, it seems a Linear regression model may be a modelling choice . A possible model would be of the form:\n",
    "log(ILI)=intercept+(coeff_X)(Queries) ; where coeff_X is +ve."
   ]
  },
  {
   "cell_type": "markdown",
   "metadata": {},
   "source": [
    "#### 2.2 Run the above regression model. What is the R-squared? "
   ]
  },
  {
   "cell_type": "code",
   "execution_count": 9,
   "metadata": {
    "collapsed": true
   },
   "outputs": [],
   "source": [
    "model1=smf.ols(formula=\"np.log(ILI)~Queries\",data=fluTrain)\n",
    "#model1=smf.ols(formula=\"ILI_aslog ~ Queries\",data=fluTrain)"
   ]
  },
  {
   "cell_type": "code",
   "execution_count": 10,
   "metadata": {
    "collapsed": false
   },
   "outputs": [
    {
     "data": {
      "text/plain": [
       "0      0.204603\n",
       "1      0.153478\n",
       "2      0.169209\n",
       "3      0.204603\n",
       "4      0.165276\n",
       "5      0.114151\n",
       "6      0.216400\n",
       "7      0.141680\n",
       "8      0.169209\n",
       "9      0.090555\n",
       "10    -0.102145\n",
       "11    -0.090347\n",
       "12    -0.082482\n",
       "13    -0.255519\n",
       "14    -0.275182\n",
       "15    -0.286980\n",
       "16    -0.302711\n",
       "17    -0.318441\n",
       "18    -0.361700\n",
       "19    -0.361700\n",
       "20    -0.353835\n",
       "21    -0.345970\n",
       "22    -0.334172\n",
       "23    -0.318441\n",
       "24    -0.298778\n",
       "25    -0.357768\n",
       "26    -0.345970\n",
       "27    -0.373498\n",
       "28    -0.361700\n",
       "29    -0.349902\n",
       "         ...   \n",
       "387    0.181007\n",
       "388    0.129882\n",
       "389    0.098421\n",
       "390    0.047296\n",
       "391    0.063027\n",
       "392    0.074825\n",
       "393    0.137747\n",
       "394    0.133815\n",
       "395    0.110219\n",
       "396    0.141680\n",
       "397    0.157411\n",
       "398    0.137747\n",
       "399    0.239996\n",
       "400    0.334380\n",
       "401    0.416966\n",
       "402    0.597868\n",
       "403    0.715848\n",
       "404    0.668656\n",
       "405    0.617532\n",
       "406    0.660791\n",
       "407    0.680454\n",
       "408    0.700118\n",
       "409    0.759107\n",
       "410    0.849559\n",
       "411    0.723714\n",
       "412    0.916414\n",
       "413    0.877087\n",
       "414    0.920347\n",
       "415    1.093384\n",
       "416    1.333276\n",
       "dtype: float64"
      ]
     },
     "execution_count": 10,
     "metadata": {},
     "output_type": "execute_result"
    }
   ],
   "source": [
    "fitted=model1.fit()\n",
    "#estimated values are given by fitted.fittedvalues\n",
    "fitted.fittedvalues"
   ]
  },
  {
   "cell_type": "raw",
   "metadata": {},
   "source": [
    "R_squared=0.709"
   ]
  },
  {
   "cell_type": "markdown",
   "metadata": {},
   "source": [
    "####2.3 For a single variable linear regression model, there is a direct relationship between theR-squared and correlation between independant variable (Queries) and the dependant variable (log(ILI))."
   ]
  },
  {
   "cell_type": "code",
   "execution_count": 11,
   "metadata": {
    "collapsed": false
   },
   "outputs": [
    {
     "data": {
      "text/html": [
       "<div>\n",
       "<table border=\"1\" class=\"dataframe\">\n",
       "  <thead>\n",
       "    <tr style=\"text-align: right;\">\n",
       "      <th></th>\n",
       "      <th>ILI</th>\n",
       "      <th>Queries</th>\n",
       "      <th>ILI_aslog</th>\n",
       "    </tr>\n",
       "  </thead>\n",
       "  <tbody>\n",
       "    <tr>\n",
       "      <th>ILI</th>\n",
       "      <td>1.000000</td>\n",
       "      <td>0.814212</td>\n",
       "      <td>0.945168</td>\n",
       "    </tr>\n",
       "    <tr>\n",
       "      <th>Queries</th>\n",
       "      <td>0.814212</td>\n",
       "      <td>1.000000</td>\n",
       "      <td>0.842033</td>\n",
       "    </tr>\n",
       "    <tr>\n",
       "      <th>ILI_aslog</th>\n",
       "      <td>0.945168</td>\n",
       "      <td>0.842033</td>\n",
       "      <td>1.000000</td>\n",
       "    </tr>\n",
       "  </tbody>\n",
       "</table>\n",
       "</div>"
      ],
      "text/plain": [
       "                ILI   Queries  ILI_aslog\n",
       "ILI        1.000000  0.814212   0.945168\n",
       "Queries    0.814212  1.000000   0.842033\n",
       "ILI_aslog  0.945168  0.842033   1.000000"
      ]
     },
     "execution_count": 11,
     "metadata": {},
     "output_type": "execute_result"
    }
   ],
   "source": [
    "fluTrain.corr()"
   ]
  },
  {
   "cell_type": "code",
   "execution_count": 12,
   "metadata": {
    "collapsed": false
   },
   "outputs": [
    {
     "data": {
      "text/plain": [
       "0.7090195730890001"
      ]
     },
     "execution_count": 12,
     "metadata": {},
     "output_type": "execute_result"
    }
   ],
   "source": [
    "## See that:\n",
    "0.842033*0.842033"
   ]
  },
  {
   "cell_type": "raw",
   "metadata": {},
   "source": [
    "So the relationship for a single variable linear modle is:\n",
    "R-squared=Correlation **2"
   ]
  },
  {
   "cell_type": "markdown",
   "metadata": {},
   "source": [
    "#### 3.1 Performance on the test set:\n",
    "Get the test set predictions:\n",
    "What is our estimate for the percentag of II related physician visits in the week id March 11?"
   ]
  },
  {
   "cell_type": "code",
   "execution_count": 13,
   "metadata": {
    "collapsed": false
   },
   "outputs": [],
   "source": [
    "#First load the test set:\n",
    "test=pd.read_csv(\"FluTest.csv\",parse_dates=True)\n",
    "test.head()\n",
    "#SInce the predicted values are Ln(ILI); to get the \n",
    "#actual ILI values we need to take the exponent.\n",
    "#predict_test =[math.exp(i) for i in fitted.predict(test)]\n",
    "#For all such cases- it is easier if you use numpy. Note you can use thsi formalism for a dataSeries\n",
    "test['predict_test']=np.exp(fitted.predict(test))"
   ]
  },
  {
   "cell_type": "code",
   "execution_count": 14,
   "metadata": {
    "collapsed": false
   },
   "outputs": [
    {
     "data": {
      "text/html": [
       "<div>\n",
       "<table border=\"1\" class=\"dataframe\">\n",
       "  <thead>\n",
       "    <tr style=\"text-align: right;\">\n",
       "      <th></th>\n",
       "      <th>Week</th>\n",
       "      <th>ILI</th>\n",
       "      <th>Queries</th>\n",
       "      <th>predict_test</th>\n",
       "    </tr>\n",
       "  </thead>\n",
       "  <tbody>\n",
       "    <tr>\n",
       "      <th>10</th>\n",
       "      <td>2012-03-11 - 2012-03-17</td>\n",
       "      <td>2.293422</td>\n",
       "      <td>0.432935</td>\n",
       "      <td>2.187378</td>\n",
       "    </tr>\n",
       "  </tbody>\n",
       "</table>\n",
       "</div>"
      ],
      "text/plain": [
       "                       Week       ILI   Queries  predict_test\n",
       "10  2012-03-11 - 2012-03-17  2.293422  0.432935      2.187378"
      ]
     },
     "execution_count": 14,
     "metadata": {},
     "output_type": "execute_result"
    }
   ],
   "source": [
    "test[test.Week=='2012-03-11 - 2012-03-17']"
   ]
  },
  {
   "cell_type": "raw",
   "metadata": {},
   "source": [
    "The estimate is 2.1187378."
   ]
  },
  {
   "cell_type": "markdown",
   "metadata": {},
   "source": [
    "####3.2 Performance on the Test Set:\n",
    "What is the relative error between the observed and estimate for that week.\n",
    "Note that the relative error is calculated as:\n",
    "(Obs ILI-Est ILI)/(Obs ILI)"
   ]
  },
  {
   "cell_type": "code",
   "execution_count": 15,
   "metadata": {
    "collapsed": false
   },
   "outputs": [
    {
     "data": {
      "text/plain": [
       "0.046238266364746414"
      ]
     },
     "execution_count": 15,
     "metadata": {},
     "output_type": "execute_result"
    }
   ],
   "source": [
    "(test.ILI[10]-test.predict_test[10])/test.ILI[10]"
   ]
  },
  {
   "cell_type": "markdown",
   "metadata": {},
   "source": [
    "####3.3 What is the RMSE between our estimates and the the actual observations for the percentage of ILI related physician visits "
   ]
  },
  {
   "cell_type": "code",
   "execution_count": 16,
   "metadata": {
    "collapsed": false
   },
   "outputs": [
    {
     "data": {
      "text/plain": [
       "0.7490645271019656"
      ]
     },
     "execution_count": 16,
     "metadata": {},
     "output_type": "execute_result"
    }
   ],
   "source": [
    "SSE=((test.predict_test - test.ILI)**2).sum()\n",
    "nrow,ncol=test.shape\n",
    "RMSE=math.sqrt(SSE/nrow)\n",
    "RMSE"
   ]
  },
  {
   "cell_type": "markdown",
   "metadata": {},
   "source": [
    "### 4.1 Training a Time Series Model:\n",
    "The observations in this dataset are consecutive weekly measurements of the dependant and independant variable.This sort of dataset is called a \"time-series\". Often Statistical models can be improved by predicting current valueof the dependant variable using past values.\n",
    "First we need to decide on the amount of time to lag the obseravtions.Since most the ILI data has a 1-2 week lag- we need will use data from 2 weeks ago and earlier. How many values are missing from this variable   "
   ]
  },
  {
   "cell_type": "code",
   "execution_count": 17,
   "metadata": {
    "collapsed": true
   },
   "outputs": [],
   "source": [
    "#So basically this means the this week's data will be available 2 weeks from now.\n",
    "#Do this using the shift command in pandas "
   ]
  },
  {
   "cell_type": "code",
   "execution_count": 18,
   "metadata": {
    "collapsed": true
   },
   "outputs": [],
   "source": [
    "fluTrain[\"ILI_lag2\"]=fluTrain.ILI.shift(2)"
   ]
  },
  {
   "cell_type": "code",
   "execution_count": 19,
   "metadata": {
    "collapsed": false
   },
   "outputs": [
    {
     "data": {
      "text/plain": [
       "0         NaN\n",
       "1         NaN\n",
       "2    2.418331\n",
       "3    1.809056\n",
       "4    1.712024\n",
       "5    1.542495\n",
       "6    1.437868\n",
       "7    1.324274\n",
       "8    1.307257\n",
       "9    1.036977\n",
       "Name: ILI_lag2, dtype: float64"
      ]
     },
     "execution_count": 19,
     "metadata": {},
     "output_type": "execute_result"
    }
   ],
   "source": [
    "fluTrain.ILI_lag2[0:10]"
   ]
  },
  {
   "cell_type": "code",
   "execution_count": 20,
   "metadata": {
    "collapsed": false
   },
   "outputs": [
    {
     "data": {
      "text/plain": [
       "2"
      ]
     },
     "execution_count": 20,
     "metadata": {},
     "output_type": "execute_result"
    }
   ],
   "source": [
    "sum(fluTrain.ILI_lag2.isnull())"
   ]
  },
  {
   "cell_type": "markdown",
   "metadata": {},
   "source": [
    "####4.2 Training a Time series model\n",
    "plot the log of ILI_lag2 vs log IL1. What is the relationship? "
   ]
  },
  {
   "cell_type": "code",
   "execution_count": 21,
   "metadata": {
    "collapsed": false
   },
   "outputs": [
    {
     "data": {
      "image/png": "[encoded data removed]",
      "text/plain": [
       "<matplotlib.figure.Figure at 0x11920ac90>"
      ]
     },
     "metadata": {},
     "output_type": "display_data"
    }
   ],
   "source": [
    "plt.scatter(np.log(fluTrain.ILI_lag2),np.log(fluTrain.ILI))\n",
    "plt.xlabel=\"ILI\"\n",
    "plt.ylabel=\"ILI_lag2\"\n",
    "plt.show()"
   ]
  },
  {
   "cell_type": "raw",
   "metadata": {},
   "source": [
    "There is a strong poisitive relation."
   ]
  },
  {
   "cell_type": "markdown",
   "metadata": {},
   "source": [
    "#### 4.3 Train a  Linear Regression model on the FluTrain dataset to predict log(ILI) using Queries and log(ILI_lag2) variable. Which coefficients are significant? What is the R-squared."
   ]
  },
  {
   "cell_type": "code",
   "execution_count": 22,
   "metadata": {
    "collapsed": false
   },
   "outputs": [
    {
     "data": {
      "text/html": [
       "<table class=\"simpletable\">\n",
       "<caption>OLS Regression Results</caption>\n",
       "<tr>\n",
       "  <th>Dep. Variable:</th>       <td>np.log(ILI)</td>   <th>  R-squared:         </th> <td>   0.906</td> \n",
       "</tr>\n",
       "<tr>\n",
       "  <th>Model:</th>                   <td>OLS</td>       <th>  Adj. R-squared:    </th> <td>   0.906</td> \n",
       "</tr>\n",
       "<tr>\n",
       "  <th>Method:</th>             <td>Least Squares</td>  <th>  F-statistic:       </th> <td>   1993.</td> \n",
       "</tr>\n",
       "<tr>\n",
       "  <th>Date:</th>             <td>Sat, 03 Sep 2016</td> <th>  Prob (F-statistic):</th> <td>1.38e-212</td>\n",
       "</tr>\n",
       "<tr>\n",
       "  <th>Time:</th>                 <td>20:29:30</td>     <th>  Log-Likelihood:    </th> <td>  147.24</td> \n",
       "</tr>\n",
       "<tr>\n",
       "  <th>No. Observations:</th>      <td>   415</td>      <th>  AIC:               </th> <td>  -288.5</td> \n",
       "</tr>\n",
       "<tr>\n",
       "  <th>Df Residuals:</th>          <td>   412</td>      <th>  BIC:               </th> <td>  -276.4</td> \n",
       "</tr>\n",
       "<tr>\n",
       "  <th>Df Model:</th>              <td>     2</td>      <th>                     </th>     <td> </td>    \n",
       "</tr>\n",
       "<tr>\n",
       "  <th>Covariance Type:</th>      <td>nonrobust</td>    <th>                     </th>     <td> </td>    \n",
       "</tr>\n",
       "</table>\n",
       "<table class=\"simpletable\">\n",
       "<tr>\n",
       "          <td></td>            <th>coef</th>     <th>std err</th>      <th>t</th>      <th>P>|t|</th> <th>[95.0% Conf. Int.]</th> \n",
       "</tr>\n",
       "<tr>\n",
       "  <th>Intercept</th>        <td>   -0.2406</td> <td>    0.020</td> <td>  -12.321</td> <td> 0.000</td> <td>   -0.279    -0.202</td>\n",
       "</tr>\n",
       "<tr>\n",
       "  <th>Queries</th>          <td>    1.2558</td> <td>    0.079</td> <td>   15.876</td> <td> 0.000</td> <td>    1.100     1.411</td>\n",
       "</tr>\n",
       "<tr>\n",
       "  <th>np.log(ILI_lag2)</th> <td>    0.6557</td> <td>    0.023</td> <td>   29.135</td> <td> 0.000</td> <td>    0.611     0.700</td>\n",
       "</tr>\n",
       "</table>\n",
       "<table class=\"simpletable\">\n",
       "<tr>\n",
       "  <th>Omnibus:</th>       <td>74.791</td> <th>  Durbin-Watson:     </th> <td>   0.764</td>\n",
       "</tr>\n",
       "<tr>\n",
       "  <th>Prob(Omnibus):</th> <td> 0.000</td> <th>  Jarque-Bera (JB):  </th> <td> 159.402</td>\n",
       "</tr>\n",
       "<tr>\n",
       "  <th>Skew:</th>          <td> 0.950</td> <th>  Prob(JB):          </th> <td>2.43e-35</td>\n",
       "</tr>\n",
       "<tr>\n",
       "  <th>Kurtosis:</th>      <td> 5.368</td> <th>  Cond. No.          </th> <td>    11.1</td>\n",
       "</tr>\n",
       "</table>"
      ],
      "text/plain": [
       "<class 'statsmodels.iolib.summary.Summary'>\n",
       "\"\"\"\n",
       "                            OLS Regression Results                            \n",
       "==============================================================================\n",
       "Dep. Variable:            np.log(ILI)   R-squared:                       0.906\n",
       "Model:                            OLS   Adj. R-squared:                  0.906\n",
       "Method:                 Least Squares   F-statistic:                     1993.\n",
       "Date:                Sat, 03 Sep 2016   Prob (F-statistic):          1.38e-212\n",
       "Time:                        20:29:30   Log-Likelihood:                 147.24\n",
       "No. Observations:                 415   AIC:                            -288.5\n",
       "Df Residuals:                     412   BIC:                            -276.4\n",
       "Df Model:                           2                                         \n",
       "Covariance Type:            nonrobust                                         \n",
       "====================================================================================\n",
       "                       coef    std err          t      P>|t|      [95.0% Conf. Int.]\n",
       "------------------------------------------------------------------------------------\n",
       "Intercept           -0.2406      0.020    -12.321      0.000        -0.279    -0.202\n",
       "Queries              1.2558      0.079     15.876      0.000         1.100     1.411\n",
       "np.log(ILI_lag2)     0.6557      0.023     29.135      0.000         0.611     0.700\n",
       "==============================================================================\n",
       "Omnibus:                       74.791   Durbin-Watson:                   0.764\n",
       "Prob(Omnibus):                  0.000   Jarque-Bera (JB):              159.402\n",
       "Skew:                           0.950   Prob(JB):                     2.43e-35\n",
       "Kurtosis:                       5.368   Cond. No.                         11.1\n",
       "==============================================================================\n",
       "\n",
       "Warnings:\n",
       "[1] Standard Errors assume that the covariance matrix of the errors is correctly specified.\n",
       "\"\"\""
      ]
     },
     "execution_count": 22,
     "metadata": {},
     "output_type": "execute_result"
    }
   ],
   "source": [
    "FluTrend2=smf.ols(formula='np.log(ILI)~Queries+np.log(ILI_lag2)',data=fluTrain)\n",
    "fitted2=FluTrend2.fit()\n",
    "fitted2.summary()"
   ]
  },
  {
   "cell_type": "raw",
   "metadata": {},
   "source": [
    "Coefficinets of the Intercept, Queries and lo(ILI_lag2) all have pvalue<0.05 and so are significant.R-squared=0.906"
   ]
  },
  {
   "cell_type": "markdown",
   "metadata": {},
   "source": [
    "####Problem 4.4 Training a Time series model.\n",
    "What can you say about the strength of this model?"
   ]
  },
  {
   "cell_type": "raw",
   "metadata": {},
   "source": [
    "This is a stromger model that the earlier one"
   ]
  },
  {
   "cell_type": "markdown",
   "metadata": {},
   "source": [
    "####Evaluating the Time Series model in the Test Set:\n",
    "Modify the code from the previous subproblem to add a lag to the ILI variable in the test set. How many missing variables are there?"
   ]
  },
  {
   "cell_type": "code",
   "execution_count": 23,
   "metadata": {
    "collapsed": false
   },
   "outputs": [
    {
     "data": {
      "text/plain": [
       "0         NaN\n",
       "1         NaN\n",
       "2    1.766707\n",
       "3    1.543401\n",
       "4    1.647615\n",
       "Name: ILI_lag2, dtype: float64"
      ]
     },
     "execution_count": 23,
     "metadata": {},
     "output_type": "execute_result"
    }
   ],
   "source": [
    "test['ILI_lag2']=test.ILI.shift(2)\n",
    "test.ILI_lag2.head()"
   ]
  },
  {
   "cell_type": "markdown",
   "metadata": {},
   "source": [
    "#### 5.2 Evaluating the Times series model. \n",
    "Note that in this case the training a nd test sets are split sequentially. The training set contains data from 2004-2011. and testing set contains data from 2012.Theer is no time gap between the two datasets, meaning the first observation in the Flu test was recorded one weeek after theb last observation in FluTrain. so we can identify how to fill in the missing values of ILI_lag2 in the Flu test data set.\n",
    "which observations should we use?"
   ]
  },
  {
   "cell_type": "markdown",
   "metadata": {},
   "source": [
    "we should use the last two ILI values in fluTrain  as the first two values in fluTest.\n"
   ]
  },
  {
   "cell_type": "markdown",
   "metadata": {},
   "source": [
    "####5.3 Evaluating the Times series model. \n",
    "Fill in the missing values in FluTest."
   ]
  },
  {
   "cell_type": "code",
   "execution_count": 24,
   "metadata": {
    "collapsed": false
   },
   "outputs": [
    {
     "data": {
      "text/html": [
       "<div>\n",
       "<table border=\"1\" class=\"dataframe\">\n",
       "  <thead>\n",
       "    <tr style=\"text-align: right;\">\n",
       "      <th></th>\n",
       "      <th>Week</th>\n",
       "      <th>ILI</th>\n",
       "      <th>Queries</th>\n",
       "      <th>predict_test</th>\n",
       "      <th>ILI_lag2</th>\n",
       "    </tr>\n",
       "  </thead>\n",
       "  <tbody>\n",
       "    <tr>\n",
       "      <th>0</th>\n",
       "      <td>2012-01-01 - 2012-01-07</td>\n",
       "      <td>1.766707</td>\n",
       "      <td>0.593625</td>\n",
       "      <td>3.520332</td>\n",
       "      <td>NaN</td>\n",
       "    </tr>\n",
       "    <tr>\n",
       "      <th>1</th>\n",
       "      <td>2012-01-08 - 2012-01-14</td>\n",
       "      <td>1.543401</td>\n",
       "      <td>0.499336</td>\n",
       "      <td>2.662689</td>\n",
       "      <td>NaN</td>\n",
       "    </tr>\n",
       "    <tr>\n",
       "      <th>2</th>\n",
       "      <td>2012-01-15 - 2012-01-21</td>\n",
       "      <td>1.647615</td>\n",
       "      <td>0.500664</td>\n",
       "      <td>2.673181</td>\n",
       "      <td>1.766707</td>\n",
       "    </tr>\n",
       "    <tr>\n",
       "      <th>3</th>\n",
       "      <td>2012-01-22 - 2012-01-28</td>\n",
       "      <td>1.684297</td>\n",
       "      <td>0.479416</td>\n",
       "      <td>2.510160</td>\n",
       "      <td>1.543401</td>\n",
       "    </tr>\n",
       "    <tr>\n",
       "      <th>4</th>\n",
       "      <td>2012-01-29 - 2012-02-04</td>\n",
       "      <td>1.863542</td>\n",
       "      <td>0.471448</td>\n",
       "      <td>2.451624</td>\n",
       "      <td>1.647615</td>\n",
       "    </tr>\n",
       "  </tbody>\n",
       "</table>\n",
       "</div>"
      ],
      "text/plain": [
       "                      Week       ILI   Queries  predict_test  ILI_lag2\n",
       "0  2012-01-01 - 2012-01-07  1.766707  0.593625      3.520332       NaN\n",
       "1  2012-01-08 - 2012-01-14  1.543401  0.499336      2.662689       NaN\n",
       "2  2012-01-15 - 2012-01-21  1.647615  0.500664      2.673181  1.766707\n",
       "3  2012-01-22 - 2012-01-28  1.684297  0.479416      2.510160  1.543401\n",
       "4  2012-01-29 - 2012-02-04  1.863542  0.471448      2.451624  1.647615"
      ]
     },
     "execution_count": 24,
     "metadata": {},
     "output_type": "execute_result"
    }
   ],
   "source": [
    "test.head()"
   ]
  },
  {
   "cell_type": "code",
   "execution_count": 25,
   "metadata": {
    "collapsed": false
   },
   "outputs": [
    {
     "data": {
      "text/html": [
       "<div>\n",
       "<table border=\"1\" class=\"dataframe\">\n",
       "  <thead>\n",
       "    <tr style=\"text-align: right;\">\n",
       "      <th></th>\n",
       "      <th>Week</th>\n",
       "      <th>ILI</th>\n",
       "      <th>Queries</th>\n",
       "      <th>ILI_aslog</th>\n",
       "      <th>ILI_lag2</th>\n",
       "    </tr>\n",
       "  </thead>\n",
       "  <tbody>\n",
       "    <tr>\n",
       "      <th>412</th>\n",
       "      <td>2011-11-27 - 2011-12-03</td>\n",
       "      <td>1.465723</td>\n",
       "      <td>0.478088</td>\n",
       "      <td>0.382349</td>\n",
       "      <td>1.462212</td>\n",
       "    </tr>\n",
       "    <tr>\n",
       "      <th>413</th>\n",
       "      <td>2011-12-04 - 2011-12-10</td>\n",
       "      <td>1.518106</td>\n",
       "      <td>0.464807</td>\n",
       "      <td>0.417464</td>\n",
       "      <td>1.655415</td>\n",
       "    </tr>\n",
       "    <tr>\n",
       "      <th>414</th>\n",
       "      <td>2011-12-11 - 2011-12-17</td>\n",
       "      <td>1.663954</td>\n",
       "      <td>0.479416</td>\n",
       "      <td>0.509197</td>\n",
       "      <td>1.465723</td>\n",
       "    </tr>\n",
       "    <tr>\n",
       "      <th>415</th>\n",
       "      <td>2011-12-18 - 2011-12-24</td>\n",
       "      <td>1.852736</td>\n",
       "      <td>0.537849</td>\n",
       "      <td>0.616663</td>\n",
       "      <td>1.518106</td>\n",
       "    </tr>\n",
       "    <tr>\n",
       "      <th>416</th>\n",
       "      <td>2011-12-25 - 2011-12-31</td>\n",
       "      <td>2.124130</td>\n",
       "      <td>0.618858</td>\n",
       "      <td>0.753362</td>\n",
       "      <td>1.663954</td>\n",
       "    </tr>\n",
       "  </tbody>\n",
       "</table>\n",
       "</div>"
      ],
      "text/plain": [
       "                        Week       ILI   Queries  ILI_aslog  ILI_lag2\n",
       "412  2011-11-27 - 2011-12-03  1.465723  0.478088   0.382349  1.462212\n",
       "413  2011-12-04 - 2011-12-10  1.518106  0.464807   0.417464  1.655415\n",
       "414  2011-12-11 - 2011-12-17  1.663954  0.479416   0.509197  1.465723\n",
       "415  2011-12-18 - 2011-12-24  1.852736  0.537849   0.616663  1.518106\n",
       "416  2011-12-25 - 2011-12-31  2.124130  0.618858   0.753362  1.663954"
      ]
     },
     "execution_count": 25,
     "metadata": {},
     "output_type": "execute_result"
    }
   ],
   "source": [
    "fluTrain.tail()"
   ]
  },
  {
   "cell_type": "code",
   "execution_count": 26,
   "metadata": {
    "collapsed": false
   },
   "outputs": [
    {
     "name": "stderr",
     "output_type": "stream",
     "text": [
      "/Users/priyadesai/anaconda/lib/python2.7/site-packages/ipykernel/__main__.py:1: SettingWithCopyWarning: \n",
      "A value is trying to be set on a copy of a slice from a DataFrame\n",
      "\n",
      "See the caveats in the documentation: http://pandas.pydata.org/pandas-docs/stable/indexing.html#indexing-view-versus-copy\n",
      "  if __name__ == '__main__':\n",
      "/Users/priyadesai/anaconda/lib/python2.7/site-packages/ipykernel/__main__.py:2: SettingWithCopyWarning: \n",
      "A value is trying to be set on a copy of a slice from a DataFrame\n",
      "\n",
      "See the caveats in the documentation: http://pandas.pydata.org/pandas-docs/stable/indexing.html#indexing-view-versus-copy\n",
      "  from ipykernel import kernelapp as app\n"
     ]
    }
   ],
   "source": [
    "test.ILI_lag2[0]=fluTrain.ILI[415]\n",
    "test.ILI_lag2[1]=fluTrain.ILI[416]"
   ]
  },
  {
   "cell_type": "code",
   "execution_count": 27,
   "metadata": {
    "collapsed": false
   },
   "outputs": [
    {
     "data": {
      "text/html": [
       "<div>\n",
       "<table border=\"1\" class=\"dataframe\">\n",
       "  <thead>\n",
       "    <tr style=\"text-align: right;\">\n",
       "      <th></th>\n",
       "      <th>Week</th>\n",
       "      <th>ILI</th>\n",
       "      <th>Queries</th>\n",
       "      <th>predict_test</th>\n",
       "      <th>ILI_lag2</th>\n",
       "    </tr>\n",
       "  </thead>\n",
       "  <tbody>\n",
       "    <tr>\n",
       "      <th>0</th>\n",
       "      <td>2012-01-01 - 2012-01-07</td>\n",
       "      <td>1.766707</td>\n",
       "      <td>0.593625</td>\n",
       "      <td>3.520332</td>\n",
       "      <td>1.852736</td>\n",
       "    </tr>\n",
       "    <tr>\n",
       "      <th>1</th>\n",
       "      <td>2012-01-08 - 2012-01-14</td>\n",
       "      <td>1.543401</td>\n",
       "      <td>0.499336</td>\n",
       "      <td>2.662689</td>\n",
       "      <td>2.124130</td>\n",
       "    </tr>\n",
       "    <tr>\n",
       "      <th>2</th>\n",
       "      <td>2012-01-15 - 2012-01-21</td>\n",
       "      <td>1.647615</td>\n",
       "      <td>0.500664</td>\n",
       "      <td>2.673181</td>\n",
       "      <td>1.766707</td>\n",
       "    </tr>\n",
       "    <tr>\n",
       "      <th>3</th>\n",
       "      <td>2012-01-22 - 2012-01-28</td>\n",
       "      <td>1.684297</td>\n",
       "      <td>0.479416</td>\n",
       "      <td>2.510160</td>\n",
       "      <td>1.543401</td>\n",
       "    </tr>\n",
       "    <tr>\n",
       "      <th>4</th>\n",
       "      <td>2012-01-29 - 2012-02-04</td>\n",
       "      <td>1.863542</td>\n",
       "      <td>0.471448</td>\n",
       "      <td>2.451624</td>\n",
       "      <td>1.647615</td>\n",
       "    </tr>\n",
       "  </tbody>\n",
       "</table>\n",
       "</div>"
      ],
      "text/plain": [
       "                      Week       ILI   Queries  predict_test  ILI_lag2\n",
       "0  2012-01-01 - 2012-01-07  1.766707  0.593625      3.520332  1.852736\n",
       "1  2012-01-08 - 2012-01-14  1.543401  0.499336      2.662689  2.124130\n",
       "2  2012-01-15 - 2012-01-21  1.647615  0.500664      2.673181  1.766707\n",
       "3  2012-01-22 - 2012-01-28  1.684297  0.479416      2.510160  1.543401\n",
       "4  2012-01-29 - 2012-02-04  1.863542  0.471448      2.451624  1.647615"
      ]
     },
     "execution_count": 27,
     "metadata": {},
     "output_type": "execute_result"
    }
   ],
   "source": [
    "test.head()"
   ]
  },
  {
   "cell_type": "markdown",
   "metadata": {},
   "source": [
    "#### 5.4 Evaluating the Times series model.\n",
    "Obtain the test set predictions of the ILI variable from FluTrend2. what is the test-ste RSME. whuch model is better?"
   ]
  },
  {
   "cell_type": "code",
   "execution_count": 28,
   "metadata": {
    "collapsed": false
   },
   "outputs": [],
   "source": [
    "#having trouble getting predict to work..so use brute force instaed:\n",
    "A0=fitted2.params[0]\n",
    "Q0=fitted2.params[1]\n",
    "Q1=fitted2.params[2]\n",
    "test['predict_test']=np.exp(A0+Q0*(test.Queries)+Q1*(np.log(test.ILI_lag2)))"
   ]
  },
  {
   "cell_type": "code",
   "execution_count": 29,
   "metadata": {
    "collapsed": false
   },
   "outputs": [],
   "source": [
    "test.head()\n",
    "RMSE_test=math.sqrt(((test.predict_test-test.ILI)**2).mean())"
   ]
  },
  {
   "cell_type": "code",
   "execution_count": 30,
   "metadata": {
    "collapsed": false
   },
   "outputs": [
    {
     "data": {
      "text/plain": [
       "0.2942028535866688"
      ]
     },
     "execution_count": 30,
     "metadata": {},
     "output_type": "execute_result"
    }
   ],
   "source": [
    "RMSE_test"
   ]
  },
  {
   "cell_type": "markdown",
   "metadata": {},
   "source": [
    "RMSE using second model is 0.2942 compared to 0.749 of earlier model- so it is significantly better,"
   ]
  }
 ],
 "metadata": {
  "kernelspec": {
   "display_name": "Python 2",
   "language": "python",
   "name": "python2"
  },
  "language_info": {
   "codemirror_mode": {
    "name": "ipython",
    "version": 2
   },
   "file_extension": ".py",
   "mimetype": "text/x-python",
   "name": "python",
   "nbconvert_exporter": "python",
   "pygments_lexer": "ipython2",
   "version": "2.7.11"
  }
 },
 "nbformat": 4,
 "nbformat_minor": 0
}
